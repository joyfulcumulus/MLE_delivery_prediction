{
 "cells": [
  {
   "cell_type": "code",
   "execution_count": 1,
   "id": "b50484d2-bfa4-40b6-82cd-e8bf86187cfd",
   "metadata": {},
   "outputs": [],
   "source": [
    "import os\n",
    "import glob\n",
    "import pandas as pd\n",
    "import pickle\n",
    "#import matplotlib.pyplot as plt\n",
    "import numpy as np\n",
    "import random\n",
    "from datetime import datetime, timedelta\n",
    "from dateutil.relativedelta import relativedelta\n",
    "import pprint\n",
    "import pyspark\n",
    "import pyspark.sql.functions as F\n",
    "\n",
    "from pyspark.sql.functions import col\n",
    "from pyspark.sql.types import StringType, IntegerType, FloatType, DateType\n",
    "\n",
    "from sklearn.model_selection import train_test_split\n",
    "from sklearn.preprocessing import StandardScaler\n",
    "\n",
    "import xgboost as xgb\n",
    "from sklearn.model_selection import RandomizedSearchCV\n",
    "from sklearn.metrics import make_scorer, f1_score, roc_auc_score\n",
    "from sklearn.datasets import make_classification\n",
    "from sklearn.model_selection import train_test_split\n",
    "\n",
    "import model_inference\n"
   ]
  },
  {
   "cell_type": "code",
   "execution_count": 2,
   "id": "fcac9436-de95-4ebf-9655-56df8e1eafd7",
   "metadata": {},
   "outputs": [],
   "source": [
    "# Build a .py script that takes a snapshot date, loads a model artefact and make an inference and save to datamart"
   ]
  },
  {
   "cell_type": "markdown",
   "id": "37c91bb1-bcf0-4195-90f3-dc88806ebf8c",
   "metadata": {},
   "source": [
    "## set up pyspark session"
   ]
  },
  {
   "cell_type": "code",
   "execution_count": 2,
   "id": "32fb3bc6-4166-4893-88e1-0d3140df5a92",
   "metadata": {},
   "outputs": [
    {
     "name": "stderr",
     "output_type": "stream",
     "text": [
      "25/06/21 08:27:51 WARN Utils: Your hostname, Baohongs-MacBook-Air.local resolves to a loopback address: 127.0.0.1; using 192.168.68.71 instead (on interface en0)\n",
      "25/06/21 08:27:51 WARN Utils: Set SPARK_LOCAL_IP if you need to bind to another address\n",
      "Setting default log level to \"WARN\".\n",
      "To adjust logging level use sc.setLogLevel(newLevel). For SparkR, use setLogLevel(newLevel).\n",
      "25/06/21 08:27:52 WARN NativeCodeLoader: Unable to load native-hadoop library for your platform... using builtin-java classes where applicable\n",
      "25/06/21 08:27:52 WARN Utils: Service 'SparkUI' could not bind on port 4040. Attempting port 4041.\n"
     ]
    }
   ],
   "source": [
    "# Initialize SparkSession\n",
    "spark = pyspark.sql.SparkSession.builder \\\n",
    "    .appName(\"dev\") \\\n",
    "    .master(\"local[*]\") \\\n",
    "    .getOrCreate()\n",
    "\n",
    "# Set log level to ERROR to hide warnings\n",
    "spark.sparkContext.setLogLevel(\"ERROR\")"
   ]
  },
  {
   "cell_type": "markdown",
   "id": "30206071-5f00-4c3b-be13-55c54db8e336",
   "metadata": {},
   "source": [
    "## set up config"
   ]
  },
  {
   "cell_type": "code",
   "execution_count": 8,
   "id": "5ca7d9f0-cfbc-4098-826c-5537ba56b108",
   "metadata": {},
   "outputs": [],
   "source": [
    "snapshot_date_str = \"2016-10-10\"\n",
    "model_name = \"reg_2017_12_04.pkl\""
   ]
  },
  {
   "cell_type": "code",
   "execution_count": 9,
   "id": "75f0bb22-745b-4342-9779-4425795dc752",
   "metadata": {},
   "outputs": [],
   "source": [
    "config = {}\n",
    "config[\"snapshot_date_str\"] = snapshot_date_str\n",
    "config[\"snapshot_date\"] = datetime.strptime(config[\"snapshot_date_str\"], \"%Y-%m-%d\")\n",
    "config[\"model_name\"] = model_name\n",
    "config[\"model_bank_directory\"] = \"model_bank/\"\n",
    "config[\"model_artefact_filepath\"] = config[\"model_bank_directory\"] + config[\"model_name\"]"
   ]
  },
  {
   "cell_type": "markdown",
   "id": "bea8c974-7a80-44ec-a73f-b72c46b70972",
   "metadata": {},
   "source": [
    "## load model artefact from model bank"
   ]
  },
  {
   "cell_type": "code",
   "execution_count": 10,
   "id": "e4704571-1729-49ef-b2fb-e7346fc37d84",
   "metadata": {},
   "outputs": [
    {
     "name": "stdout",
     "output_type": "stream",
     "text": [
      "Model loaded successfully! model_bank/reg_2017_12_04.pkl\n"
     ]
    }
   ],
   "source": [
    "# Load the model from the pickle file\n",
    "with open(config[\"model_artefact_filepath\"], 'rb') as file:\n",
    "    model_artefact = pickle.load(file)\n",
    "\n",
    "print(\"Model loaded successfully! \" + config[\"model_artefact_filepath\"])"
   ]
  },
  {
   "cell_type": "markdown",
   "id": "441303bb-1736-4589-8537-c914d8d843b1",
   "metadata": {},
   "source": [
    "## load feature store"
   ]
  },
  {
   "cell_type": "code",
   "execution_count": 11,
   "id": "d002feb1-30f5-415a-91ef-b686ee8de99a",
   "metadata": {},
   "outputs": [
    {
     "name": "stdout",
     "output_type": "stream",
     "text": [
      "row_count for features: 311 \n",
      "\n",
      "extracted features_sdf order_id               266\n",
      "customer_id            266\n",
      "order_status           266\n",
      "product_id             266\n",
      "seller_id              266\n",
      "total_qty              266\n",
      "total_price            266\n",
      "total_freight_value    266\n",
      "total_weight_g         266\n",
      "total_volume_cm3       266\n",
      "total_density          266\n",
      "dtype: int64 2016-10-10 00:00:00\n"
     ]
    },
    {
     "data": {
      "text/html": [
       "<div>\n",
       "<style scoped>\n",
       "    .dataframe tbody tr th:only-of-type {\n",
       "        vertical-align: middle;\n",
       "    }\n",
       "\n",
       "    .dataframe tbody tr th {\n",
       "        vertical-align: top;\n",
       "    }\n",
       "\n",
       "    .dataframe thead th {\n",
       "        text-align: right;\n",
       "    }\n",
       "</style>\n",
       "<table border=\"1\" class=\"dataframe\">\n",
       "  <thead>\n",
       "    <tr style=\"text-align: right;\">\n",
       "      <th></th>\n",
       "      <th>order_id</th>\n",
       "      <th>customer_id</th>\n",
       "      <th>order_status</th>\n",
       "      <th>product_id</th>\n",
       "      <th>seller_id</th>\n",
       "      <th>total_qty</th>\n",
       "      <th>total_price</th>\n",
       "      <th>total_freight_value</th>\n",
       "      <th>total_weight_g</th>\n",
       "      <th>total_volume_cm3</th>\n",
       "      <th>total_density</th>\n",
       "    </tr>\n",
       "  </thead>\n",
       "  <tbody>\n",
       "    <tr>\n",
       "      <th>0</th>\n",
       "      <td>03128233e78ed8ade6738f2043f4cf8d</td>\n",
       "      <td>da1c9a7e7fa9de1d48ecd6d6e027313e</td>\n",
       "      <td>delivered</td>\n",
       "      <td>3cacd5299c846cb08ae1e445fd78392b</td>\n",
       "      <td>c7dcd301ecfe5ab7f778ac172cf74be7</td>\n",
       "      <td>1</td>\n",
       "      <td>57.90</td>\n",
       "      <td>14.61</td>\n",
       "      <td>350.0</td>\n",
       "      <td>4998.0</td>\n",
       "      <td>0.070028</td>\n",
       "    </tr>\n",
       "    <tr>\n",
       "      <th>1</th>\n",
       "      <td>0a0837a5eee9e7a9ce2b1fa831944d27</td>\n",
       "      <td>4f3f778022aefa22b9f9e52d2c47edf3</td>\n",
       "      <td>delivered</td>\n",
       "      <td>583916a5dae918f5e89baec139141c54</td>\n",
       "      <td>3481aa57cd91f9f9d3fa1fa12d9a3bf7</td>\n",
       "      <td>1</td>\n",
       "      <td>49.99</td>\n",
       "      <td>15.51</td>\n",
       "      <td>3100.0</td>\n",
       "      <td>39200.0</td>\n",
       "      <td>0.079082</td>\n",
       "    </tr>\n",
       "    <tr>\n",
       "      <th>2</th>\n",
       "      <td>1c4deb98d216d2fda120204a5fcfb57d</td>\n",
       "      <td>76329463ae17ce6629dd04e014aa72e4</td>\n",
       "      <td>delivered</td>\n",
       "      <td>e7ffaa35a5caaca3366f5cc5705b5fb2</td>\n",
       "      <td>c7dcd301ecfe5ab7f778ac172cf74be7</td>\n",
       "      <td>1</td>\n",
       "      <td>49.90</td>\n",
       "      <td>16.78</td>\n",
       "      <td>1000.0</td>\n",
       "      <td>4374.0</td>\n",
       "      <td>0.228624</td>\n",
       "    </tr>\n",
       "    <tr>\n",
       "      <th>3</th>\n",
       "      <td>1ff217aa612f6cd7c4255c9bfe931c8b</td>\n",
       "      <td>b3a9bf200375f53cc5c6991919c356fd</td>\n",
       "      <td>delivered</td>\n",
       "      <td>33430c5c1027d812b5c62f778e5ee7f7</td>\n",
       "      <td>4b1eaadf791bdbbad8c4a35b65236d52</td>\n",
       "      <td>1</td>\n",
       "      <td>32.49</td>\n",
       "      <td>11.74</td>\n",
       "      <td>200.0</td>\n",
       "      <td>9261.0</td>\n",
       "      <td>0.021596</td>\n",
       "    </tr>\n",
       "    <tr>\n",
       "      <th>4</th>\n",
       "      <td>22613579f7d11cc59c4347526fc3c79e</td>\n",
       "      <td>53cc5d344077104b59d4f6836a90eb0b</td>\n",
       "      <td>delivered</td>\n",
       "      <td>3ff81cd0e0861e991bb0106c03c113ca</td>\n",
       "      <td>86bb7c4b535e49a541baf3266b1c95b1</td>\n",
       "      <td>1</td>\n",
       "      <td>379.90</td>\n",
       "      <td>18.22</td>\n",
       "      <td>600.0</td>\n",
       "      <td>6174.0</td>\n",
       "      <td>0.097182</td>\n",
       "    </tr>\n",
       "    <tr>\n",
       "      <th>...</th>\n",
       "      <td>...</td>\n",
       "      <td>...</td>\n",
       "      <td>...</td>\n",
       "      <td>...</td>\n",
       "      <td>...</td>\n",
       "      <td>...</td>\n",
       "      <td>...</td>\n",
       "      <td>...</td>\n",
       "      <td>...</td>\n",
       "      <td>...</td>\n",
       "      <td>...</td>\n",
       "    </tr>\n",
       "    <tr>\n",
       "      <th>261</th>\n",
       "      <td>be5bc2f0da14d8071e2d45451ad119d9</td>\n",
       "      <td>7ec40b22510fdbea1b08921dd39e63d8</td>\n",
       "      <td>delivered</td>\n",
       "      <td>fd7fd78fd3cbc1b0a6370a7909c0a629</td>\n",
       "      <td>f09b760d23495ac9a7e00d29b769007c</td>\n",
       "      <td>1</td>\n",
       "      <td>21.90</td>\n",
       "      <td>17.19</td>\n",
       "      <td>400.0</td>\n",
       "      <td>4096.0</td>\n",
       "      <td>0.097656</td>\n",
       "    </tr>\n",
       "    <tr>\n",
       "      <th>262</th>\n",
       "      <td>cd3b8574c82b42fc8129f6d502690c3e</td>\n",
       "      <td>7812fcebfc5e8065d31e1bb5f0017dae</td>\n",
       "      <td>delivered</td>\n",
       "      <td>e2a1d45a73dc7f5a7f9236b043431b89</td>\n",
       "      <td>b499c00f28f4b7069ff6550af8c1348a</td>\n",
       "      <td>1</td>\n",
       "      <td>29.99</td>\n",
       "      <td>10.96</td>\n",
       "      <td>9000.0</td>\n",
       "      <td>2640.0</td>\n",
       "      <td>3.409091</td>\n",
       "    </tr>\n",
       "    <tr>\n",
       "      <th>263</th>\n",
       "      <td>d207cc272675637bfed0062edffd0818</td>\n",
       "      <td>b8cf418e97ae795672d326288dfab7a7</td>\n",
       "      <td>delivered</td>\n",
       "      <td>107177bf61755f05c604fe57e02467d6</td>\n",
       "      <td>cca3071e3e9bb7d12640c9fbe2301306</td>\n",
       "      <td>1</td>\n",
       "      <td>119.90</td>\n",
       "      <td>13.56</td>\n",
       "      <td>2050.0</td>\n",
       "      <td>14960.0</td>\n",
       "      <td>0.137032</td>\n",
       "    </tr>\n",
       "    <tr>\n",
       "      <th>264</th>\n",
       "      <td>ef1b29b591d31d57c0d7337460dd83c9</td>\n",
       "      <td>dc607dc98d6a11d5d04d9f2a70aa6c34</td>\n",
       "      <td>delivered</td>\n",
       "      <td>bfce5e847034e1fbbc1ed0bff6a372c7</td>\n",
       "      <td>cca3071e3e9bb7d12640c9fbe2301306</td>\n",
       "      <td>1</td>\n",
       "      <td>74.90</td>\n",
       "      <td>17.37</td>\n",
       "      <td>1800.0</td>\n",
       "      <td>9600.0</td>\n",
       "      <td>0.187500</td>\n",
       "    </tr>\n",
       "    <tr>\n",
       "      <th>265</th>\n",
       "      <td>bfbd0f9bdef84302105ad712db648a6c</td>\n",
       "      <td>86dc2ffce2dfff336de2f386a786e574</td>\n",
       "      <td>delivered</td>\n",
       "      <td>5a6b04657a4c5ee34285d1e4619a96b4</td>\n",
       "      <td>ecccfa2bb93b34a3bf033cc5d1dcdc69</td>\n",
       "      <td>3</td>\n",
       "      <td>134.97</td>\n",
       "      <td>8.49</td>\n",
       "      <td>3000.0</td>\n",
       "      <td>12288.0</td>\n",
       "      <td>0.244141</td>\n",
       "    </tr>\n",
       "  </tbody>\n",
       "</table>\n",
       "<p>266 rows × 11 columns</p>\n",
       "</div>"
      ],
      "text/plain": [
       "                             order_id                       customer_id  \\\n",
       "0    03128233e78ed8ade6738f2043f4cf8d  da1c9a7e7fa9de1d48ecd6d6e027313e   \n",
       "1    0a0837a5eee9e7a9ce2b1fa831944d27  4f3f778022aefa22b9f9e52d2c47edf3   \n",
       "2    1c4deb98d216d2fda120204a5fcfb57d  76329463ae17ce6629dd04e014aa72e4   \n",
       "3    1ff217aa612f6cd7c4255c9bfe931c8b  b3a9bf200375f53cc5c6991919c356fd   \n",
       "4    22613579f7d11cc59c4347526fc3c79e  53cc5d344077104b59d4f6836a90eb0b   \n",
       "..                                ...                               ...   \n",
       "261  be5bc2f0da14d8071e2d45451ad119d9  7ec40b22510fdbea1b08921dd39e63d8   \n",
       "262  cd3b8574c82b42fc8129f6d502690c3e  7812fcebfc5e8065d31e1bb5f0017dae   \n",
       "263  d207cc272675637bfed0062edffd0818  b8cf418e97ae795672d326288dfab7a7   \n",
       "264  ef1b29b591d31d57c0d7337460dd83c9  dc607dc98d6a11d5d04d9f2a70aa6c34   \n",
       "265  bfbd0f9bdef84302105ad712db648a6c  86dc2ffce2dfff336de2f386a786e574   \n",
       "\n",
       "    order_status                        product_id  \\\n",
       "0      delivered  3cacd5299c846cb08ae1e445fd78392b   \n",
       "1      delivered  583916a5dae918f5e89baec139141c54   \n",
       "2      delivered  e7ffaa35a5caaca3366f5cc5705b5fb2   \n",
       "3      delivered  33430c5c1027d812b5c62f778e5ee7f7   \n",
       "4      delivered  3ff81cd0e0861e991bb0106c03c113ca   \n",
       "..           ...                               ...   \n",
       "261    delivered  fd7fd78fd3cbc1b0a6370a7909c0a629   \n",
       "262    delivered  e2a1d45a73dc7f5a7f9236b043431b89   \n",
       "263    delivered  107177bf61755f05c604fe57e02467d6   \n",
       "264    delivered  bfce5e847034e1fbbc1ed0bff6a372c7   \n",
       "265    delivered  5a6b04657a4c5ee34285d1e4619a96b4   \n",
       "\n",
       "                            seller_id  total_qty  total_price  \\\n",
       "0    c7dcd301ecfe5ab7f778ac172cf74be7          1        57.90   \n",
       "1    3481aa57cd91f9f9d3fa1fa12d9a3bf7          1        49.99   \n",
       "2    c7dcd301ecfe5ab7f778ac172cf74be7          1        49.90   \n",
       "3    4b1eaadf791bdbbad8c4a35b65236d52          1        32.49   \n",
       "4    86bb7c4b535e49a541baf3266b1c95b1          1       379.90   \n",
       "..                                ...        ...          ...   \n",
       "261  f09b760d23495ac9a7e00d29b769007c          1        21.90   \n",
       "262  b499c00f28f4b7069ff6550af8c1348a          1        29.99   \n",
       "263  cca3071e3e9bb7d12640c9fbe2301306          1       119.90   \n",
       "264  cca3071e3e9bb7d12640c9fbe2301306          1        74.90   \n",
       "265  ecccfa2bb93b34a3bf033cc5d1dcdc69          3       134.97   \n",
       "\n",
       "     total_freight_value  total_weight_g  total_volume_cm3  total_density  \n",
       "0                  14.61           350.0            4998.0       0.070028  \n",
       "1                  15.51          3100.0           39200.0       0.079082  \n",
       "2                  16.78          1000.0            4374.0       0.228624  \n",
       "3                  11.74           200.0            9261.0       0.021596  \n",
       "4                  18.22           600.0            6174.0       0.097182  \n",
       "..                   ...             ...               ...            ...  \n",
       "261                17.19           400.0            4096.0       0.097656  \n",
       "262                10.96          9000.0            2640.0       3.409091  \n",
       "263                13.56          2050.0           14960.0       0.137032  \n",
       "264                17.37          1800.0            9600.0       0.187500  \n",
       "265                 8.49          3000.0           12288.0       0.244141  \n",
       "\n",
       "[266 rows x 11 columns]"
      ]
     },
     "execution_count": 11,
     "metadata": {},
     "output_type": "execute_result"
    }
   ],
   "source": [
    "from functools import reduce\n",
    "feature_location = \"datamart/gold/feature_store/\"\n",
    "# Load CSV into DataFrame - connect to feature store\n",
    "files_list = glob.glob(os.path.join(feature_location, '*.parquet'))\n",
    "features_store_sdf = spark.read.option(\"header\", \"true\").parquet(*files_list)\n",
    "print(\"row_count for features:\",features_store_sdf.count(),\"\\n\")\n",
    "\n",
    "# Filter out NA\n",
    "rows_with_nulls = features_store_sdf.filter(\n",
    "    reduce(lambda a, b: a | b, (col(c).isNull() for c in features_store_sdf.columns))\n",
    ")\n",
    "order_ids_to_drop = [row[\"order_id\"] for row in rows_with_nulls.select(\"order_id\").distinct().collect()]\n",
    "features_store_sdf = features_store_sdf.filter(~col(\"order_id\").isin(order_ids_to_drop))\n",
    "\n",
    "#Extract relevant features\n",
    "features_store_sdf = features_store_sdf.filter(col(\"order_status\") == \"delivered\")\n",
    "features_sdf = features_store_sdf.toPandas()\n",
    "print(\"extracted features_sdf\", features_sdf.count(), config[\"snapshot_date\"])\n",
    "\n",
    "features_sdf"
   ]
  },
  {
   "cell_type": "markdown",
   "id": "2cabff32",
   "metadata": {},
   "source": [
    "Processing for modelling"
   ]
  },
  {
   "cell_type": "code",
   "execution_count": 18,
   "id": "b8be2284",
   "metadata": {},
   "outputs": [
    {
     "name": "stdout",
     "output_type": "stream",
     "text": [
      "X_inference 266\n"
     ]
    },
    {
     "name": "stderr",
     "output_type": "stream",
     "text": [
      "/opt/anaconda3/envs/mle_env/lib/python3.10/site-packages/sklearn/utils/validation.py:2732: UserWarning: X has feature names, but StandardScaler was fitted without feature names\n",
      "  warnings.warn(\n"
     ]
    }
   ],
   "source": [
    "from pyspark.sql.types import NumericType\n",
    "if features_sdf.empty == True:\n",
    "    y_inference_pdf = features_sdf[['order_id','order_status']]\n",
    "    y_inference_pdf['model_name'] = ''\n",
    "    y_inference_pdf['model_predictions'] = ''\n",
    "    print('y_inference', y_inference_pdf.shape[0])\n",
    "else: \n",
    "    # prepare X_inference\n",
    "    features_pdf = features_sdf.select_dtypes(include='number')\n",
    "    #features_pdf = features_sdf.select(numeric_cols)\n",
    "    #features_pdf = features_sdf.drop(columns=['order_id', 'order_status']).values\n",
    "    # apply transformer - standard scaler\n",
    "    transformer_stdscaler = model_artefact[\"preprocessing_transformers\"][\"stdscaler\"]\n",
    "    X_inference = transformer_stdscaler.transform(features_pdf)\n",
    "    print('X_inference', X_inference.shape[0])\n"
   ]
  },
  {
   "cell_type": "markdown",
   "id": "c1a4362f-9dee-4838-a030-a74b88884b4f",
   "metadata": {},
   "source": [
    "## model prediction inference"
   ]
  },
  {
   "cell_type": "code",
   "execution_count": 20,
   "id": "973c76b7",
   "metadata": {},
   "outputs": [
    {
     "data": {
      "text/plain": [
       "0.25"
      ]
     },
     "execution_count": 20,
     "metadata": {},
     "output_type": "execute_result"
    }
   ],
   "source": [
    "threshold = model_artefact['threshold']\n",
    "threshold"
   ]
  },
  {
   "cell_type": "code",
   "execution_count": 21,
   "id": "a5e85498-68bb-4083-8035-3247d7e296d4",
   "metadata": {},
   "outputs": [
    {
     "data": {
      "text/html": [
       "<div>\n",
       "<style scoped>\n",
       "    .dataframe tbody tr th:only-of-type {\n",
       "        vertical-align: middle;\n",
       "    }\n",
       "\n",
       "    .dataframe tbody tr th {\n",
       "        vertical-align: top;\n",
       "    }\n",
       "\n",
       "    .dataframe thead th {\n",
       "        text-align: right;\n",
       "    }\n",
       "</style>\n",
       "<table border=\"1\" class=\"dataframe\">\n",
       "  <thead>\n",
       "    <tr style=\"text-align: right;\">\n",
       "      <th></th>\n",
       "      <th>order_id</th>\n",
       "      <th>order_status</th>\n",
       "      <th>model_name</th>\n",
       "      <th>model_predictions</th>\n",
       "    </tr>\n",
       "  </thead>\n",
       "  <tbody>\n",
       "    <tr>\n",
       "      <th>0</th>\n",
       "      <td>03128233e78ed8ade6738f2043f4cf8d</td>\n",
       "      <td>delivered</td>\n",
       "      <td>reg_2017_12_04.pkl</td>\n",
       "      <td>1</td>\n",
       "    </tr>\n",
       "    <tr>\n",
       "      <th>1</th>\n",
       "      <td>0a0837a5eee9e7a9ce2b1fa831944d27</td>\n",
       "      <td>delivered</td>\n",
       "      <td>reg_2017_12_04.pkl</td>\n",
       "      <td>0</td>\n",
       "    </tr>\n",
       "    <tr>\n",
       "      <th>2</th>\n",
       "      <td>1c4deb98d216d2fda120204a5fcfb57d</td>\n",
       "      <td>delivered</td>\n",
       "      <td>reg_2017_12_04.pkl</td>\n",
       "      <td>1</td>\n",
       "    </tr>\n",
       "    <tr>\n",
       "      <th>3</th>\n",
       "      <td>1ff217aa612f6cd7c4255c9bfe931c8b</td>\n",
       "      <td>delivered</td>\n",
       "      <td>reg_2017_12_04.pkl</td>\n",
       "      <td>0</td>\n",
       "    </tr>\n",
       "    <tr>\n",
       "      <th>4</th>\n",
       "      <td>22613579f7d11cc59c4347526fc3c79e</td>\n",
       "      <td>delivered</td>\n",
       "      <td>reg_2017_12_04.pkl</td>\n",
       "      <td>1</td>\n",
       "    </tr>\n",
       "    <tr>\n",
       "      <th>...</th>\n",
       "      <td>...</td>\n",
       "      <td>...</td>\n",
       "      <td>...</td>\n",
       "      <td>...</td>\n",
       "    </tr>\n",
       "    <tr>\n",
       "      <th>261</th>\n",
       "      <td>be5bc2f0da14d8071e2d45451ad119d9</td>\n",
       "      <td>delivered</td>\n",
       "      <td>reg_2017_12_04.pkl</td>\n",
       "      <td>1</td>\n",
       "    </tr>\n",
       "    <tr>\n",
       "      <th>262</th>\n",
       "      <td>cd3b8574c82b42fc8129f6d502690c3e</td>\n",
       "      <td>delivered</td>\n",
       "      <td>reg_2017_12_04.pkl</td>\n",
       "      <td>0</td>\n",
       "    </tr>\n",
       "    <tr>\n",
       "      <th>263</th>\n",
       "      <td>d207cc272675637bfed0062edffd0818</td>\n",
       "      <td>delivered</td>\n",
       "      <td>reg_2017_12_04.pkl</td>\n",
       "      <td>0</td>\n",
       "    </tr>\n",
       "    <tr>\n",
       "      <th>264</th>\n",
       "      <td>ef1b29b591d31d57c0d7337460dd83c9</td>\n",
       "      <td>delivered</td>\n",
       "      <td>reg_2017_12_04.pkl</td>\n",
       "      <td>1</td>\n",
       "    </tr>\n",
       "    <tr>\n",
       "      <th>265</th>\n",
       "      <td>bfbd0f9bdef84302105ad712db648a6c</td>\n",
       "      <td>delivered</td>\n",
       "      <td>reg_2017_12_04.pkl</td>\n",
       "      <td>0</td>\n",
       "    </tr>\n",
       "  </tbody>\n",
       "</table>\n",
       "<p>266 rows × 4 columns</p>\n",
       "</div>"
      ],
      "text/plain": [
       "                             order_id order_status          model_name  \\\n",
       "0    03128233e78ed8ade6738f2043f4cf8d    delivered  reg_2017_12_04.pkl   \n",
       "1    0a0837a5eee9e7a9ce2b1fa831944d27    delivered  reg_2017_12_04.pkl   \n",
       "2    1c4deb98d216d2fda120204a5fcfb57d    delivered  reg_2017_12_04.pkl   \n",
       "3    1ff217aa612f6cd7c4255c9bfe931c8b    delivered  reg_2017_12_04.pkl   \n",
       "4    22613579f7d11cc59c4347526fc3c79e    delivered  reg_2017_12_04.pkl   \n",
       "..                                ...          ...                 ...   \n",
       "261  be5bc2f0da14d8071e2d45451ad119d9    delivered  reg_2017_12_04.pkl   \n",
       "262  cd3b8574c82b42fc8129f6d502690c3e    delivered  reg_2017_12_04.pkl   \n",
       "263  d207cc272675637bfed0062edffd0818    delivered  reg_2017_12_04.pkl   \n",
       "264  ef1b29b591d31d57c0d7337460dd83c9    delivered  reg_2017_12_04.pkl   \n",
       "265  bfbd0f9bdef84302105ad712db648a6c    delivered  reg_2017_12_04.pkl   \n",
       "\n",
       "     model_predictions  \n",
       "0                    1  \n",
       "1                    0  \n",
       "2                    1  \n",
       "3                    0  \n",
       "4                    1  \n",
       "..                 ...  \n",
       "261                  1  \n",
       "262                  0  \n",
       "263                  0  \n",
       "264                  1  \n",
       "265                  0  \n",
       "\n",
       "[266 rows x 4 columns]"
      ]
     },
     "execution_count": 21,
     "metadata": {},
     "output_type": "execute_result"
    }
   ],
   "source": [
    "# load model\n",
    "model = model_artefact[\"model\"]\n",
    "threshold = model_artefact['threshold']\n",
    "\n",
    "# predict model\n",
    "y_inference = model.predict_proba(X_inference)[:, 1]\n",
    "\n",
    "# prepare output\n",
    "y_inference_pdf = features_sdf[[\"order_id\", \"order_status\"]].copy()\n",
    "y_inference_pdf[\"model_name\"] = config[\"model_name\"]\n",
    "y_inference_pdf[\"model_predictions\"] = y_inference.round(4)\n",
    "y_inference_pdf[\"model_predictions\"] = (y_inference_pdf[\"model_predictions\"] > threshold).astype(int)\n",
    "\n",
    "y_inference_pdf"
   ]
  },
  {
   "cell_type": "markdown",
   "id": "cf3fe2b8-4642-486d-aa3b-2d7703ad3d15",
   "metadata": {},
   "source": [
    "## save model inference to datamart gold table"
   ]
  },
  {
   "cell_type": "code",
   "execution_count": 22,
   "id": "3c28e3e5-81ca-4685-a1f1-f1df12908a72",
   "metadata": {},
   "outputs": [
    {
     "name": "stdout",
     "output_type": "stream",
     "text": [
      "datamart/gold/model_predictions/reg_2017_12_04/\n"
     ]
    },
    {
     "name": "stderr",
     "output_type": "stream",
     "text": [
      "[Stage 12:>                                                         (0 + 8) / 8]\r"
     ]
    },
    {
     "name": "stdout",
     "output_type": "stream",
     "text": [
      "saved to: datamart/gold/model_predictions/reg_2017_12_04/reg_2017_12_04_predictions_2016_10_10.parquet\n"
     ]
    },
    {
     "name": "stderr",
     "output_type": "stream",
     "text": [
      "                                                                                \r"
     ]
    }
   ],
   "source": [
    "# create bronze datalake\n",
    "gold_directory = f\"datamart/gold/model_predictions/{config['model_name'][:-4]}/\"\n",
    "print(gold_directory)\n",
    "\n",
    "if not os.path.exists(gold_directory):\n",
    "    os.makedirs(gold_directory)\n",
    "\n",
    "# save gold table - IRL connect to database to write\n",
    "partition_name = config[\"model_name\"][:-4] + \"_predictions_\" + snapshot_date_str.replace('-','_') + '.parquet'\n",
    "filepath = gold_directory + partition_name\n",
    "spark.createDataFrame(y_inference_pdf).write.mode(\"overwrite\").parquet(filepath)\n",
    "# df.toPandas().to_parquet(filepath,\n",
    "#           compression='gzip')\n",
    "print('saved to:', filepath)"
   ]
  },
  {
   "cell_type": "markdown",
   "id": "77a0dfb6-dc32-4a70-9118-9d924213fb2c",
   "metadata": {},
   "source": [
    "## backfill"
   ]
  },
  {
   "cell_type": "code",
   "execution_count": 10,
   "id": "f4a8f65f-d5d1-45cf-8eaa-bd9c54991a50",
   "metadata": {},
   "outputs": [],
   "source": [
    "# set up config\n",
    "snapshot_date_str = \"2023-01-01\"\n",
    "\n",
    "start_date_str = \"2023-01-01\"\n",
    "end_date_str = \"2024-12-01\""
   ]
  },
  {
   "cell_type": "code",
   "execution_count": 11,
   "id": "849e738c-c717-400f-b72d-ba9951866ec2",
   "metadata": {},
   "outputs": [],
   "source": [
    "# generate list of dates to process\n",
    "def generate_first_of_month_dates(start_date_str, end_date_str):\n",
    "    # Convert the date strings to datetime objects\n",
    "    start_date = datetime.strptime(start_date_str, \"%Y-%m-%d\")\n",
    "    end_date = datetime.strptime(end_date_str, \"%Y-%m-%d\")\n",
    "    \n",
    "    # List to store the first of month dates\n",
    "    first_of_month_dates = []\n",
    "\n",
    "    # Start from the first of the month of the start_date\n",
    "    current_date = datetime(start_date.year, start_date.month, 1)\n",
    "\n",
    "    while current_date <= end_date:\n",
    "        # Append the date in yyyy-mm-dd format\n",
    "        first_of_month_dates.append(current_date.strftime(\"%Y-%m-%d\"))\n",
    "        \n",
    "        # Move to the first of the next month\n",
    "        if current_date.month == 12:\n",
    "            current_date = datetime(current_date.year + 1, 1, 1)\n",
    "        else:\n",
    "            current_date = datetime(current_date.year, current_date.month + 1, 1)\n",
    "\n",
    "    return first_of_month_dates\n",
    "\n",
    "dates_str_lst = generate_first_of_month_dates(start_date_str, end_date_str)\n"
   ]
  },
  {
   "cell_type": "code",
   "execution_count": 12,
   "id": "93576148-36ca-4571-b327-2317f9656cf4",
   "metadata": {
    "scrolled": true
   },
   "outputs": [
    {
     "name": "stdout",
     "output_type": "stream",
     "text": [
      "2023-01-01\n",
      "\n",
      "\n",
      "---starting job---\n",
      "\n",
      "\n",
      "{'model_artefact_filepath': 'model_bank/credit_model_2024_09_01.pkl',\n",
      " 'model_bank_directory': 'model_bank/',\n",
      " 'model_name': 'credit_model_2024_09_01.pkl',\n",
      " 'snapshot_date': datetime.datetime(2023, 1, 1, 0, 0),\n",
      " 'snapshot_date_str': '2023-01-01'}\n",
      "Model loaded successfully! model_bank/credit_model_2024_09_01.pkl\n"
     ]
    },
    {
     "name": "stderr",
     "output_type": "stream",
     "text": [
      "                                                                                \r"
     ]
    },
    {
     "name": "stdout",
     "output_type": "stream",
     "text": [
      "extracted features_sdf 8974 2023-01-01 00:00:00\n",
      "X_inference 8974\n",
      "datamart/gold/model_predictions/credit_model_2024_09_01/\n",
      "saved to: datamart/gold/model_predictions/credit_model_2024_09_01/credit_model_2024_09_01_predictions_2023_01_01.parquet\n",
      "\n",
      "\n",
      "---completed job---\n",
      "\n",
      "\n",
      "2023-02-01\n",
      "\n",
      "\n",
      "---starting job---\n",
      "\n",
      "\n",
      "{'model_artefact_filepath': 'model_bank/credit_model_2024_09_01.pkl',\n",
      " 'model_bank_directory': 'model_bank/',\n",
      " 'model_name': 'credit_model_2024_09_01.pkl',\n",
      " 'snapshot_date': datetime.datetime(2023, 2, 1, 0, 0),\n",
      " 'snapshot_date_str': '2023-02-01'}\n",
      "Model loaded successfully! model_bank/credit_model_2024_09_01.pkl\n",
      "extracted features_sdf 8974 2023-02-01 00:00:00\n",
      "X_inference 8974\n",
      "datamart/gold/model_predictions/credit_model_2024_09_01/\n"
     ]
    },
    {
     "name": "stderr",
     "output_type": "stream",
     "text": [
      "                                                                                \r"
     ]
    },
    {
     "name": "stdout",
     "output_type": "stream",
     "text": [
      "saved to: datamart/gold/model_predictions/credit_model_2024_09_01/credit_model_2024_09_01_predictions_2023_02_01.parquet\n",
      "\n",
      "\n",
      "---completed job---\n",
      "\n",
      "\n",
      "2023-03-01\n",
      "\n",
      "\n",
      "---starting job---\n",
      "\n",
      "\n",
      "{'model_artefact_filepath': 'model_bank/credit_model_2024_09_01.pkl',\n",
      " 'model_bank_directory': 'model_bank/',\n",
      " 'model_name': 'credit_model_2024_09_01.pkl',\n",
      " 'snapshot_date': datetime.datetime(2023, 3, 1, 0, 0),\n",
      " 'snapshot_date_str': '2023-03-01'}\n",
      "Model loaded successfully! model_bank/credit_model_2024_09_01.pkl\n",
      "extracted features_sdf 8974 2023-03-01 00:00:00\n",
      "X_inference 8974\n",
      "datamart/gold/model_predictions/credit_model_2024_09_01/\n"
     ]
    },
    {
     "name": "stderr",
     "output_type": "stream",
     "text": [
      "                                                                                \r"
     ]
    },
    {
     "name": "stdout",
     "output_type": "stream",
     "text": [
      "saved to: datamart/gold/model_predictions/credit_model_2024_09_01/credit_model_2024_09_01_predictions_2023_03_01.parquet\n",
      "\n",
      "\n",
      "---completed job---\n",
      "\n",
      "\n",
      "2023-04-01\n",
      "\n",
      "\n",
      "---starting job---\n",
      "\n",
      "\n",
      "{'model_artefact_filepath': 'model_bank/credit_model_2024_09_01.pkl',\n",
      " 'model_bank_directory': 'model_bank/',\n",
      " 'model_name': 'credit_model_2024_09_01.pkl',\n",
      " 'snapshot_date': datetime.datetime(2023, 4, 1, 0, 0),\n",
      " 'snapshot_date_str': '2023-04-01'}\n",
      "Model loaded successfully! model_bank/credit_model_2024_09_01.pkl\n",
      "extracted features_sdf 8974 2023-04-01 00:00:00\n",
      "X_inference 8974\n",
      "datamart/gold/model_predictions/credit_model_2024_09_01/\n"
     ]
    },
    {
     "name": "stderr",
     "output_type": "stream",
     "text": [
      "                                                                                \r"
     ]
    },
    {
     "name": "stdout",
     "output_type": "stream",
     "text": [
      "saved to: datamart/gold/model_predictions/credit_model_2024_09_01/credit_model_2024_09_01_predictions_2023_04_01.parquet\n",
      "\n",
      "\n",
      "---completed job---\n",
      "\n",
      "\n",
      "2023-05-01\n",
      "\n",
      "\n",
      "---starting job---\n",
      "\n",
      "\n",
      "{'model_artefact_filepath': 'model_bank/credit_model_2024_09_01.pkl',\n",
      " 'model_bank_directory': 'model_bank/',\n",
      " 'model_name': 'credit_model_2024_09_01.pkl',\n",
      " 'snapshot_date': datetime.datetime(2023, 5, 1, 0, 0),\n",
      " 'snapshot_date_str': '2023-05-01'}\n",
      "Model loaded successfully! model_bank/credit_model_2024_09_01.pkl\n",
      "extracted features_sdf 8974 2023-05-01 00:00:00\n",
      "X_inference 8974\n",
      "datamart/gold/model_predictions/credit_model_2024_09_01/\n"
     ]
    },
    {
     "name": "stderr",
     "output_type": "stream",
     "text": [
      "                                                                                \r"
     ]
    },
    {
     "name": "stdout",
     "output_type": "stream",
     "text": [
      "saved to: datamart/gold/model_predictions/credit_model_2024_09_01/credit_model_2024_09_01_predictions_2023_05_01.parquet\n",
      "\n",
      "\n",
      "---completed job---\n",
      "\n",
      "\n",
      "2023-06-01\n",
      "\n",
      "\n",
      "---starting job---\n",
      "\n",
      "\n",
      "{'model_artefact_filepath': 'model_bank/credit_model_2024_09_01.pkl',\n",
      " 'model_bank_directory': 'model_bank/',\n",
      " 'model_name': 'credit_model_2024_09_01.pkl',\n",
      " 'snapshot_date': datetime.datetime(2023, 6, 1, 0, 0),\n",
      " 'snapshot_date_str': '2023-06-01'}\n",
      "Model loaded successfully! model_bank/credit_model_2024_09_01.pkl\n",
      "extracted features_sdf 8974 2023-06-01 00:00:00\n",
      "X_inference 8974\n",
      "datamart/gold/model_predictions/credit_model_2024_09_01/\n"
     ]
    },
    {
     "name": "stderr",
     "output_type": "stream",
     "text": [
      "                                                                                \r"
     ]
    },
    {
     "name": "stdout",
     "output_type": "stream",
     "text": [
      "saved to: datamart/gold/model_predictions/credit_model_2024_09_01/credit_model_2024_09_01_predictions_2023_06_01.parquet\n",
      "\n",
      "\n",
      "---completed job---\n",
      "\n",
      "\n",
      "2023-07-01\n",
      "\n",
      "\n",
      "---starting job---\n",
      "\n",
      "\n",
      "{'model_artefact_filepath': 'model_bank/credit_model_2024_09_01.pkl',\n",
      " 'model_bank_directory': 'model_bank/',\n",
      " 'model_name': 'credit_model_2024_09_01.pkl',\n",
      " 'snapshot_date': datetime.datetime(2023, 7, 1, 0, 0),\n",
      " 'snapshot_date_str': '2023-07-01'}\n",
      "Model loaded successfully! model_bank/credit_model_2024_09_01.pkl\n",
      "extracted features_sdf 8974 2023-07-01 00:00:00\n",
      "X_inference 8974\n",
      "datamart/gold/model_predictions/credit_model_2024_09_01/\n"
     ]
    },
    {
     "name": "stderr",
     "output_type": "stream",
     "text": [
      "                                                                                \r"
     ]
    },
    {
     "name": "stdout",
     "output_type": "stream",
     "text": [
      "saved to: datamart/gold/model_predictions/credit_model_2024_09_01/credit_model_2024_09_01_predictions_2023_07_01.parquet\n",
      "\n",
      "\n",
      "---completed job---\n",
      "\n",
      "\n",
      "2023-08-01\n",
      "\n",
      "\n",
      "---starting job---\n",
      "\n",
      "\n",
      "{'model_artefact_filepath': 'model_bank/credit_model_2024_09_01.pkl',\n",
      " 'model_bank_directory': 'model_bank/',\n",
      " 'model_name': 'credit_model_2024_09_01.pkl',\n",
      " 'snapshot_date': datetime.datetime(2023, 8, 1, 0, 0),\n",
      " 'snapshot_date_str': '2023-08-01'}\n",
      "Model loaded successfully! model_bank/credit_model_2024_09_01.pkl\n",
      "extracted features_sdf 8974 2023-08-01 00:00:00\n",
      "X_inference 8974\n",
      "datamart/gold/model_predictions/credit_model_2024_09_01/\n"
     ]
    },
    {
     "name": "stderr",
     "output_type": "stream",
     "text": [
      "                                                                                \r"
     ]
    },
    {
     "name": "stdout",
     "output_type": "stream",
     "text": [
      "saved to: datamart/gold/model_predictions/credit_model_2024_09_01/credit_model_2024_09_01_predictions_2023_08_01.parquet\n",
      "\n",
      "\n",
      "---completed job---\n",
      "\n",
      "\n",
      "2023-09-01\n",
      "\n",
      "\n",
      "---starting job---\n",
      "\n",
      "\n",
      "{'model_artefact_filepath': 'model_bank/credit_model_2024_09_01.pkl',\n",
      " 'model_bank_directory': 'model_bank/',\n",
      " 'model_name': 'credit_model_2024_09_01.pkl',\n",
      " 'snapshot_date': datetime.datetime(2023, 9, 1, 0, 0),\n",
      " 'snapshot_date_str': '2023-09-01'}\n",
      "Model loaded successfully! model_bank/credit_model_2024_09_01.pkl\n",
      "extracted features_sdf 8974 2023-09-01 00:00:00\n",
      "X_inference 8974\n",
      "datamart/gold/model_predictions/credit_model_2024_09_01/\n"
     ]
    },
    {
     "name": "stderr",
     "output_type": "stream",
     "text": [
      "                                                                                \r"
     ]
    },
    {
     "name": "stdout",
     "output_type": "stream",
     "text": [
      "saved to: datamart/gold/model_predictions/credit_model_2024_09_01/credit_model_2024_09_01_predictions_2023_09_01.parquet\n",
      "\n",
      "\n",
      "---completed job---\n",
      "\n",
      "\n",
      "2023-10-01\n",
      "\n",
      "\n",
      "---starting job---\n",
      "\n",
      "\n",
      "{'model_artefact_filepath': 'model_bank/credit_model_2024_09_01.pkl',\n",
      " 'model_bank_directory': 'model_bank/',\n",
      " 'model_name': 'credit_model_2024_09_01.pkl',\n",
      " 'snapshot_date': datetime.datetime(2023, 10, 1, 0, 0),\n",
      " 'snapshot_date_str': '2023-10-01'}\n",
      "Model loaded successfully! model_bank/credit_model_2024_09_01.pkl\n",
      "extracted features_sdf 8974 2023-10-01 00:00:00\n",
      "X_inference 8974\n",
      "datamart/gold/model_predictions/credit_model_2024_09_01/\n"
     ]
    },
    {
     "name": "stderr",
     "output_type": "stream",
     "text": [
      "                                                                                \r"
     ]
    },
    {
     "name": "stdout",
     "output_type": "stream",
     "text": [
      "saved to: datamart/gold/model_predictions/credit_model_2024_09_01/credit_model_2024_09_01_predictions_2023_10_01.parquet\n",
      "\n",
      "\n",
      "---completed job---\n",
      "\n",
      "\n",
      "2023-11-01\n",
      "\n",
      "\n",
      "---starting job---\n",
      "\n",
      "\n",
      "{'model_artefact_filepath': 'model_bank/credit_model_2024_09_01.pkl',\n",
      " 'model_bank_directory': 'model_bank/',\n",
      " 'model_name': 'credit_model_2024_09_01.pkl',\n",
      " 'snapshot_date': datetime.datetime(2023, 11, 1, 0, 0),\n",
      " 'snapshot_date_str': '2023-11-01'}\n",
      "Model loaded successfully! model_bank/credit_model_2024_09_01.pkl\n",
      "extracted features_sdf 8974 2023-11-01 00:00:00\n",
      "X_inference 8974\n",
      "datamart/gold/model_predictions/credit_model_2024_09_01/\n"
     ]
    },
    {
     "name": "stderr",
     "output_type": "stream",
     "text": [
      "                                                                                \r"
     ]
    },
    {
     "name": "stdout",
     "output_type": "stream",
     "text": [
      "saved to: datamart/gold/model_predictions/credit_model_2024_09_01/credit_model_2024_09_01_predictions_2023_11_01.parquet\n",
      "\n",
      "\n",
      "---completed job---\n",
      "\n",
      "\n",
      "2023-12-01\n",
      "\n",
      "\n",
      "---starting job---\n",
      "\n",
      "\n",
      "{'model_artefact_filepath': 'model_bank/credit_model_2024_09_01.pkl',\n",
      " 'model_bank_directory': 'model_bank/',\n",
      " 'model_name': 'credit_model_2024_09_01.pkl',\n",
      " 'snapshot_date': datetime.datetime(2023, 12, 1, 0, 0),\n",
      " 'snapshot_date_str': '2023-12-01'}\n",
      "Model loaded successfully! model_bank/credit_model_2024_09_01.pkl\n",
      "extracted features_sdf 8974 2023-12-01 00:00:00\n",
      "X_inference 8974\n",
      "datamart/gold/model_predictions/credit_model_2024_09_01/\n"
     ]
    },
    {
     "name": "stderr",
     "output_type": "stream",
     "text": [
      "                                                                                \r"
     ]
    },
    {
     "name": "stdout",
     "output_type": "stream",
     "text": [
      "saved to: datamart/gold/model_predictions/credit_model_2024_09_01/credit_model_2024_09_01_predictions_2023_12_01.parquet\n",
      "\n",
      "\n",
      "---completed job---\n",
      "\n",
      "\n",
      "2024-01-01\n",
      "\n",
      "\n",
      "---starting job---\n",
      "\n",
      "\n",
      "{'model_artefact_filepath': 'model_bank/credit_model_2024_09_01.pkl',\n",
      " 'model_bank_directory': 'model_bank/',\n",
      " 'model_name': 'credit_model_2024_09_01.pkl',\n",
      " 'snapshot_date': datetime.datetime(2024, 1, 1, 0, 0),\n",
      " 'snapshot_date_str': '2024-01-01'}\n",
      "Model loaded successfully! model_bank/credit_model_2024_09_01.pkl\n",
      "extracted features_sdf 8974 2024-01-01 00:00:00\n",
      "X_inference 8974\n",
      "datamart/gold/model_predictions/credit_model_2024_09_01/\n"
     ]
    },
    {
     "name": "stderr",
     "output_type": "stream",
     "text": [
      "                                                                                \r"
     ]
    },
    {
     "name": "stdout",
     "output_type": "stream",
     "text": [
      "saved to: datamart/gold/model_predictions/credit_model_2024_09_01/credit_model_2024_09_01_predictions_2024_01_01.parquet\n",
      "\n",
      "\n",
      "---completed job---\n",
      "\n",
      "\n",
      "2024-02-01\n",
      "\n",
      "\n",
      "---starting job---\n",
      "\n",
      "\n",
      "{'model_artefact_filepath': 'model_bank/credit_model_2024_09_01.pkl',\n",
      " 'model_bank_directory': 'model_bank/',\n",
      " 'model_name': 'credit_model_2024_09_01.pkl',\n",
      " 'snapshot_date': datetime.datetime(2024, 2, 1, 0, 0),\n",
      " 'snapshot_date_str': '2024-02-01'}\n",
      "Model loaded successfully! model_bank/credit_model_2024_09_01.pkl\n",
      "extracted features_sdf 8974 2024-02-01 00:00:00\n",
      "X_inference 8974\n",
      "datamart/gold/model_predictions/credit_model_2024_09_01/\n"
     ]
    },
    {
     "name": "stderr",
     "output_type": "stream",
     "text": [
      "                                                                                \r"
     ]
    },
    {
     "name": "stdout",
     "output_type": "stream",
     "text": [
      "saved to: datamart/gold/model_predictions/credit_model_2024_09_01/credit_model_2024_09_01_predictions_2024_02_01.parquet\n",
      "\n",
      "\n",
      "---completed job---\n",
      "\n",
      "\n",
      "2024-03-01\n",
      "\n",
      "\n",
      "---starting job---\n",
      "\n",
      "\n",
      "{'model_artefact_filepath': 'model_bank/credit_model_2024_09_01.pkl',\n",
      " 'model_bank_directory': 'model_bank/',\n",
      " 'model_name': 'credit_model_2024_09_01.pkl',\n",
      " 'snapshot_date': datetime.datetime(2024, 3, 1, 0, 0),\n",
      " 'snapshot_date_str': '2024-03-01'}\n",
      "Model loaded successfully! model_bank/credit_model_2024_09_01.pkl\n",
      "extracted features_sdf 8974 2024-03-01 00:00:00\n",
      "X_inference 8974\n",
      "datamart/gold/model_predictions/credit_model_2024_09_01/\n"
     ]
    },
    {
     "name": "stderr",
     "output_type": "stream",
     "text": [
      "                                                                                \r"
     ]
    },
    {
     "name": "stdout",
     "output_type": "stream",
     "text": [
      "saved to: datamart/gold/model_predictions/credit_model_2024_09_01/credit_model_2024_09_01_predictions_2024_03_01.parquet\n",
      "\n",
      "\n",
      "---completed job---\n",
      "\n",
      "\n",
      "2024-04-01\n",
      "\n",
      "\n",
      "---starting job---\n",
      "\n",
      "\n",
      "{'model_artefact_filepath': 'model_bank/credit_model_2024_09_01.pkl',\n",
      " 'model_bank_directory': 'model_bank/',\n",
      " 'model_name': 'credit_model_2024_09_01.pkl',\n",
      " 'snapshot_date': datetime.datetime(2024, 4, 1, 0, 0),\n",
      " 'snapshot_date_str': '2024-04-01'}\n",
      "Model loaded successfully! model_bank/credit_model_2024_09_01.pkl\n",
      "extracted features_sdf 8974 2024-04-01 00:00:00\n",
      "X_inference 8974\n",
      "datamart/gold/model_predictions/credit_model_2024_09_01/\n"
     ]
    },
    {
     "name": "stderr",
     "output_type": "stream",
     "text": [
      "                                                                                \r"
     ]
    },
    {
     "name": "stdout",
     "output_type": "stream",
     "text": [
      "saved to: datamart/gold/model_predictions/credit_model_2024_09_01/credit_model_2024_09_01_predictions_2024_04_01.parquet\n",
      "\n",
      "\n",
      "---completed job---\n",
      "\n",
      "\n",
      "2024-05-01\n",
      "\n",
      "\n",
      "---starting job---\n",
      "\n",
      "\n",
      "{'model_artefact_filepath': 'model_bank/credit_model_2024_09_01.pkl',\n",
      " 'model_bank_directory': 'model_bank/',\n",
      " 'model_name': 'credit_model_2024_09_01.pkl',\n",
      " 'snapshot_date': datetime.datetime(2024, 5, 1, 0, 0),\n",
      " 'snapshot_date_str': '2024-05-01'}\n",
      "Model loaded successfully! model_bank/credit_model_2024_09_01.pkl\n",
      "extracted features_sdf 8974 2024-05-01 00:00:00\n",
      "X_inference 8974\n",
      "datamart/gold/model_predictions/credit_model_2024_09_01/\n"
     ]
    },
    {
     "name": "stderr",
     "output_type": "stream",
     "text": [
      "                                                                                \r"
     ]
    },
    {
     "name": "stdout",
     "output_type": "stream",
     "text": [
      "saved to: datamart/gold/model_predictions/credit_model_2024_09_01/credit_model_2024_09_01_predictions_2024_05_01.parquet\n",
      "\n",
      "\n",
      "---completed job---\n",
      "\n",
      "\n",
      "2024-06-01\n",
      "\n",
      "\n",
      "---starting job---\n",
      "\n",
      "\n",
      "{'model_artefact_filepath': 'model_bank/credit_model_2024_09_01.pkl',\n",
      " 'model_bank_directory': 'model_bank/',\n",
      " 'model_name': 'credit_model_2024_09_01.pkl',\n",
      " 'snapshot_date': datetime.datetime(2024, 6, 1, 0, 0),\n",
      " 'snapshot_date_str': '2024-06-01'}\n",
      "Model loaded successfully! model_bank/credit_model_2024_09_01.pkl\n",
      "extracted features_sdf 8974 2024-06-01 00:00:00\n",
      "X_inference 8974\n",
      "datamart/gold/model_predictions/credit_model_2024_09_01/\n"
     ]
    },
    {
     "name": "stderr",
     "output_type": "stream",
     "text": [
      "                                                                                \r"
     ]
    },
    {
     "name": "stdout",
     "output_type": "stream",
     "text": [
      "saved to: datamart/gold/model_predictions/credit_model_2024_09_01/credit_model_2024_09_01_predictions_2024_06_01.parquet\n",
      "\n",
      "\n",
      "---completed job---\n",
      "\n",
      "\n",
      "2024-07-01\n",
      "\n",
      "\n",
      "---starting job---\n",
      "\n",
      "\n",
      "{'model_artefact_filepath': 'model_bank/credit_model_2024_09_01.pkl',\n",
      " 'model_bank_directory': 'model_bank/',\n",
      " 'model_name': 'credit_model_2024_09_01.pkl',\n",
      " 'snapshot_date': datetime.datetime(2024, 7, 1, 0, 0),\n",
      " 'snapshot_date_str': '2024-07-01'}\n",
      "Model loaded successfully! model_bank/credit_model_2024_09_01.pkl\n",
      "extracted features_sdf 8974 2024-07-01 00:00:00\n",
      "X_inference 8974\n",
      "datamart/gold/model_predictions/credit_model_2024_09_01/\n"
     ]
    },
    {
     "name": "stderr",
     "output_type": "stream",
     "text": [
      "                                                                                \r"
     ]
    },
    {
     "name": "stdout",
     "output_type": "stream",
     "text": [
      "saved to: datamart/gold/model_predictions/credit_model_2024_09_01/credit_model_2024_09_01_predictions_2024_07_01.parquet\n",
      "\n",
      "\n",
      "---completed job---\n",
      "\n",
      "\n",
      "2024-08-01\n",
      "\n",
      "\n",
      "---starting job---\n",
      "\n",
      "\n",
      "{'model_artefact_filepath': 'model_bank/credit_model_2024_09_01.pkl',\n",
      " 'model_bank_directory': 'model_bank/',\n",
      " 'model_name': 'credit_model_2024_09_01.pkl',\n",
      " 'snapshot_date': datetime.datetime(2024, 8, 1, 0, 0),\n",
      " 'snapshot_date_str': '2024-08-01'}\n",
      "Model loaded successfully! model_bank/credit_model_2024_09_01.pkl\n",
      "extracted features_sdf 8974 2024-08-01 00:00:00\n",
      "X_inference 8974\n",
      "datamart/gold/model_predictions/credit_model_2024_09_01/\n"
     ]
    },
    {
     "name": "stderr",
     "output_type": "stream",
     "text": [
      "                                                                                \r"
     ]
    },
    {
     "name": "stdout",
     "output_type": "stream",
     "text": [
      "saved to: datamart/gold/model_predictions/credit_model_2024_09_01/credit_model_2024_09_01_predictions_2024_08_01.parquet\n",
      "\n",
      "\n",
      "---completed job---\n",
      "\n",
      "\n",
      "2024-09-01\n",
      "\n",
      "\n",
      "---starting job---\n",
      "\n",
      "\n",
      "{'model_artefact_filepath': 'model_bank/credit_model_2024_09_01.pkl',\n",
      " 'model_bank_directory': 'model_bank/',\n",
      " 'model_name': 'credit_model_2024_09_01.pkl',\n",
      " 'snapshot_date': datetime.datetime(2024, 9, 1, 0, 0),\n",
      " 'snapshot_date_str': '2024-09-01'}\n",
      "Model loaded successfully! model_bank/credit_model_2024_09_01.pkl\n",
      "extracted features_sdf 8974 2024-09-01 00:00:00\n",
      "X_inference 8974\n",
      "datamart/gold/model_predictions/credit_model_2024_09_01/\n"
     ]
    },
    {
     "name": "stderr",
     "output_type": "stream",
     "text": [
      "                                                                                \r"
     ]
    },
    {
     "name": "stdout",
     "output_type": "stream",
     "text": [
      "saved to: datamart/gold/model_predictions/credit_model_2024_09_01/credit_model_2024_09_01_predictions_2024_09_01.parquet\n",
      "\n",
      "\n",
      "---completed job---\n",
      "\n",
      "\n",
      "2024-10-01\n",
      "\n",
      "\n",
      "---starting job---\n",
      "\n",
      "\n",
      "{'model_artefact_filepath': 'model_bank/credit_model_2024_09_01.pkl',\n",
      " 'model_bank_directory': 'model_bank/',\n",
      " 'model_name': 'credit_model_2024_09_01.pkl',\n",
      " 'snapshot_date': datetime.datetime(2024, 10, 1, 0, 0),\n",
      " 'snapshot_date_str': '2024-10-01'}\n",
      "Model loaded successfully! model_bank/credit_model_2024_09_01.pkl\n"
     ]
    },
    {
     "name": "stderr",
     "output_type": "stream",
     "text": [
      "                                                                                \r"
     ]
    },
    {
     "name": "stdout",
     "output_type": "stream",
     "text": [
      "extracted features_sdf 8974 2024-10-01 00:00:00\n",
      "X_inference 8974\n",
      "datamart/gold/model_predictions/credit_model_2024_09_01/\n"
     ]
    },
    {
     "name": "stderr",
     "output_type": "stream",
     "text": [
      "                                                                                \r"
     ]
    },
    {
     "name": "stdout",
     "output_type": "stream",
     "text": [
      "saved to: datamart/gold/model_predictions/credit_model_2024_09_01/credit_model_2024_09_01_predictions_2024_10_01.parquet\n",
      "\n",
      "\n",
      "---completed job---\n",
      "\n",
      "\n",
      "2024-11-01\n",
      "\n",
      "\n",
      "---starting job---\n",
      "\n",
      "\n",
      "{'model_artefact_filepath': 'model_bank/credit_model_2024_09_01.pkl',\n",
      " 'model_bank_directory': 'model_bank/',\n",
      " 'model_name': 'credit_model_2024_09_01.pkl',\n",
      " 'snapshot_date': datetime.datetime(2024, 11, 1, 0, 0),\n",
      " 'snapshot_date_str': '2024-11-01'}\n",
      "Model loaded successfully! model_bank/credit_model_2024_09_01.pkl\n",
      "extracted features_sdf 8974 2024-11-01 00:00:00\n",
      "X_inference 8974\n",
      "datamart/gold/model_predictions/credit_model_2024_09_01/\n"
     ]
    },
    {
     "name": "stderr",
     "output_type": "stream",
     "text": [
      "                                                                                \r"
     ]
    },
    {
     "name": "stdout",
     "output_type": "stream",
     "text": [
      "saved to: datamart/gold/model_predictions/credit_model_2024_09_01/credit_model_2024_09_01_predictions_2024_11_01.parquet\n",
      "\n",
      "\n",
      "---completed job---\n",
      "\n",
      "\n",
      "2024-12-01\n",
      "\n",
      "\n",
      "---starting job---\n",
      "\n",
      "\n",
      "{'model_artefact_filepath': 'model_bank/credit_model_2024_09_01.pkl',\n",
      " 'model_bank_directory': 'model_bank/',\n",
      " 'model_name': 'credit_model_2024_09_01.pkl',\n",
      " 'snapshot_date': datetime.datetime(2024, 12, 1, 0, 0),\n",
      " 'snapshot_date_str': '2024-12-01'}\n",
      "Model loaded successfully! model_bank/credit_model_2024_09_01.pkl\n",
      "extracted features_sdf 8974 2024-12-01 00:00:00\n",
      "X_inference 8974\n",
      "datamart/gold/model_predictions/credit_model_2024_09_01/\n"
     ]
    },
    {
     "name": "stderr",
     "output_type": "stream",
     "text": [
      "                                                                                \r"
     ]
    },
    {
     "name": "stdout",
     "output_type": "stream",
     "text": [
      "saved to: datamart/gold/model_predictions/credit_model_2024_09_01/credit_model_2024_09_01_predictions_2024_12_01.parquet\n",
      "\n",
      "\n",
      "---completed job---\n",
      "\n",
      "\n"
     ]
    }
   ],
   "source": [
    "for snapshot_date in dates_str_lst:\n",
    "    print(snapshot_date)\n",
    "    model_inference.main(snapshot_date, model_name)"
   ]
  },
  {
   "cell_type": "markdown",
   "id": "c339e3cb-1826-49a0-ac73-cb381f85b033",
   "metadata": {},
   "source": [
    "## Check datamart"
   ]
  },
  {
   "cell_type": "code",
   "execution_count": 29,
   "id": "98ef4abd-3e08-4430-9fc5-d9eb2d0bba5e",
   "metadata": {},
   "outputs": [],
   "source": [
    "# Initialize SparkSession\n",
    "spark = pyspark.sql.SparkSession.builder \\\n",
    "    .appName(\"dev\") \\\n",
    "    .master(\"local[*]\") \\\n",
    "    .getOrCreate()\n",
    "\n",
    "# Set log level to ERROR to hide warnings\n",
    "spark.sparkContext.setLogLevel(\"ERROR\")"
   ]
  },
  {
   "cell_type": "code",
   "execution_count": 31,
   "id": "1dff83cf-fcc1-4a4c-919a-c2c4be859f2a",
   "metadata": {},
   "outputs": [
    {
     "name": "stdout",
     "output_type": "stream",
     "text": [
      "row_count: 485\n",
      "+-----------+-------------+--------------------+--------------------+\n",
      "|customer_id|snapshot_date|          model_name|   model_predictions|\n",
      "+-----------+-------------+--------------------+--------------------+\n",
      "|  CUS_0x405|   2024-01-01|credit_model_2024...| 0.15490520000457764|\n",
      "| CUS_0x4655|   2024-01-01|credit_model_2024...| 0.07329188287258148|\n",
      "| CUS_0x4953|   2024-01-01|credit_model_2024...|  0.7080382704734802|\n",
      "| CUS_0x4a0d|   2024-01-01|credit_model_2024...| 0.05151388421654701|\n",
      "|  CUS_0x4d3|   2024-01-01|credit_model_2024...|  0.8074637651443481|\n",
      "| CUS_0x4d40|   2024-01-01|credit_model_2024...|  0.6069353818893433|\n",
      "| CUS_0x50e9|   2024-01-01|credit_model_2024...|  0.2434036284685135|\n",
      "| CUS_0x54d7|   2024-01-01|credit_model_2024...|0.033143628388643265|\n",
      "| CUS_0x57e5|   2024-01-01|credit_model_2024...| 0.21770469844341278|\n",
      "| CUS_0x58cd|   2024-01-01|credit_model_2024...| 0.21139536798000336|\n",
      "| CUS_0x5e61|   2024-01-01|credit_model_2024...|0.048095766454935074|\n",
      "| CUS_0x6087|   2024-01-01|credit_model_2024...|  0.5640120506286621|\n",
      "| CUS_0x60aa|   2024-01-01|credit_model_2024...|  0.4052967429161072|\n",
      "| CUS_0x60ca|   2024-01-01|credit_model_2024...|  0.0533013641834259|\n",
      "| CUS_0x634d|   2024-01-01|credit_model_2024...| 0.06686742603778839|\n",
      "| CUS_0x66a7|   2024-01-01|credit_model_2024...|  0.8393402099609375|\n",
      "| CUS_0x6950|   2024-01-01|credit_model_2024...| 0.04388093575835228|\n",
      "| CUS_0x6b15|   2024-01-01|credit_model_2024...|  0.0716567412018776|\n",
      "| CUS_0x6f64|   2024-01-01|credit_model_2024...|0.060422901064157486|\n",
      "| CUS_0x7015|   2024-01-01|credit_model_2024...|  0.3740858733654022|\n",
      "+-----------+-------------+--------------------+--------------------+\n",
      "only showing top 20 rows\n",
      "\n"
     ]
    }
   ],
   "source": [
    "folder_path = \"scripts/datamart/gold/model_predictions/credit_model_2024_06_01/\"\n",
    "files_list = [folder_path+os.path.basename(f) for f in glob.glob(os.path.join(folder_path, '*'))]\n",
    "df = spark.read.option(\"header\", \"true\").parquet(*files_list)\n",
    "print(\"row_count:\",df.count())\n",
    "\n",
    "df.show()"
   ]
  },
  {
   "cell_type": "code",
   "execution_count": null,
   "id": "418abe90-da75-4c5e-a588-60e00ab3c947",
   "metadata": {},
   "outputs": [],
   "source": []
  },
  {
   "cell_type": "code",
   "execution_count": null,
   "id": "55728897-0715-43a0-904f-5aba101b03aa",
   "metadata": {},
   "outputs": [],
   "source": []
  },
  {
   "cell_type": "code",
   "execution_count": null,
   "id": "d29fda2c-e869-4ee6-9e98-fc85e69eb136",
   "metadata": {},
   "outputs": [],
   "source": []
  },
  {
   "cell_type": "code",
   "execution_count": null,
   "id": "aff19c58-94ad-4abb-984f-b082326c2871",
   "metadata": {},
   "outputs": [],
   "source": []
  }
 ],
 "metadata": {
  "kernelspec": {
   "display_name": "mle_env",
   "language": "python",
   "name": "python3"
  },
  "language_info": {
   "codemirror_mode": {
    "name": "ipython",
    "version": 3
   },
   "file_extension": ".py",
   "mimetype": "text/x-python",
   "name": "python",
   "nbconvert_exporter": "python",
   "pygments_lexer": "ipython3",
   "version": "3.10.13"
  }
 },
 "nbformat": 4,
 "nbformat_minor": 5
}
