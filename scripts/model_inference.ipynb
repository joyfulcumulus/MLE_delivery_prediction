{
 "cells": [
  {
   "cell_type": "code",
   "execution_count": null,
   "id": "f800477c",
   "metadata": {},
   "outputs": [
    {
     "name": "stdout",
     "output_type": "stream",
     "text": [
      "1.6.2\n"
     ]
    }
   ],
   "source": [
    "import xgboost as xgb; \n",
    "print(xgb.__version__)"
   ]
  },
  {
   "cell_type": "code",
   "execution_count": 52,
   "id": "b50484d2-bfa4-40b6-82cd-e8bf86187cfd",
   "metadata": {},
   "outputs": [],
   "source": [
    "import os\n",
    "import glob\n",
    "import pandas as pd\n",
    "import pickle\n",
    "#import matplotlib.pyplot as plt\n",
    "import numpy as np\n",
    "import random\n",
    "from datetime import datetime, timedelta\n",
    "from dateutil.relativedelta import relativedelta\n",
    "import pprint\n",
    "import pyspark\n",
    "import pyspark.sql.functions as F\n",
    "\n",
    "from pyspark.sql.functions import col\n",
    "from pyspark.sql.types import StringType, IntegerType, FloatType, DateType\n",
    "\n",
    "from sklearn.model_selection import train_test_split\n",
    "from sklearn.preprocessing import StandardScaler\n",
    "\n",
    "import xgboost as xgb\n",
    "from sklearn.model_selection import RandomizedSearchCV\n",
    "from sklearn.metrics import make_scorer, f1_score, roc_auc_score\n",
    "from sklearn.datasets import make_classification\n",
    "from sklearn.model_selection import train_test_split\n",
    "\n",
    "import model_inference\n"
   ]
  },
  {
   "cell_type": "code",
   "execution_count": 2,
   "id": "fcac9436-de95-4ebf-9655-56df8e1eafd7",
   "metadata": {},
   "outputs": [],
   "source": [
    "# Build a .py script that takes a snapshot date, loads a model artefact and make an inference and save to datamart"
   ]
  },
  {
   "cell_type": "markdown",
   "id": "37c91bb1-bcf0-4195-90f3-dc88806ebf8c",
   "metadata": {},
   "source": [
    "## set up pyspark session"
   ]
  },
  {
   "cell_type": "code",
   "execution_count": 53,
   "id": "32fb3bc6-4166-4893-88e1-0d3140df5a92",
   "metadata": {},
   "outputs": [],
   "source": [
    "# Initialize SparkSession\n",
    "spark = pyspark.sql.SparkSession.builder \\\n",
    "    .appName(\"dev\") \\\n",
    "    .master(\"local[*]\") \\\n",
    "    .getOrCreate()\n",
    "\n",
    "# Set log level to ERROR to hide warnings\n",
    "spark.sparkContext.setLogLevel(\"ERROR\")"
   ]
  },
  {
   "cell_type": "markdown",
   "id": "30206071-5f00-4c3b-be13-55c54db8e336",
   "metadata": {},
   "source": [
    "## set up config"
   ]
  },
  {
   "cell_type": "code",
   "execution_count": null,
   "id": "f3e158e6",
   "metadata": {},
   "outputs": [
    {
     "name": "stdout",
     "output_type": "stream",
     "text": [
      "execute command: python model_inference.py --snapshotdate \"2017-01-01\" --modelname \"reg_2018_04_01.pkl\"\n"
     ]
    },
    {
     "name": "stderr",
     "output_type": "stream",
     "text": [
      "Setting default log level to \"WARN\".\n",
      "To adjust logging level use sc.setLogLevel(newLevel). For SparkR, use setLogLevel(newLevel).\n",
      "25/06/26 23:34:19 WARN NativeCodeLoader: Unable to load native-hadoop library for your platform... using builtin-java classes where applicable\n",
      "25/06/26 23:34:19 WARN Utils: Service 'SparkUI' could not bind on port 4040. Attempting port 4041.\n",
      "25/06/26 23:34:19 WARN Utils: Service 'SparkUI' could not bind on port 4041. Attempting port 4042.\n"
     ]
    },
    {
     "name": "stdout",
     "output_type": "stream",
     "text": [
      "\n",
      "\n",
      "---starting job---\n",
      "\n",
      "\n",
      "{'model_artefact_filepath': 'model_bank/reg_2018_04_01.pkl',\n",
      " 'model_bank_directory': 'model_bank/',\n",
      " 'model_name': 'reg_2018_04_01.pkl',\n",
      " 'snapshot_date': datetime.datetime(2017, 1, 1, 0, 0),\n",
      " 'snapshot_date_str': '2017-01-01'}\n",
      "Model loaded successfully! model_bank/reg_2018_04_01.pkl\n",
      "y_inference 0\n",
      "datamart/gold/model_predictions/reg_2018_04_01/\n",
      "No inference data to write. Skipping write step.\n"
     ]
    },
    {
     "name": "stderr",
     "output_type": "stream",
     "text": [
      "Saving labels: 100%|██████████| 1/1 [00:00<00:00, 484.95it/s]\n"
     ]
    },
    {
     "name": "stdout",
     "output_type": "stream",
     "text": [
      "\n",
      "\n",
      "---completed job---\n",
      "\n",
      "\n",
      "execute command: python model_inference.py --snapshotdate \"2017-01-02\" --modelname \"reg_2018_04_01.pkl\"\n"
     ]
    },
    {
     "name": "stderr",
     "output_type": "stream",
     "text": [
      "Setting default log level to \"WARN\".\n",
      "To adjust logging level use sc.setLogLevel(newLevel). For SparkR, use setLogLevel(newLevel).\n",
      "25/06/26 23:34:23 WARN NativeCodeLoader: Unable to load native-hadoop library for your platform... using builtin-java classes where applicable\n",
      "25/06/26 23:34:23 WARN Utils: Service 'SparkUI' could not bind on port 4040. Attempting port 4041.\n",
      "25/06/26 23:34:23 WARN Utils: Service 'SparkUI' could not bind on port 4041. Attempting port 4042.\n"
     ]
    },
    {
     "name": "stdout",
     "output_type": "stream",
     "text": [
      "\n",
      "\n",
      "---starting job---\n",
      "\n",
      "\n",
      "{'model_artefact_filepath': 'model_bank/reg_2018_04_01.pkl',\n",
      " 'model_bank_directory': 'model_bank/',\n",
      " 'model_name': 'reg_2018_04_01.pkl',\n",
      " 'snapshot_date': datetime.datetime(2017, 1, 2, 0, 0),\n",
      " 'snapshot_date_str': '2017-01-02'}\n",
      "Model loaded successfully! model_bank/reg_2018_04_01.pkl\n",
      "y_inference 0\n",
      "datamart/gold/model_predictions/reg_2018_04_01/\n",
      "No inference data to write. Skipping write step.\n"
     ]
    },
    {
     "name": "stderr",
     "output_type": "stream",
     "text": [
      "Saving labels: 100%|██████████| 1/1 [00:00<00:00, 526.33it/s]\n"
     ]
    },
    {
     "name": "stdout",
     "output_type": "stream",
     "text": [
      "\n",
      "\n",
      "---completed job---\n",
      "\n",
      "\n",
      "execute command: python model_inference.py --snapshotdate \"2017-01-03\" --modelname \"reg_2018_04_01.pkl\"\n"
     ]
    },
    {
     "name": "stderr",
     "output_type": "stream",
     "text": [
      "Setting default log level to \"WARN\".\n",
      "To adjust logging level use sc.setLogLevel(newLevel). For SparkR, use setLogLevel(newLevel).\n",
      "25/06/26 23:34:27 WARN NativeCodeLoader: Unable to load native-hadoop library for your platform... using builtin-java classes where applicable\n",
      "25/06/26 23:34:27 WARN Utils: Service 'SparkUI' could not bind on port 4040. Attempting port 4041.\n",
      "25/06/26 23:34:27 WARN Utils: Service 'SparkUI' could not bind on port 4041. Attempting port 4042.\n"
     ]
    },
    {
     "name": "stdout",
     "output_type": "stream",
     "text": [
      "\n",
      "\n",
      "---starting job---\n",
      "\n",
      "\n",
      "{'model_artefact_filepath': 'model_bank/reg_2018_04_01.pkl',\n",
      " 'model_bank_directory': 'model_bank/',\n",
      " 'model_name': 'reg_2018_04_01.pkl',\n",
      " 'snapshot_date': datetime.datetime(2017, 1, 3, 0, 0),\n",
      " 'snapshot_date_str': '2017-01-03'}\n",
      "Model loaded successfully! model_bank/reg_2018_04_01.pkl\n",
      "y_inference 0\n",
      "datamart/gold/model_predictions/reg_2018_04_01/\n",
      "No inference data to write. Skipping write step.\n",
      "\n",
      "\n",
      "---completed job---\n",
      "\n",
      "\n"
     ]
    },
    {
     "name": "stderr",
     "output_type": "stream",
     "text": [
      "Saving labels: 100%|██████████| 1/1 [00:00<00:00, 491.89it/s]\n"
     ]
    },
    {
     "name": "stdout",
     "output_type": "stream",
     "text": [
      "execute command: python model_inference.py --snapshotdate \"2017-01-04\" --modelname \"reg_2018_04_01.pkl\"\n"
     ]
    },
    {
     "name": "stderr",
     "output_type": "stream",
     "text": [
      "Setting default log level to \"WARN\".\n",
      "To adjust logging level use sc.setLogLevel(newLevel). For SparkR, use setLogLevel(newLevel).\n",
      "25/06/26 23:34:31 WARN NativeCodeLoader: Unable to load native-hadoop library for your platform... using builtin-java classes where applicable\n",
      "25/06/26 23:34:31 WARN Utils: Service 'SparkUI' could not bind on port 4040. Attempting port 4041.\n",
      "25/06/26 23:34:31 WARN Utils: Service 'SparkUI' could not bind on port 4041. Attempting port 4042.\n"
     ]
    },
    {
     "name": "stdout",
     "output_type": "stream",
     "text": [
      "\n",
      "\n",
      "---starting job---\n",
      "\n",
      "\n",
      "{'model_artefact_filepath': 'model_bank/reg_2018_04_01.pkl',\n",
      " 'model_bank_directory': 'model_bank/',\n",
      " 'model_name': 'reg_2018_04_01.pkl',\n",
      " 'snapshot_date': datetime.datetime(2017, 1, 4, 0, 0),\n",
      " 'snapshot_date_str': '2017-01-04'}\n",
      "Model loaded successfully! model_bank/reg_2018_04_01.pkl\n"
     ]
    },
    {
     "name": "stderr",
     "output_type": "stream",
     "text": [
      "Saving labels: 100%|██████████| 1/1 [00:00<00:00, 521.42it/s]\n"
     ]
    },
    {
     "name": "stdout",
     "output_type": "stream",
     "text": [
      "y_inference 0\n",
      "datamart/gold/model_predictions/reg_2018_04_01/\n",
      "No inference data to write. Skipping write step.\n",
      "\n",
      "\n",
      "---completed job---\n",
      "\n",
      "\n",
      "execute command: python model_inference.py --snapshotdate \"2017-01-05\" --modelname \"reg_2018_04_01.pkl\"\n"
     ]
    },
    {
     "name": "stderr",
     "output_type": "stream",
     "text": [
      "Setting default log level to \"WARN\".\n",
      "To adjust logging level use sc.setLogLevel(newLevel). For SparkR, use setLogLevel(newLevel).\n",
      "25/06/26 23:34:35 WARN NativeCodeLoader: Unable to load native-hadoop library for your platform... using builtin-java classes where applicable\n",
      "25/06/26 23:34:35 WARN Utils: Service 'SparkUI' could not bind on port 4040. Attempting port 4041.\n",
      "25/06/26 23:34:35 WARN Utils: Service 'SparkUI' could not bind on port 4041. Attempting port 4042.\n"
     ]
    },
    {
     "name": "stdout",
     "output_type": "stream",
     "text": [
      "\n",
      "\n",
      "---starting job---\n",
      "\n",
      "\n",
      "{'model_artefact_filepath': 'model_bank/reg_2018_04_01.pkl',\n",
      " 'model_bank_directory': 'model_bank/',\n",
      " 'model_name': 'reg_2018_04_01.pkl',\n",
      " 'snapshot_date': datetime.datetime(2017, 1, 5, 0, 0),\n",
      " 'snapshot_date_str': '2017-01-05'}\n",
      "Model loaded successfully! model_bank/reg_2018_04_01.pkl\n"
     ]
    },
    {
     "name": "stderr",
     "output_type": "stream",
     "text": [
      "Saving labels:   0%|          | 0/1 [00:00<?, ?it/s]/opt/anaconda3/envs/mle_env/lib/python3.10/site-packages/sklearn/utils/validation.py:2732: UserWarning: X has feature names, but StandardScaler was fitted without feature names\n",
      "  warnings.warn(\n",
      "Saving labels: 100%|██████████| 1/1 [00:02<00:00,  2.71s/it]\n"
     ]
    },
    {
     "name": "stdout",
     "output_type": "stream",
     "text": [
      "X_inference 32\n",
      "num of rows add:32\n",
      "datamart/gold/model_predictions/reg_2018_04_01/\n"
     ]
    },
    {
     "name": "stderr",
     "output_type": "stream",
     "text": [
      "                                                                                \r"
     ]
    },
    {
     "name": "stdout",
     "output_type": "stream",
     "text": [
      "saved to: datamart/gold/model_predictions/reg_2018_04_01/reg_2018_04_01_predictions_2017_01_05.parquet\n",
      "rows added: 32\n",
      "\n",
      "\n",
      "---completed job---\n",
      "\n",
      "\n",
      "execute command: python model_inference.py --snapshotdate \"2017-01-06\" --modelname \"reg_2018_04_01.pkl\"\n"
     ]
    },
    {
     "name": "stderr",
     "output_type": "stream",
     "text": [
      "Setting default log level to \"WARN\".\n",
      "To adjust logging level use sc.setLogLevel(newLevel). For SparkR, use setLogLevel(newLevel).\n",
      "25/06/26 23:34:43 WARN NativeCodeLoader: Unable to load native-hadoop library for your platform... using builtin-java classes where applicable\n",
      "25/06/26 23:34:44 WARN Utils: Service 'SparkUI' could not bind on port 4040. Attempting port 4041.\n",
      "25/06/26 23:34:44 WARN Utils: Service 'SparkUI' could not bind on port 4041. Attempting port 4042.\n"
     ]
    },
    {
     "name": "stdout",
     "output_type": "stream",
     "text": [
      "\n",
      "\n",
      "---starting job---\n",
      "\n",
      "\n",
      "{'model_artefact_filepath': 'model_bank/reg_2018_04_01.pkl',\n",
      " 'model_bank_directory': 'model_bank/',\n",
      " 'model_name': 'reg_2018_04_01.pkl',\n",
      " 'snapshot_date': datetime.datetime(2017, 1, 6, 0, 0),\n",
      " 'snapshot_date_str': '2017-01-06'}\n",
      "Model loaded successfully! model_bank/reg_2018_04_01.pkl\n"
     ]
    },
    {
     "name": "stderr",
     "output_type": "stream",
     "text": [
      "Saving labels:   0%|          | 0/1 [00:00<?, ?it/s]/opt/anaconda3/envs/mle_env/lib/python3.10/site-packages/sklearn/utils/validation.py:2732: UserWarning: X has feature names, but StandardScaler was fitted without feature names\n",
      "  warnings.warn(\n",
      "Saving labels: 100%|██████████| 1/1 [00:02<00:00,  2.63s/it]\n"
     ]
    },
    {
     "name": "stdout",
     "output_type": "stream",
     "text": [
      "X_inference 4\n",
      "num of rows add:4\n",
      "datamart/gold/model_predictions/reg_2018_04_01/\n"
     ]
    },
    {
     "name": "stderr",
     "output_type": "stream",
     "text": [
      "                                                                                \r"
     ]
    },
    {
     "name": "stdout",
     "output_type": "stream",
     "text": [
      "saved to: datamart/gold/model_predictions/reg_2018_04_01/reg_2018_04_01_predictions_2017_01_06.parquet\n",
      "rows added: 4\n",
      "\n",
      "\n",
      "---completed job---\n",
      "\n",
      "\n",
      "execute command: python model_inference.py --snapshotdate \"2017-01-07\" --modelname \"reg_2018_04_01.pkl\"\n"
     ]
    },
    {
     "name": "stderr",
     "output_type": "stream",
     "text": [
      "Setting default log level to \"WARN\".\n",
      "To adjust logging level use sc.setLogLevel(newLevel). For SparkR, use setLogLevel(newLevel).\n",
      "25/06/26 23:34:52 WARN NativeCodeLoader: Unable to load native-hadoop library for your platform... using builtin-java classes where applicable\n",
      "25/06/26 23:34:52 WARN Utils: Service 'SparkUI' could not bind on port 4040. Attempting port 4041.\n",
      "25/06/26 23:34:52 WARN Utils: Service 'SparkUI' could not bind on port 4041. Attempting port 4042.\n"
     ]
    },
    {
     "name": "stdout",
     "output_type": "stream",
     "text": [
      "\n",
      "\n",
      "---starting job---\n",
      "\n",
      "\n",
      "{'model_artefact_filepath': 'model_bank/reg_2018_04_01.pkl',\n",
      " 'model_bank_directory': 'model_bank/',\n",
      " 'model_name': 'reg_2018_04_01.pkl',\n",
      " 'snapshot_date': datetime.datetime(2017, 1, 7, 0, 0),\n",
      " 'snapshot_date_str': '2017-01-07'}\n",
      "Model loaded successfully! model_bank/reg_2018_04_01.pkl\n"
     ]
    },
    {
     "name": "stderr",
     "output_type": "stream",
     "text": [
      "Saving labels:   0%|          | 0/1 [00:00<?, ?it/s]/opt/anaconda3/envs/mle_env/lib/python3.10/site-packages/sklearn/utils/validation.py:2732: UserWarning: X has feature names, but StandardScaler was fitted without feature names\n",
      "  warnings.warn(\n",
      "Saving labels: 100%|██████████| 1/1 [00:02<00:00,  2.58s/it]\n"
     ]
    },
    {
     "name": "stdout",
     "output_type": "stream",
     "text": [
      "X_inference 4\n",
      "num of rows add:4\n",
      "datamart/gold/model_predictions/reg_2018_04_01/\n"
     ]
    },
    {
     "name": "stderr",
     "output_type": "stream",
     "text": [
      "                                                                                \r"
     ]
    },
    {
     "name": "stdout",
     "output_type": "stream",
     "text": [
      "saved to: datamart/gold/model_predictions/reg_2018_04_01/reg_2018_04_01_predictions_2017_01_07.parquet\n",
      "rows added: 4\n",
      "\n",
      "\n",
      "---completed job---\n",
      "\n",
      "\n",
      "execute command: python model_inference.py --snapshotdate \"2017-01-08\" --modelname \"reg_2018_04_01.pkl\"\n"
     ]
    },
    {
     "name": "stderr",
     "output_type": "stream",
     "text": [
      "Setting default log level to \"WARN\".\n",
      "To adjust logging level use sc.setLogLevel(newLevel). For SparkR, use setLogLevel(newLevel).\n",
      "25/06/26 23:35:00 WARN NativeCodeLoader: Unable to load native-hadoop library for your platform... using builtin-java classes where applicable\n",
      "25/06/26 23:35:00 WARN Utils: Service 'SparkUI' could not bind on port 4040. Attempting port 4041.\n",
      "25/06/26 23:35:00 WARN Utils: Service 'SparkUI' could not bind on port 4041. Attempting port 4042.\n"
     ]
    },
    {
     "name": "stdout",
     "output_type": "stream",
     "text": [
      "\n",
      "\n",
      "---starting job---\n",
      "\n",
      "\n",
      "{'model_artefact_filepath': 'model_bank/reg_2018_04_01.pkl',\n",
      " 'model_bank_directory': 'model_bank/',\n",
      " 'model_name': 'reg_2018_04_01.pkl',\n",
      " 'snapshot_date': datetime.datetime(2017, 1, 8, 0, 0),\n",
      " 'snapshot_date_str': '2017-01-08'}\n",
      "Model loaded successfully! model_bank/reg_2018_04_01.pkl\n"
     ]
    },
    {
     "name": "stderr",
     "output_type": "stream",
     "text": [
      "Saving labels:   0%|          | 0/1 [00:00<?, ?it/s]/opt/anaconda3/envs/mle_env/lib/python3.10/site-packages/sklearn/utils/validation.py:2732: UserWarning: X has feature names, but StandardScaler was fitted without feature names\n",
      "  warnings.warn(\n",
      "Saving labels: 100%|██████████| 1/1 [00:02<00:00,  2.53s/it]\n"
     ]
    },
    {
     "name": "stdout",
     "output_type": "stream",
     "text": [
      "X_inference 4\n",
      "num of rows add:4\n",
      "datamart/gold/model_predictions/reg_2018_04_01/\n"
     ]
    },
    {
     "name": "stderr",
     "output_type": "stream",
     "text": [
      "                                                                                \r"
     ]
    },
    {
     "name": "stdout",
     "output_type": "stream",
     "text": [
      "saved to: datamart/gold/model_predictions/reg_2018_04_01/reg_2018_04_01_predictions_2017_01_08.parquet\n",
      "rows added: 4\n",
      "\n",
      "\n",
      "---completed job---\n",
      "\n",
      "\n",
      "execute command: python model_inference.py --snapshotdate \"2017-01-09\" --modelname \"reg_2018_04_01.pkl\"\n"
     ]
    },
    {
     "name": "stderr",
     "output_type": "stream",
     "text": [
      "Setting default log level to \"WARN\".\n",
      "To adjust logging level use sc.setLogLevel(newLevel). For SparkR, use setLogLevel(newLevel).\n",
      "25/06/26 23:35:08 WARN NativeCodeLoader: Unable to load native-hadoop library for your platform... using builtin-java classes where applicable\n",
      "25/06/26 23:35:09 WARN Utils: Service 'SparkUI' could not bind on port 4040. Attempting port 4041.\n",
      "25/06/26 23:35:09 WARN Utils: Service 'SparkUI' could not bind on port 4041. Attempting port 4042.\n"
     ]
    },
    {
     "name": "stdout",
     "output_type": "stream",
     "text": [
      "\n",
      "\n",
      "---starting job---\n",
      "\n",
      "\n",
      "{'model_artefact_filepath': 'model_bank/reg_2018_04_01.pkl',\n",
      " 'model_bank_directory': 'model_bank/',\n",
      " 'model_name': 'reg_2018_04_01.pkl',\n",
      " 'snapshot_date': datetime.datetime(2017, 1, 9, 0, 0),\n",
      " 'snapshot_date_str': '2017-01-09'}\n",
      "Model loaded successfully! model_bank/reg_2018_04_01.pkl\n"
     ]
    },
    {
     "name": "stderr",
     "output_type": "stream",
     "text": [
      "Saving labels:   0%|          | 0/1 [00:00<?, ?it/s]/opt/anaconda3/envs/mle_env/lib/python3.10/site-packages/sklearn/utils/validation.py:2732: UserWarning: X has feature names, but StandardScaler was fitted without feature names\n",
      "  warnings.warn(\n",
      "Saving labels: 100%|██████████| 1/1 [00:02<00:00,  2.61s/it]\n"
     ]
    },
    {
     "name": "stdout",
     "output_type": "stream",
     "text": [
      "X_inference 5\n",
      "num of rows add:5\n",
      "datamart/gold/model_predictions/reg_2018_04_01/\n"
     ]
    },
    {
     "name": "stderr",
     "output_type": "stream",
     "text": [
      "                                                                                \r"
     ]
    },
    {
     "name": "stdout",
     "output_type": "stream",
     "text": [
      "saved to: datamart/gold/model_predictions/reg_2018_04_01/reg_2018_04_01_predictions_2017_01_09.parquet\n",
      "rows added: 5\n",
      "\n",
      "\n",
      "---completed job---\n",
      "\n",
      "\n",
      "execute command: python model_inference.py --snapshotdate \"2017-01-10\" --modelname \"reg_2018_04_01.pkl\"\n"
     ]
    },
    {
     "name": "stderr",
     "output_type": "stream",
     "text": [
      "Setting default log level to \"WARN\".\n",
      "To adjust logging level use sc.setLogLevel(newLevel). For SparkR, use setLogLevel(newLevel).\n",
      "25/06/26 23:35:17 WARN NativeCodeLoader: Unable to load native-hadoop library for your platform... using builtin-java classes where applicable\n",
      "25/06/26 23:35:17 WARN Utils: Service 'SparkUI' could not bind on port 4040. Attempting port 4041.\n",
      "25/06/26 23:35:17 WARN Utils: Service 'SparkUI' could not bind on port 4041. Attempting port 4042.\n"
     ]
    },
    {
     "name": "stdout",
     "output_type": "stream",
     "text": [
      "\n",
      "\n",
      "---starting job---\n",
      "\n",
      "\n",
      "{'model_artefact_filepath': 'model_bank/reg_2018_04_01.pkl',\n",
      " 'model_bank_directory': 'model_bank/',\n",
      " 'model_name': 'reg_2018_04_01.pkl',\n",
      " 'snapshot_date': datetime.datetime(2017, 1, 10, 0, 0),\n",
      " 'snapshot_date_str': '2017-01-10'}\n",
      "Model loaded successfully! model_bank/reg_2018_04_01.pkl\n"
     ]
    },
    {
     "name": "stderr",
     "output_type": "stream",
     "text": [
      "Saving labels:   0%|          | 0/1 [00:00<?, ?it/s]/opt/anaconda3/envs/mle_env/lib/python3.10/site-packages/sklearn/utils/validation.py:2732: UserWarning: X has feature names, but StandardScaler was fitted without feature names\n",
      "  warnings.warn(\n",
      "Saving labels: 100%|██████████| 1/1 [00:02<00:00,  2.76s/it]\n"
     ]
    },
    {
     "name": "stdout",
     "output_type": "stream",
     "text": [
      "X_inference 6\n",
      "num of rows add:6\n",
      "datamart/gold/model_predictions/reg_2018_04_01/\n"
     ]
    },
    {
     "name": "stderr",
     "output_type": "stream",
     "text": [
      "                                                                                \r"
     ]
    },
    {
     "name": "stdout",
     "output_type": "stream",
     "text": [
      "saved to: datamart/gold/model_predictions/reg_2018_04_01/reg_2018_04_01_predictions_2017_01_10.parquet\n",
      "rows added: 6\n",
      "\n",
      "\n",
      "---completed job---\n",
      "\n",
      "\n",
      "execute command: python model_inference.py --snapshotdate \"2017-01-11\" --modelname \"reg_2018_04_01.pkl\"\n"
     ]
    },
    {
     "name": "stderr",
     "output_type": "stream",
     "text": [
      "Setting default log level to \"WARN\".\n",
      "To adjust logging level use sc.setLogLevel(newLevel). For SparkR, use setLogLevel(newLevel).\n",
      "25/06/26 23:35:25 WARN NativeCodeLoader: Unable to load native-hadoop library for your platform... using builtin-java classes where applicable\n",
      "25/06/26 23:35:26 WARN Utils: Service 'SparkUI' could not bind on port 4040. Attempting port 4041.\n",
      "25/06/26 23:35:26 WARN Utils: Service 'SparkUI' could not bind on port 4041. Attempting port 4042.\n"
     ]
    },
    {
     "name": "stdout",
     "output_type": "stream",
     "text": [
      "\n",
      "\n",
      "---starting job---\n",
      "\n",
      "\n",
      "{'model_artefact_filepath': 'model_bank/reg_2018_04_01.pkl',\n",
      " 'model_bank_directory': 'model_bank/',\n",
      " 'model_name': 'reg_2018_04_01.pkl',\n",
      " 'snapshot_date': datetime.datetime(2017, 1, 11, 0, 0),\n",
      " 'snapshot_date_str': '2017-01-11'}\n",
      "Model loaded successfully! model_bank/reg_2018_04_01.pkl\n"
     ]
    },
    {
     "name": "stderr",
     "output_type": "stream",
     "text": [
      "Saving labels:   0%|          | 0/1 [00:00<?, ?it/s]/opt/anaconda3/envs/mle_env/lib/python3.10/site-packages/sklearn/utils/validation.py:2732: UserWarning: X has feature names, but StandardScaler was fitted without feature names\n",
      "  warnings.warn(\n",
      "Saving labels: 100%|██████████| 1/1 [00:02<00:00,  2.74s/it]\n"
     ]
    },
    {
     "name": "stdout",
     "output_type": "stream",
     "text": [
      "X_inference 10\n",
      "num of rows add:10\n",
      "datamart/gold/model_predictions/reg_2018_04_01/\n"
     ]
    },
    {
     "name": "stderr",
     "output_type": "stream",
     "text": [
      "                                                                                \r"
     ]
    },
    {
     "name": "stdout",
     "output_type": "stream",
     "text": [
      "saved to: datamart/gold/model_predictions/reg_2018_04_01/reg_2018_04_01_predictions_2017_01_11.parquet\n",
      "rows added: 10\n",
      "\n",
      "\n",
      "---completed job---\n",
      "\n",
      "\n",
      "execute command: python model_inference.py --snapshotdate \"2017-01-12\" --modelname \"reg_2018_04_01.pkl\"\n"
     ]
    },
    {
     "name": "stderr",
     "output_type": "stream",
     "text": [
      "Setting default log level to \"WARN\".\n",
      "To adjust logging level use sc.setLogLevel(newLevel). For SparkR, use setLogLevel(newLevel).\n",
      "25/06/26 23:35:34 WARN NativeCodeLoader: Unable to load native-hadoop library for your platform... using builtin-java classes where applicable\n",
      "25/06/26 23:35:35 WARN Utils: Service 'SparkUI' could not bind on port 4040. Attempting port 4041.\n",
      "25/06/26 23:35:35 WARN Utils: Service 'SparkUI' could not bind on port 4041. Attempting port 4042.\n"
     ]
    },
    {
     "name": "stdout",
     "output_type": "stream",
     "text": [
      "\n",
      "\n",
      "---starting job---\n",
      "\n",
      "\n",
      "{'model_artefact_filepath': 'model_bank/reg_2018_04_01.pkl',\n",
      " 'model_bank_directory': 'model_bank/',\n",
      " 'model_name': 'reg_2018_04_01.pkl',\n",
      " 'snapshot_date': datetime.datetime(2017, 1, 12, 0, 0),\n",
      " 'snapshot_date_str': '2017-01-12'}\n",
      "Model loaded successfully! model_bank/reg_2018_04_01.pkl\n"
     ]
    },
    {
     "name": "stderr",
     "output_type": "stream",
     "text": [
      "Saving labels:   0%|          | 0/1 [00:00<?, ?it/s]/opt/anaconda3/envs/mle_env/lib/python3.10/site-packages/sklearn/utils/validation.py:2732: UserWarning: X has feature names, but StandardScaler was fitted without feature names\n",
      "  warnings.warn(\n",
      "Saving labels: 100%|██████████| 1/1 [00:02<00:00,  2.63s/it]\n"
     ]
    },
    {
     "name": "stdout",
     "output_type": "stream",
     "text": [
      "X_inference 12\n",
      "num of rows add:12\n",
      "datamart/gold/model_predictions/reg_2018_04_01/\n"
     ]
    },
    {
     "name": "stderr",
     "output_type": "stream",
     "text": [
      "                                                                                \r"
     ]
    },
    {
     "name": "stdout",
     "output_type": "stream",
     "text": [
      "saved to: datamart/gold/model_predictions/reg_2018_04_01/reg_2018_04_01_predictions_2017_01_12.parquet\n",
      "rows added: 12\n",
      "\n",
      "\n",
      "---completed job---\n",
      "\n",
      "\n",
      "execute command: python model_inference.py --snapshotdate \"2017-01-13\" --modelname \"reg_2018_04_01.pkl\"\n"
     ]
    },
    {
     "name": "stderr",
     "output_type": "stream",
     "text": [
      "Setting default log level to \"WARN\".\n",
      "To adjust logging level use sc.setLogLevel(newLevel). For SparkR, use setLogLevel(newLevel).\n",
      "25/06/26 23:35:43 WARN NativeCodeLoader: Unable to load native-hadoop library for your platform... using builtin-java classes where applicable\n",
      "25/06/26 23:35:43 WARN Utils: Service 'SparkUI' could not bind on port 4040. Attempting port 4041.\n",
      "25/06/26 23:35:43 WARN Utils: Service 'SparkUI' could not bind on port 4041. Attempting port 4042.\n"
     ]
    },
    {
     "name": "stdout",
     "output_type": "stream",
     "text": [
      "\n",
      "\n",
      "---starting job---\n",
      "\n",
      "\n",
      "{'model_artefact_filepath': 'model_bank/reg_2018_04_01.pkl',\n",
      " 'model_bank_directory': 'model_bank/',\n",
      " 'model_name': 'reg_2018_04_01.pkl',\n",
      " 'snapshot_date': datetime.datetime(2017, 1, 13, 0, 0),\n",
      " 'snapshot_date_str': '2017-01-13'}\n",
      "Model loaded successfully! model_bank/reg_2018_04_01.pkl\n"
     ]
    },
    {
     "name": "stderr",
     "output_type": "stream",
     "text": [
      "Saving labels:   0%|          | 0/1 [00:00<?, ?it/s]/opt/anaconda3/envs/mle_env/lib/python3.10/site-packages/sklearn/utils/validation.py:2732: UserWarning: X has feature names, but StandardScaler was fitted without feature names\n",
      "  warnings.warn(\n",
      "Saving labels: 100%|██████████| 1/1 [00:02<00:00,  2.80s/it]\n"
     ]
    },
    {
     "name": "stdout",
     "output_type": "stream",
     "text": [
      "X_inference 10\n",
      "num of rows add:10\n",
      "datamart/gold/model_predictions/reg_2018_04_01/\n"
     ]
    },
    {
     "name": "stderr",
     "output_type": "stream",
     "text": [
      "                                                                                \r"
     ]
    },
    {
     "name": "stdout",
     "output_type": "stream",
     "text": [
      "saved to: datamart/gold/model_predictions/reg_2018_04_01/reg_2018_04_01_predictions_2017_01_13.parquet\n",
      "rows added: 10\n",
      "\n",
      "\n",
      "---completed job---\n",
      "\n",
      "\n",
      "execute command: python model_inference.py --snapshotdate \"2017-01-14\" --modelname \"reg_2018_04_01.pkl\"\n"
     ]
    },
    {
     "name": "stderr",
     "output_type": "stream",
     "text": [
      "Setting default log level to \"WARN\".\n",
      "To adjust logging level use sc.setLogLevel(newLevel). For SparkR, use setLogLevel(newLevel).\n",
      "25/06/26 23:35:52 WARN NativeCodeLoader: Unable to load native-hadoop library for your platform... using builtin-java classes where applicable\n",
      "25/06/26 23:35:53 WARN Utils: Service 'SparkUI' could not bind on port 4040. Attempting port 4041.\n",
      "25/06/26 23:35:53 WARN Utils: Service 'SparkUI' could not bind on port 4041. Attempting port 4042.\n"
     ]
    },
    {
     "name": "stdout",
     "output_type": "stream",
     "text": [
      "\n",
      "\n",
      "---starting job---\n",
      "\n",
      "\n",
      "{'model_artefact_filepath': 'model_bank/reg_2018_04_01.pkl',\n",
      " 'model_bank_directory': 'model_bank/',\n",
      " 'model_name': 'reg_2018_04_01.pkl',\n",
      " 'snapshot_date': datetime.datetime(2017, 1, 14, 0, 0),\n",
      " 'snapshot_date_str': '2017-01-14'}\n",
      "Model loaded successfully! model_bank/reg_2018_04_01.pkl\n"
     ]
    },
    {
     "name": "stderr",
     "output_type": "stream",
     "text": [
      "Saving labels:   0%|          | 0/1 [00:00<?, ?it/s]/opt/anaconda3/envs/mle_env/lib/python3.10/site-packages/sklearn/utils/validation.py:2732: UserWarning: X has feature names, but StandardScaler was fitted without feature names\n",
      "  warnings.warn(\n",
      "Saving labels: 100%|██████████| 1/1 [00:02<00:00,  2.67s/it]\n"
     ]
    },
    {
     "name": "stdout",
     "output_type": "stream",
     "text": [
      "X_inference 16\n",
      "num of rows add:16\n",
      "datamart/gold/model_predictions/reg_2018_04_01/\n"
     ]
    },
    {
     "name": "stderr",
     "output_type": "stream",
     "text": [
      "                                                                                \r"
     ]
    },
    {
     "name": "stdout",
     "output_type": "stream",
     "text": [
      "saved to: datamart/gold/model_predictions/reg_2018_04_01/reg_2018_04_01_predictions_2017_01_14.parquet\n",
      "rows added: 16\n",
      "\n",
      "\n",
      "---completed job---\n",
      "\n",
      "\n",
      "execute command: python model_inference.py --snapshotdate \"2017-01-15\" --modelname \"reg_2018_04_01.pkl\"\n"
     ]
    },
    {
     "name": "stderr",
     "output_type": "stream",
     "text": [
      "Setting default log level to \"WARN\".\n",
      "To adjust logging level use sc.setLogLevel(newLevel). For SparkR, use setLogLevel(newLevel).\n",
      "25/06/26 23:36:01 WARN NativeCodeLoader: Unable to load native-hadoop library for your platform... using builtin-java classes where applicable\n",
      "25/06/26 23:36:01 WARN Utils: Service 'SparkUI' could not bind on port 4040. Attempting port 4041.\n",
      "25/06/26 23:36:01 WARN Utils: Service 'SparkUI' could not bind on port 4041. Attempting port 4042.\n"
     ]
    },
    {
     "name": "stdout",
     "output_type": "stream",
     "text": [
      "\n",
      "\n",
      "---starting job---\n",
      "\n",
      "\n",
      "{'model_artefact_filepath': 'model_bank/reg_2018_04_01.pkl',\n",
      " 'model_bank_directory': 'model_bank/',\n",
      " 'model_name': 'reg_2018_04_01.pkl',\n",
      " 'snapshot_date': datetime.datetime(2017, 1, 15, 0, 0),\n",
      " 'snapshot_date_str': '2017-01-15'}\n",
      "Model loaded successfully! model_bank/reg_2018_04_01.pkl\n"
     ]
    },
    {
     "name": "stderr",
     "output_type": "stream",
     "text": [
      "Saving labels:   0%|          | 0/1 [00:00<?, ?it/s]/opt/anaconda3/envs/mle_env/lib/python3.10/site-packages/sklearn/utils/validation.py:2732: UserWarning: X has feature names, but StandardScaler was fitted without feature names\n",
      "  warnings.warn(\n",
      "Saving labels: 100%|██████████| 1/1 [00:02<00:00,  2.77s/it]\n"
     ]
    },
    {
     "name": "stdout",
     "output_type": "stream",
     "text": [
      "X_inference 14\n",
      "num of rows add:14\n",
      "datamart/gold/model_predictions/reg_2018_04_01/\n"
     ]
    },
    {
     "name": "stderr",
     "output_type": "stream",
     "text": [
      "                                                                                \r"
     ]
    },
    {
     "name": "stdout",
     "output_type": "stream",
     "text": [
      "saved to: datamart/gold/model_predictions/reg_2018_04_01/reg_2018_04_01_predictions_2017_01_15.parquet\n",
      "rows added: 14\n",
      "\n",
      "\n",
      "---completed job---\n",
      "\n",
      "\n",
      "execute command: python model_inference.py --snapshotdate \"2017-01-16\" --modelname \"reg_2018_04_01.pkl\"\n"
     ]
    },
    {
     "name": "stderr",
     "output_type": "stream",
     "text": [
      "Setting default log level to \"WARN\".\n",
      "To adjust logging level use sc.setLogLevel(newLevel). For SparkR, use setLogLevel(newLevel).\n",
      "25/06/26 23:36:09 WARN NativeCodeLoader: Unable to load native-hadoop library for your platform... using builtin-java classes where applicable\n",
      "25/06/26 23:36:10 WARN Utils: Service 'SparkUI' could not bind on port 4040. Attempting port 4041.\n",
      "25/06/26 23:36:10 WARN Utils: Service 'SparkUI' could not bind on port 4041. Attempting port 4042.\n"
     ]
    },
    {
     "name": "stdout",
     "output_type": "stream",
     "text": [
      "\n",
      "\n",
      "---starting job---\n",
      "\n",
      "\n",
      "{'model_artefact_filepath': 'model_bank/reg_2018_04_01.pkl',\n",
      " 'model_bank_directory': 'model_bank/',\n",
      " 'model_name': 'reg_2018_04_01.pkl',\n",
      " 'snapshot_date': datetime.datetime(2017, 1, 16, 0, 0),\n",
      " 'snapshot_date_str': '2017-01-16'}\n",
      "Model loaded successfully! model_bank/reg_2018_04_01.pkl\n"
     ]
    },
    {
     "name": "stderr",
     "output_type": "stream",
     "text": [
      "Saving labels:   0%|          | 0/1 [00:00<?, ?it/s]/opt/anaconda3/envs/mle_env/lib/python3.10/site-packages/sklearn/utils/validation.py:2732: UserWarning: X has feature names, but StandardScaler was fitted without feature names\n",
      "  warnings.warn(\n",
      "Saving labels: 100%|██████████| 1/1 [00:02<00:00,  2.65s/it]\n"
     ]
    },
    {
     "name": "stdout",
     "output_type": "stream",
     "text": [
      "X_inference 18\n",
      "num of rows add:18\n",
      "datamart/gold/model_predictions/reg_2018_04_01/\n"
     ]
    },
    {
     "name": "stderr",
     "output_type": "stream",
     "text": [
      "                                                                                \r"
     ]
    },
    {
     "name": "stdout",
     "output_type": "stream",
     "text": [
      "saved to: datamart/gold/model_predictions/reg_2018_04_01/reg_2018_04_01_predictions_2017_01_16.parquet\n",
      "rows added: 18\n",
      "\n",
      "\n",
      "---completed job---\n",
      "\n",
      "\n",
      "execute command: python model_inference.py --snapshotdate \"2017-01-17\" --modelname \"reg_2018_04_01.pkl\"\n"
     ]
    },
    {
     "name": "stderr",
     "output_type": "stream",
     "text": [
      "Setting default log level to \"WARN\".\n",
      "To adjust logging level use sc.setLogLevel(newLevel). For SparkR, use setLogLevel(newLevel).\n",
      "25/06/26 23:36:18 WARN NativeCodeLoader: Unable to load native-hadoop library for your platform... using builtin-java classes where applicable\n",
      "25/06/26 23:36:18 WARN Utils: Service 'SparkUI' could not bind on port 4040. Attempting port 4041.\n",
      "25/06/26 23:36:18 WARN Utils: Service 'SparkUI' could not bind on port 4041. Attempting port 4042.\n"
     ]
    },
    {
     "name": "stdout",
     "output_type": "stream",
     "text": [
      "\n",
      "\n",
      "---starting job---\n",
      "\n",
      "\n",
      "{'model_artefact_filepath': 'model_bank/reg_2018_04_01.pkl',\n",
      " 'model_bank_directory': 'model_bank/',\n",
      " 'model_name': 'reg_2018_04_01.pkl',\n",
      " 'snapshot_date': datetime.datetime(2017, 1, 17, 0, 0),\n",
      " 'snapshot_date_str': '2017-01-17'}\n",
      "Model loaded successfully! model_bank/reg_2018_04_01.pkl\n"
     ]
    },
    {
     "name": "stderr",
     "output_type": "stream",
     "text": [
      "Saving labels:   0%|          | 0/1 [00:00<?, ?it/s]/opt/anaconda3/envs/mle_env/lib/python3.10/site-packages/sklearn/utils/validation.py:2732: UserWarning: X has feature names, but StandardScaler was fitted without feature names\n",
      "  warnings.warn(\n",
      "Saving labels: 100%|██████████| 1/1 [00:02<00:00,  2.64s/it]\n"
     ]
    },
    {
     "name": "stdout",
     "output_type": "stream",
     "text": [
      "X_inference 32\n",
      "num of rows add:32\n",
      "datamart/gold/model_predictions/reg_2018_04_01/\n"
     ]
    },
    {
     "name": "stderr",
     "output_type": "stream",
     "text": [
      "                                                                                \r"
     ]
    },
    {
     "name": "stdout",
     "output_type": "stream",
     "text": [
      "saved to: datamart/gold/model_predictions/reg_2018_04_01/reg_2018_04_01_predictions_2017_01_17.parquet\n",
      "rows added: 32\n",
      "\n",
      "\n",
      "---completed job---\n",
      "\n",
      "\n",
      "execute command: python model_inference.py --snapshotdate \"2017-01-18\" --modelname \"reg_2018_04_01.pkl\"\n"
     ]
    },
    {
     "name": "stderr",
     "output_type": "stream",
     "text": [
      "Setting default log level to \"WARN\".\n",
      "To adjust logging level use sc.setLogLevel(newLevel). For SparkR, use setLogLevel(newLevel).\n",
      "25/06/26 23:36:26 WARN NativeCodeLoader: Unable to load native-hadoop library for your platform... using builtin-java classes where applicable\n",
      "25/06/26 23:36:27 WARN Utils: Service 'SparkUI' could not bind on port 4040. Attempting port 4041.\n",
      "25/06/26 23:36:27 WARN Utils: Service 'SparkUI' could not bind on port 4041. Attempting port 4042.\n"
     ]
    },
    {
     "name": "stdout",
     "output_type": "stream",
     "text": [
      "\n",
      "\n",
      "---starting job---\n",
      "\n",
      "\n",
      "{'model_artefact_filepath': 'model_bank/reg_2018_04_01.pkl',\n",
      " 'model_bank_directory': 'model_bank/',\n",
      " 'model_name': 'reg_2018_04_01.pkl',\n",
      " 'snapshot_date': datetime.datetime(2017, 1, 18, 0, 0),\n",
      " 'snapshot_date_str': '2017-01-18'}\n",
      "Model loaded successfully! model_bank/reg_2018_04_01.pkl\n"
     ]
    },
    {
     "name": "stderr",
     "output_type": "stream",
     "text": [
      "Saving labels:   0%|          | 0/1 [00:00<?, ?it/s]/opt/anaconda3/envs/mle_env/lib/python3.10/site-packages/sklearn/utils/validation.py:2732: UserWarning: X has feature names, but StandardScaler was fitted without feature names\n",
      "  warnings.warn(\n",
      "Saving labels: 100%|██████████| 1/1 [00:02<00:00,  2.67s/it]\n"
     ]
    },
    {
     "name": "stdout",
     "output_type": "stream",
     "text": [
      "X_inference 30\n",
      "num of rows add:30\n",
      "datamart/gold/model_predictions/reg_2018_04_01/\n"
     ]
    },
    {
     "name": "stderr",
     "output_type": "stream",
     "text": [
      "                                                                                \r"
     ]
    },
    {
     "name": "stdout",
     "output_type": "stream",
     "text": [
      "saved to: datamart/gold/model_predictions/reg_2018_04_01/reg_2018_04_01_predictions_2017_01_18.parquet\n",
      "rows added: 30\n",
      "\n",
      "\n",
      "---completed job---\n",
      "\n",
      "\n",
      "execute command: python model_inference.py --snapshotdate \"2017-01-19\" --modelname \"reg_2018_04_01.pkl\"\n"
     ]
    },
    {
     "name": "stderr",
     "output_type": "stream",
     "text": [
      "Setting default log level to \"WARN\".\n",
      "To adjust logging level use sc.setLogLevel(newLevel). For SparkR, use setLogLevel(newLevel).\n",
      "25/06/26 23:36:35 WARN NativeCodeLoader: Unable to load native-hadoop library for your platform... using builtin-java classes where applicable\n",
      "25/06/26 23:36:35 WARN Utils: Service 'SparkUI' could not bind on port 4040. Attempting port 4041.\n",
      "25/06/26 23:36:35 WARN Utils: Service 'SparkUI' could not bind on port 4041. Attempting port 4042.\n"
     ]
    },
    {
     "name": "stdout",
     "output_type": "stream",
     "text": [
      "\n",
      "\n",
      "---starting job---\n",
      "\n",
      "\n",
      "{'model_artefact_filepath': 'model_bank/reg_2018_04_01.pkl',\n",
      " 'model_bank_directory': 'model_bank/',\n",
      " 'model_name': 'reg_2018_04_01.pkl',\n",
      " 'snapshot_date': datetime.datetime(2017, 1, 19, 0, 0),\n",
      " 'snapshot_date_str': '2017-01-19'}\n",
      "Model loaded successfully! model_bank/reg_2018_04_01.pkl\n"
     ]
    },
    {
     "name": "stderr",
     "output_type": "stream",
     "text": [
      "Saving labels:   0%|          | 0/1 [00:00<?, ?it/s]/opt/anaconda3/envs/mle_env/lib/python3.10/site-packages/sklearn/utils/validation.py:2732: UserWarning: X has feature names, but StandardScaler was fitted without feature names\n",
      "  warnings.warn(\n",
      "Saving labels: 100%|██████████| 1/1 [00:02<00:00,  2.61s/it]\n"
     ]
    },
    {
     "name": "stdout",
     "output_type": "stream",
     "text": [
      "X_inference 29\n",
      "num of rows add:29\n",
      "datamart/gold/model_predictions/reg_2018_04_01/\n"
     ]
    },
    {
     "name": "stderr",
     "output_type": "stream",
     "text": [
      "                                                                                \r"
     ]
    },
    {
     "name": "stdout",
     "output_type": "stream",
     "text": [
      "saved to: datamart/gold/model_predictions/reg_2018_04_01/reg_2018_04_01_predictions_2017_01_19.parquet\n",
      "rows added: 29\n",
      "\n",
      "\n",
      "---completed job---\n",
      "\n",
      "\n",
      "execute command: python model_inference.py --snapshotdate \"2017-01-20\" --modelname \"reg_2018_04_01.pkl\"\n"
     ]
    },
    {
     "name": "stderr",
     "output_type": "stream",
     "text": [
      "Setting default log level to \"WARN\".\n",
      "To adjust logging level use sc.setLogLevel(newLevel). For SparkR, use setLogLevel(newLevel).\n",
      "25/06/26 23:36:43 WARN NativeCodeLoader: Unable to load native-hadoop library for your platform... using builtin-java classes where applicable\n",
      "25/06/26 23:36:44 WARN Utils: Service 'SparkUI' could not bind on port 4040. Attempting port 4041.\n",
      "25/06/26 23:36:44 WARN Utils: Service 'SparkUI' could not bind on port 4041. Attempting port 4042.\n"
     ]
    },
    {
     "name": "stdout",
     "output_type": "stream",
     "text": [
      "\n",
      "\n",
      "---starting job---\n",
      "\n",
      "\n",
      "{'model_artefact_filepath': 'model_bank/reg_2018_04_01.pkl',\n",
      " 'model_bank_directory': 'model_bank/',\n",
      " 'model_name': 'reg_2018_04_01.pkl',\n",
      " 'snapshot_date': datetime.datetime(2017, 1, 20, 0, 0),\n",
      " 'snapshot_date_str': '2017-01-20'}\n",
      "Model loaded successfully! model_bank/reg_2018_04_01.pkl\n"
     ]
    },
    {
     "name": "stderr",
     "output_type": "stream",
     "text": [
      "/opt/anaconda3/envs/mle_env/lib/python3.10/site-packages/sklearn/utils/validation.py:2732: UserWarning: X has feature names, but StandardScaler was fitted without feature names\n",
      "  warnings.warn(\n",
      "Saving labels: 100%|██████████| 1/1 [00:03<00:00,  3.09s/it]\n"
     ]
    },
    {
     "name": "stdout",
     "output_type": "stream",
     "text": [
      "X_inference 28\n",
      "num of rows add:28\n",
      "datamart/gold/model_predictions/reg_2018_04_01/\n"
     ]
    },
    {
     "name": "stderr",
     "output_type": "stream",
     "text": [
      "                                                                                \r"
     ]
    },
    {
     "name": "stdout",
     "output_type": "stream",
     "text": [
      "saved to: datamart/gold/model_predictions/reg_2018_04_01/reg_2018_04_01_predictions_2017_01_20.parquet\n",
      "rows added: 28\n",
      "\n",
      "\n",
      "---completed job---\n",
      "\n",
      "\n",
      "execute command: python model_inference.py --snapshotdate \"2017-01-21\" --modelname \"reg_2018_04_01.pkl\"\n"
     ]
    },
    {
     "name": "stderr",
     "output_type": "stream",
     "text": [
      "Setting default log level to \"WARN\".\n",
      "To adjust logging level use sc.setLogLevel(newLevel). For SparkR, use setLogLevel(newLevel).\n",
      "25/06/26 23:36:52 WARN NativeCodeLoader: Unable to load native-hadoop library for your platform... using builtin-java classes where applicable\n",
      "25/06/26 23:36:53 WARN Utils: Service 'SparkUI' could not bind on port 4040. Attempting port 4041.\n",
      "25/06/26 23:36:53 WARN Utils: Service 'SparkUI' could not bind on port 4041. Attempting port 4042.\n"
     ]
    },
    {
     "name": "stdout",
     "output_type": "stream",
     "text": [
      "\n",
      "\n",
      "---starting job---\n",
      "\n",
      "\n",
      "{'model_artefact_filepath': 'model_bank/reg_2018_04_01.pkl',\n",
      " 'model_bank_directory': 'model_bank/',\n",
      " 'model_name': 'reg_2018_04_01.pkl',\n",
      " 'snapshot_date': datetime.datetime(2017, 1, 21, 0, 0),\n",
      " 'snapshot_date_str': '2017-01-21'}\n",
      "Model loaded successfully! model_bank/reg_2018_04_01.pkl\n"
     ]
    },
    {
     "name": "stderr",
     "output_type": "stream",
     "text": [
      "Saving labels:   0%|          | 0/1 [00:00<?, ?it/s]/opt/anaconda3/envs/mle_env/lib/python3.10/site-packages/sklearn/utils/validation.py:2732: UserWarning: X has feature names, but StandardScaler was fitted without feature names\n",
      "  warnings.warn(\n",
      "Saving labels: 100%|██████████| 1/1 [00:02<00:00,  2.98s/it]\n"
     ]
    },
    {
     "name": "stdout",
     "output_type": "stream",
     "text": [
      "X_inference 22\n",
      "num of rows add:22\n",
      "datamart/gold/model_predictions/reg_2018_04_01/\n"
     ]
    },
    {
     "name": "stderr",
     "output_type": "stream",
     "text": [
      "                                                                                \r"
     ]
    },
    {
     "name": "stdout",
     "output_type": "stream",
     "text": [
      "saved to: datamart/gold/model_predictions/reg_2018_04_01/reg_2018_04_01_predictions_2017_01_21.parquet\n",
      "rows added: 22\n",
      "\n",
      "\n",
      "---completed job---\n",
      "\n",
      "\n",
      "execute command: python model_inference.py --snapshotdate \"2017-01-22\" --modelname \"reg_2018_04_01.pkl\"\n"
     ]
    },
    {
     "name": "stderr",
     "output_type": "stream",
     "text": [
      "Setting default log level to \"WARN\".\n",
      "To adjust logging level use sc.setLogLevel(newLevel). For SparkR, use setLogLevel(newLevel).\n",
      "25/06/26 23:37:02 WARN NativeCodeLoader: Unable to load native-hadoop library for your platform... using builtin-java classes where applicable\n",
      "25/06/26 23:37:02 WARN Utils: Service 'SparkUI' could not bind on port 4040. Attempting port 4041.\n",
      "25/06/26 23:37:02 WARN Utils: Service 'SparkUI' could not bind on port 4041. Attempting port 4042.\n"
     ]
    },
    {
     "name": "stdout",
     "output_type": "stream",
     "text": [
      "\n",
      "\n",
      "---starting job---\n",
      "\n",
      "\n",
      "{'model_artefact_filepath': 'model_bank/reg_2018_04_01.pkl',\n",
      " 'model_bank_directory': 'model_bank/',\n",
      " 'model_name': 'reg_2018_04_01.pkl',\n",
      " 'snapshot_date': datetime.datetime(2017, 1, 22, 0, 0),\n",
      " 'snapshot_date_str': '2017-01-22'}\n",
      "Model loaded successfully! model_bank/reg_2018_04_01.pkl\n"
     ]
    },
    {
     "name": "stderr",
     "output_type": "stream",
     "text": [
      "/opt/anaconda3/envs/mle_env/lib/python3.10/site-packages/sklearn/utils/validation.py:2732: UserWarning: X has feature names, but StandardScaler was fitted without feature names\n",
      "  warnings.warn(\n",
      "Saving labels: 100%|██████████| 1/1 [00:02<00:00,  2.71s/it]\n"
     ]
    },
    {
     "name": "stdout",
     "output_type": "stream",
     "text": [
      "X_inference 30\n",
      "num of rows add:30\n",
      "datamart/gold/model_predictions/reg_2018_04_01/\n"
     ]
    },
    {
     "name": "stderr",
     "output_type": "stream",
     "text": [
      "                                                                                \r"
     ]
    },
    {
     "name": "stdout",
     "output_type": "stream",
     "text": [
      "saved to: datamart/gold/model_predictions/reg_2018_04_01/reg_2018_04_01_predictions_2017_01_22.parquet\n",
      "rows added: 30\n",
      "\n",
      "\n",
      "---completed job---\n",
      "\n",
      "\n",
      "execute command: python model_inference.py --snapshotdate \"2017-01-23\" --modelname \"reg_2018_04_01.pkl\"\n"
     ]
    },
    {
     "name": "stderr",
     "output_type": "stream",
     "text": [
      "Setting default log level to \"WARN\".\n",
      "To adjust logging level use sc.setLogLevel(newLevel). For SparkR, use setLogLevel(newLevel).\n",
      "25/06/26 23:37:12 WARN NativeCodeLoader: Unable to load native-hadoop library for your platform... using builtin-java classes where applicable\n",
      "25/06/26 23:37:13 WARN Utils: Service 'SparkUI' could not bind on port 4040. Attempting port 4041.\n",
      "25/06/26 23:37:13 WARN Utils: Service 'SparkUI' could not bind on port 4041. Attempting port 4042.\n"
     ]
    },
    {
     "name": "stdout",
     "output_type": "stream",
     "text": [
      "\n",
      "\n",
      "---starting job---\n",
      "\n",
      "\n",
      "{'model_artefact_filepath': 'model_bank/reg_2018_04_01.pkl',\n",
      " 'model_bank_directory': 'model_bank/',\n",
      " 'model_name': 'reg_2018_04_01.pkl',\n",
      " 'snapshot_date': datetime.datetime(2017, 1, 23, 0, 0),\n",
      " 'snapshot_date_str': '2017-01-23'}\n",
      "Model loaded successfully! model_bank/reg_2018_04_01.pkl\n"
     ]
    },
    {
     "name": "stderr",
     "output_type": "stream",
     "text": [
      "Saving labels:   0%|          | 0/1 [00:00<?, ?it/s]/opt/anaconda3/envs/mle_env/lib/python3.10/site-packages/sklearn/utils/validation.py:2732: UserWarning: X has feature names, but StandardScaler was fitted without feature names\n",
      "  warnings.warn(\n",
      "Saving labels: 100%|██████████| 1/1 [00:02<00:00,  2.72s/it]\n"
     ]
    },
    {
     "name": "stdout",
     "output_type": "stream",
     "text": [
      "X_inference 36\n",
      "num of rows add:36\n",
      "datamart/gold/model_predictions/reg_2018_04_01/\n"
     ]
    },
    {
     "name": "stderr",
     "output_type": "stream",
     "text": [
      "                                                                                \r"
     ]
    },
    {
     "name": "stdout",
     "output_type": "stream",
     "text": [
      "saved to: datamart/gold/model_predictions/reg_2018_04_01/reg_2018_04_01_predictions_2017_01_23.parquet\n",
      "rows added: 36\n",
      "\n",
      "\n",
      "---completed job---\n",
      "\n",
      "\n",
      "execute command: python model_inference.py --snapshotdate \"2017-01-24\" --modelname \"reg_2018_04_01.pkl\"\n"
     ]
    },
    {
     "name": "stderr",
     "output_type": "stream",
     "text": [
      "Setting default log level to \"WARN\".\n",
      "To adjust logging level use sc.setLogLevel(newLevel). For SparkR, use setLogLevel(newLevel).\n",
      "25/06/26 23:37:21 WARN NativeCodeLoader: Unable to load native-hadoop library for your platform... using builtin-java classes where applicable\n",
      "25/06/26 23:37:21 WARN Utils: Service 'SparkUI' could not bind on port 4040. Attempting port 4041.\n",
      "25/06/26 23:37:21 WARN Utils: Service 'SparkUI' could not bind on port 4041. Attempting port 4042.\n"
     ]
    },
    {
     "name": "stdout",
     "output_type": "stream",
     "text": [
      "\n",
      "\n",
      "---starting job---\n",
      "\n",
      "\n",
      "{'model_artefact_filepath': 'model_bank/reg_2018_04_01.pkl',\n",
      " 'model_bank_directory': 'model_bank/',\n",
      " 'model_name': 'reg_2018_04_01.pkl',\n",
      " 'snapshot_date': datetime.datetime(2017, 1, 24, 0, 0),\n",
      " 'snapshot_date_str': '2017-01-24'}\n",
      "Model loaded successfully! model_bank/reg_2018_04_01.pkl\n"
     ]
    },
    {
     "name": "stderr",
     "output_type": "stream",
     "text": [
      "Saving labels:   0%|          | 0/1 [00:00<?, ?it/s]/opt/anaconda3/envs/mle_env/lib/python3.10/site-packages/sklearn/utils/validation.py:2732: UserWarning: X has feature names, but StandardScaler was fitted without feature names\n",
      "  warnings.warn(\n",
      "Saving labels: 100%|██████████| 1/1 [00:02<00:00,  2.60s/it]\n"
     ]
    },
    {
     "name": "stdout",
     "output_type": "stream",
     "text": [
      "X_inference 38\n",
      "num of rows add:38\n",
      "datamart/gold/model_predictions/reg_2018_04_01/\n"
     ]
    },
    {
     "name": "stderr",
     "output_type": "stream",
     "text": [
      "                                                                                \r"
     ]
    },
    {
     "name": "stdout",
     "output_type": "stream",
     "text": [
      "saved to: datamart/gold/model_predictions/reg_2018_04_01/reg_2018_04_01_predictions_2017_01_24.parquet\n",
      "rows added: 38\n",
      "\n",
      "\n",
      "---completed job---\n",
      "\n",
      "\n",
      "execute command: python model_inference.py --snapshotdate \"2017-01-25\" --modelname \"reg_2018_04_01.pkl\"\n"
     ]
    },
    {
     "name": "stderr",
     "output_type": "stream",
     "text": [
      "Setting default log level to \"WARN\".\n",
      "To adjust logging level use sc.setLogLevel(newLevel). For SparkR, use setLogLevel(newLevel).\n",
      "25/06/26 23:37:29 WARN NativeCodeLoader: Unable to load native-hadoop library for your platform... using builtin-java classes where applicable\n",
      "25/06/26 23:37:30 WARN Utils: Service 'SparkUI' could not bind on port 4040. Attempting port 4041.\n",
      "25/06/26 23:37:30 WARN Utils: Service 'SparkUI' could not bind on port 4041. Attempting port 4042.\n"
     ]
    },
    {
     "name": "stdout",
     "output_type": "stream",
     "text": [
      "\n",
      "\n",
      "---starting job---\n",
      "\n",
      "\n",
      "{'model_artefact_filepath': 'model_bank/reg_2018_04_01.pkl',\n",
      " 'model_bank_directory': 'model_bank/',\n",
      " 'model_name': 'reg_2018_04_01.pkl',\n",
      " 'snapshot_date': datetime.datetime(2017, 1, 25, 0, 0),\n",
      " 'snapshot_date_str': '2017-01-25'}\n",
      "Model loaded successfully! model_bank/reg_2018_04_01.pkl\n"
     ]
    },
    {
     "name": "stderr",
     "output_type": "stream",
     "text": [
      "Saving labels:   0%|          | 0/1 [00:00<?, ?it/s]/opt/anaconda3/envs/mle_env/lib/python3.10/site-packages/sklearn/utils/validation.py:2732: UserWarning: X has feature names, but StandardScaler was fitted without feature names\n",
      "  warnings.warn(\n",
      "Saving labels: 100%|██████████| 1/1 [00:02<00:00,  2.66s/it]\n"
     ]
    },
    {
     "name": "stdout",
     "output_type": "stream",
     "text": [
      "X_inference 57\n",
      "num of rows add:57\n",
      "datamart/gold/model_predictions/reg_2018_04_01/\n"
     ]
    },
    {
     "name": "stderr",
     "output_type": "stream",
     "text": [
      "                                                                                \r"
     ]
    },
    {
     "name": "stdout",
     "output_type": "stream",
     "text": [
      "saved to: datamart/gold/model_predictions/reg_2018_04_01/reg_2018_04_01_predictions_2017_01_25.parquet\n",
      "rows added: 57\n",
      "\n",
      "\n",
      "---completed job---\n",
      "\n",
      "\n",
      "execute command: python model_inference.py --snapshotdate \"2017-01-26\" --modelname \"reg_2018_04_01.pkl\"\n"
     ]
    },
    {
     "name": "stderr",
     "output_type": "stream",
     "text": [
      "Setting default log level to \"WARN\".\n",
      "To adjust logging level use sc.setLogLevel(newLevel). For SparkR, use setLogLevel(newLevel).\n",
      "25/06/26 23:37:37 WARN NativeCodeLoader: Unable to load native-hadoop library for your platform... using builtin-java classes where applicable\n",
      "25/06/26 23:37:38 WARN Utils: Service 'SparkUI' could not bind on port 4040. Attempting port 4041.\n",
      "25/06/26 23:37:38 WARN Utils: Service 'SparkUI' could not bind on port 4041. Attempting port 4042.\n"
     ]
    },
    {
     "name": "stdout",
     "output_type": "stream",
     "text": [
      "\n",
      "\n",
      "---starting job---\n",
      "\n",
      "\n",
      "{'model_artefact_filepath': 'model_bank/reg_2018_04_01.pkl',\n",
      " 'model_bank_directory': 'model_bank/',\n",
      " 'model_name': 'reg_2018_04_01.pkl',\n",
      " 'snapshot_date': datetime.datetime(2017, 1, 26, 0, 0),\n",
      " 'snapshot_date_str': '2017-01-26'}\n",
      "Model loaded successfully! model_bank/reg_2018_04_01.pkl\n"
     ]
    },
    {
     "name": "stderr",
     "output_type": "stream",
     "text": [
      "Saving labels:   0%|          | 0/1 [00:00<?, ?it/s]/opt/anaconda3/envs/mle_env/lib/python3.10/site-packages/sklearn/utils/validation.py:2732: UserWarning: X has feature names, but StandardScaler was fitted without feature names\n",
      "  warnings.warn(\n",
      "Saving labels: 100%|██████████| 1/1 [00:02<00:00,  2.57s/it]\n"
     ]
    },
    {
     "name": "stdout",
     "output_type": "stream",
     "text": [
      "X_inference 82\n",
      "num of rows add:82\n",
      "datamart/gold/model_predictions/reg_2018_04_01/\n"
     ]
    },
    {
     "name": "stderr",
     "output_type": "stream",
     "text": [
      "                                                                                \r"
     ]
    },
    {
     "name": "stdout",
     "output_type": "stream",
     "text": [
      "saved to: datamart/gold/model_predictions/reg_2018_04_01/reg_2018_04_01_predictions_2017_01_26.parquet\n",
      "rows added: 82\n",
      "\n",
      "\n",
      "---completed job---\n",
      "\n",
      "\n",
      "execute command: python model_inference.py --snapshotdate \"2017-01-27\" --modelname \"reg_2018_04_01.pkl\"\n"
     ]
    },
    {
     "name": "stderr",
     "output_type": "stream",
     "text": [
      "Setting default log level to \"WARN\".\n",
      "To adjust logging level use sc.setLogLevel(newLevel). For SparkR, use setLogLevel(newLevel).\n",
      "25/06/26 23:37:46 WARN NativeCodeLoader: Unable to load native-hadoop library for your platform... using builtin-java classes where applicable\n",
      "25/06/26 23:37:46 WARN Utils: Service 'SparkUI' could not bind on port 4040. Attempting port 4041.\n",
      "25/06/26 23:37:46 WARN Utils: Service 'SparkUI' could not bind on port 4041. Attempting port 4042.\n"
     ]
    },
    {
     "name": "stdout",
     "output_type": "stream",
     "text": [
      "\n",
      "\n",
      "---starting job---\n",
      "\n",
      "\n",
      "{'model_artefact_filepath': 'model_bank/reg_2018_04_01.pkl',\n",
      " 'model_bank_directory': 'model_bank/',\n",
      " 'model_name': 'reg_2018_04_01.pkl',\n",
      " 'snapshot_date': datetime.datetime(2017, 1, 27, 0, 0),\n",
      " 'snapshot_date_str': '2017-01-27'}\n",
      "Model loaded successfully! model_bank/reg_2018_04_01.pkl\n"
     ]
    },
    {
     "name": "stderr",
     "output_type": "stream",
     "text": [
      "Saving labels:   0%|          | 0/1 [00:00<?, ?it/s]/opt/anaconda3/envs/mle_env/lib/python3.10/site-packages/sklearn/utils/validation.py:2732: UserWarning: X has feature names, but StandardScaler was fitted without feature names\n",
      "  warnings.warn(\n",
      "Saving labels: 100%|██████████| 1/1 [00:02<00:00,  2.69s/it]\n"
     ]
    },
    {
     "name": "stdout",
     "output_type": "stream",
     "text": [
      "X_inference 59\n",
      "num of rows add:59\n",
      "datamart/gold/model_predictions/reg_2018_04_01/\n"
     ]
    },
    {
     "name": "stderr",
     "output_type": "stream",
     "text": [
      "                                                                                \r"
     ]
    },
    {
     "name": "stdout",
     "output_type": "stream",
     "text": [
      "saved to: datamart/gold/model_predictions/reg_2018_04_01/reg_2018_04_01_predictions_2017_01_27.parquet\n",
      "rows added: 59\n",
      "\n",
      "\n",
      "---completed job---\n",
      "\n",
      "\n",
      "execute command: python model_inference.py --snapshotdate \"2017-01-28\" --modelname \"reg_2018_04_01.pkl\"\n"
     ]
    },
    {
     "name": "stderr",
     "output_type": "stream",
     "text": [
      "Setting default log level to \"WARN\".\n",
      "To adjust logging level use sc.setLogLevel(newLevel). For SparkR, use setLogLevel(newLevel).\n",
      "25/06/26 23:37:54 WARN NativeCodeLoader: Unable to load native-hadoop library for your platform... using builtin-java classes where applicable\n",
      "25/06/26 23:37:55 WARN Utils: Service 'SparkUI' could not bind on port 4040. Attempting port 4041.\n",
      "25/06/26 23:37:55 WARN Utils: Service 'SparkUI' could not bind on port 4041. Attempting port 4042.\n"
     ]
    },
    {
     "name": "stdout",
     "output_type": "stream",
     "text": [
      "\n",
      "\n",
      "---starting job---\n",
      "\n",
      "\n",
      "{'model_artefact_filepath': 'model_bank/reg_2018_04_01.pkl',\n",
      " 'model_bank_directory': 'model_bank/',\n",
      " 'model_name': 'reg_2018_04_01.pkl',\n",
      " 'snapshot_date': datetime.datetime(2017, 1, 28, 0, 0),\n",
      " 'snapshot_date_str': '2017-01-28'}\n",
      "Model loaded successfully! model_bank/reg_2018_04_01.pkl\n"
     ]
    },
    {
     "name": "stderr",
     "output_type": "stream",
     "text": [
      "Saving labels:   0%|          | 0/1 [00:00<?, ?it/s]/opt/anaconda3/envs/mle_env/lib/python3.10/site-packages/sklearn/utils/validation.py:2732: UserWarning: X has feature names, but StandardScaler was fitted without feature names\n",
      "  warnings.warn(\n",
      "Saving labels: 100%|██████████| 1/1 [00:02<00:00,  2.71s/it]\n"
     ]
    },
    {
     "name": "stdout",
     "output_type": "stream",
     "text": [
      "X_inference 28\n",
      "num of rows add:28\n",
      "datamart/gold/model_predictions/reg_2018_04_01/\n"
     ]
    },
    {
     "name": "stderr",
     "output_type": "stream",
     "text": [
      "                                                                                \r"
     ]
    },
    {
     "name": "stdout",
     "output_type": "stream",
     "text": [
      "saved to: datamart/gold/model_predictions/reg_2018_04_01/reg_2018_04_01_predictions_2017_01_28.parquet\n",
      "rows added: 28\n",
      "\n",
      "\n",
      "---completed job---\n",
      "\n",
      "\n",
      "execute command: python model_inference.py --snapshotdate \"2017-01-29\" --modelname \"reg_2018_04_01.pkl\"\n"
     ]
    },
    {
     "name": "stderr",
     "output_type": "stream",
     "text": [
      "Setting default log level to \"WARN\".\n",
      "To adjust logging level use sc.setLogLevel(newLevel). For SparkR, use setLogLevel(newLevel).\n",
      "25/06/26 23:38:03 WARN NativeCodeLoader: Unable to load native-hadoop library for your platform... using builtin-java classes where applicable\n",
      "25/06/26 23:38:03 WARN Utils: Service 'SparkUI' could not bind on port 4040. Attempting port 4041.\n",
      "25/06/26 23:38:03 WARN Utils: Service 'SparkUI' could not bind on port 4041. Attempting port 4042.\n"
     ]
    },
    {
     "name": "stdout",
     "output_type": "stream",
     "text": [
      "\n",
      "\n",
      "---starting job---\n",
      "\n",
      "\n",
      "{'model_artefact_filepath': 'model_bank/reg_2018_04_01.pkl',\n",
      " 'model_bank_directory': 'model_bank/',\n",
      " 'model_name': 'reg_2018_04_01.pkl',\n",
      " 'snapshot_date': datetime.datetime(2017, 1, 29, 0, 0),\n",
      " 'snapshot_date_str': '2017-01-29'}\n",
      "Model loaded successfully! model_bank/reg_2018_04_01.pkl\n"
     ]
    },
    {
     "name": "stderr",
     "output_type": "stream",
     "text": [
      "/opt/anaconda3/envs/mle_env/lib/python3.10/site-packages/sklearn/utils/validation.py:2732: UserWarning: X has feature names, but StandardScaler was fitted without feature names\n",
      "  warnings.warn(\n",
      "Saving labels: 100%|██████████| 1/1 [00:02<00:00,  2.75s/it]\n"
     ]
    },
    {
     "name": "stdout",
     "output_type": "stream",
     "text": [
      "X_inference 31\n",
      "num of rows add:31\n",
      "datamart/gold/model_predictions/reg_2018_04_01/\n"
     ]
    },
    {
     "name": "stderr",
     "output_type": "stream",
     "text": [
      "                                                                                \r"
     ]
    },
    {
     "name": "stdout",
     "output_type": "stream",
     "text": [
      "saved to: datamart/gold/model_predictions/reg_2018_04_01/reg_2018_04_01_predictions_2017_01_29.parquet\n",
      "rows added: 31\n",
      "\n",
      "\n",
      "---completed job---\n",
      "\n",
      "\n",
      "execute command: python model_inference.py --snapshotdate \"2017-01-30\" --modelname \"reg_2018_04_01.pkl\"\n"
     ]
    },
    {
     "name": "stderr",
     "output_type": "stream",
     "text": [
      "Setting default log level to \"WARN\".\n",
      "To adjust logging level use sc.setLogLevel(newLevel). For SparkR, use setLogLevel(newLevel).\n",
      "25/06/26 23:38:12 WARN NativeCodeLoader: Unable to load native-hadoop library for your platform... using builtin-java classes where applicable\n",
      "25/06/26 23:38:12 WARN Utils: Service 'SparkUI' could not bind on port 4040. Attempting port 4041.\n",
      "25/06/26 23:38:12 WARN Utils: Service 'SparkUI' could not bind on port 4041. Attempting port 4042.\n"
     ]
    },
    {
     "name": "stdout",
     "output_type": "stream",
     "text": [
      "\n",
      "\n",
      "---starting job---\n",
      "\n",
      "\n",
      "{'model_artefact_filepath': 'model_bank/reg_2018_04_01.pkl',\n",
      " 'model_bank_directory': 'model_bank/',\n",
      " 'model_name': 'reg_2018_04_01.pkl',\n",
      " 'snapshot_date': datetime.datetime(2017, 1, 30, 0, 0),\n",
      " 'snapshot_date_str': '2017-01-30'}\n",
      "Model loaded successfully! model_bank/reg_2018_04_01.pkl\n"
     ]
    },
    {
     "name": "stderr",
     "output_type": "stream",
     "text": [
      "Saving labels:   0%|          | 0/1 [00:00<?, ?it/s]/opt/anaconda3/envs/mle_env/lib/python3.10/site-packages/sklearn/utils/validation.py:2732: UserWarning: X has feature names, but StandardScaler was fitted without feature names\n",
      "  warnings.warn(\n",
      "Saving labels: 100%|██████████| 1/1 [00:02<00:00,  2.63s/it]\n"
     ]
    },
    {
     "name": "stdout",
     "output_type": "stream",
     "text": [
      "X_inference 48\n",
      "num of rows add:48\n",
      "datamart/gold/model_predictions/reg_2018_04_01/\n"
     ]
    },
    {
     "name": "stderr",
     "output_type": "stream",
     "text": [
      "                                                                                \r"
     ]
    },
    {
     "name": "stdout",
     "output_type": "stream",
     "text": [
      "saved to: datamart/gold/model_predictions/reg_2018_04_01/reg_2018_04_01_predictions_2017_01_30.parquet\n",
      "rows added: 48\n",
      "\n",
      "\n",
      "---completed job---\n",
      "\n",
      "\n",
      "execute command: python model_inference.py --snapshotdate \"2017-01-31\" --modelname \"reg_2018_04_01.pkl\"\n"
     ]
    },
    {
     "name": "stderr",
     "output_type": "stream",
     "text": [
      "Setting default log level to \"WARN\".\n",
      "To adjust logging level use sc.setLogLevel(newLevel). For SparkR, use setLogLevel(newLevel).\n",
      "25/06/26 23:38:20 WARN NativeCodeLoader: Unable to load native-hadoop library for your platform... using builtin-java classes where applicable\n",
      "25/06/26 23:38:21 WARN Utils: Service 'SparkUI' could not bind on port 4040. Attempting port 4041.\n",
      "25/06/26 23:38:21 WARN Utils: Service 'SparkUI' could not bind on port 4041. Attempting port 4042.\n"
     ]
    },
    {
     "name": "stdout",
     "output_type": "stream",
     "text": [
      "\n",
      "\n",
      "---starting job---\n",
      "\n",
      "\n",
      "{'model_artefact_filepath': 'model_bank/reg_2018_04_01.pkl',\n",
      " 'model_bank_directory': 'model_bank/',\n",
      " 'model_name': 'reg_2018_04_01.pkl',\n",
      " 'snapshot_date': datetime.datetime(2017, 1, 31, 0, 0),\n",
      " 'snapshot_date_str': '2017-01-31'}\n",
      "Model loaded successfully! model_bank/reg_2018_04_01.pkl\n"
     ]
    },
    {
     "name": "stderr",
     "output_type": "stream",
     "text": [
      "Saving labels:   0%|          | 0/1 [00:00<?, ?it/s]/opt/anaconda3/envs/mle_env/lib/python3.10/site-packages/sklearn/utils/validation.py:2732: UserWarning: X has feature names, but StandardScaler was fitted without feature names\n",
      "  warnings.warn(\n",
      "Saving labels: 100%|██████████| 1/1 [00:02<00:00,  2.68s/it]\n"
     ]
    },
    {
     "name": "stdout",
     "output_type": "stream",
     "text": [
      "X_inference 64\n",
      "num of rows add:64\n",
      "datamart/gold/model_predictions/reg_2018_04_01/\n"
     ]
    },
    {
     "name": "stderr",
     "output_type": "stream",
     "text": [
      "                                                                                \r"
     ]
    },
    {
     "name": "stdout",
     "output_type": "stream",
     "text": [
      "saved to: datamart/gold/model_predictions/reg_2018_04_01/reg_2018_04_01_predictions_2017_01_31.parquet\n",
      "rows added: 64\n",
      "\n",
      "\n",
      "---completed job---\n",
      "\n",
      "\n",
      "execute command: python model_inference.py --snapshotdate \"2017-02-01\" --modelname \"reg_2018_04_01.pkl\"\n"
     ]
    },
    {
     "name": "stderr",
     "output_type": "stream",
     "text": [
      "Setting default log level to \"WARN\".\n",
      "To adjust logging level use sc.setLogLevel(newLevel). For SparkR, use setLogLevel(newLevel).\n",
      "25/06/26 23:38:29 WARN NativeCodeLoader: Unable to load native-hadoop library for your platform... using builtin-java classes where applicable\n",
      "25/06/26 23:38:29 WARN Utils: Service 'SparkUI' could not bind on port 4040. Attempting port 4041.\n",
      "25/06/26 23:38:29 WARN Utils: Service 'SparkUI' could not bind on port 4041. Attempting port 4042.\n"
     ]
    },
    {
     "name": "stdout",
     "output_type": "stream",
     "text": [
      "\n",
      "\n",
      "---starting job---\n",
      "\n",
      "\n",
      "{'model_artefact_filepath': 'model_bank/reg_2018_04_01.pkl',\n",
      " 'model_bank_directory': 'model_bank/',\n",
      " 'model_name': 'reg_2018_04_01.pkl',\n",
      " 'snapshot_date': datetime.datetime(2017, 2, 1, 0, 0),\n",
      " 'snapshot_date_str': '2017-02-01'}\n",
      "Model loaded successfully! model_bank/reg_2018_04_01.pkl\n"
     ]
    },
    {
     "name": "stderr",
     "output_type": "stream",
     "text": [
      "Saving labels:   0%|          | 0/1 [00:00<?, ?it/s]/opt/anaconda3/envs/mle_env/lib/python3.10/site-packages/sklearn/utils/validation.py:2732: UserWarning: X has feature names, but StandardScaler was fitted without feature names\n",
      "  warnings.warn(\n",
      "Saving labels: 100%|██████████| 1/1 [00:02<00:00,  2.56s/it]\n"
     ]
    },
    {
     "name": "stdout",
     "output_type": "stream",
     "text": [
      "X_inference 61\n",
      "num of rows add:61\n",
      "datamart/gold/model_predictions/reg_2018_04_01/\n"
     ]
    },
    {
     "name": "stderr",
     "output_type": "stream",
     "text": [
      "                                                                                \r"
     ]
    },
    {
     "name": "stdout",
     "output_type": "stream",
     "text": [
      "saved to: datamart/gold/model_predictions/reg_2018_04_01/reg_2018_04_01_predictions_2017_02_01.parquet\n",
      "rows added: 61\n",
      "\n",
      "\n",
      "---completed job---\n",
      "\n",
      "\n",
      "execute command: python model_inference.py --snapshotdate \"2017-02-02\" --modelname \"reg_2018_04_01.pkl\"\n"
     ]
    },
    {
     "name": "stderr",
     "output_type": "stream",
     "text": [
      "Setting default log level to \"WARN\".\n",
      "To adjust logging level use sc.setLogLevel(newLevel). For SparkR, use setLogLevel(newLevel).\n",
      "25/06/26 23:38:37 WARN NativeCodeLoader: Unable to load native-hadoop library for your platform... using builtin-java classes where applicable\n",
      "25/06/26 23:38:37 WARN Utils: Service 'SparkUI' could not bind on port 4040. Attempting port 4041.\n",
      "25/06/26 23:38:37 WARN Utils: Service 'SparkUI' could not bind on port 4041. Attempting port 4042.\n"
     ]
    },
    {
     "name": "stdout",
     "output_type": "stream",
     "text": [
      "\n",
      "\n",
      "---starting job---\n",
      "\n",
      "\n",
      "{'model_artefact_filepath': 'model_bank/reg_2018_04_01.pkl',\n",
      " 'model_bank_directory': 'model_bank/',\n",
      " 'model_name': 'reg_2018_04_01.pkl',\n",
      " 'snapshot_date': datetime.datetime(2017, 2, 2, 0, 0),\n",
      " 'snapshot_date_str': '2017-02-02'}\n",
      "Model loaded successfully! model_bank/reg_2018_04_01.pkl\n"
     ]
    },
    {
     "name": "stderr",
     "output_type": "stream",
     "text": [
      "/opt/anaconda3/envs/mle_env/lib/python3.10/site-packages/sklearn/utils/validation.py:2732: UserWarning: X has feature names, but StandardScaler was fitted without feature names\n",
      "  warnings.warn(\n",
      "Saving labels: 100%|██████████| 1/1 [00:06<00:00,  6.73s/it]\n"
     ]
    },
    {
     "name": "stdout",
     "output_type": "stream",
     "text": [
      "X_inference 67\n",
      "num of rows add:67\n",
      "datamart/gold/model_predictions/reg_2018_04_01/\n"
     ]
    },
    {
     "name": "stderr",
     "output_type": "stream",
     "text": [
      "                                                                                \r"
     ]
    },
    {
     "name": "stdout",
     "output_type": "stream",
     "text": [
      "saved to: datamart/gold/model_predictions/reg_2018_04_01/reg_2018_04_01_predictions_2017_02_02.parquet\n",
      "rows added: 67\n",
      "\n",
      "\n",
      "---completed job---\n",
      "\n",
      "\n",
      "execute command: python model_inference.py --snapshotdate \"2017-02-03\" --modelname \"reg_2018_04_01.pkl\"\n"
     ]
    },
    {
     "name": "stderr",
     "output_type": "stream",
     "text": [
      "Setting default log level to \"WARN\".\n",
      "To adjust logging level use sc.setLogLevel(newLevel). For SparkR, use setLogLevel(newLevel).\n",
      "25/06/26 23:38:51 WARN NativeCodeLoader: Unable to load native-hadoop library for your platform... using builtin-java classes where applicable\n",
      "25/06/26 23:38:51 WARN Utils: Service 'SparkUI' could not bind on port 4040. Attempting port 4041.\n",
      "25/06/26 23:38:51 WARN Utils: Service 'SparkUI' could not bind on port 4041. Attempting port 4042.\n"
     ]
    },
    {
     "name": "stdout",
     "output_type": "stream",
     "text": [
      "\n",
      "\n",
      "---starting job---\n",
      "\n",
      "\n",
      "{'model_artefact_filepath': 'model_bank/reg_2018_04_01.pkl',\n",
      " 'model_bank_directory': 'model_bank/',\n",
      " 'model_name': 'reg_2018_04_01.pkl',\n",
      " 'snapshot_date': datetime.datetime(2017, 2, 3, 0, 0),\n",
      " 'snapshot_date_str': '2017-02-03'}\n",
      "Model loaded successfully! model_bank/reg_2018_04_01.pkl\n"
     ]
    },
    {
     "name": "stderr",
     "output_type": "stream",
     "text": [
      "Saving labels:   0%|          | 0/1 [00:00<?, ?it/s]/opt/anaconda3/envs/mle_env/lib/python3.10/site-packages/sklearn/utils/validation.py:2732: UserWarning: X has feature names, but StandardScaler was fitted without feature names\n",
      "  warnings.warn(\n",
      "Saving labels: 100%|██████████| 1/1 [00:02<00:00,  2.76s/it]\n"
     ]
    },
    {
     "name": "stdout",
     "output_type": "stream",
     "text": [
      "X_inference 54\n",
      "num of rows add:54\n",
      "datamart/gold/model_predictions/reg_2018_04_01/\n"
     ]
    },
    {
     "name": "stderr",
     "output_type": "stream",
     "text": [
      "                                                                                \r"
     ]
    },
    {
     "name": "stdout",
     "output_type": "stream",
     "text": [
      "saved to: datamart/gold/model_predictions/reg_2018_04_01/reg_2018_04_01_predictions_2017_02_03.parquet\n",
      "rows added: 54\n",
      "\n",
      "\n",
      "---completed job---\n",
      "\n",
      "\n",
      "execute command: python model_inference.py --snapshotdate \"2017-02-04\" --modelname \"reg_2018_04_01.pkl\"\n"
     ]
    },
    {
     "name": "stderr",
     "output_type": "stream",
     "text": [
      "Setting default log level to \"WARN\".\n",
      "To adjust logging level use sc.setLogLevel(newLevel). For SparkR, use setLogLevel(newLevel).\n",
      "25/06/26 23:39:00 WARN NativeCodeLoader: Unable to load native-hadoop library for your platform... using builtin-java classes where applicable\n",
      "25/06/26 23:39:01 WARN Utils: Service 'SparkUI' could not bind on port 4040. Attempting port 4041.\n",
      "25/06/26 23:39:01 WARN Utils: Service 'SparkUI' could not bind on port 4041. Attempting port 4042.\n"
     ]
    },
    {
     "name": "stdout",
     "output_type": "stream",
     "text": [
      "\n",
      "\n",
      "---starting job---\n",
      "\n",
      "\n",
      "{'model_artefact_filepath': 'model_bank/reg_2018_04_01.pkl',\n",
      " 'model_bank_directory': 'model_bank/',\n",
      " 'model_name': 'reg_2018_04_01.pkl',\n",
      " 'snapshot_date': datetime.datetime(2017, 2, 4, 0, 0),\n",
      " 'snapshot_date_str': '2017-02-04'}\n",
      "Model loaded successfully! model_bank/reg_2018_04_01.pkl\n"
     ]
    },
    {
     "name": "stderr",
     "output_type": "stream",
     "text": [
      "Saving labels:   0%|          | 0/1 [00:00<?, ?it/s]/opt/anaconda3/envs/mle_env/lib/python3.10/site-packages/sklearn/utils/validation.py:2732: UserWarning: X has feature names, but StandardScaler was fitted without feature names\n",
      "  warnings.warn(\n",
      "Saving labels: 100%|██████████| 1/1 [00:02<00:00,  2.53s/it]\n"
     ]
    },
    {
     "name": "stdout",
     "output_type": "stream",
     "text": [
      "X_inference 64\n",
      "num of rows add:64\n",
      "datamart/gold/model_predictions/reg_2018_04_01/\n"
     ]
    },
    {
     "name": "stderr",
     "output_type": "stream",
     "text": [
      "                                                                                \r"
     ]
    },
    {
     "name": "stdout",
     "output_type": "stream",
     "text": [
      "saved to: datamart/gold/model_predictions/reg_2018_04_01/reg_2018_04_01_predictions_2017_02_04.parquet\n",
      "rows added: 64\n",
      "\n",
      "\n",
      "---completed job---\n",
      "\n",
      "\n",
      "execute command: python model_inference.py --snapshotdate \"2017-02-05\" --modelname \"reg_2018_04_01.pkl\"\n"
     ]
    },
    {
     "name": "stderr",
     "output_type": "stream",
     "text": [
      "Setting default log level to \"WARN\".\n",
      "To adjust logging level use sc.setLogLevel(newLevel). For SparkR, use setLogLevel(newLevel).\n",
      "25/06/26 23:39:09 WARN NativeCodeLoader: Unable to load native-hadoop library for your platform... using builtin-java classes where applicable\n",
      "25/06/26 23:39:09 WARN Utils: Service 'SparkUI' could not bind on port 4040. Attempting port 4041.\n",
      "25/06/26 23:39:09 WARN Utils: Service 'SparkUI' could not bind on port 4041. Attempting port 4042.\n"
     ]
    },
    {
     "name": "stdout",
     "output_type": "stream",
     "text": [
      "\n",
      "\n",
      "---starting job---\n",
      "\n",
      "\n",
      "{'model_artefact_filepath': 'model_bank/reg_2018_04_01.pkl',\n",
      " 'model_bank_directory': 'model_bank/',\n",
      " 'model_name': 'reg_2018_04_01.pkl',\n",
      " 'snapshot_date': datetime.datetime(2017, 2, 5, 0, 0),\n",
      " 'snapshot_date_str': '2017-02-05'}\n",
      "Model loaded successfully! model_bank/reg_2018_04_01.pkl\n"
     ]
    },
    {
     "name": "stderr",
     "output_type": "stream",
     "text": [
      "Saving labels:   0%|          | 0/1 [00:00<?, ?it/s]/opt/anaconda3/envs/mle_env/lib/python3.10/site-packages/sklearn/utils/validation.py:2732: UserWarning: X has feature names, but StandardScaler was fitted without feature names\n",
      "  warnings.warn(\n",
      "Saving labels: 100%|██████████| 1/1 [00:02<00:00,  2.59s/it]\n"
     ]
    },
    {
     "name": "stdout",
     "output_type": "stream",
     "text": [
      "X_inference 74\n",
      "num of rows add:74\n",
      "datamart/gold/model_predictions/reg_2018_04_01/\n"
     ]
    },
    {
     "name": "stderr",
     "output_type": "stream",
     "text": [
      "                                                                                \r"
     ]
    },
    {
     "name": "stdout",
     "output_type": "stream",
     "text": [
      "saved to: datamart/gold/model_predictions/reg_2018_04_01/reg_2018_04_01_predictions_2017_02_05.parquet\n",
      "rows added: 74\n",
      "\n",
      "\n",
      "---completed job---\n",
      "\n",
      "\n",
      "execute command: python model_inference.py --snapshotdate \"2017-02-06\" --modelname \"reg_2018_04_01.pkl\"\n"
     ]
    },
    {
     "name": "stderr",
     "output_type": "stream",
     "text": [
      "Setting default log level to \"WARN\".\n",
      "To adjust logging level use sc.setLogLevel(newLevel). For SparkR, use setLogLevel(newLevel).\n",
      "25/06/26 23:39:17 WARN NativeCodeLoader: Unable to load native-hadoop library for your platform... using builtin-java classes where applicable\n",
      "25/06/26 23:39:18 WARN Utils: Service 'SparkUI' could not bind on port 4040. Attempting port 4041.\n",
      "25/06/26 23:39:18 WARN Utils: Service 'SparkUI' could not bind on port 4041. Attempting port 4042.\n"
     ]
    },
    {
     "name": "stdout",
     "output_type": "stream",
     "text": [
      "\n",
      "\n",
      "---starting job---\n",
      "\n",
      "\n",
      "{'model_artefact_filepath': 'model_bank/reg_2018_04_01.pkl',\n",
      " 'model_bank_directory': 'model_bank/',\n",
      " 'model_name': 'reg_2018_04_01.pkl',\n",
      " 'snapshot_date': datetime.datetime(2017, 2, 6, 0, 0),\n",
      " 'snapshot_date_str': '2017-02-06'}\n",
      "Model loaded successfully! model_bank/reg_2018_04_01.pkl\n"
     ]
    },
    {
     "name": "stderr",
     "output_type": "stream",
     "text": [
      "Saving labels:   0%|          | 0/1 [00:00<?, ?it/s]/opt/anaconda3/envs/mle_env/lib/python3.10/site-packages/sklearn/utils/validation.py:2732: UserWarning: X has feature names, but StandardScaler was fitted without feature names\n",
      "  warnings.warn(\n",
      "Saving labels: 100%|██████████| 1/1 [00:02<00:00,  2.57s/it]\n"
     ]
    },
    {
     "name": "stdout",
     "output_type": "stream",
     "text": [
      "X_inference 78\n",
      "num of rows add:78\n",
      "datamart/gold/model_predictions/reg_2018_04_01/\n"
     ]
    },
    {
     "name": "stderr",
     "output_type": "stream",
     "text": [
      "                                                                                \r"
     ]
    },
    {
     "name": "stdout",
     "output_type": "stream",
     "text": [
      "saved to: datamart/gold/model_predictions/reg_2018_04_01/reg_2018_04_01_predictions_2017_02_06.parquet\n",
      "rows added: 78\n",
      "\n",
      "\n",
      "---completed job---\n",
      "\n",
      "\n",
      "execute command: python model_inference.py --snapshotdate \"2017-02-07\" --modelname \"reg_2018_04_01.pkl\"\n"
     ]
    },
    {
     "name": "stderr",
     "output_type": "stream",
     "text": [
      "Setting default log level to \"WARN\".\n",
      "To adjust logging level use sc.setLogLevel(newLevel). For SparkR, use setLogLevel(newLevel).\n",
      "25/06/26 23:39:26 WARN NativeCodeLoader: Unable to load native-hadoop library for your platform... using builtin-java classes where applicable\n",
      "25/06/26 23:39:26 WARN Utils: Service 'SparkUI' could not bind on port 4040. Attempting port 4041.\n",
      "25/06/26 23:39:26 WARN Utils: Service 'SparkUI' could not bind on port 4041. Attempting port 4042.\n"
     ]
    },
    {
     "name": "stdout",
     "output_type": "stream",
     "text": [
      "\n",
      "\n",
      "---starting job---\n",
      "\n",
      "\n",
      "{'model_artefact_filepath': 'model_bank/reg_2018_04_01.pkl',\n",
      " 'model_bank_directory': 'model_bank/',\n",
      " 'model_name': 'reg_2018_04_01.pkl',\n",
      " 'snapshot_date': datetime.datetime(2017, 2, 7, 0, 0),\n",
      " 'snapshot_date_str': '2017-02-07'}\n",
      "Model loaded successfully! model_bank/reg_2018_04_01.pkl\n"
     ]
    },
    {
     "name": "stderr",
     "output_type": "stream",
     "text": [
      "/opt/anaconda3/envs/mle_env/lib/python3.10/site-packages/sklearn/utils/validation.py:2732: UserWarning: X has feature names, but StandardScaler was fitted without feature names\n",
      "  warnings.warn(\n",
      "Saving labels: 100%|██████████| 1/1 [00:02<00:00,  2.65s/it]\n"
     ]
    },
    {
     "name": "stdout",
     "output_type": "stream",
     "text": [
      "X_inference 108\n",
      "num of rows add:108\n",
      "datamart/gold/model_predictions/reg_2018_04_01/\n"
     ]
    },
    {
     "name": "stderr",
     "output_type": "stream",
     "text": [
      "                                                                                \r"
     ]
    },
    {
     "name": "stdout",
     "output_type": "stream",
     "text": [
      "saved to: datamart/gold/model_predictions/reg_2018_04_01/reg_2018_04_01_predictions_2017_02_07.parquet\n",
      "rows added: 108\n",
      "\n",
      "\n",
      "---completed job---\n",
      "\n",
      "\n",
      "execute command: python model_inference.py --snapshotdate \"2017-02-08\" --modelname \"reg_2018_04_01.pkl\"\n"
     ]
    },
    {
     "name": "stderr",
     "output_type": "stream",
     "text": [
      "Setting default log level to \"WARN\".\n",
      "To adjust logging level use sc.setLogLevel(newLevel). For SparkR, use setLogLevel(newLevel).\n",
      "25/06/26 23:39:34 WARN NativeCodeLoader: Unable to load native-hadoop library for your platform... using builtin-java classes where applicable\n",
      "25/06/26 23:39:35 WARN Utils: Service 'SparkUI' could not bind on port 4040. Attempting port 4041.\n",
      "25/06/26 23:39:35 WARN Utils: Service 'SparkUI' could not bind on port 4041. Attempting port 4042.\n"
     ]
    },
    {
     "name": "stdout",
     "output_type": "stream",
     "text": [
      "\n",
      "\n",
      "---starting job---\n",
      "\n",
      "\n",
      "{'model_artefact_filepath': 'model_bank/reg_2018_04_01.pkl',\n",
      " 'model_bank_directory': 'model_bank/',\n",
      " 'model_name': 'reg_2018_04_01.pkl',\n",
      " 'snapshot_date': datetime.datetime(2017, 2, 8, 0, 0),\n",
      " 'snapshot_date_str': '2017-02-08'}\n",
      "Model loaded successfully! model_bank/reg_2018_04_01.pkl\n"
     ]
    },
    {
     "name": "stderr",
     "output_type": "stream",
     "text": [
      "Saving labels:   0%|          | 0/1 [00:00<?, ?it/s]/opt/anaconda3/envs/mle_env/lib/python3.10/site-packages/sklearn/utils/validation.py:2732: UserWarning: X has feature names, but StandardScaler was fitted without feature names\n",
      "  warnings.warn(\n",
      "Saving labels: 100%|██████████| 1/1 [00:02<00:00,  2.60s/it]\n"
     ]
    },
    {
     "name": "stdout",
     "output_type": "stream",
     "text": [
      "X_inference 83\n",
      "num of rows add:83\n",
      "datamart/gold/model_predictions/reg_2018_04_01/\n"
     ]
    },
    {
     "name": "stderr",
     "output_type": "stream",
     "text": [
      "                                                                                \r"
     ]
    },
    {
     "name": "stdout",
     "output_type": "stream",
     "text": [
      "saved to: datamart/gold/model_predictions/reg_2018_04_01/reg_2018_04_01_predictions_2017_02_08.parquet\n",
      "rows added: 83\n",
      "\n",
      "\n",
      "---completed job---\n",
      "\n",
      "\n",
      "execute command: python model_inference.py --snapshotdate \"2017-02-09\" --modelname \"reg_2018_04_01.pkl\"\n"
     ]
    },
    {
     "name": "stderr",
     "output_type": "stream",
     "text": [
      "Setting default log level to \"WARN\".\n",
      "To adjust logging level use sc.setLogLevel(newLevel). For SparkR, use setLogLevel(newLevel).\n",
      "25/06/26 23:39:44 WARN NativeCodeLoader: Unable to load native-hadoop library for your platform... using builtin-java classes where applicable\n",
      "25/06/26 23:39:45 WARN Utils: Service 'SparkUI' could not bind on port 4040. Attempting port 4041.\n",
      "25/06/26 23:39:45 WARN Utils: Service 'SparkUI' could not bind on port 4041. Attempting port 4042.\n"
     ]
    },
    {
     "name": "stdout",
     "output_type": "stream",
     "text": [
      "\n",
      "\n",
      "---starting job---\n",
      "\n",
      "\n",
      "{'model_artefact_filepath': 'model_bank/reg_2018_04_01.pkl',\n",
      " 'model_bank_directory': 'model_bank/',\n",
      " 'model_name': 'reg_2018_04_01.pkl',\n",
      " 'snapshot_date': datetime.datetime(2017, 2, 9, 0, 0),\n",
      " 'snapshot_date_str': '2017-02-09'}\n",
      "Model loaded successfully! model_bank/reg_2018_04_01.pkl\n"
     ]
    },
    {
     "name": "stderr",
     "output_type": "stream",
     "text": [
      "Saving labels:   0%|          | 0/1 [00:00<?, ?it/s]/opt/anaconda3/envs/mle_env/lib/python3.10/site-packages/sklearn/utils/validation.py:2732: UserWarning: X has feature names, but StandardScaler was fitted without feature names\n",
      "  warnings.warn(\n",
      "Saving labels: 100%|██████████| 1/1 [00:02<00:00,  2.60s/it]\n"
     ]
    },
    {
     "name": "stdout",
     "output_type": "stream",
     "text": [
      "X_inference 73\n",
      "num of rows add:73\n",
      "datamart/gold/model_predictions/reg_2018_04_01/\n"
     ]
    },
    {
     "name": "stderr",
     "output_type": "stream",
     "text": [
      "                                                                                \r"
     ]
    },
    {
     "name": "stdout",
     "output_type": "stream",
     "text": [
      "saved to: datamart/gold/model_predictions/reg_2018_04_01/reg_2018_04_01_predictions_2017_02_09.parquet\n",
      "rows added: 73\n",
      "\n",
      "\n",
      "---completed job---\n",
      "\n",
      "\n",
      "execute command: python model_inference.py --snapshotdate \"2017-02-10\" --modelname \"reg_2018_04_01.pkl\"\n"
     ]
    },
    {
     "name": "stderr",
     "output_type": "stream",
     "text": [
      "Setting default log level to \"WARN\".\n",
      "To adjust logging level use sc.setLogLevel(newLevel). For SparkR, use setLogLevel(newLevel).\n",
      "25/06/26 23:39:53 WARN NativeCodeLoader: Unable to load native-hadoop library for your platform... using builtin-java classes where applicable\n",
      "25/06/26 23:39:53 WARN Utils: Service 'SparkUI' could not bind on port 4040. Attempting port 4041.\n",
      "25/06/26 23:39:53 WARN Utils: Service 'SparkUI' could not bind on port 4041. Attempting port 4042.\n"
     ]
    },
    {
     "name": "stdout",
     "output_type": "stream",
     "text": [
      "\n",
      "\n",
      "---starting job---\n",
      "\n",
      "\n",
      "{'model_artefact_filepath': 'model_bank/reg_2018_04_01.pkl',\n",
      " 'model_bank_directory': 'model_bank/',\n",
      " 'model_name': 'reg_2018_04_01.pkl',\n",
      " 'snapshot_date': datetime.datetime(2017, 2, 10, 0, 0),\n",
      " 'snapshot_date_str': '2017-02-10'}\n",
      "Model loaded successfully! model_bank/reg_2018_04_01.pkl\n"
     ]
    },
    {
     "name": "stderr",
     "output_type": "stream",
     "text": [
      "/opt/anaconda3/envs/mle_env/lib/python3.10/site-packages/sklearn/utils/validation.py:2732: UserWarning: X has feature names, but StandardScaler was fitted without feature names\n",
      "  warnings.warn(\n",
      "Saving labels: 100%|██████████| 1/1 [00:02<00:00,  2.77s/it]\n"
     ]
    },
    {
     "name": "stdout",
     "output_type": "stream",
     "text": [
      "X_inference 63\n",
      "num of rows add:63\n",
      "datamart/gold/model_predictions/reg_2018_04_01/\n"
     ]
    },
    {
     "name": "stderr",
     "output_type": "stream",
     "text": [
      "                                                                                \r"
     ]
    },
    {
     "name": "stdout",
     "output_type": "stream",
     "text": [
      "saved to: datamart/gold/model_predictions/reg_2018_04_01/reg_2018_04_01_predictions_2017_02_10.parquet\n",
      "rows added: 63\n",
      "\n",
      "\n",
      "---completed job---\n",
      "\n",
      "\n",
      "execute command: python model_inference.py --snapshotdate \"2017-02-11\" --modelname \"reg_2018_04_01.pkl\"\n"
     ]
    },
    {
     "name": "stderr",
     "output_type": "stream",
     "text": [
      "Setting default log level to \"WARN\".\n",
      "To adjust logging level use sc.setLogLevel(newLevel). For SparkR, use setLogLevel(newLevel).\n",
      "25/06/26 23:40:01 WARN NativeCodeLoader: Unable to load native-hadoop library for your platform... using builtin-java classes where applicable\n",
      "25/06/26 23:40:02 WARN Utils: Service 'SparkUI' could not bind on port 4040. Attempting port 4041.\n",
      "25/06/26 23:40:02 WARN Utils: Service 'SparkUI' could not bind on port 4041. Attempting port 4042.\n"
     ]
    },
    {
     "name": "stdout",
     "output_type": "stream",
     "text": [
      "\n",
      "\n",
      "---starting job---\n",
      "\n",
      "\n",
      "{'model_artefact_filepath': 'model_bank/reg_2018_04_01.pkl',\n",
      " 'model_bank_directory': 'model_bank/',\n",
      " 'model_name': 'reg_2018_04_01.pkl',\n",
      " 'snapshot_date': datetime.datetime(2017, 2, 11, 0, 0),\n",
      " 'snapshot_date_str': '2017-02-11'}\n",
      "Model loaded successfully! model_bank/reg_2018_04_01.pkl\n"
     ]
    },
    {
     "name": "stderr",
     "output_type": "stream",
     "text": [
      "Saving labels:   0%|          | 0/1 [00:00<?, ?it/s]/opt/anaconda3/envs/mle_env/lib/python3.10/site-packages/sklearn/utils/validation.py:2732: UserWarning: X has feature names, but StandardScaler was fitted without feature names\n",
      "  warnings.warn(\n",
      "Saving labels: 100%|██████████| 1/1 [00:02<00:00,  2.76s/it]\n"
     ]
    },
    {
     "name": "stdout",
     "output_type": "stream",
     "text": [
      "X_inference 45\n",
      "num of rows add:45\n",
      "datamart/gold/model_predictions/reg_2018_04_01/\n"
     ]
    },
    {
     "name": "stderr",
     "output_type": "stream",
     "text": [
      "                                                                                \r"
     ]
    },
    {
     "name": "stdout",
     "output_type": "stream",
     "text": [
      "saved to: datamart/gold/model_predictions/reg_2018_04_01/reg_2018_04_01_predictions_2017_02_11.parquet\n",
      "rows added: 45\n",
      "\n",
      "\n",
      "---completed job---\n",
      "\n",
      "\n",
      "execute command: python model_inference.py --snapshotdate \"2017-02-12\" --modelname \"reg_2018_04_01.pkl\"\n"
     ]
    },
    {
     "name": "stderr",
     "output_type": "stream",
     "text": [
      "Setting default log level to \"WARN\".\n",
      "To adjust logging level use sc.setLogLevel(newLevel). For SparkR, use setLogLevel(newLevel).\n",
      "25/06/26 23:40:10 WARN NativeCodeLoader: Unable to load native-hadoop library for your platform... using builtin-java classes where applicable\n",
      "25/06/26 23:40:11 WARN Utils: Service 'SparkUI' could not bind on port 4040. Attempting port 4041.\n",
      "25/06/26 23:40:11 WARN Utils: Service 'SparkUI' could not bind on port 4041. Attempting port 4042.\n"
     ]
    },
    {
     "name": "stdout",
     "output_type": "stream",
     "text": [
      "\n",
      "\n",
      "---starting job---\n",
      "\n",
      "\n",
      "{'model_artefact_filepath': 'model_bank/reg_2018_04_01.pkl',\n",
      " 'model_bank_directory': 'model_bank/',\n",
      " 'model_name': 'reg_2018_04_01.pkl',\n",
      " 'snapshot_date': datetime.datetime(2017, 2, 12, 0, 0),\n",
      " 'snapshot_date_str': '2017-02-12'}\n",
      "Model loaded successfully! model_bank/reg_2018_04_01.pkl\n"
     ]
    },
    {
     "name": "stderr",
     "output_type": "stream",
     "text": [
      "Saving labels:   0%|          | 0/1 [00:00<?, ?it/s]/opt/anaconda3/envs/mle_env/lib/python3.10/site-packages/sklearn/utils/validation.py:2732: UserWarning: X has feature names, but StandardScaler was fitted without feature names\n",
      "  warnings.warn(\n",
      "Saving labels: 100%|██████████| 1/1 [00:02<00:00,  2.83s/it]\n"
     ]
    },
    {
     "name": "stdout",
     "output_type": "stream",
     "text": [
      "X_inference 61\n",
      "num of rows add:61\n",
      "datamart/gold/model_predictions/reg_2018_04_01/\n"
     ]
    },
    {
     "name": "stderr",
     "output_type": "stream",
     "text": [
      "                                                                                \r"
     ]
    },
    {
     "name": "stdout",
     "output_type": "stream",
     "text": [
      "saved to: datamart/gold/model_predictions/reg_2018_04_01/reg_2018_04_01_predictions_2017_02_12.parquet\n",
      "rows added: 61\n",
      "\n",
      "\n",
      "---completed job---\n",
      "\n",
      "\n",
      "execute command: python model_inference.py --snapshotdate \"2017-02-13\" --modelname \"reg_2018_04_01.pkl\"\n"
     ]
    },
    {
     "name": "stderr",
     "output_type": "stream",
     "text": [
      "Setting default log level to \"WARN\".\n",
      "To adjust logging level use sc.setLogLevel(newLevel). For SparkR, use setLogLevel(newLevel).\n",
      "25/06/26 23:40:19 WARN NativeCodeLoader: Unable to load native-hadoop library for your platform... using builtin-java classes where applicable\n",
      "25/06/26 23:40:20 WARN Utils: Service 'SparkUI' could not bind on port 4040. Attempting port 4041.\n",
      "25/06/26 23:40:20 WARN Utils: Service 'SparkUI' could not bind on port 4041. Attempting port 4042.\n"
     ]
    },
    {
     "name": "stdout",
     "output_type": "stream",
     "text": [
      "\n",
      "\n",
      "---starting job---\n",
      "\n",
      "\n",
      "{'model_artefact_filepath': 'model_bank/reg_2018_04_01.pkl',\n",
      " 'model_bank_directory': 'model_bank/',\n",
      " 'model_name': 'reg_2018_04_01.pkl',\n",
      " 'snapshot_date': datetime.datetime(2017, 2, 13, 0, 0),\n",
      " 'snapshot_date_str': '2017-02-13'}\n",
      "Model loaded successfully! model_bank/reg_2018_04_01.pkl\n"
     ]
    },
    {
     "name": "stderr",
     "output_type": "stream",
     "text": [
      "Saving labels:   0%|          | 0/1 [00:00<?, ?it/s]/opt/anaconda3/envs/mle_env/lib/python3.10/site-packages/sklearn/utils/validation.py:2732: UserWarning: X has feature names, but StandardScaler was fitted without feature names\n",
      "  warnings.warn(\n",
      "Saving labels: 100%|██████████| 1/1 [00:02<00:00,  2.57s/it]\n"
     ]
    },
    {
     "name": "stdout",
     "output_type": "stream",
     "text": [
      "X_inference 74\n",
      "num of rows add:74\n",
      "datamart/gold/model_predictions/reg_2018_04_01/\n"
     ]
    },
    {
     "name": "stderr",
     "output_type": "stream",
     "text": [
      "                                                                                \r"
     ]
    },
    {
     "name": "stdout",
     "output_type": "stream",
     "text": [
      "saved to: datamart/gold/model_predictions/reg_2018_04_01/reg_2018_04_01_predictions_2017_02_13.parquet\n",
      "rows added: 74\n",
      "\n",
      "\n",
      "---completed job---\n",
      "\n",
      "\n",
      "execute command: python model_inference.py --snapshotdate \"2017-02-14\" --modelname \"reg_2018_04_01.pkl\"\n"
     ]
    },
    {
     "name": "stderr",
     "output_type": "stream",
     "text": [
      "Setting default log level to \"WARN\".\n",
      "To adjust logging level use sc.setLogLevel(newLevel). For SparkR, use setLogLevel(newLevel).\n",
      "25/06/26 23:40:28 WARN NativeCodeLoader: Unable to load native-hadoop library for your platform... using builtin-java classes where applicable\n",
      "25/06/26 23:40:28 WARN Utils: Service 'SparkUI' could not bind on port 4040. Attempting port 4041.\n",
      "25/06/26 23:40:28 WARN Utils: Service 'SparkUI' could not bind on port 4041. Attempting port 4042.\n"
     ]
    },
    {
     "name": "stdout",
     "output_type": "stream",
     "text": [
      "\n",
      "\n",
      "---starting job---\n",
      "\n",
      "\n",
      "{'model_artefact_filepath': 'model_bank/reg_2018_04_01.pkl',\n",
      " 'model_bank_directory': 'model_bank/',\n",
      " 'model_name': 'reg_2018_04_01.pkl',\n",
      " 'snapshot_date': datetime.datetime(2017, 2, 14, 0, 0),\n",
      " 'snapshot_date_str': '2017-02-14'}\n",
      "Model loaded successfully! model_bank/reg_2018_04_01.pkl\n"
     ]
    },
    {
     "name": "stderr",
     "output_type": "stream",
     "text": [
      "Saving labels:   0%|          | 0/1 [00:00<?, ?it/s]/opt/anaconda3/envs/mle_env/lib/python3.10/site-packages/sklearn/utils/validation.py:2732: UserWarning: X has feature names, but StandardScaler was fitted without feature names\n",
      "  warnings.warn(\n",
      "Saving labels: 100%|██████████| 1/1 [00:02<00:00,  2.78s/it]\n"
     ]
    },
    {
     "name": "stdout",
     "output_type": "stream",
     "text": [
      "X_inference 66\n",
      "num of rows add:66\n",
      "datamart/gold/model_predictions/reg_2018_04_01/\n"
     ]
    },
    {
     "name": "stderr",
     "output_type": "stream",
     "text": [
      "                                                                                \r"
     ]
    },
    {
     "name": "stdout",
     "output_type": "stream",
     "text": [
      "saved to: datamart/gold/model_predictions/reg_2018_04_01/reg_2018_04_01_predictions_2017_02_14.parquet\n",
      "rows added: 66\n",
      "\n",
      "\n",
      "---completed job---\n",
      "\n",
      "\n",
      "execute command: python model_inference.py --snapshotdate \"2017-02-15\" --modelname \"reg_2018_04_01.pkl\"\n"
     ]
    },
    {
     "name": "stderr",
     "output_type": "stream",
     "text": [
      "Setting default log level to \"WARN\".\n",
      "To adjust logging level use sc.setLogLevel(newLevel). For SparkR, use setLogLevel(newLevel).\n",
      "25/06/26 23:40:36 WARN NativeCodeLoader: Unable to load native-hadoop library for your platform... using builtin-java classes where applicable\n",
      "25/06/26 23:40:37 WARN Utils: Service 'SparkUI' could not bind on port 4040. Attempting port 4041.\n",
      "25/06/26 23:40:37 WARN Utils: Service 'SparkUI' could not bind on port 4041. Attempting port 4042.\n"
     ]
    },
    {
     "name": "stdout",
     "output_type": "stream",
     "text": [
      "\n",
      "\n",
      "---starting job---\n",
      "\n",
      "\n",
      "{'model_artefact_filepath': 'model_bank/reg_2018_04_01.pkl',\n",
      " 'model_bank_directory': 'model_bank/',\n",
      " 'model_name': 'reg_2018_04_01.pkl',\n",
      " 'snapshot_date': datetime.datetime(2017, 2, 15, 0, 0),\n",
      " 'snapshot_date_str': '2017-02-15'}\n",
      "Model loaded successfully! model_bank/reg_2018_04_01.pkl\n"
     ]
    },
    {
     "name": "stderr",
     "output_type": "stream",
     "text": [
      "Saving labels:   0%|          | 0/1 [00:00<?, ?it/s]/opt/anaconda3/envs/mle_env/lib/python3.10/site-packages/sklearn/utils/validation.py:2732: UserWarning: X has feature names, but StandardScaler was fitted without feature names\n",
      "  warnings.warn(\n",
      "Saving labels: 100%|██████████| 1/1 [00:02<00:00,  2.65s/it]\n"
     ]
    },
    {
     "name": "stdout",
     "output_type": "stream",
     "text": [
      "X_inference 56\n",
      "num of rows add:56\n",
      "datamart/gold/model_predictions/reg_2018_04_01/\n"
     ]
    },
    {
     "name": "stderr",
     "output_type": "stream",
     "text": [
      "                                                                                \r"
     ]
    },
    {
     "name": "stdout",
     "output_type": "stream",
     "text": [
      "saved to: datamart/gold/model_predictions/reg_2018_04_01/reg_2018_04_01_predictions_2017_02_15.parquet\n",
      "rows added: 56\n",
      "\n",
      "\n",
      "---completed job---\n",
      "\n",
      "\n",
      "execute command: python model_inference.py --snapshotdate \"2017-02-16\" --modelname \"reg_2018_04_01.pkl\"\n"
     ]
    },
    {
     "name": "stderr",
     "output_type": "stream",
     "text": [
      "Setting default log level to \"WARN\".\n",
      "To adjust logging level use sc.setLogLevel(newLevel). For SparkR, use setLogLevel(newLevel).\n",
      "25/06/26 23:40:45 WARN NativeCodeLoader: Unable to load native-hadoop library for your platform... using builtin-java classes where applicable\n",
      "25/06/26 23:40:45 WARN Utils: Service 'SparkUI' could not bind on port 4040. Attempting port 4041.\n",
      "25/06/26 23:40:45 WARN Utils: Service 'SparkUI' could not bind on port 4041. Attempting port 4042.\n"
     ]
    },
    {
     "name": "stdout",
     "output_type": "stream",
     "text": [
      "\n",
      "\n",
      "---starting job---\n",
      "\n",
      "\n",
      "{'model_artefact_filepath': 'model_bank/reg_2018_04_01.pkl',\n",
      " 'model_bank_directory': 'model_bank/',\n",
      " 'model_name': 'reg_2018_04_01.pkl',\n",
      " 'snapshot_date': datetime.datetime(2017, 2, 16, 0, 0),\n",
      " 'snapshot_date_str': '2017-02-16'}\n",
      "Model loaded successfully! model_bank/reg_2018_04_01.pkl\n"
     ]
    },
    {
     "name": "stderr",
     "output_type": "stream",
     "text": [
      "Saving labels:   0%|          | 0/1 [00:00<?, ?it/s]/opt/anaconda3/envs/mle_env/lib/python3.10/site-packages/sklearn/utils/validation.py:2732: UserWarning: X has feature names, but StandardScaler was fitted without feature names\n",
      "  warnings.warn(\n",
      "Saving labels: 100%|██████████| 1/1 [00:02<00:00,  2.56s/it]\n"
     ]
    },
    {
     "name": "stdout",
     "output_type": "stream",
     "text": [
      "X_inference 49\n",
      "num of rows add:49\n",
      "datamart/gold/model_predictions/reg_2018_04_01/\n"
     ]
    },
    {
     "name": "stderr",
     "output_type": "stream",
     "text": [
      "                                                                                \r"
     ]
    },
    {
     "name": "stdout",
     "output_type": "stream",
     "text": [
      "saved to: datamart/gold/model_predictions/reg_2018_04_01/reg_2018_04_01_predictions_2017_02_16.parquet\n",
      "rows added: 49\n",
      "\n",
      "\n",
      "---completed job---\n",
      "\n",
      "\n",
      "execute command: python model_inference.py --snapshotdate \"2017-02-17\" --modelname \"reg_2018_04_01.pkl\"\n"
     ]
    },
    {
     "name": "stderr",
     "output_type": "stream",
     "text": [
      "Setting default log level to \"WARN\".\n",
      "To adjust logging level use sc.setLogLevel(newLevel). For SparkR, use setLogLevel(newLevel).\n",
      "25/06/26 23:40:53 WARN NativeCodeLoader: Unable to load native-hadoop library for your platform... using builtin-java classes where applicable\n",
      "25/06/26 23:40:53 WARN Utils: Service 'SparkUI' could not bind on port 4040. Attempting port 4041.\n",
      "25/06/26 23:40:53 WARN Utils: Service 'SparkUI' could not bind on port 4041. Attempting port 4042.\n"
     ]
    },
    {
     "name": "stdout",
     "output_type": "stream",
     "text": [
      "\n",
      "\n",
      "---starting job---\n",
      "\n",
      "\n",
      "{'model_artefact_filepath': 'model_bank/reg_2018_04_01.pkl',\n",
      " 'model_bank_directory': 'model_bank/',\n",
      " 'model_name': 'reg_2018_04_01.pkl',\n",
      " 'snapshot_date': datetime.datetime(2017, 2, 17, 0, 0),\n",
      " 'snapshot_date_str': '2017-02-17'}\n",
      "Model loaded successfully! model_bank/reg_2018_04_01.pkl\n"
     ]
    },
    {
     "name": "stderr",
     "output_type": "stream",
     "text": [
      "Saving labels:   0%|          | 0/1 [00:00<?, ?it/s]/opt/anaconda3/envs/mle_env/lib/python3.10/site-packages/sklearn/utils/validation.py:2732: UserWarning: X has feature names, but StandardScaler was fitted without feature names\n",
      "  warnings.warn(\n",
      "Saving labels: 100%|██████████| 1/1 [00:02<00:00,  2.58s/it]\n"
     ]
    },
    {
     "name": "stdout",
     "output_type": "stream",
     "text": [
      "X_inference 45\n",
      "num of rows add:45\n",
      "datamart/gold/model_predictions/reg_2018_04_01/\n"
     ]
    },
    {
     "name": "stderr",
     "output_type": "stream",
     "text": [
      "                                                                                \r"
     ]
    },
    {
     "name": "stdout",
     "output_type": "stream",
     "text": [
      "saved to: datamart/gold/model_predictions/reg_2018_04_01/reg_2018_04_01_predictions_2017_02_17.parquet\n",
      "rows added: 45\n",
      "\n",
      "\n",
      "---completed job---\n",
      "\n",
      "\n",
      "execute command: python model_inference.py --snapshotdate \"2017-02-18\" --modelname \"reg_2018_04_01.pkl\"\n"
     ]
    },
    {
     "name": "stderr",
     "output_type": "stream",
     "text": [
      "Setting default log level to \"WARN\".\n",
      "To adjust logging level use sc.setLogLevel(newLevel). For SparkR, use setLogLevel(newLevel).\n",
      "25/06/26 23:41:01 WARN NativeCodeLoader: Unable to load native-hadoop library for your platform... using builtin-java classes where applicable\n",
      "25/06/26 23:41:01 WARN Utils: Service 'SparkUI' could not bind on port 4040. Attempting port 4041.\n",
      "25/06/26 23:41:01 WARN Utils: Service 'SparkUI' could not bind on port 4041. Attempting port 4042.\n"
     ]
    },
    {
     "name": "stdout",
     "output_type": "stream",
     "text": [
      "\n",
      "\n",
      "---starting job---\n",
      "\n",
      "\n",
      "{'model_artefact_filepath': 'model_bank/reg_2018_04_01.pkl',\n",
      " 'model_bank_directory': 'model_bank/',\n",
      " 'model_name': 'reg_2018_04_01.pkl',\n",
      " 'snapshot_date': datetime.datetime(2017, 2, 18, 0, 0),\n",
      " 'snapshot_date_str': '2017-02-18'}\n",
      "Model loaded successfully! model_bank/reg_2018_04_01.pkl\n"
     ]
    },
    {
     "name": "stderr",
     "output_type": "stream",
     "text": [
      "Saving labels:   0%|          | 0/1 [00:00<?, ?it/s]/opt/anaconda3/envs/mle_env/lib/python3.10/site-packages/sklearn/utils/validation.py:2732: UserWarning: X has feature names, but StandardScaler was fitted without feature names\n",
      "  warnings.warn(\n",
      "Saving labels: 100%|██████████| 1/1 [00:02<00:00,  2.63s/it]\n"
     ]
    },
    {
     "name": "stdout",
     "output_type": "stream",
     "text": [
      "X_inference 52\n",
      "num of rows add:52\n",
      "datamart/gold/model_predictions/reg_2018_04_01/\n"
     ]
    },
    {
     "name": "stderr",
     "output_type": "stream",
     "text": [
      "                                                                                \r"
     ]
    },
    {
     "name": "stdout",
     "output_type": "stream",
     "text": [
      "saved to: datamart/gold/model_predictions/reg_2018_04_01/reg_2018_04_01_predictions_2017_02_18.parquet\n",
      "rows added: 52\n",
      "\n",
      "\n",
      "---completed job---\n",
      "\n",
      "\n",
      "execute command: python model_inference.py --snapshotdate \"2017-02-19\" --modelname \"reg_2018_04_01.pkl\"\n"
     ]
    },
    {
     "name": "stderr",
     "output_type": "stream",
     "text": [
      "Setting default log level to \"WARN\".\n",
      "To adjust logging level use sc.setLogLevel(newLevel). For SparkR, use setLogLevel(newLevel).\n",
      "25/06/26 23:41:09 WARN NativeCodeLoader: Unable to load native-hadoop library for your platform... using builtin-java classes where applicable\n",
      "25/06/26 23:41:10 WARN Utils: Service 'SparkUI' could not bind on port 4040. Attempting port 4041.\n",
      "25/06/26 23:41:10 WARN Utils: Service 'SparkUI' could not bind on port 4041. Attempting port 4042.\n"
     ]
    },
    {
     "name": "stdout",
     "output_type": "stream",
     "text": [
      "\n",
      "\n",
      "---starting job---\n",
      "\n",
      "\n",
      "{'model_artefact_filepath': 'model_bank/reg_2018_04_01.pkl',\n",
      " 'model_bank_directory': 'model_bank/',\n",
      " 'model_name': 'reg_2018_04_01.pkl',\n",
      " 'snapshot_date': datetime.datetime(2017, 2, 19, 0, 0),\n",
      " 'snapshot_date_str': '2017-02-19'}\n",
      "Model loaded successfully! model_bank/reg_2018_04_01.pkl\n"
     ]
    },
    {
     "name": "stderr",
     "output_type": "stream",
     "text": [
      "Saving labels:   0%|          | 0/1 [00:00<?, ?it/s]/opt/anaconda3/envs/mle_env/lib/python3.10/site-packages/sklearn/utils/validation.py:2732: UserWarning: X has feature names, but StandardScaler was fitted without feature names\n",
      "  warnings.warn(\n",
      "Saving labels: 100%|██████████| 1/1 [00:02<00:00,  2.59s/it]\n"
     ]
    },
    {
     "name": "stdout",
     "output_type": "stream",
     "text": [
      "X_inference 37\n",
      "num of rows add:37\n",
      "datamart/gold/model_predictions/reg_2018_04_01/\n"
     ]
    },
    {
     "name": "stderr",
     "output_type": "stream",
     "text": [
      "                                                                                \r"
     ]
    },
    {
     "name": "stdout",
     "output_type": "stream",
     "text": [
      "saved to: datamart/gold/model_predictions/reg_2018_04_01/reg_2018_04_01_predictions_2017_02_19.parquet\n",
      "rows added: 37\n",
      "\n",
      "\n",
      "---completed job---\n",
      "\n",
      "\n",
      "execute command: python model_inference.py --snapshotdate \"2017-02-20\" --modelname \"reg_2018_04_01.pkl\"\n"
     ]
    },
    {
     "name": "stderr",
     "output_type": "stream",
     "text": [
      "Setting default log level to \"WARN\".\n",
      "To adjust logging level use sc.setLogLevel(newLevel). For SparkR, use setLogLevel(newLevel).\n",
      "25/06/26 23:41:17 WARN NativeCodeLoader: Unable to load native-hadoop library for your platform... using builtin-java classes where applicable\n",
      "25/06/26 23:41:18 WARN Utils: Service 'SparkUI' could not bind on port 4040. Attempting port 4041.\n",
      "25/06/26 23:41:18 WARN Utils: Service 'SparkUI' could not bind on port 4041. Attempting port 4042.\n"
     ]
    },
    {
     "name": "stdout",
     "output_type": "stream",
     "text": [
      "\n",
      "\n",
      "---starting job---\n",
      "\n",
      "\n",
      "{'model_artefact_filepath': 'model_bank/reg_2018_04_01.pkl',\n",
      " 'model_bank_directory': 'model_bank/',\n",
      " 'model_name': 'reg_2018_04_01.pkl',\n",
      " 'snapshot_date': datetime.datetime(2017, 2, 20, 0, 0),\n",
      " 'snapshot_date_str': '2017-02-20'}\n",
      "Model loaded successfully! model_bank/reg_2018_04_01.pkl\n"
     ]
    },
    {
     "name": "stderr",
     "output_type": "stream",
     "text": [
      "Saving labels:   0%|          | 0/1 [00:00<?, ?it/s]/opt/anaconda3/envs/mle_env/lib/python3.10/site-packages/sklearn/utils/validation.py:2732: UserWarning: X has feature names, but StandardScaler was fitted without feature names\n",
      "  warnings.warn(\n",
      "Saving labels: 100%|██████████| 1/1 [00:02<00:00,  2.61s/it]\n"
     ]
    },
    {
     "name": "stdout",
     "output_type": "stream",
     "text": [
      "X_inference 59\n",
      "num of rows add:59\n",
      "datamart/gold/model_predictions/reg_2018_04_01/\n"
     ]
    },
    {
     "name": "stderr",
     "output_type": "stream",
     "text": [
      "                                                                                \r"
     ]
    },
    {
     "name": "stdout",
     "output_type": "stream",
     "text": [
      "saved to: datamart/gold/model_predictions/reg_2018_04_01/reg_2018_04_01_predictions_2017_02_20.parquet\n",
      "rows added: 59\n",
      "\n",
      "\n",
      "---completed job---\n",
      "\n",
      "\n",
      "execute command: python model_inference.py --snapshotdate \"2017-02-21\" --modelname \"reg_2018_04_01.pkl\"\n"
     ]
    },
    {
     "name": "stderr",
     "output_type": "stream",
     "text": [
      "Setting default log level to \"WARN\".\n",
      "To adjust logging level use sc.setLogLevel(newLevel). For SparkR, use setLogLevel(newLevel).\n",
      "25/06/26 23:41:26 WARN NativeCodeLoader: Unable to load native-hadoop library for your platform... using builtin-java classes where applicable\n",
      "25/06/26 23:41:26 WARN Utils: Service 'SparkUI' could not bind on port 4040. Attempting port 4041.\n",
      "25/06/26 23:41:26 WARN Utils: Service 'SparkUI' could not bind on port 4041. Attempting port 4042.\n"
     ]
    },
    {
     "name": "stdout",
     "output_type": "stream",
     "text": [
      "\n",
      "\n",
      "---starting job---\n",
      "\n",
      "\n",
      "{'model_artefact_filepath': 'model_bank/reg_2018_04_01.pkl',\n",
      " 'model_bank_directory': 'model_bank/',\n",
      " 'model_name': 'reg_2018_04_01.pkl',\n",
      " 'snapshot_date': datetime.datetime(2017, 2, 21, 0, 0),\n",
      " 'snapshot_date_str': '2017-02-21'}\n",
      "Model loaded successfully! model_bank/reg_2018_04_01.pkl\n"
     ]
    },
    {
     "name": "stderr",
     "output_type": "stream",
     "text": [
      "Saving labels:   0%|          | 0/1 [00:00<?, ?it/s]/opt/anaconda3/envs/mle_env/lib/python3.10/site-packages/sklearn/utils/validation.py:2732: UserWarning: X has feature names, but StandardScaler was fitted without feature names\n",
      "  warnings.warn(\n",
      "Saving labels: 100%|██████████| 1/1 [00:03<00:00,  3.12s/it]\n"
     ]
    },
    {
     "name": "stdout",
     "output_type": "stream",
     "text": [
      "X_inference 39\n",
      "num of rows add:39\n",
      "datamart/gold/model_predictions/reg_2018_04_01/\n"
     ]
    },
    {
     "name": "stderr",
     "output_type": "stream",
     "text": [
      "                                                                                \r"
     ]
    },
    {
     "name": "stdout",
     "output_type": "stream",
     "text": [
      "saved to: datamart/gold/model_predictions/reg_2018_04_01/reg_2018_04_01_predictions_2017_02_21.parquet\n",
      "rows added: 39\n",
      "\n",
      "\n",
      "---completed job---\n",
      "\n",
      "\n",
      "execute command: python model_inference.py --snapshotdate \"2017-02-22\" --modelname \"reg_2018_04_01.pkl\"\n"
     ]
    },
    {
     "name": "stderr",
     "output_type": "stream",
     "text": [
      "Setting default log level to \"WARN\".\n",
      "To adjust logging level use sc.setLogLevel(newLevel). For SparkR, use setLogLevel(newLevel).\n",
      "25/06/26 23:41:35 WARN NativeCodeLoader: Unable to load native-hadoop library for your platform... using builtin-java classes where applicable\n",
      "25/06/26 23:41:36 WARN Utils: Service 'SparkUI' could not bind on port 4040. Attempting port 4041.\n",
      "25/06/26 23:41:36 WARN Utils: Service 'SparkUI' could not bind on port 4041. Attempting port 4042.\n"
     ]
    },
    {
     "name": "stdout",
     "output_type": "stream",
     "text": [
      "\n",
      "\n",
      "---starting job---\n",
      "\n",
      "\n",
      "{'model_artefact_filepath': 'model_bank/reg_2018_04_01.pkl',\n",
      " 'model_bank_directory': 'model_bank/',\n",
      " 'model_name': 'reg_2018_04_01.pkl',\n",
      " 'snapshot_date': datetime.datetime(2017, 2, 22, 0, 0),\n",
      " 'snapshot_date_str': '2017-02-22'}\n",
      "Model loaded successfully! model_bank/reg_2018_04_01.pkl\n"
     ]
    },
    {
     "name": "stderr",
     "output_type": "stream",
     "text": [
      "Saving labels:   0%|          | 0/1 [00:00<?, ?it/s]/opt/anaconda3/envs/mle_env/lib/python3.10/site-packages/sklearn/utils/validation.py:2732: UserWarning: X has feature names, but StandardScaler was fitted without feature names\n",
      "  warnings.warn(\n",
      "Saving labels: 100%|██████████| 1/1 [00:03<00:00,  3.09s/it]\n"
     ]
    },
    {
     "name": "stdout",
     "output_type": "stream",
     "text": [
      "X_inference 53\n",
      "num of rows add:53\n",
      "datamart/gold/model_predictions/reg_2018_04_01/\n"
     ]
    },
    {
     "name": "stderr",
     "output_type": "stream",
     "text": [
      "                                                                                \r"
     ]
    },
    {
     "name": "stdout",
     "output_type": "stream",
     "text": [
      "saved to: datamart/gold/model_predictions/reg_2018_04_01/reg_2018_04_01_predictions_2017_02_22.parquet\n",
      "rows added: 53\n",
      "\n",
      "\n",
      "---completed job---\n",
      "\n",
      "\n",
      "execute command: python model_inference.py --snapshotdate \"2017-02-23\" --modelname \"reg_2018_04_01.pkl\"\n"
     ]
    },
    {
     "name": "stderr",
     "output_type": "stream",
     "text": [
      "Setting default log level to \"WARN\".\n",
      "To adjust logging level use sc.setLogLevel(newLevel). For SparkR, use setLogLevel(newLevel).\n",
      "25/06/26 23:41:44 WARN NativeCodeLoader: Unable to load native-hadoop library for your platform... using builtin-java classes where applicable\n",
      "25/06/26 23:41:45 WARN Utils: Service 'SparkUI' could not bind on port 4040. Attempting port 4041.\n",
      "25/06/26 23:41:45 WARN Utils: Service 'SparkUI' could not bind on port 4041. Attempting port 4042.\n"
     ]
    },
    {
     "name": "stdout",
     "output_type": "stream",
     "text": [
      "\n",
      "\n",
      "---starting job---\n",
      "\n",
      "\n",
      "{'model_artefact_filepath': 'model_bank/reg_2018_04_01.pkl',\n",
      " 'model_bank_directory': 'model_bank/',\n",
      " 'model_name': 'reg_2018_04_01.pkl',\n",
      " 'snapshot_date': datetime.datetime(2017, 2, 23, 0, 0),\n",
      " 'snapshot_date_str': '2017-02-23'}\n",
      "Model loaded successfully! model_bank/reg_2018_04_01.pkl\n"
     ]
    },
    {
     "name": "stderr",
     "output_type": "stream",
     "text": [
      "Saving labels:   0%|          | 0/1 [00:00<?, ?it/s]/opt/anaconda3/envs/mle_env/lib/python3.10/site-packages/sklearn/utils/validation.py:2732: UserWarning: X has feature names, but StandardScaler was fitted without feature names\n",
      "  warnings.warn(\n",
      "Saving labels: 100%|██████████| 1/1 [00:02<00:00,  2.54s/it]\n"
     ]
    },
    {
     "name": "stdout",
     "output_type": "stream",
     "text": [
      "X_inference 57\n",
      "num of rows add:57\n",
      "datamart/gold/model_predictions/reg_2018_04_01/\n"
     ]
    },
    {
     "name": "stderr",
     "output_type": "stream",
     "text": [
      "                                                                                \r"
     ]
    },
    {
     "name": "stdout",
     "output_type": "stream",
     "text": [
      "saved to: datamart/gold/model_predictions/reg_2018_04_01/reg_2018_04_01_predictions_2017_02_23.parquet\n",
      "rows added: 57\n",
      "\n",
      "\n",
      "---completed job---\n",
      "\n",
      "\n",
      "execute command: python model_inference.py --snapshotdate \"2017-02-24\" --modelname \"reg_2018_04_01.pkl\"\n"
     ]
    },
    {
     "name": "stderr",
     "output_type": "stream",
     "text": [
      "Setting default log level to \"WARN\".\n",
      "To adjust logging level use sc.setLogLevel(newLevel). For SparkR, use setLogLevel(newLevel).\n",
      "25/06/26 23:41:53 WARN NativeCodeLoader: Unable to load native-hadoop library for your platform... using builtin-java classes where applicable\n",
      "25/06/26 23:41:53 WARN Utils: Service 'SparkUI' could not bind on port 4040. Attempting port 4041.\n",
      "25/06/26 23:41:53 WARN Utils: Service 'SparkUI' could not bind on port 4041. Attempting port 4042.\n"
     ]
    },
    {
     "name": "stdout",
     "output_type": "stream",
     "text": [
      "\n",
      "\n",
      "---starting job---\n",
      "\n",
      "\n",
      "{'model_artefact_filepath': 'model_bank/reg_2018_04_01.pkl',\n",
      " 'model_bank_directory': 'model_bank/',\n",
      " 'model_name': 'reg_2018_04_01.pkl',\n",
      " 'snapshot_date': datetime.datetime(2017, 2, 24, 0, 0),\n",
      " 'snapshot_date_str': '2017-02-24'}\n",
      "Model loaded successfully! model_bank/reg_2018_04_01.pkl\n"
     ]
    },
    {
     "name": "stderr",
     "output_type": "stream",
     "text": [
      "Saving labels:   0%|          | 0/1 [00:00<?, ?it/s]/opt/anaconda3/envs/mle_env/lib/python3.10/site-packages/sklearn/utils/validation.py:2732: UserWarning: X has feature names, but StandardScaler was fitted without feature names\n",
      "  warnings.warn(\n",
      "Saving labels: 100%|██████████| 1/1 [00:02<00:00,  2.61s/it]\n"
     ]
    },
    {
     "name": "stdout",
     "output_type": "stream",
     "text": [
      "X_inference 60\n",
      "num of rows add:60\n",
      "datamart/gold/model_predictions/reg_2018_04_01/\n"
     ]
    },
    {
     "name": "stderr",
     "output_type": "stream",
     "text": [
      "                                                                                \r"
     ]
    },
    {
     "name": "stdout",
     "output_type": "stream",
     "text": [
      "saved to: datamart/gold/model_predictions/reg_2018_04_01/reg_2018_04_01_predictions_2017_02_24.parquet\n",
      "rows added: 60\n",
      "\n",
      "\n",
      "---completed job---\n",
      "\n",
      "\n",
      "execute command: python model_inference.py --snapshotdate \"2017-02-25\" --modelname \"reg_2018_04_01.pkl\"\n"
     ]
    },
    {
     "name": "stderr",
     "output_type": "stream",
     "text": [
      "Setting default log level to \"WARN\".\n",
      "To adjust logging level use sc.setLogLevel(newLevel). For SparkR, use setLogLevel(newLevel).\n",
      "25/06/26 23:42:01 WARN NativeCodeLoader: Unable to load native-hadoop library for your platform... using builtin-java classes where applicable\n",
      "25/06/26 23:42:02 WARN Utils: Service 'SparkUI' could not bind on port 4040. Attempting port 4041.\n",
      "25/06/26 23:42:02 WARN Utils: Service 'SparkUI' could not bind on port 4041. Attempting port 4042.\n"
     ]
    },
    {
     "name": "stdout",
     "output_type": "stream",
     "text": [
      "\n",
      "\n",
      "---starting job---\n",
      "\n",
      "\n",
      "{'model_artefact_filepath': 'model_bank/reg_2018_04_01.pkl',\n",
      " 'model_bank_directory': 'model_bank/',\n",
      " 'model_name': 'reg_2018_04_01.pkl',\n",
      " 'snapshot_date': datetime.datetime(2017, 2, 25, 0, 0),\n",
      " 'snapshot_date_str': '2017-02-25'}\n",
      "Model loaded successfully! model_bank/reg_2018_04_01.pkl\n"
     ]
    },
    {
     "name": "stderr",
     "output_type": "stream",
     "text": [
      "Saving labels:   0%|          | 0/1 [00:00<?, ?it/s]/opt/anaconda3/envs/mle_env/lib/python3.10/site-packages/sklearn/utils/validation.py:2732: UserWarning: X has feature names, but StandardScaler was fitted without feature names\n",
      "  warnings.warn(\n",
      "Saving labels: 100%|██████████| 1/1 [00:02<00:00,  2.73s/it]\n"
     ]
    },
    {
     "name": "stdout",
     "output_type": "stream",
     "text": [
      "X_inference 39\n",
      "num of rows add:39\n",
      "datamart/gold/model_predictions/reg_2018_04_01/\n"
     ]
    },
    {
     "name": "stderr",
     "output_type": "stream",
     "text": [
      "                                                                                \r"
     ]
    },
    {
     "name": "stdout",
     "output_type": "stream",
     "text": [
      "saved to: datamart/gold/model_predictions/reg_2018_04_01/reg_2018_04_01_predictions_2017_02_25.parquet\n",
      "rows added: 39\n",
      "\n",
      "\n",
      "---completed job---\n",
      "\n",
      "\n",
      "execute command: python model_inference.py --snapshotdate \"2017-02-26\" --modelname \"reg_2018_04_01.pkl\"\n"
     ]
    },
    {
     "name": "stderr",
     "output_type": "stream",
     "text": [
      "Setting default log level to \"WARN\".\n",
      "To adjust logging level use sc.setLogLevel(newLevel). For SparkR, use setLogLevel(newLevel).\n",
      "25/06/26 23:42:10 WARN NativeCodeLoader: Unable to load native-hadoop library for your platform... using builtin-java classes where applicable\n",
      "25/06/26 23:42:10 WARN Utils: Service 'SparkUI' could not bind on port 4040. Attempting port 4041.\n",
      "25/06/26 23:42:10 WARN Utils: Service 'SparkUI' could not bind on port 4041. Attempting port 4042.\n"
     ]
    },
    {
     "name": "stdout",
     "output_type": "stream",
     "text": [
      "\n",
      "\n",
      "---starting job---\n",
      "\n",
      "\n",
      "{'model_artefact_filepath': 'model_bank/reg_2018_04_01.pkl',\n",
      " 'model_bank_directory': 'model_bank/',\n",
      " 'model_name': 'reg_2018_04_01.pkl',\n",
      " 'snapshot_date': datetime.datetime(2017, 2, 26, 0, 0),\n",
      " 'snapshot_date_str': '2017-02-26'}\n",
      "Model loaded successfully! model_bank/reg_2018_04_01.pkl\n"
     ]
    },
    {
     "name": "stderr",
     "output_type": "stream",
     "text": [
      "Saving labels:   0%|          | 0/1 [00:00<?, ?it/s]/opt/anaconda3/envs/mle_env/lib/python3.10/site-packages/sklearn/utils/validation.py:2732: UserWarning: X has feature names, but StandardScaler was fitted without feature names\n",
      "  warnings.warn(\n",
      "Saving labels: 100%|██████████| 1/1 [00:02<00:00,  2.59s/it]\n"
     ]
    },
    {
     "name": "stdout",
     "output_type": "stream",
     "text": [
      "X_inference 42\n",
      "num of rows add:42\n",
      "datamart/gold/model_predictions/reg_2018_04_01/\n"
     ]
    },
    {
     "name": "stderr",
     "output_type": "stream",
     "text": [
      "                                                                                \r"
     ]
    },
    {
     "name": "stdout",
     "output_type": "stream",
     "text": [
      "saved to: datamart/gold/model_predictions/reg_2018_04_01/reg_2018_04_01_predictions_2017_02_26.parquet\n",
      "rows added: 42\n",
      "\n",
      "\n",
      "---completed job---\n",
      "\n",
      "\n",
      "execute command: python model_inference.py --snapshotdate \"2017-02-27\" --modelname \"reg_2018_04_01.pkl\"\n"
     ]
    },
    {
     "name": "stderr",
     "output_type": "stream",
     "text": [
      "Setting default log level to \"WARN\".\n",
      "To adjust logging level use sc.setLogLevel(newLevel). For SparkR, use setLogLevel(newLevel).\n",
      "25/06/26 23:42:19 WARN NativeCodeLoader: Unable to load native-hadoop library for your platform... using builtin-java classes where applicable\n",
      "25/06/26 23:42:19 WARN Utils: Service 'SparkUI' could not bind on port 4040. Attempting port 4041.\n",
      "25/06/26 23:42:19 WARN Utils: Service 'SparkUI' could not bind on port 4041. Attempting port 4042.\n"
     ]
    },
    {
     "name": "stdout",
     "output_type": "stream",
     "text": [
      "\n",
      "\n",
      "---starting job---\n",
      "\n",
      "\n",
      "{'model_artefact_filepath': 'model_bank/reg_2018_04_01.pkl',\n",
      " 'model_bank_directory': 'model_bank/',\n",
      " 'model_name': 'reg_2018_04_01.pkl',\n",
      " 'snapshot_date': datetime.datetime(2017, 2, 27, 0, 0),\n",
      " 'snapshot_date_str': '2017-02-27'}\n",
      "Model loaded successfully! model_bank/reg_2018_04_01.pkl\n"
     ]
    },
    {
     "name": "stderr",
     "output_type": "stream",
     "text": [
      "Saving labels:   0%|          | 0/1 [00:00<?, ?it/s]/opt/anaconda3/envs/mle_env/lib/python3.10/site-packages/sklearn/utils/validation.py:2732: UserWarning: X has feature names, but StandardScaler was fitted without feature names\n",
      "  warnings.warn(\n",
      "Saving labels: 100%|██████████| 1/1 [00:02<00:00,  2.59s/it]\n"
     ]
    },
    {
     "name": "stdout",
     "output_type": "stream",
     "text": [
      "X_inference 41\n",
      "num of rows add:41\n",
      "datamart/gold/model_predictions/reg_2018_04_01/\n"
     ]
    },
    {
     "name": "stderr",
     "output_type": "stream",
     "text": [
      "                                                                                \r"
     ]
    },
    {
     "name": "stdout",
     "output_type": "stream",
     "text": [
      "saved to: datamart/gold/model_predictions/reg_2018_04_01/reg_2018_04_01_predictions_2017_02_27.parquet\n",
      "rows added: 41\n",
      "\n",
      "\n",
      "---completed job---\n",
      "\n",
      "\n",
      "execute command: python model_inference.py --snapshotdate \"2017-02-28\" --modelname \"reg_2018_04_01.pkl\"\n"
     ]
    },
    {
     "name": "stderr",
     "output_type": "stream",
     "text": [
      "Setting default log level to \"WARN\".\n",
      "To adjust logging level use sc.setLogLevel(newLevel). For SparkR, use setLogLevel(newLevel).\n",
      "25/06/26 23:42:28 WARN NativeCodeLoader: Unable to load native-hadoop library for your platform... using builtin-java classes where applicable\n",
      "25/06/26 23:42:28 WARN Utils: Service 'SparkUI' could not bind on port 4040. Attempting port 4041.\n",
      "25/06/26 23:42:28 WARN Utils: Service 'SparkUI' could not bind on port 4041. Attempting port 4042.\n"
     ]
    },
    {
     "name": "stdout",
     "output_type": "stream",
     "text": [
      "\n",
      "\n",
      "---starting job---\n",
      "\n",
      "\n",
      "{'model_artefact_filepath': 'model_bank/reg_2018_04_01.pkl',\n",
      " 'model_bank_directory': 'model_bank/',\n",
      " 'model_name': 'reg_2018_04_01.pkl',\n",
      " 'snapshot_date': datetime.datetime(2017, 2, 28, 0, 0),\n",
      " 'snapshot_date_str': '2017-02-28'}\n",
      "Model loaded successfully! model_bank/reg_2018_04_01.pkl\n"
     ]
    },
    {
     "name": "stderr",
     "output_type": "stream",
     "text": [
      "Saving labels:   0%|          | 0/1 [00:00<?, ?it/s]/opt/anaconda3/envs/mle_env/lib/python3.10/site-packages/sklearn/utils/validation.py:2732: UserWarning: X has feature names, but StandardScaler was fitted without feature names\n",
      "  warnings.warn(\n",
      "Saving labels: 100%|██████████| 1/1 [00:02<00:00,  2.54s/it]\n"
     ]
    },
    {
     "name": "stdout",
     "output_type": "stream",
     "text": [
      "X_inference 53\n",
      "num of rows add:53\n",
      "datamart/gold/model_predictions/reg_2018_04_01/\n"
     ]
    },
    {
     "name": "stderr",
     "output_type": "stream",
     "text": [
      "                                                                                \r"
     ]
    },
    {
     "name": "stdout",
     "output_type": "stream",
     "text": [
      "saved to: datamart/gold/model_predictions/reg_2018_04_01/reg_2018_04_01_predictions_2017_02_28.parquet\n",
      "rows added: 53\n",
      "\n",
      "\n",
      "---completed job---\n",
      "\n",
      "\n",
      "execute command: python model_inference.py --snapshotdate \"2017-03-01\" --modelname \"reg_2018_04_01.pkl\"\n"
     ]
    },
    {
     "name": "stderr",
     "output_type": "stream",
     "text": [
      "Setting default log level to \"WARN\".\n",
      "To adjust logging level use sc.setLogLevel(newLevel). For SparkR, use setLogLevel(newLevel).\n",
      "25/06/26 23:42:36 WARN NativeCodeLoader: Unable to load native-hadoop library for your platform... using builtin-java classes where applicable\n",
      "25/06/26 23:42:37 WARN Utils: Service 'SparkUI' could not bind on port 4040. Attempting port 4041.\n",
      "25/06/26 23:42:37 WARN Utils: Service 'SparkUI' could not bind on port 4041. Attempting port 4042.\n"
     ]
    },
    {
     "name": "stdout",
     "output_type": "stream",
     "text": [
      "\n",
      "\n",
      "---starting job---\n",
      "\n",
      "\n",
      "{'model_artefact_filepath': 'model_bank/reg_2018_04_01.pkl',\n",
      " 'model_bank_directory': 'model_bank/',\n",
      " 'model_name': 'reg_2018_04_01.pkl',\n",
      " 'snapshot_date': datetime.datetime(2017, 3, 1, 0, 0),\n",
      " 'snapshot_date_str': '2017-03-01'}\n",
      "Model loaded successfully! model_bank/reg_2018_04_01.pkl\n"
     ]
    },
    {
     "name": "stderr",
     "output_type": "stream",
     "text": [
      "Saving labels:   0%|          | 0/1 [00:00<?, ?it/s]/opt/anaconda3/envs/mle_env/lib/python3.10/site-packages/sklearn/utils/validation.py:2732: UserWarning: X has feature names, but StandardScaler was fitted without feature names\n",
      "  warnings.warn(\n",
      "Saving labels: 100%|██████████| 1/1 [00:02<00:00,  2.62s/it]\n"
     ]
    },
    {
     "name": "stdout",
     "output_type": "stream",
     "text": [
      "X_inference 93\n",
      "num of rows add:93\n",
      "datamart/gold/model_predictions/reg_2018_04_01/\n"
     ]
    },
    {
     "name": "stderr",
     "output_type": "stream",
     "text": [
      "                                                                                \r"
     ]
    },
    {
     "name": "stdout",
     "output_type": "stream",
     "text": [
      "saved to: datamart/gold/model_predictions/reg_2018_04_01/reg_2018_04_01_predictions_2017_03_01.parquet\n",
      "rows added: 93\n",
      "\n",
      "\n",
      "---completed job---\n",
      "\n",
      "\n",
      "execute command: python model_inference.py --snapshotdate \"2017-03-02\" --modelname \"reg_2018_04_01.pkl\"\n"
     ]
    },
    {
     "name": "stderr",
     "output_type": "stream",
     "text": [
      "Setting default log level to \"WARN\".\n",
      "To adjust logging level use sc.setLogLevel(newLevel). For SparkR, use setLogLevel(newLevel).\n",
      "25/06/26 23:42:45 WARN NativeCodeLoader: Unable to load native-hadoop library for your platform... using builtin-java classes where applicable\n",
      "25/06/26 23:42:45 WARN Utils: Service 'SparkUI' could not bind on port 4040. Attempting port 4041.\n",
      "25/06/26 23:42:45 WARN Utils: Service 'SparkUI' could not bind on port 4041. Attempting port 4042.\n"
     ]
    },
    {
     "name": "stdout",
     "output_type": "stream",
     "text": [
      "\n",
      "\n",
      "---starting job---\n",
      "\n",
      "\n",
      "{'model_artefact_filepath': 'model_bank/reg_2018_04_01.pkl',\n",
      " 'model_bank_directory': 'model_bank/',\n",
      " 'model_name': 'reg_2018_04_01.pkl',\n",
      " 'snapshot_date': datetime.datetime(2017, 3, 2, 0, 0),\n",
      " 'snapshot_date_str': '2017-03-02'}\n",
      "Model loaded successfully! model_bank/reg_2018_04_01.pkl\n"
     ]
    },
    {
     "name": "stderr",
     "output_type": "stream",
     "text": [
      "Saving labels:   0%|          | 0/1 [00:00<?, ?it/s]/opt/anaconda3/envs/mle_env/lib/python3.10/site-packages/sklearn/utils/validation.py:2732: UserWarning: X has feature names, but StandardScaler was fitted without feature names\n",
      "  warnings.warn(\n",
      "Saving labels: 100%|██████████| 1/1 [00:02<00:00,  2.69s/it]\n"
     ]
    },
    {
     "name": "stdout",
     "output_type": "stream",
     "text": [
      "X_inference 66\n",
      "num of rows add:66\n",
      "datamart/gold/model_predictions/reg_2018_04_01/\n"
     ]
    },
    {
     "name": "stderr",
     "output_type": "stream",
     "text": [
      "                                                                                \r"
     ]
    },
    {
     "name": "stdout",
     "output_type": "stream",
     "text": [
      "saved to: datamart/gold/model_predictions/reg_2018_04_01/reg_2018_04_01_predictions_2017_03_02.parquet\n",
      "rows added: 66\n",
      "\n",
      "\n",
      "---completed job---\n",
      "\n",
      "\n",
      "execute command: python model_inference.py --snapshotdate \"2017-03-03\" --modelname \"reg_2018_04_01.pkl\"\n"
     ]
    },
    {
     "name": "stderr",
     "output_type": "stream",
     "text": [
      "Setting default log level to \"WARN\".\n",
      "To adjust logging level use sc.setLogLevel(newLevel). For SparkR, use setLogLevel(newLevel).\n",
      "25/06/26 23:42:53 WARN NativeCodeLoader: Unable to load native-hadoop library for your platform... using builtin-java classes where applicable\n",
      "25/06/26 23:42:54 WARN Utils: Service 'SparkUI' could not bind on port 4040. Attempting port 4041.\n",
      "25/06/26 23:42:54 WARN Utils: Service 'SparkUI' could not bind on port 4041. Attempting port 4042.\n"
     ]
    },
    {
     "name": "stdout",
     "output_type": "stream",
     "text": [
      "\n",
      "\n",
      "---starting job---\n",
      "\n",
      "\n",
      "{'model_artefact_filepath': 'model_bank/reg_2018_04_01.pkl',\n",
      " 'model_bank_directory': 'model_bank/',\n",
      " 'model_name': 'reg_2018_04_01.pkl',\n",
      " 'snapshot_date': datetime.datetime(2017, 3, 3, 0, 0),\n",
      " 'snapshot_date_str': '2017-03-03'}\n",
      "Model loaded successfully! model_bank/reg_2018_04_01.pkl\n"
     ]
    },
    {
     "name": "stderr",
     "output_type": "stream",
     "text": [
      "Saving labels:   0%|          | 0/1 [00:00<?, ?it/s]/opt/anaconda3/envs/mle_env/lib/python3.10/site-packages/sklearn/utils/validation.py:2732: UserWarning: X has feature names, but StandardScaler was fitted without feature names\n",
      "  warnings.warn(\n",
      "Saving labels: 100%|██████████| 1/1 [00:02<00:00,  2.69s/it]\n"
     ]
    },
    {
     "name": "stdout",
     "output_type": "stream",
     "text": [
      "X_inference 72\n",
      "num of rows add:72\n",
      "datamart/gold/model_predictions/reg_2018_04_01/\n"
     ]
    },
    {
     "name": "stderr",
     "output_type": "stream",
     "text": [
      "                                                                                \r"
     ]
    },
    {
     "name": "stdout",
     "output_type": "stream",
     "text": [
      "saved to: datamart/gold/model_predictions/reg_2018_04_01/reg_2018_04_01_predictions_2017_03_03.parquet\n",
      "rows added: 72\n",
      "\n",
      "\n",
      "---completed job---\n",
      "\n",
      "\n",
      "execute command: python model_inference.py --snapshotdate \"2017-03-04\" --modelname \"reg_2018_04_01.pkl\"\n"
     ]
    },
    {
     "name": "stderr",
     "output_type": "stream",
     "text": [
      "Setting default log level to \"WARN\".\n",
      "To adjust logging level use sc.setLogLevel(newLevel). For SparkR, use setLogLevel(newLevel).\n",
      "25/06/26 23:43:02 WARN NativeCodeLoader: Unable to load native-hadoop library for your platform... using builtin-java classes where applicable\n",
      "25/06/26 23:43:02 WARN Utils: Service 'SparkUI' could not bind on port 4040. Attempting port 4041.\n",
      "25/06/26 23:43:02 WARN Utils: Service 'SparkUI' could not bind on port 4041. Attempting port 4042.\n"
     ]
    },
    {
     "name": "stdout",
     "output_type": "stream",
     "text": [
      "\n",
      "\n",
      "---starting job---\n",
      "\n",
      "\n",
      "{'model_artefact_filepath': 'model_bank/reg_2018_04_01.pkl',\n",
      " 'model_bank_directory': 'model_bank/',\n",
      " 'model_name': 'reg_2018_04_01.pkl',\n",
      " 'snapshot_date': datetime.datetime(2017, 3, 4, 0, 0),\n",
      " 'snapshot_date_str': '2017-03-04'}\n",
      "Model loaded successfully! model_bank/reg_2018_04_01.pkl\n"
     ]
    },
    {
     "name": "stderr",
     "output_type": "stream",
     "text": [
      "Saving labels:   0%|          | 0/1 [00:00<?, ?it/s]/opt/anaconda3/envs/mle_env/lib/python3.10/site-packages/sklearn/utils/validation.py:2732: UserWarning: X has feature names, but StandardScaler was fitted without feature names\n",
      "  warnings.warn(\n",
      "Saving labels: 100%|██████████| 1/1 [00:02<00:00,  2.74s/it]\n"
     ]
    },
    {
     "name": "stdout",
     "output_type": "stream",
     "text": [
      "X_inference 69\n",
      "num of rows add:69\n",
      "datamart/gold/model_predictions/reg_2018_04_01/\n"
     ]
    },
    {
     "name": "stderr",
     "output_type": "stream",
     "text": [
      "                                                                                \r"
     ]
    },
    {
     "name": "stdout",
     "output_type": "stream",
     "text": [
      "saved to: datamart/gold/model_predictions/reg_2018_04_01/reg_2018_04_01_predictions_2017_03_04.parquet\n",
      "rows added: 69\n",
      "\n",
      "\n",
      "---completed job---\n",
      "\n",
      "\n",
      "execute command: python model_inference.py --snapshotdate \"2017-03-05\" --modelname \"reg_2018_04_01.pkl\"\n"
     ]
    },
    {
     "name": "stderr",
     "output_type": "stream",
     "text": [
      "Setting default log level to \"WARN\".\n",
      "To adjust logging level use sc.setLogLevel(newLevel). For SparkR, use setLogLevel(newLevel).\n",
      "25/06/26 23:43:11 WARN NativeCodeLoader: Unable to load native-hadoop library for your platform... using builtin-java classes where applicable\n",
      "25/06/26 23:43:11 WARN Utils: Service 'SparkUI' could not bind on port 4040. Attempting port 4041.\n",
      "25/06/26 23:43:11 WARN Utils: Service 'SparkUI' could not bind on port 4041. Attempting port 4042.\n"
     ]
    },
    {
     "name": "stdout",
     "output_type": "stream",
     "text": [
      "\n",
      "\n",
      "---starting job---\n",
      "\n",
      "\n",
      "{'model_artefact_filepath': 'model_bank/reg_2018_04_01.pkl',\n",
      " 'model_bank_directory': 'model_bank/',\n",
      " 'model_name': 'reg_2018_04_01.pkl',\n",
      " 'snapshot_date': datetime.datetime(2017, 3, 5, 0, 0),\n",
      " 'snapshot_date_str': '2017-03-05'}\n",
      "Model loaded successfully! model_bank/reg_2018_04_01.pkl\n"
     ]
    },
    {
     "name": "stderr",
     "output_type": "stream",
     "text": [
      "Saving labels:   0%|          | 0/1 [00:00<?, ?it/s]/opt/anaconda3/envs/mle_env/lib/python3.10/site-packages/sklearn/utils/validation.py:2732: UserWarning: X has feature names, but StandardScaler was fitted without feature names\n",
      "  warnings.warn(\n",
      "Saving labels: 100%|██████████| 1/1 [00:02<00:00,  2.67s/it]\n"
     ]
    },
    {
     "name": "stdout",
     "output_type": "stream",
     "text": [
      "X_inference 67\n",
      "num of rows add:67\n",
      "datamart/gold/model_predictions/reg_2018_04_01/\n"
     ]
    },
    {
     "name": "stderr",
     "output_type": "stream",
     "text": [
      "                                                                                \r"
     ]
    },
    {
     "name": "stdout",
     "output_type": "stream",
     "text": [
      "saved to: datamart/gold/model_predictions/reg_2018_04_01/reg_2018_04_01_predictions_2017_03_05.parquet\n",
      "rows added: 67\n",
      "\n",
      "\n",
      "---completed job---\n",
      "\n",
      "\n",
      "execute command: python model_inference.py --snapshotdate \"2017-03-06\" --modelname \"reg_2018_04_01.pkl\"\n"
     ]
    },
    {
     "name": "stderr",
     "output_type": "stream",
     "text": [
      "Setting default log level to \"WARN\".\n",
      "To adjust logging level use sc.setLogLevel(newLevel). For SparkR, use setLogLevel(newLevel).\n",
      "25/06/26 23:43:20 WARN NativeCodeLoader: Unable to load native-hadoop library for your platform... using builtin-java classes where applicable\n",
      "25/06/26 23:43:20 WARN Utils: Service 'SparkUI' could not bind on port 4040. Attempting port 4041.\n",
      "25/06/26 23:43:20 WARN Utils: Service 'SparkUI' could not bind on port 4041. Attempting port 4042.\n"
     ]
    },
    {
     "name": "stdout",
     "output_type": "stream",
     "text": [
      "\n",
      "\n",
      "---starting job---\n",
      "\n",
      "\n",
      "{'model_artefact_filepath': 'model_bank/reg_2018_04_01.pkl',\n",
      " 'model_bank_directory': 'model_bank/',\n",
      " 'model_name': 'reg_2018_04_01.pkl',\n",
      " 'snapshot_date': datetime.datetime(2017, 3, 6, 0, 0),\n",
      " 'snapshot_date_str': '2017-03-06'}\n",
      "Model loaded successfully! model_bank/reg_2018_04_01.pkl\n"
     ]
    },
    {
     "name": "stderr",
     "output_type": "stream",
     "text": [
      "Saving labels:   0%|          | 0/1 [00:00<?, ?it/s]/opt/anaconda3/envs/mle_env/lib/python3.10/site-packages/sklearn/utils/validation.py:2732: UserWarning: X has feature names, but StandardScaler was fitted without feature names\n",
      "  warnings.warn(\n",
      "Saving labels: 100%|██████████| 1/1 [00:02<00:00,  2.71s/it]\n"
     ]
    },
    {
     "name": "stdout",
     "output_type": "stream",
     "text": [
      "X_inference 94\n",
      "num of rows add:94\n",
      "datamart/gold/model_predictions/reg_2018_04_01/\n"
     ]
    },
    {
     "name": "stderr",
     "output_type": "stream",
     "text": [
      "                                                                                \r"
     ]
    },
    {
     "name": "stdout",
     "output_type": "stream",
     "text": [
      "saved to: datamart/gold/model_predictions/reg_2018_04_01/reg_2018_04_01_predictions_2017_03_06.parquet\n",
      "rows added: 94\n",
      "\n",
      "\n",
      "---completed job---\n",
      "\n",
      "\n",
      "execute command: python model_inference.py --snapshotdate \"2017-03-07\" --modelname \"reg_2018_04_01.pkl\"\n"
     ]
    },
    {
     "name": "stderr",
     "output_type": "stream",
     "text": [
      "Setting default log level to \"WARN\".\n",
      "To adjust logging level use sc.setLogLevel(newLevel). For SparkR, use setLogLevel(newLevel).\n",
      "25/06/26 23:43:29 WARN NativeCodeLoader: Unable to load native-hadoop library for your platform... using builtin-java classes where applicable\n",
      "25/06/26 23:43:31 WARN Utils: Service 'SparkUI' could not bind on port 4040. Attempting port 4041.\n",
      "25/06/26 23:43:31 WARN Utils: Service 'SparkUI' could not bind on port 4041. Attempting port 4042.\n"
     ]
    },
    {
     "name": "stdout",
     "output_type": "stream",
     "text": [
      "\n",
      "\n",
      "---starting job---\n",
      "\n",
      "\n",
      "{'model_artefact_filepath': 'model_bank/reg_2018_04_01.pkl',\n",
      " 'model_bank_directory': 'model_bank/',\n",
      " 'model_name': 'reg_2018_04_01.pkl',\n",
      " 'snapshot_date': datetime.datetime(2017, 3, 7, 0, 0),\n",
      " 'snapshot_date_str': '2017-03-07'}\n",
      "Model loaded successfully! model_bank/reg_2018_04_01.pkl\n"
     ]
    },
    {
     "name": "stderr",
     "output_type": "stream",
     "text": [
      "Saving labels:   0%|          | 0/1 [00:00<?, ?it/s]/opt/anaconda3/envs/mle_env/lib/python3.10/site-packages/sklearn/utils/validation.py:2732: UserWarning: X has feature names, but StandardScaler was fitted without feature names\n",
      "  warnings.warn(\n",
      "Saving labels: 100%|██████████| 1/1 [00:02<00:00,  2.81s/it]\n"
     ]
    },
    {
     "name": "stdout",
     "output_type": "stream",
     "text": [
      "X_inference 78\n",
      "num of rows add:78\n",
      "datamart/gold/model_predictions/reg_2018_04_01/\n"
     ]
    },
    {
     "name": "stderr",
     "output_type": "stream",
     "text": [
      "                                                                                \r"
     ]
    },
    {
     "name": "stdout",
     "output_type": "stream",
     "text": [
      "saved to: datamart/gold/model_predictions/reg_2018_04_01/reg_2018_04_01_predictions_2017_03_07.parquet\n",
      "rows added: 78\n",
      "\n",
      "\n",
      "---completed job---\n",
      "\n",
      "\n",
      "execute command: python model_inference.py --snapshotdate \"2017-03-08\" --modelname \"reg_2018_04_01.pkl\"\n"
     ]
    },
    {
     "name": "stderr",
     "output_type": "stream",
     "text": [
      "Setting default log level to \"WARN\".\n",
      "To adjust logging level use sc.setLogLevel(newLevel). For SparkR, use setLogLevel(newLevel).\n",
      "25/06/26 23:43:40 WARN NativeCodeLoader: Unable to load native-hadoop library for your platform... using builtin-java classes where applicable\n",
      "25/06/26 23:43:42 WARN Utils: Service 'SparkUI' could not bind on port 4040. Attempting port 4041.\n",
      "25/06/26 23:43:42 WARN Utils: Service 'SparkUI' could not bind on port 4041. Attempting port 4042.\n"
     ]
    },
    {
     "name": "stdout",
     "output_type": "stream",
     "text": [
      "\n",
      "\n",
      "---starting job---\n",
      "\n",
      "\n",
      "{'model_artefact_filepath': 'model_bank/reg_2018_04_01.pkl',\n",
      " 'model_bank_directory': 'model_bank/',\n",
      " 'model_name': 'reg_2018_04_01.pkl',\n",
      " 'snapshot_date': datetime.datetime(2017, 3, 8, 0, 0),\n",
      " 'snapshot_date_str': '2017-03-08'}\n",
      "Model loaded successfully! model_bank/reg_2018_04_01.pkl\n"
     ]
    },
    {
     "name": "stderr",
     "output_type": "stream",
     "text": [
      "/opt/anaconda3/envs/mle_env/lib/python3.10/site-packages/sklearn/utils/validation.py:2732: UserWarning: X has feature names, but StandardScaler was fitted without feature names\n",
      "  warnings.warn(\n",
      "Saving labels: 100%|██████████| 1/1 [00:05<00:00,  5.66s/it]\n"
     ]
    },
    {
     "name": "stdout",
     "output_type": "stream",
     "text": [
      "X_inference 73\n",
      "num of rows add:73\n",
      "datamart/gold/model_predictions/reg_2018_04_01/\n"
     ]
    },
    {
     "name": "stderr",
     "output_type": "stream",
     "text": [
      "                                                                                \r"
     ]
    },
    {
     "name": "stdout",
     "output_type": "stream",
     "text": [
      "saved to: datamart/gold/model_predictions/reg_2018_04_01/reg_2018_04_01_predictions_2017_03_08.parquet\n",
      "rows added: 73\n",
      "\n",
      "\n",
      "---completed job---\n",
      "\n",
      "\n",
      "execute command: python model_inference.py --snapshotdate \"2017-03-09\" --modelname \"reg_2018_04_01.pkl\"\n"
     ]
    },
    {
     "name": "stderr",
     "output_type": "stream",
     "text": [
      "Setting default log level to \"WARN\".\n",
      "To adjust logging level use sc.setLogLevel(newLevel). For SparkR, use setLogLevel(newLevel).\n",
      "25/06/26 23:43:54 WARN NativeCodeLoader: Unable to load native-hadoop library for your platform... using builtin-java classes where applicable\n",
      "25/06/26 23:43:55 WARN Utils: Service 'SparkUI' could not bind on port 4040. Attempting port 4041.\n",
      "25/06/26 23:43:55 WARN Utils: Service 'SparkUI' could not bind on port 4041. Attempting port 4042.\n"
     ]
    },
    {
     "name": "stdout",
     "output_type": "stream",
     "text": [
      "\n",
      "\n",
      "---starting job---\n",
      "\n",
      "\n",
      "{'model_artefact_filepath': 'model_bank/reg_2018_04_01.pkl',\n",
      " 'model_bank_directory': 'model_bank/',\n",
      " 'model_name': 'reg_2018_04_01.pkl',\n",
      " 'snapshot_date': datetime.datetime(2017, 3, 9, 0, 0),\n",
      " 'snapshot_date_str': '2017-03-09'}\n",
      "Model loaded successfully! model_bank/reg_2018_04_01.pkl\n"
     ]
    },
    {
     "name": "stderr",
     "output_type": "stream",
     "text": [
      "/opt/anaconda3/envs/mle_env/lib/python3.10/site-packages/sklearn/utils/validation.py:2732: UserWarning: X has feature names, but StandardScaler was fitted without feature names\n",
      "  warnings.warn(\n",
      "Saving labels: 100%|██████████| 1/1 [00:03<00:00,  3.85s/it]\n"
     ]
    },
    {
     "name": "stdout",
     "output_type": "stream",
     "text": [
      "X_inference 88\n",
      "num of rows add:88\n",
      "datamart/gold/model_predictions/reg_2018_04_01/\n"
     ]
    },
    {
     "name": "stderr",
     "output_type": "stream",
     "text": [
      "                                                                                \r"
     ]
    },
    {
     "name": "stdout",
     "output_type": "stream",
     "text": [
      "saved to: datamart/gold/model_predictions/reg_2018_04_01/reg_2018_04_01_predictions_2017_03_09.parquet\n",
      "rows added: 88\n",
      "\n",
      "\n",
      "---completed job---\n",
      "\n",
      "\n",
      "execute command: python model_inference.py --snapshotdate \"2017-03-10\" --modelname \"reg_2018_04_01.pkl\"\n"
     ]
    },
    {
     "name": "stderr",
     "output_type": "stream",
     "text": [
      "Setting default log level to \"WARN\".\n",
      "To adjust logging level use sc.setLogLevel(newLevel). For SparkR, use setLogLevel(newLevel).\n",
      "25/06/26 23:44:05 WARN NativeCodeLoader: Unable to load native-hadoop library for your platform... using builtin-java classes where applicable\n",
      "25/06/26 23:44:05 WARN Utils: Service 'SparkUI' could not bind on port 4040. Attempting port 4041.\n",
      "25/06/26 23:44:05 WARN Utils: Service 'SparkUI' could not bind on port 4041. Attempting port 4042.\n"
     ]
    },
    {
     "name": "stdout",
     "output_type": "stream",
     "text": [
      "\n",
      "\n",
      "---starting job---\n",
      "\n",
      "\n",
      "{'model_artefact_filepath': 'model_bank/reg_2018_04_01.pkl',\n",
      " 'model_bank_directory': 'model_bank/',\n",
      " 'model_name': 'reg_2018_04_01.pkl',\n",
      " 'snapshot_date': datetime.datetime(2017, 3, 10, 0, 0),\n",
      " 'snapshot_date_str': '2017-03-10'}\n",
      "Model loaded successfully! model_bank/reg_2018_04_01.pkl\n"
     ]
    },
    {
     "name": "stderr",
     "output_type": "stream",
     "text": [
      "Saving labels:   0%|          | 0/1 [00:00<?, ?it/s]/opt/anaconda3/envs/mle_env/lib/python3.10/site-packages/sklearn/utils/validation.py:2732: UserWarning: X has feature names, but StandardScaler was fitted without feature names\n",
      "  warnings.warn(\n",
      "Saving labels: 100%|██████████| 1/1 [00:03<00:00,  3.16s/it]\n"
     ]
    },
    {
     "name": "stdout",
     "output_type": "stream",
     "text": [
      "X_inference 84\n",
      "num of rows add:84\n",
      "datamart/gold/model_predictions/reg_2018_04_01/\n"
     ]
    },
    {
     "name": "stderr",
     "output_type": "stream",
     "text": [
      "                                                                                \r"
     ]
    },
    {
     "name": "stdout",
     "output_type": "stream",
     "text": [
      "saved to: datamart/gold/model_predictions/reg_2018_04_01/reg_2018_04_01_predictions_2017_03_10.parquet\n",
      "rows added: 84\n",
      "\n",
      "\n",
      "---completed job---\n",
      "\n",
      "\n",
      "execute command: python model_inference.py --snapshotdate \"2017-03-11\" --modelname \"reg_2018_04_01.pkl\"\n"
     ]
    },
    {
     "name": "stderr",
     "output_type": "stream",
     "text": [
      "Setting default log level to \"WARN\".\n",
      "To adjust logging level use sc.setLogLevel(newLevel). For SparkR, use setLogLevel(newLevel).\n",
      "25/06/26 23:44:14 WARN NativeCodeLoader: Unable to load native-hadoop library for your platform... using builtin-java classes where applicable\n",
      "25/06/26 23:44:15 WARN Utils: Service 'SparkUI' could not bind on port 4040. Attempting port 4041.\n",
      "25/06/26 23:44:15 WARN Utils: Service 'SparkUI' could not bind on port 4041. Attempting port 4042.\n"
     ]
    },
    {
     "name": "stdout",
     "output_type": "stream",
     "text": [
      "\n",
      "\n",
      "---starting job---\n",
      "\n",
      "\n",
      "{'model_artefact_filepath': 'model_bank/reg_2018_04_01.pkl',\n",
      " 'model_bank_directory': 'model_bank/',\n",
      " 'model_name': 'reg_2018_04_01.pkl',\n",
      " 'snapshot_date': datetime.datetime(2017, 3, 11, 0, 0),\n",
      " 'snapshot_date_str': '2017-03-11'}\n",
      "Model loaded successfully! model_bank/reg_2018_04_01.pkl\n"
     ]
    },
    {
     "name": "stderr",
     "output_type": "stream",
     "text": [
      "/opt/anaconda3/envs/mle_env/lib/python3.10/site-packages/sklearn/utils/validation.py:2732: UserWarning: X has feature names, but StandardScaler was fitted without feature names\n",
      "  warnings.warn(\n",
      "Saving labels: 100%|██████████| 1/1 [00:03<00:00,  3.10s/it]\n"
     ]
    },
    {
     "name": "stdout",
     "output_type": "stream",
     "text": [
      "X_inference 68\n",
      "num of rows add:68\n",
      "datamart/gold/model_predictions/reg_2018_04_01/\n"
     ]
    },
    {
     "name": "stderr",
     "output_type": "stream",
     "text": [
      "                                                                                \r"
     ]
    },
    {
     "name": "stdout",
     "output_type": "stream",
     "text": [
      "saved to: datamart/gold/model_predictions/reg_2018_04_01/reg_2018_04_01_predictions_2017_03_11.parquet\n",
      "rows added: 68\n",
      "\n",
      "\n",
      "---completed job---\n",
      "\n",
      "\n",
      "execute command: python model_inference.py --snapshotdate \"2017-03-12\" --modelname \"reg_2018_04_01.pkl\"\n"
     ]
    },
    {
     "name": "stderr",
     "output_type": "stream",
     "text": [
      "Setting default log level to \"WARN\".\n",
      "To adjust logging level use sc.setLogLevel(newLevel). For SparkR, use setLogLevel(newLevel).\n",
      "25/06/26 23:44:23 WARN NativeCodeLoader: Unable to load native-hadoop library for your platform... using builtin-java classes where applicable\n",
      "25/06/26 23:44:24 WARN Utils: Service 'SparkUI' could not bind on port 4040. Attempting port 4041.\n",
      "25/06/26 23:44:24 WARN Utils: Service 'SparkUI' could not bind on port 4041. Attempting port 4042.\n"
     ]
    },
    {
     "name": "stdout",
     "output_type": "stream",
     "text": [
      "\n",
      "\n",
      "---starting job---\n",
      "\n",
      "\n",
      "{'model_artefact_filepath': 'model_bank/reg_2018_04_01.pkl',\n",
      " 'model_bank_directory': 'model_bank/',\n",
      " 'model_name': 'reg_2018_04_01.pkl',\n",
      " 'snapshot_date': datetime.datetime(2017, 3, 12, 0, 0),\n",
      " 'snapshot_date_str': '2017-03-12'}\n",
      "Model loaded successfully! model_bank/reg_2018_04_01.pkl\n"
     ]
    },
    {
     "name": "stderr",
     "output_type": "stream",
     "text": [
      "/opt/anaconda3/envs/mle_env/lib/python3.10/site-packages/sklearn/utils/validation.py:2732: UserWarning: X has feature names, but StandardScaler was fitted without feature names\n",
      "  warnings.warn(\n",
      "Saving labels: 100%|██████████| 1/1 [00:03<00:00,  3.16s/it]\n"
     ]
    },
    {
     "name": "stdout",
     "output_type": "stream",
     "text": [
      "X_inference 63\n",
      "num of rows add:63\n",
      "datamart/gold/model_predictions/reg_2018_04_01/\n"
     ]
    },
    {
     "name": "stderr",
     "output_type": "stream",
     "text": [
      "                                                                                \r"
     ]
    },
    {
     "name": "stdout",
     "output_type": "stream",
     "text": [
      "saved to: datamart/gold/model_predictions/reg_2018_04_01/reg_2018_04_01_predictions_2017_03_12.parquet\n",
      "rows added: 63\n",
      "\n",
      "\n",
      "---completed job---\n",
      "\n",
      "\n",
      "execute command: python model_inference.py --snapshotdate \"2017-03-13\" --modelname \"reg_2018_04_01.pkl\"\n"
     ]
    },
    {
     "name": "stderr",
     "output_type": "stream",
     "text": [
      "Setting default log level to \"WARN\".\n",
      "To adjust logging level use sc.setLogLevel(newLevel). For SparkR, use setLogLevel(newLevel).\n",
      "25/06/26 23:44:33 WARN NativeCodeLoader: Unable to load native-hadoop library for your platform... using builtin-java classes where applicable\n",
      "25/06/26 23:44:33 WARN Utils: Service 'SparkUI' could not bind on port 4040. Attempting port 4041.\n",
      "25/06/26 23:44:33 WARN Utils: Service 'SparkUI' could not bind on port 4041. Attempting port 4042.\n"
     ]
    },
    {
     "name": "stdout",
     "output_type": "stream",
     "text": [
      "\n",
      "\n",
      "---starting job---\n",
      "\n",
      "\n",
      "{'model_artefact_filepath': 'model_bank/reg_2018_04_01.pkl',\n",
      " 'model_bank_directory': 'model_bank/',\n",
      " 'model_name': 'reg_2018_04_01.pkl',\n",
      " 'snapshot_date': datetime.datetime(2017, 3, 13, 0, 0),\n",
      " 'snapshot_date_str': '2017-03-13'}\n",
      "Model loaded successfully! model_bank/reg_2018_04_01.pkl\n"
     ]
    },
    {
     "name": "stderr",
     "output_type": "stream",
     "text": [
      "Saving labels:   0%|          | 0/1 [00:00<?, ?it/s]/opt/anaconda3/envs/mle_env/lib/python3.10/site-packages/sklearn/utils/validation.py:2732: UserWarning: X has feature names, but StandardScaler was fitted without feature names\n",
      "  warnings.warn(\n",
      "Saving labels: 100%|██████████| 1/1 [00:02<00:00,  2.68s/it]\n"
     ]
    },
    {
     "name": "stdout",
     "output_type": "stream",
     "text": [
      "X_inference 104\n",
      "num of rows add:104\n",
      "datamart/gold/model_predictions/reg_2018_04_01/\n"
     ]
    },
    {
     "name": "stderr",
     "output_type": "stream",
     "text": [
      "                                                                                \r"
     ]
    },
    {
     "name": "stdout",
     "output_type": "stream",
     "text": [
      "saved to: datamart/gold/model_predictions/reg_2018_04_01/reg_2018_04_01_predictions_2017_03_13.parquet\n",
      "rows added: 104\n",
      "\n",
      "\n",
      "---completed job---\n",
      "\n",
      "\n",
      "execute command: python model_inference.py --snapshotdate \"2017-03-14\" --modelname \"reg_2018_04_01.pkl\"\n"
     ]
    },
    {
     "name": "stderr",
     "output_type": "stream",
     "text": [
      "Setting default log level to \"WARN\".\n",
      "To adjust logging level use sc.setLogLevel(newLevel). For SparkR, use setLogLevel(newLevel).\n",
      "25/06/26 23:44:42 WARN NativeCodeLoader: Unable to load native-hadoop library for your platform... using builtin-java classes where applicable\n",
      "25/06/26 23:44:43 WARN Utils: Service 'SparkUI' could not bind on port 4040. Attempting port 4041.\n",
      "25/06/26 23:44:43 WARN Utils: Service 'SparkUI' could not bind on port 4041. Attempting port 4042.\n"
     ]
    },
    {
     "name": "stdout",
     "output_type": "stream",
     "text": [
      "\n",
      "\n",
      "---starting job---\n",
      "\n",
      "\n",
      "{'model_artefact_filepath': 'model_bank/reg_2018_04_01.pkl',\n",
      " 'model_bank_directory': 'model_bank/',\n",
      " 'model_name': 'reg_2018_04_01.pkl',\n",
      " 'snapshot_date': datetime.datetime(2017, 3, 14, 0, 0),\n",
      " 'snapshot_date_str': '2017-03-14'}\n",
      "Model loaded successfully! model_bank/reg_2018_04_01.pkl\n"
     ]
    },
    {
     "name": "stderr",
     "output_type": "stream",
     "text": [
      "Saving labels:   0%|          | 0/1 [00:00<?, ?it/s]/opt/anaconda3/envs/mle_env/lib/python3.10/site-packages/sklearn/utils/validation.py:2732: UserWarning: X has feature names, but StandardScaler was fitted without feature names\n",
      "  warnings.warn(\n",
      "Saving labels: 100%|██████████| 1/1 [00:02<00:00,  2.75s/it]\n"
     ]
    },
    {
     "name": "stdout",
     "output_type": "stream",
     "text": [
      "X_inference 95\n",
      "num of rows add:95\n",
      "datamart/gold/model_predictions/reg_2018_04_01/\n"
     ]
    },
    {
     "name": "stderr",
     "output_type": "stream",
     "text": [
      "                                                                                \r"
     ]
    },
    {
     "name": "stdout",
     "output_type": "stream",
     "text": [
      "saved to: datamart/gold/model_predictions/reg_2018_04_01/reg_2018_04_01_predictions_2017_03_14.parquet\n",
      "rows added: 95\n",
      "\n",
      "\n",
      "---completed job---\n",
      "\n",
      "\n",
      "execute command: python model_inference.py --snapshotdate \"2017-03-15\" --modelname \"reg_2018_04_01.pkl\"\n"
     ]
    },
    {
     "name": "stderr",
     "output_type": "stream",
     "text": [
      "Setting default log level to \"WARN\".\n",
      "To adjust logging level use sc.setLogLevel(newLevel). For SparkR, use setLogLevel(newLevel).\n",
      "25/06/26 23:44:51 WARN NativeCodeLoader: Unable to load native-hadoop library for your platform... using builtin-java classes where applicable\n",
      "25/06/26 23:44:52 WARN Utils: Service 'SparkUI' could not bind on port 4040. Attempting port 4041.\n",
      "25/06/26 23:44:52 WARN Utils: Service 'SparkUI' could not bind on port 4041. Attempting port 4042.\n"
     ]
    },
    {
     "name": "stdout",
     "output_type": "stream",
     "text": [
      "\n",
      "\n",
      "---starting job---\n",
      "\n",
      "\n",
      "{'model_artefact_filepath': 'model_bank/reg_2018_04_01.pkl',\n",
      " 'model_bank_directory': 'model_bank/',\n",
      " 'model_name': 'reg_2018_04_01.pkl',\n",
      " 'snapshot_date': datetime.datetime(2017, 3, 15, 0, 0),\n",
      " 'snapshot_date_str': '2017-03-15'}\n",
      "Model loaded successfully! model_bank/reg_2018_04_01.pkl\n"
     ]
    },
    {
     "name": "stderr",
     "output_type": "stream",
     "text": [
      "Saving labels:   0%|          | 0/1 [00:00<?, ?it/s]/opt/anaconda3/envs/mle_env/lib/python3.10/site-packages/sklearn/utils/validation.py:2732: UserWarning: X has feature names, but StandardScaler was fitted without feature names\n",
      "  warnings.warn(\n",
      "Saving labels: 100%|██████████| 1/1 [00:02<00:00,  2.61s/it]\n"
     ]
    },
    {
     "name": "stdout",
     "output_type": "stream",
     "text": [
      "X_inference 101\n",
      "num of rows add:101\n",
      "datamart/gold/model_predictions/reg_2018_04_01/\n"
     ]
    },
    {
     "name": "stderr",
     "output_type": "stream",
     "text": [
      "                                                                                \r"
     ]
    },
    {
     "name": "stdout",
     "output_type": "stream",
     "text": [
      "saved to: datamart/gold/model_predictions/reg_2018_04_01/reg_2018_04_01_predictions_2017_03_15.parquet\n",
      "rows added: 101\n",
      "\n",
      "\n",
      "---completed job---\n",
      "\n",
      "\n",
      "execute command: python model_inference.py --snapshotdate \"2017-03-16\" --modelname \"reg_2018_04_01.pkl\"\n"
     ]
    },
    {
     "name": "stderr",
     "output_type": "stream",
     "text": [
      "Setting default log level to \"WARN\".\n",
      "To adjust logging level use sc.setLogLevel(newLevel). For SparkR, use setLogLevel(newLevel).\n",
      "25/06/26 23:45:01 WARN NativeCodeLoader: Unable to load native-hadoop library for your platform... using builtin-java classes where applicable\n",
      "25/06/26 23:45:02 WARN Utils: Service 'SparkUI' could not bind on port 4040. Attempting port 4041.\n",
      "25/06/26 23:45:02 WARN Utils: Service 'SparkUI' could not bind on port 4041. Attempting port 4042.\n"
     ]
    },
    {
     "name": "stdout",
     "output_type": "stream",
     "text": [
      "\n",
      "\n",
      "---starting job---\n",
      "\n",
      "\n",
      "{'model_artefact_filepath': 'model_bank/reg_2018_04_01.pkl',\n",
      " 'model_bank_directory': 'model_bank/',\n",
      " 'model_name': 'reg_2018_04_01.pkl',\n",
      " 'snapshot_date': datetime.datetime(2017, 3, 16, 0, 0),\n",
      " 'snapshot_date_str': '2017-03-16'}\n",
      "Model loaded successfully! model_bank/reg_2018_04_01.pkl\n"
     ]
    },
    {
     "name": "stderr",
     "output_type": "stream",
     "text": [
      "Saving labels:   0%|          | 0/1 [00:00<?, ?it/s]/opt/anaconda3/envs/mle_env/lib/python3.10/site-packages/sklearn/utils/validation.py:2732: UserWarning: X has feature names, but StandardScaler was fitted without feature names\n",
      "  warnings.warn(\n",
      "Saving labels: 100%|██████████| 1/1 [00:02<00:00,  2.90s/it]\n"
     ]
    },
    {
     "name": "stdout",
     "output_type": "stream",
     "text": [
      "X_inference 100\n",
      "num of rows add:100\n",
      "datamart/gold/model_predictions/reg_2018_04_01/\n"
     ]
    },
    {
     "name": "stderr",
     "output_type": "stream",
     "text": [
      "                                                                                \r"
     ]
    },
    {
     "name": "stdout",
     "output_type": "stream",
     "text": [
      "saved to: datamart/gold/model_predictions/reg_2018_04_01/reg_2018_04_01_predictions_2017_03_16.parquet\n",
      "rows added: 100\n",
      "\n",
      "\n",
      "---completed job---\n",
      "\n",
      "\n",
      "execute command: python model_inference.py --snapshotdate \"2017-03-17\" --modelname \"reg_2018_04_01.pkl\"\n"
     ]
    },
    {
     "name": "stderr",
     "output_type": "stream",
     "text": [
      "Setting default log level to \"WARN\".\n",
      "To adjust logging level use sc.setLogLevel(newLevel). For SparkR, use setLogLevel(newLevel).\n",
      "25/06/26 23:45:11 WARN NativeCodeLoader: Unable to load native-hadoop library for your platform... using builtin-java classes where applicable\n",
      "25/06/26 23:45:12 WARN Utils: Service 'SparkUI' could not bind on port 4040. Attempting port 4041.\n",
      "25/06/26 23:45:12 WARN Utils: Service 'SparkUI' could not bind on port 4041. Attempting port 4042.\n"
     ]
    },
    {
     "name": "stdout",
     "output_type": "stream",
     "text": [
      "\n",
      "\n",
      "---starting job---\n",
      "\n",
      "\n",
      "{'model_artefact_filepath': 'model_bank/reg_2018_04_01.pkl',\n",
      " 'model_bank_directory': 'model_bank/',\n",
      " 'model_name': 'reg_2018_04_01.pkl',\n",
      " 'snapshot_date': datetime.datetime(2017, 3, 17, 0, 0),\n",
      " 'snapshot_date_str': '2017-03-17'}\n",
      "Model loaded successfully! model_bank/reg_2018_04_01.pkl\n"
     ]
    },
    {
     "name": "stderr",
     "output_type": "stream",
     "text": [
      "Saving labels:   0%|          | 0/1 [00:00<?, ?it/s]/opt/anaconda3/envs/mle_env/lib/python3.10/site-packages/sklearn/utils/validation.py:2732: UserWarning: X has feature names, but StandardScaler was fitted without feature names\n",
      "  warnings.warn(\n",
      "Saving labels: 100%|██████████| 1/1 [00:02<00:00,  2.64s/it]\n"
     ]
    },
    {
     "name": "stdout",
     "output_type": "stream",
     "text": [
      "X_inference 64\n",
      "num of rows add:64\n",
      "datamart/gold/model_predictions/reg_2018_04_01/\n"
     ]
    },
    {
     "name": "stderr",
     "output_type": "stream",
     "text": [
      "                                                                                \r"
     ]
    },
    {
     "name": "stdout",
     "output_type": "stream",
     "text": [
      "saved to: datamart/gold/model_predictions/reg_2018_04_01/reg_2018_04_01_predictions_2017_03_17.parquet\n",
      "rows added: 64\n",
      "\n",
      "\n",
      "---completed job---\n",
      "\n",
      "\n",
      "execute command: python model_inference.py --snapshotdate \"2017-03-18\" --modelname \"reg_2018_04_01.pkl\"\n"
     ]
    },
    {
     "name": "stderr",
     "output_type": "stream",
     "text": [
      "Setting default log level to \"WARN\".\n",
      "To adjust logging level use sc.setLogLevel(newLevel). For SparkR, use setLogLevel(newLevel).\n",
      "25/06/26 23:45:20 WARN NativeCodeLoader: Unable to load native-hadoop library for your platform... using builtin-java classes where applicable\n",
      "25/06/26 23:45:20 WARN Utils: Service 'SparkUI' could not bind on port 4040. Attempting port 4041.\n",
      "25/06/26 23:45:20 WARN Utils: Service 'SparkUI' could not bind on port 4041. Attempting port 4042.\n"
     ]
    },
    {
     "name": "stdout",
     "output_type": "stream",
     "text": [
      "\n",
      "\n",
      "---starting job---\n",
      "\n",
      "\n",
      "{'model_artefact_filepath': 'model_bank/reg_2018_04_01.pkl',\n",
      " 'model_bank_directory': 'model_bank/',\n",
      " 'model_name': 'reg_2018_04_01.pkl',\n",
      " 'snapshot_date': datetime.datetime(2017, 3, 18, 0, 0),\n",
      " 'snapshot_date_str': '2017-03-18'}\n",
      "Model loaded successfully! model_bank/reg_2018_04_01.pkl\n"
     ]
    },
    {
     "name": "stderr",
     "output_type": "stream",
     "text": [
      "Saving labels:   0%|          | 0/1 [00:00<?, ?it/s]/opt/anaconda3/envs/mle_env/lib/python3.10/site-packages/sklearn/utils/validation.py:2732: UserWarning: X has feature names, but StandardScaler was fitted without feature names\n",
      "  warnings.warn(\n",
      "Saving labels: 100%|██████████| 1/1 [00:02<00:00,  2.67s/it]\n"
     ]
    },
    {
     "name": "stdout",
     "output_type": "stream",
     "text": [
      "X_inference 71\n",
      "num of rows add:71\n",
      "datamart/gold/model_predictions/reg_2018_04_01/\n"
     ]
    },
    {
     "name": "stderr",
     "output_type": "stream",
     "text": [
      "                                                                                \r"
     ]
    },
    {
     "name": "stdout",
     "output_type": "stream",
     "text": [
      "saved to: datamart/gold/model_predictions/reg_2018_04_01/reg_2018_04_01_predictions_2017_03_18.parquet\n",
      "rows added: 71\n",
      "\n",
      "\n",
      "---completed job---\n",
      "\n",
      "\n",
      "execute command: python model_inference.py --snapshotdate \"2017-03-19\" --modelname \"reg_2018_04_01.pkl\"\n"
     ]
    },
    {
     "name": "stderr",
     "output_type": "stream",
     "text": [
      "Setting default log level to \"WARN\".\n",
      "To adjust logging level use sc.setLogLevel(newLevel). For SparkR, use setLogLevel(newLevel).\n",
      "25/06/26 23:45:29 WARN NativeCodeLoader: Unable to load native-hadoop library for your platform... using builtin-java classes where applicable\n",
      "25/06/26 23:45:30 WARN Utils: Service 'SparkUI' could not bind on port 4040. Attempting port 4041.\n",
      "25/06/26 23:45:30 WARN Utils: Service 'SparkUI' could not bind on port 4041. Attempting port 4042.\n"
     ]
    },
    {
     "name": "stdout",
     "output_type": "stream",
     "text": [
      "\n",
      "\n",
      "---starting job---\n",
      "\n",
      "\n",
      "{'model_artefact_filepath': 'model_bank/reg_2018_04_01.pkl',\n",
      " 'model_bank_directory': 'model_bank/',\n",
      " 'model_name': 'reg_2018_04_01.pkl',\n",
      " 'snapshot_date': datetime.datetime(2017, 3, 19, 0, 0),\n",
      " 'snapshot_date_str': '2017-03-19'}\n",
      "Model loaded successfully! model_bank/reg_2018_04_01.pkl\n"
     ]
    },
    {
     "name": "stderr",
     "output_type": "stream",
     "text": [
      "Saving labels:   0%|          | 0/1 [00:00<?, ?it/s]/opt/anaconda3/envs/mle_env/lib/python3.10/site-packages/sklearn/utils/validation.py:2732: UserWarning: X has feature names, but StandardScaler was fitted without feature names\n",
      "  warnings.warn(\n",
      "Saving labels: 100%|██████████| 1/1 [00:02<00:00,  2.93s/it]\n"
     ]
    },
    {
     "name": "stdout",
     "output_type": "stream",
     "text": [
      "X_inference 56\n",
      "num of rows add:56\n",
      "datamart/gold/model_predictions/reg_2018_04_01/\n"
     ]
    },
    {
     "name": "stderr",
     "output_type": "stream",
     "text": [
      "                                                                                \r"
     ]
    },
    {
     "name": "stdout",
     "output_type": "stream",
     "text": [
      "saved to: datamart/gold/model_predictions/reg_2018_04_01/reg_2018_04_01_predictions_2017_03_19.parquet\n",
      "rows added: 56\n",
      "\n",
      "\n",
      "---completed job---\n",
      "\n",
      "\n",
      "execute command: python model_inference.py --snapshotdate \"2017-03-20\" --modelname \"reg_2018_04_01.pkl\"\n"
     ]
    },
    {
     "name": "stderr",
     "output_type": "stream",
     "text": [
      "Setting default log level to \"WARN\".\n",
      "To adjust logging level use sc.setLogLevel(newLevel). For SparkR, use setLogLevel(newLevel).\n",
      "25/06/26 23:45:39 WARN NativeCodeLoader: Unable to load native-hadoop library for your platform... using builtin-java classes where applicable\n",
      "25/06/26 23:45:39 WARN Utils: Service 'SparkUI' could not bind on port 4040. Attempting port 4041.\n",
      "25/06/26 23:45:39 WARN Utils: Service 'SparkUI' could not bind on port 4041. Attempting port 4042.\n"
     ]
    },
    {
     "name": "stdout",
     "output_type": "stream",
     "text": [
      "\n",
      "\n",
      "---starting job---\n",
      "\n",
      "\n",
      "{'model_artefact_filepath': 'model_bank/reg_2018_04_01.pkl',\n",
      " 'model_bank_directory': 'model_bank/',\n",
      " 'model_name': 'reg_2018_04_01.pkl',\n",
      " 'snapshot_date': datetime.datetime(2017, 3, 20, 0, 0),\n",
      " 'snapshot_date_str': '2017-03-20'}\n",
      "Model loaded successfully! model_bank/reg_2018_04_01.pkl\n"
     ]
    },
    {
     "name": "stderr",
     "output_type": "stream",
     "text": [
      "Saving labels:   0%|          | 0/1 [00:00<?, ?it/s]/opt/anaconda3/envs/mle_env/lib/python3.10/site-packages/sklearn/utils/validation.py:2732: UserWarning: X has feature names, but StandardScaler was fitted without feature names\n",
      "  warnings.warn(\n",
      "Saving labels: 100%|██████████| 1/1 [00:02<00:00,  2.75s/it]\n"
     ]
    },
    {
     "name": "stdout",
     "output_type": "stream",
     "text": [
      "X_inference 113\n",
      "num of rows add:113\n",
      "datamart/gold/model_predictions/reg_2018_04_01/\n"
     ]
    },
    {
     "name": "stderr",
     "output_type": "stream",
     "text": [
      "                                                                                \r"
     ]
    },
    {
     "name": "stdout",
     "output_type": "stream",
     "text": [
      "saved to: datamart/gold/model_predictions/reg_2018_04_01/reg_2018_04_01_predictions_2017_03_20.parquet\n",
      "rows added: 113\n",
      "\n",
      "\n",
      "---completed job---\n",
      "\n",
      "\n",
      "execute command: python model_inference.py --snapshotdate \"2017-03-21\" --modelname \"reg_2018_04_01.pkl\"\n"
     ]
    },
    {
     "name": "stderr",
     "output_type": "stream",
     "text": [
      "Setting default log level to \"WARN\".\n",
      "To adjust logging level use sc.setLogLevel(newLevel). For SparkR, use setLogLevel(newLevel).\n",
      "25/06/26 23:45:51 WARN NativeCodeLoader: Unable to load native-hadoop library for your platform... using builtin-java classes where applicable\n",
      "25/06/26 23:45:51 WARN Utils: Service 'SparkUI' could not bind on port 4040. Attempting port 4041.\n",
      "25/06/26 23:45:51 WARN Utils: Service 'SparkUI' could not bind on port 4041. Attempting port 4042.\n"
     ]
    },
    {
     "name": "stdout",
     "output_type": "stream",
     "text": [
      "\n",
      "\n",
      "---starting job---\n",
      "\n",
      "\n",
      "{'model_artefact_filepath': 'model_bank/reg_2018_04_01.pkl',\n",
      " 'model_bank_directory': 'model_bank/',\n",
      " 'model_name': 'reg_2018_04_01.pkl',\n",
      " 'snapshot_date': datetime.datetime(2017, 3, 21, 0, 0),\n",
      " 'snapshot_date_str': '2017-03-21'}\n",
      "Model loaded successfully! model_bank/reg_2018_04_01.pkl\n"
     ]
    },
    {
     "name": "stderr",
     "output_type": "stream",
     "text": [
      "/opt/anaconda3/envs/mle_env/lib/python3.10/site-packages/sklearn/utils/validation.py:2732: UserWarning: X has feature names, but StandardScaler was fitted without feature names\n",
      "  warnings.warn(\n",
      "Saving labels: 100%|██████████| 1/1 [00:04<00:00,  4.97s/it]\n"
     ]
    },
    {
     "name": "stdout",
     "output_type": "stream",
     "text": [
      "X_inference 92\n",
      "num of rows add:92\n",
      "datamart/gold/model_predictions/reg_2018_04_01/\n"
     ]
    },
    {
     "name": "stderr",
     "output_type": "stream",
     "text": [
      "                                                                                \r"
     ]
    },
    {
     "name": "stdout",
     "output_type": "stream",
     "text": [
      "saved to: datamart/gold/model_predictions/reg_2018_04_01/reg_2018_04_01_predictions_2017_03_21.parquet\n",
      "rows added: 92\n",
      "\n",
      "\n",
      "---completed job---\n",
      "\n",
      "\n",
      "execute command: python model_inference.py --snapshotdate \"2017-03-22\" --modelname \"reg_2018_04_01.pkl\"\n"
     ]
    },
    {
     "name": "stderr",
     "output_type": "stream",
     "text": [
      "Setting default log level to \"WARN\".\n",
      "To adjust logging level use sc.setLogLevel(newLevel). For SparkR, use setLogLevel(newLevel).\n",
      "25/06/26 23:46:03 WARN NativeCodeLoader: Unable to load native-hadoop library for your platform... using builtin-java classes where applicable\n",
      "25/06/26 23:46:03 WARN Utils: Service 'SparkUI' could not bind on port 4040. Attempting port 4041.\n",
      "25/06/26 23:46:03 WARN Utils: Service 'SparkUI' could not bind on port 4041. Attempting port 4042.\n"
     ]
    },
    {
     "name": "stdout",
     "output_type": "stream",
     "text": [
      "\n",
      "\n",
      "---starting job---\n",
      "\n",
      "\n",
      "{'model_artefact_filepath': 'model_bank/reg_2018_04_01.pkl',\n",
      " 'model_bank_directory': 'model_bank/',\n",
      " 'model_name': 'reg_2018_04_01.pkl',\n",
      " 'snapshot_date': datetime.datetime(2017, 3, 22, 0, 0),\n",
      " 'snapshot_date_str': '2017-03-22'}\n",
      "Model loaded successfully! model_bank/reg_2018_04_01.pkl\n"
     ]
    },
    {
     "name": "stderr",
     "output_type": "stream",
     "text": [
      "Saving labels:   0%|          | 0/1 [00:00<?, ?it/s]/opt/anaconda3/envs/mle_env/lib/python3.10/site-packages/sklearn/utils/validation.py:2732: UserWarning: X has feature names, but StandardScaler was fitted without feature names\n",
      "  warnings.warn(\n",
      "Saving labels: 100%|██████████| 1/1 [00:02<00:00,  2.78s/it]\n"
     ]
    },
    {
     "name": "stdout",
     "output_type": "stream",
     "text": [
      "X_inference 104\n",
      "num of rows add:104\n",
      "datamart/gold/model_predictions/reg_2018_04_01/\n"
     ]
    },
    {
     "name": "stderr",
     "output_type": "stream",
     "text": [
      "                                                                                \r"
     ]
    },
    {
     "name": "stdout",
     "output_type": "stream",
     "text": [
      "saved to: datamart/gold/model_predictions/reg_2018_04_01/reg_2018_04_01_predictions_2017_03_22.parquet\n",
      "rows added: 104\n",
      "\n",
      "\n",
      "---completed job---\n",
      "\n",
      "\n",
      "execute command: python model_inference.py --snapshotdate \"2017-03-23\" --modelname \"reg_2018_04_01.pkl\"\n"
     ]
    },
    {
     "name": "stderr",
     "output_type": "stream",
     "text": [
      "Setting default log level to \"WARN\".\n",
      "To adjust logging level use sc.setLogLevel(newLevel). For SparkR, use setLogLevel(newLevel).\n",
      "25/06/26 23:46:12 WARN NativeCodeLoader: Unable to load native-hadoop library for your platform... using builtin-java classes where applicable\n",
      "25/06/26 23:46:13 WARN Utils: Service 'SparkUI' could not bind on port 4040. Attempting port 4041.\n",
      "25/06/26 23:46:13 WARN Utils: Service 'SparkUI' could not bind on port 4041. Attempting port 4042.\n"
     ]
    },
    {
     "name": "stdout",
     "output_type": "stream",
     "text": [
      "\n",
      "\n",
      "---starting job---\n",
      "\n",
      "\n",
      "{'model_artefact_filepath': 'model_bank/reg_2018_04_01.pkl',\n",
      " 'model_bank_directory': 'model_bank/',\n",
      " 'model_name': 'reg_2018_04_01.pkl',\n",
      " 'snapshot_date': datetime.datetime(2017, 3, 23, 0, 0),\n",
      " 'snapshot_date_str': '2017-03-23'}\n",
      "Model loaded successfully! model_bank/reg_2018_04_01.pkl\n"
     ]
    },
    {
     "name": "stderr",
     "output_type": "stream",
     "text": [
      "Saving labels:   0%|          | 0/1 [00:00<?, ?it/s]/opt/anaconda3/envs/mle_env/lib/python3.10/site-packages/sklearn/utils/validation.py:2732: UserWarning: X has feature names, but StandardScaler was fitted without feature names\n",
      "  warnings.warn(\n",
      "Saving labels: 100%|██████████| 1/1 [00:02<00:00,  2.89s/it]\n"
     ]
    },
    {
     "name": "stdout",
     "output_type": "stream",
     "text": [
      "X_inference 104\n",
      "num of rows add:104\n",
      "datamart/gold/model_predictions/reg_2018_04_01/\n"
     ]
    },
    {
     "name": "stderr",
     "output_type": "stream",
     "text": [
      "                                                                                \r"
     ]
    },
    {
     "name": "stdout",
     "output_type": "stream",
     "text": [
      "saved to: datamart/gold/model_predictions/reg_2018_04_01/reg_2018_04_01_predictions_2017_03_23.parquet\n",
      "rows added: 104\n",
      "\n",
      "\n",
      "---completed job---\n",
      "\n",
      "\n",
      "execute command: python model_inference.py --snapshotdate \"2017-03-24\" --modelname \"reg_2018_04_01.pkl\"\n"
     ]
    },
    {
     "name": "stderr",
     "output_type": "stream",
     "text": [
      "Setting default log level to \"WARN\".\n",
      "To adjust logging level use sc.setLogLevel(newLevel). For SparkR, use setLogLevel(newLevel).\n",
      "25/06/26 23:46:21 WARN NativeCodeLoader: Unable to load native-hadoop library for your platform... using builtin-java classes where applicable\n",
      "25/06/26 23:46:21 WARN Utils: Service 'SparkUI' could not bind on port 4040. Attempting port 4041.\n",
      "25/06/26 23:46:21 WARN Utils: Service 'SparkUI' could not bind on port 4041. Attempting port 4042.\n"
     ]
    },
    {
     "name": "stdout",
     "output_type": "stream",
     "text": [
      "\n",
      "\n",
      "---starting job---\n",
      "\n",
      "\n",
      "{'model_artefact_filepath': 'model_bank/reg_2018_04_01.pkl',\n",
      " 'model_bank_directory': 'model_bank/',\n",
      " 'model_name': 'reg_2018_04_01.pkl',\n",
      " 'snapshot_date': datetime.datetime(2017, 3, 24, 0, 0),\n",
      " 'snapshot_date_str': '2017-03-24'}\n",
      "Model loaded successfully! model_bank/reg_2018_04_01.pkl\n"
     ]
    },
    {
     "name": "stderr",
     "output_type": "stream",
     "text": [
      "Saving labels:   0%|          | 0/1 [00:00<?, ?it/s]/opt/anaconda3/envs/mle_env/lib/python3.10/site-packages/sklearn/utils/validation.py:2732: UserWarning: X has feature names, but StandardScaler was fitted without feature names\n",
      "  warnings.warn(\n",
      "Saving labels: 100%|██████████| 1/1 [00:02<00:00,  2.82s/it]\n"
     ]
    },
    {
     "name": "stdout",
     "output_type": "stream",
     "text": [
      "X_inference 75\n",
      "num of rows add:75\n",
      "datamart/gold/model_predictions/reg_2018_04_01/\n"
     ]
    },
    {
     "name": "stderr",
     "output_type": "stream",
     "text": [
      "                                                                                \r"
     ]
    },
    {
     "name": "stdout",
     "output_type": "stream",
     "text": [
      "saved to: datamart/gold/model_predictions/reg_2018_04_01/reg_2018_04_01_predictions_2017_03_24.parquet\n",
      "rows added: 75\n",
      "\n",
      "\n",
      "---completed job---\n",
      "\n",
      "\n",
      "execute command: python model_inference.py --snapshotdate \"2017-03-25\" --modelname \"reg_2018_04_01.pkl\"\n"
     ]
    },
    {
     "name": "stderr",
     "output_type": "stream",
     "text": [
      "Setting default log level to \"WARN\".\n",
      "To adjust logging level use sc.setLogLevel(newLevel). For SparkR, use setLogLevel(newLevel).\n",
      "25/06/26 23:46:30 WARN NativeCodeLoader: Unable to load native-hadoop library for your platform... using builtin-java classes where applicable\n",
      "25/06/26 23:46:30 WARN Utils: Service 'SparkUI' could not bind on port 4040. Attempting port 4041.\n",
      "25/06/26 23:46:30 WARN Utils: Service 'SparkUI' could not bind on port 4041. Attempting port 4042.\n"
     ]
    },
    {
     "name": "stdout",
     "output_type": "stream",
     "text": [
      "\n",
      "\n",
      "---starting job---\n",
      "\n",
      "\n",
      "{'model_artefact_filepath': 'model_bank/reg_2018_04_01.pkl',\n",
      " 'model_bank_directory': 'model_bank/',\n",
      " 'model_name': 'reg_2018_04_01.pkl',\n",
      " 'snapshot_date': datetime.datetime(2017, 3, 25, 0, 0),\n",
      " 'snapshot_date_str': '2017-03-25'}\n",
      "Model loaded successfully! model_bank/reg_2018_04_01.pkl\n"
     ]
    },
    {
     "name": "stderr",
     "output_type": "stream",
     "text": [
      "Saving labels:   0%|          | 0/1 [00:00<?, ?it/s]/opt/anaconda3/envs/mle_env/lib/python3.10/site-packages/sklearn/utils/validation.py:2732: UserWarning: X has feature names, but StandardScaler was fitted without feature names\n",
      "  warnings.warn(\n",
      "Saving labels: 100%|██████████| 1/1 [00:03<00:00,  3.00s/it]\n"
     ]
    },
    {
     "name": "stdout",
     "output_type": "stream",
     "text": [
      "X_inference 72\n",
      "num of rows add:72\n",
      "datamart/gold/model_predictions/reg_2018_04_01/\n"
     ]
    },
    {
     "name": "stderr",
     "output_type": "stream",
     "text": [
      "                                                                                \r"
     ]
    },
    {
     "name": "stdout",
     "output_type": "stream",
     "text": [
      "saved to: datamart/gold/model_predictions/reg_2018_04_01/reg_2018_04_01_predictions_2017_03_25.parquet\n",
      "rows added: 72\n",
      "\n",
      "\n",
      "---completed job---\n",
      "\n",
      "\n",
      "execute command: python model_inference.py --snapshotdate \"2017-03-26\" --modelname \"reg_2018_04_01.pkl\"\n"
     ]
    },
    {
     "name": "stderr",
     "output_type": "stream",
     "text": [
      "Setting default log level to \"WARN\".\n",
      "To adjust logging level use sc.setLogLevel(newLevel). For SparkR, use setLogLevel(newLevel).\n",
      "25/06/26 23:46:39 WARN NativeCodeLoader: Unable to load native-hadoop library for your platform... using builtin-java classes where applicable\n",
      "25/06/26 23:46:39 WARN Utils: Service 'SparkUI' could not bind on port 4040. Attempting port 4041.\n",
      "25/06/26 23:46:39 WARN Utils: Service 'SparkUI' could not bind on port 4041. Attempting port 4042.\n"
     ]
    },
    {
     "name": "stdout",
     "output_type": "stream",
     "text": [
      "\n",
      "\n",
      "---starting job---\n",
      "\n",
      "\n",
      "{'model_artefact_filepath': 'model_bank/reg_2018_04_01.pkl',\n",
      " 'model_bank_directory': 'model_bank/',\n",
      " 'model_name': 'reg_2018_04_01.pkl',\n",
      " 'snapshot_date': datetime.datetime(2017, 3, 26, 0, 0),\n",
      " 'snapshot_date_str': '2017-03-26'}\n",
      "Model loaded successfully! model_bank/reg_2018_04_01.pkl\n"
     ]
    },
    {
     "name": "stderr",
     "output_type": "stream",
     "text": [
      "Saving labels:   0%|          | 0/1 [00:00<?, ?it/s]/opt/anaconda3/envs/mle_env/lib/python3.10/site-packages/sklearn/utils/validation.py:2732: UserWarning: X has feature names, but StandardScaler was fitted without feature names\n",
      "  warnings.warn(\n",
      "Saving labels: 100%|██████████| 1/1 [00:02<00:00,  2.82s/it]\n"
     ]
    },
    {
     "name": "stdout",
     "output_type": "stream",
     "text": [
      "X_inference 63\n",
      "num of rows add:63\n",
      "datamart/gold/model_predictions/reg_2018_04_01/\n"
     ]
    },
    {
     "name": "stderr",
     "output_type": "stream",
     "text": [
      "                                                                                \r"
     ]
    },
    {
     "name": "stdout",
     "output_type": "stream",
     "text": [
      "saved to: datamart/gold/model_predictions/reg_2018_04_01/reg_2018_04_01_predictions_2017_03_26.parquet\n",
      "rows added: 63\n",
      "\n",
      "\n",
      "---completed job---\n",
      "\n",
      "\n",
      "execute command: python model_inference.py --snapshotdate \"2017-03-27\" --modelname \"reg_2018_04_01.pkl\"\n"
     ]
    },
    {
     "name": "stderr",
     "output_type": "stream",
     "text": [
      "Setting default log level to \"WARN\".\n",
      "To adjust logging level use sc.setLogLevel(newLevel). For SparkR, use setLogLevel(newLevel).\n",
      "25/06/26 23:46:48 WARN NativeCodeLoader: Unable to load native-hadoop library for your platform... using builtin-java classes where applicable\n",
      "25/06/26 23:46:48 WARN Utils: Service 'SparkUI' could not bind on port 4040. Attempting port 4041.\n",
      "25/06/26 23:46:48 WARN Utils: Service 'SparkUI' could not bind on port 4041. Attempting port 4042.\n"
     ]
    },
    {
     "name": "stdout",
     "output_type": "stream",
     "text": [
      "\n",
      "\n",
      "---starting job---\n",
      "\n",
      "\n",
      "{'model_artefact_filepath': 'model_bank/reg_2018_04_01.pkl',\n",
      " 'model_bank_directory': 'model_bank/',\n",
      " 'model_name': 'reg_2018_04_01.pkl',\n",
      " 'snapshot_date': datetime.datetime(2017, 3, 27, 0, 0),\n",
      " 'snapshot_date_str': '2017-03-27'}\n",
      "Model loaded successfully! model_bank/reg_2018_04_01.pkl\n"
     ]
    },
    {
     "name": "stderr",
     "output_type": "stream",
     "text": [
      "Saving labels:   0%|          | 0/1 [00:00<?, ?it/s]/opt/anaconda3/envs/mle_env/lib/python3.10/site-packages/sklearn/utils/validation.py:2732: UserWarning: X has feature names, but StandardScaler was fitted without feature names\n",
      "  warnings.warn(\n",
      "Saving labels: 100%|██████████| 1/1 [00:02<00:00,  2.78s/it]\n"
     ]
    },
    {
     "name": "stdout",
     "output_type": "stream",
     "text": [
      "X_inference 107\n",
      "num of rows add:107\n",
      "datamart/gold/model_predictions/reg_2018_04_01/\n"
     ]
    },
    {
     "name": "stderr",
     "output_type": "stream",
     "text": [
      "                                                                                \r"
     ]
    },
    {
     "name": "stdout",
     "output_type": "stream",
     "text": [
      "saved to: datamart/gold/model_predictions/reg_2018_04_01/reg_2018_04_01_predictions_2017_03_27.parquet\n",
      "rows added: 107\n",
      "\n",
      "\n",
      "---completed job---\n",
      "\n",
      "\n",
      "execute command: python model_inference.py --snapshotdate \"2017-03-28\" --modelname \"reg_2018_04_01.pkl\"\n"
     ]
    },
    {
     "name": "stderr",
     "output_type": "stream",
     "text": [
      "Setting default log level to \"WARN\".\n",
      "To adjust logging level use sc.setLogLevel(newLevel). For SparkR, use setLogLevel(newLevel).\n",
      "25/06/26 23:46:57 WARN NativeCodeLoader: Unable to load native-hadoop library for your platform... using builtin-java classes where applicable\n",
      "25/06/26 23:46:58 WARN Utils: Service 'SparkUI' could not bind on port 4040. Attempting port 4041.\n",
      "25/06/26 23:46:58 WARN Utils: Service 'SparkUI' could not bind on port 4041. Attempting port 4042.\n"
     ]
    },
    {
     "name": "stdout",
     "output_type": "stream",
     "text": [
      "\n",
      "\n",
      "---starting job---\n",
      "\n",
      "\n",
      "{'model_artefact_filepath': 'model_bank/reg_2018_04_01.pkl',\n",
      " 'model_bank_directory': 'model_bank/',\n",
      " 'model_name': 'reg_2018_04_01.pkl',\n",
      " 'snapshot_date': datetime.datetime(2017, 3, 28, 0, 0),\n",
      " 'snapshot_date_str': '2017-03-28'}\n",
      "Model loaded successfully! model_bank/reg_2018_04_01.pkl\n"
     ]
    },
    {
     "name": "stderr",
     "output_type": "stream",
     "text": [
      "/opt/anaconda3/envs/mle_env/lib/python3.10/site-packages/sklearn/utils/validation.py:2732: UserWarning: X has feature names, but StandardScaler was fitted without feature names\n",
      "  warnings.warn(\n",
      "Saving labels: 100%|██████████| 1/1 [00:02<00:00,  2.76s/it]\n"
     ]
    },
    {
     "name": "stdout",
     "output_type": "stream",
     "text": [
      "X_inference 96\n",
      "num of rows add:96\n",
      "datamart/gold/model_predictions/reg_2018_04_01/\n"
     ]
    },
    {
     "name": "stderr",
     "output_type": "stream",
     "text": [
      "                                                                                \r"
     ]
    },
    {
     "name": "stdout",
     "output_type": "stream",
     "text": [
      "saved to: datamart/gold/model_predictions/reg_2018_04_01/reg_2018_04_01_predictions_2017_03_28.parquet\n",
      "rows added: 96\n",
      "\n",
      "\n",
      "---completed job---\n",
      "\n",
      "\n",
      "execute command: python model_inference.py --snapshotdate \"2017-03-29\" --modelname \"reg_2018_04_01.pkl\"\n"
     ]
    },
    {
     "name": "stderr",
     "output_type": "stream",
     "text": [
      "Setting default log level to \"WARN\".\n",
      "To adjust logging level use sc.setLogLevel(newLevel). For SparkR, use setLogLevel(newLevel).\n",
      "25/06/26 23:47:06 WARN NativeCodeLoader: Unable to load native-hadoop library for your platform... using builtin-java classes where applicable\n",
      "25/06/26 23:47:07 WARN Utils: Service 'SparkUI' could not bind on port 4040. Attempting port 4041.\n",
      "25/06/26 23:47:07 WARN Utils: Service 'SparkUI' could not bind on port 4041. Attempting port 4042.\n"
     ]
    },
    {
     "name": "stdout",
     "output_type": "stream",
     "text": [
      "\n",
      "\n",
      "---starting job---\n",
      "\n",
      "\n",
      "{'model_artefact_filepath': 'model_bank/reg_2018_04_01.pkl',\n",
      " 'model_bank_directory': 'model_bank/',\n",
      " 'model_name': 'reg_2018_04_01.pkl',\n",
      " 'snapshot_date': datetime.datetime(2017, 3, 29, 0, 0),\n",
      " 'snapshot_date_str': '2017-03-29'}\n",
      "Model loaded successfully! model_bank/reg_2018_04_01.pkl\n"
     ]
    },
    {
     "name": "stderr",
     "output_type": "stream",
     "text": [
      "/opt/anaconda3/envs/mle_env/lib/python3.10/site-packages/sklearn/utils/validation.py:2732: UserWarning: X has feature names, but StandardScaler was fitted without feature names\n",
      "  warnings.warn(\n",
      "Saving labels: 100%|██████████| 1/1 [00:02<00:00,  2.89s/it]\n"
     ]
    },
    {
     "name": "stdout",
     "output_type": "stream",
     "text": [
      "X_inference 72\n",
      "num of rows add:72\n",
      "datamart/gold/model_predictions/reg_2018_04_01/\n"
     ]
    },
    {
     "name": "stderr",
     "output_type": "stream",
     "text": [
      "                                                                                \r"
     ]
    },
    {
     "name": "stdout",
     "output_type": "stream",
     "text": [
      "saved to: datamart/gold/model_predictions/reg_2018_04_01/reg_2018_04_01_predictions_2017_03_29.parquet\n",
      "rows added: 72\n",
      "\n",
      "\n",
      "---completed job---\n",
      "\n",
      "\n",
      "execute command: python model_inference.py --snapshotdate \"2017-03-30\" --modelname \"reg_2018_04_01.pkl\"\n"
     ]
    },
    {
     "name": "stderr",
     "output_type": "stream",
     "text": [
      "Setting default log level to \"WARN\".\n",
      "To adjust logging level use sc.setLogLevel(newLevel). For SparkR, use setLogLevel(newLevel).\n",
      "25/06/26 23:47:15 WARN NativeCodeLoader: Unable to load native-hadoop library for your platform... using builtin-java classes where applicable\n",
      "25/06/26 23:47:16 WARN Utils: Service 'SparkUI' could not bind on port 4040. Attempting port 4041.\n",
      "25/06/26 23:47:16 WARN Utils: Service 'SparkUI' could not bind on port 4041. Attempting port 4042.\n"
     ]
    },
    {
     "name": "stdout",
     "output_type": "stream",
     "text": [
      "\n",
      "\n",
      "---starting job---\n",
      "\n",
      "\n",
      "{'model_artefact_filepath': 'model_bank/reg_2018_04_01.pkl',\n",
      " 'model_bank_directory': 'model_bank/',\n",
      " 'model_name': 'reg_2018_04_01.pkl',\n",
      " 'snapshot_date': datetime.datetime(2017, 3, 30, 0, 0),\n",
      " 'snapshot_date_str': '2017-03-30'}\n",
      "Model loaded successfully! model_bank/reg_2018_04_01.pkl\n"
     ]
    },
    {
     "name": "stderr",
     "output_type": "stream",
     "text": [
      "Saving labels:   0%|          | 0/1 [00:00<?, ?it/s]/opt/anaconda3/envs/mle_env/lib/python3.10/site-packages/sklearn/utils/validation.py:2732: UserWarning: X has feature names, but StandardScaler was fitted without feature names\n",
      "  warnings.warn(\n",
      "Saving labels: 100%|██████████| 1/1 [00:02<00:00,  2.84s/it]\n"
     ]
    },
    {
     "name": "stdout",
     "output_type": "stream",
     "text": [
      "X_inference 70\n",
      "num of rows add:70\n",
      "datamart/gold/model_predictions/reg_2018_04_01/\n"
     ]
    },
    {
     "name": "stderr",
     "output_type": "stream",
     "text": [
      "[Stage 2:>                                                          (0 + 8) / 8]\r"
     ]
    }
   ],
   "source": [
    "import datetime\n",
    "import os\n",
    "\n",
    "start_date = datetime.date(2017, 1, 1)\n",
    "end_date = datetime.date(2018, 10, 1)\n",
    "\n",
    "modelname = 'reg_2018_04_01.pkl'\n",
    "\n",
    "for i in range((end_date - start_date).days + 1):\n",
    "    day = start_date + datetime.timedelta(days=i)\n",
    "    day_str = day.strftime(\"%Y-%m-%d\")\n",
    "    cmd = f'python model_inference.py --snapshotdate \"{day_str}\" --modelname \"{modelname}\"'\n",
    "    print(f'execute command: {cmd}')\n",
    "    os.system(cmd)"
   ]
  },
  {
   "cell_type": "code",
   "execution_count": null,
   "id": "5d5851eb",
   "metadata": {},
   "outputs": [],
   "source": [
    "import datetime\n",
    "import os\n",
    "\n",
    "start_date = datetime.date(2017, 1, 1)\n",
    "end_date = datetime.date(2018, 10, 1)\n",
    "\n",
    "model = ''\n",
    "\n",
    "for i in range((end_date - start_date).days + 1):\n",
    "    day = start_date + datetime.timedelta(days=i)\n",
    "    day_str = day.strftime(\"%Y-%m-%d\")\n",
    "    cmd = f'python model_monitoring.py --snapshotdate \"{day_str}\" --model \"{modelname}\"'\n",
    "    print(f'execute command: {cmd}')\n",
    "    os.system(cmd)"
   ]
  },
  {
   "cell_type": "code",
   "execution_count": 33,
   "id": "5ca7d9f0-cfbc-4098-826c-5537ba56b108",
   "metadata": {},
   "outputs": [],
   "source": [
    "snapshot_date_str = \"2017-01-04\"\n",
    "model_name = \"reg_2018_04_01.pkl\""
   ]
  },
  {
   "cell_type": "code",
   "execution_count": 34,
   "id": "75f0bb22-745b-4342-9779-4425795dc752",
   "metadata": {},
   "outputs": [],
   "source": [
    "config = {}\n",
    "config[\"snapshot_date_str\"] = snapshot_date_str\n",
    "config[\"snapshot_date\"] = datetime.strptime(config[\"snapshot_date_str\"], \"%Y-%m-%d\")\n",
    "config[\"model_name\"] = model_name\n",
    "config[\"model_bank_directory\"] = \"model_bank/\"\n",
    "config[\"model_artefact_filepath\"] = config[\"model_bank_directory\"] + config[\"model_name\"]"
   ]
  },
  {
   "cell_type": "markdown",
   "id": "bea8c974-7a80-44ec-a73f-b72c46b70972",
   "metadata": {},
   "source": [
    "## load model artefact from model bank"
   ]
  },
  {
   "cell_type": "code",
   "execution_count": 35,
   "id": "e4704571-1729-49ef-b2fb-e7346fc37d84",
   "metadata": {},
   "outputs": [
    {
     "name": "stdout",
     "output_type": "stream",
     "text": [
      "Model loaded successfully! model_bank/reg_2018_04_01.pkl\n"
     ]
    }
   ],
   "source": [
    "# Load the model from the pickle file\n",
    "with open(config[\"model_artefact_filepath\"], 'rb') as file:\n",
    "    model_artefact = pickle.load(file)\n",
    "\n",
    "print(\"Model loaded successfully! \" + config[\"model_artefact_filepath\"])"
   ]
  },
  {
   "cell_type": "markdown",
   "id": "441303bb-1736-4589-8537-c914d8d843b1",
   "metadata": {},
   "source": [
    "## load feature store"
   ]
  },
  {
   "cell_type": "code",
   "execution_count": 3,
   "id": "bf8b317e",
   "metadata": {},
   "outputs": [
    {
     "name": "stdout",
     "output_type": "stream",
     "text": [
      "{'model_artefact_filepath': 'model_bank/reg_2018_04_01.pkl',\n",
      " 'model_bank_directory': 'model_bank/',\n",
      " 'model_name': 'reg_2018_04_01.pkl',\n",
      " 'snapshot_date': datetime.datetime(2017, 1, 1, 0, 0),\n",
      " 'snapshot_date_str': '2017-01-01'}\n",
      "Model loaded successfully! model_bank/reg_2018_04_01.pkl\n"
     ]
    },
    {
     "name": "stderr",
     "output_type": "stream",
     "text": [
      "Saving labels: 100%|██████████| 1/1 [00:00<00:00, 107.91it/s]"
     ]
    },
    {
     "name": "stdout",
     "output_type": "stream",
     "text": [
      "y_inference 0\n"
     ]
    },
    {
     "name": "stderr",
     "output_type": "stream",
     "text": [
      "\n"
     ]
    },
    {
     "data": {
      "text/html": [
       "<div>\n",
       "<style scoped>\n",
       "    .dataframe tbody tr th:only-of-type {\n",
       "        vertical-align: middle;\n",
       "    }\n",
       "\n",
       "    .dataframe tbody tr th {\n",
       "        vertical-align: top;\n",
       "    }\n",
       "\n",
       "    .dataframe thead th {\n",
       "        text-align: right;\n",
       "    }\n",
       "</style>\n",
       "<table border=\"1\" class=\"dataframe\">\n",
       "  <thead>\n",
       "    <tr style=\"text-align: right;\">\n",
       "      <th></th>\n",
       "      <th>order_id</th>\n",
       "      <th>order_status</th>\n",
       "      <th>model_name</th>\n",
       "      <th>model_predictions</th>\n",
       "    </tr>\n",
       "  </thead>\n",
       "  <tbody>\n",
       "  </tbody>\n",
       "</table>\n",
       "</div>"
      ],
      "text/plain": [
       "Empty DataFrame\n",
       "Columns: [order_id, order_status, model_name, model_predictions]\n",
       "Index: []"
      ]
     },
     "execution_count": 3,
     "metadata": {},
     "output_type": "execute_result"
    }
   ],
   "source": [
    "from tqdm import tqdm\n",
    "from sklearn.preprocessing import OneHotEncoder\n",
    "\n",
    "def main(snapshotdate, modelname):\n",
    "    # --- set up config ---\n",
    "    config = {}\n",
    "    config[\"snapshot_date_str\"] = snapshotdate\n",
    "    config[\"snapshot_date\"] = datetime.strptime(config[\"snapshot_date_str\"], \"%Y-%m-%d\")\n",
    "    config[\"model_name\"] = modelname\n",
    "    config[\"model_bank_directory\"] = \"model_bank/\"\n",
    "    config[\"model_artefact_filepath\"] = config[\"model_bank_directory\"] + config[\"model_name\"]\n",
    "    \n",
    "    pprint.pprint(config)\n",
    "    \n",
    "    # --- load model artefact from model bank ---\n",
    "    # Load the model from the pickle file\n",
    "    with open(config[\"model_artefact_filepath\"], 'rb') as file:\n",
    "        model_artefact = pickle.load(file)\n",
    "    \n",
    "    print(\"Model loaded successfully! \" + config[\"model_artefact_filepath\"])\n",
    "    date_lst = [snapshotdate]\n",
    "    for date_str in tqdm(date_lst, total=len(date_lst), desc=\"Saving labels\"):\n",
    "        partition_name = date_str.replace('-','_') + '.parquet'\n",
    "        feature_location = \"datamart/gold/feature_store/\"\n",
    "        files_list = os.path.join(feature_location, partition_name)\n",
    "        if os.path.exists(files_list):\n",
    "            features_store_sdf = spark.read.parquet(files_list)\n",
    "            features_store_sdf = features_store_sdf.drop(\"avg_rating\",\"snapshot_date\",\"avg_delay_rate\",\"concentration\",\"act_days_to_deliver\",\"total_freight_value\",\"avg_processing_time\",\"same_state\",\"total_volume_cm3\",\"seller_city\",\"seller_state\")\n",
    "            features_sdf = features_store_sdf.toPandas()\n",
    "            features_sdf = features_sdf.dropna(how='any')\n",
    "            features_sdf = features_sdf[features_sdf[\"order_status\"] == \"delivered\"]\n",
    "            if features_sdf.empty:\n",
    "                y_inference_pdf = pd.DataFrame(columns=['order_id', 'order_status', 'model_name', 'model_predictions'])\n",
    "                print('y_inference', y_inference_pdf.shape[0])\n",
    "            else:\n",
    "                # prepare X_inference\n",
    "                #encoder = OneHotEncoder(drop = 'first', sparse=False, handle_unknown='ignore')\n",
    "                encoder = OneHotEncoder(drop = 'first', sparse_output=False, handle_unknown='ignore')\n",
    "                encoder.fit(features_sdf[['season']])  # Only fit on training data\n",
    "                encoded_feature = encoder.transform(features_sdf[['season']])\n",
    "                encoded_f = pd.DataFrame(encoded_feature, columns=encoder.get_feature_names_out(['season']), index=features_sdf.index)\n",
    "                features_sdf = pd.concat([features_sdf.drop(columns=['season']), encoded_f], axis=1)\n",
    "                expected_columns = ['season_Spring', 'season_Summer', 'season_Winter']\n",
    "                for col in expected_columns:\n",
    "                    if col not in features_sdf.columns:\n",
    "                        features_sdf[col] = 0\n",
    "                features_pdf = features_sdf.select_dtypes(include='number')\n",
    "                \n",
    "                #features_pdf = features_sdf.drop(columns=['order_id', 'order_status']).values\n",
    "                # apply transformer - standard scaler\n",
    "                transformer_stdscaler = model_artefact[\"preprocessing_transformers\"][\"stdscaler\"]\n",
    "                X_inference = transformer_stdscaler.transform(features_pdf)\n",
    "                print('X_inference', X_inference.shape[0])\n",
    "        \n",
    "                # --- model prediction inference ---\n",
    "                # load model\n",
    "                model = model_artefact[\"model\"]\n",
    "                threshold = model_artefact['threshold']\n",
    "                \n",
    "                # predict model\n",
    "                y_inference = model.predict_proba(X_inference)[:, 1]\n",
    "                \n",
    "                # prepare output\n",
    "                y_inference_pdf = features_sdf[[\"order_id\",\"order_status\",]].copy()\n",
    "                y_inference_pdf[\"model_predictions\"] = y_inference.round(4)\n",
    "                y_inference_pdf[\"model_predictions\"] = (y_inference_pdf[\"model_predictions\"] > threshold).astype(int)\n",
    "                y_inference_pdf[\"snapshot_date\"] = snapshotdate\n",
    "                y_inference_pdf[\"model_name\"] = config[\"model_name\"]\n",
    "                row_count = y_inference_pdf.shape[0]\n",
    "                print(f'num of rows add:{row_count}')\n",
    "        else:\n",
    "            y_inference_pdf = pd.DataFrame(columns=['order_id', 'order_status', 'model_name', 'model_predictions'])\n",
    "            print('y_inference', y_inference_pdf.shape[0])\n",
    "\n",
    "    return y_inference_pdf\n",
    "\n",
    "partitions_list = '2017-01-01'\n",
    "test = main(partitions_list, 'reg_2018_04_01.pkl')\n",
    "\n",
    "test"
   ]
  },
  {
   "cell_type": "code",
   "execution_count": null,
   "id": "d002feb1-30f5-415a-91ef-b686ee8de99a",
   "metadata": {},
   "outputs": [
    {
     "name": "stderr",
     "output_type": "stream",
     "text": [
      "                                                                                \r"
     ]
    },
    {
     "name": "stdout",
     "output_type": "stream",
     "text": [
      "row_count for features: 98356 \n",
      "\n",
      "row_count for features: 96212 \n",
      "\n"
     ]
    },
    {
     "data": {
      "text/plain": [
       "DataFrame[order_id: string, order_status: string, total_qty: bigint, total_price: double, total_weight_g: double, total_density: double, delivery_distance: double, same_city: int, is_weekend: int, day_of_week: int, season: string]"
      ]
     },
     "execution_count": 7,
     "metadata": {},
     "output_type": "execute_result"
    }
   ],
   "source": [
    "from functools import reduce\n",
    "date_str = '2018-01-05'\n",
    "feature_location = \"datamart/gold/feature_store/\"\n",
    "# Load CSV into DataFrame - connect to feature store\n",
    "files_list = glob.glob(os.path.join(feature_location,date_str,'.parquet'))\n",
    "files_list = glob.glob(os.path.join(feature_location, date_str, '*.parquet'))\n",
    "features_store_sdf = spark.read.option(\"header\", \"true\").parquet(*files_list)\n",
    "print(\"row_count for features:\",features_store_sdf.count(),\"\\n\")\n",
    "\n",
    "# Filter out NA\n",
    "features_store_sdf = features_store_sdf.drop(\"avg_rating\",\"snapshot_date\",\"concentration\",\"avg_delay_rate\",\"act_days_to_deliver\",\"total_freight_value\",\"avg_processing_time\",\"same_state\",\"total_volume_cm3\",\"seller_city\",\"seller_state\")\n",
    "#rows_with_nulls = features_store_sdf.filter(\n",
    "    #reduce(lambda a, b: a | b, (col(c).isNull() for c in features_store_sdf.columns)))\n",
    "\n",
    "\n",
    "#order_ids_to_drop = [row[\"order_id\"] for row in rows_with_nulls.select(\"order_id\").distinct().collect()]\n",
    "#features_store_sdf = features_store_sdf.filter(~col(\"order_id\").isin(order_ids_to_drop))\n",
    "\n",
    "#Extract relevant features\n",
    "#features_store_sdf = features_store_sdf.filter(col(\"order_status\") == \"delivered\")\n",
    "features_sdf = features_store_sdf.toPandas()\n",
    "features_sdf = features_sdf.dropna(how='any')\n",
    "features_store_sdf = features_store_sdf[features_store_sdf[\"order_status\"] == \"delivered\"]\n",
    "print(\"row_count for features:\",features_store_sdf.count(),\"\\n\")\n",
    "\n",
    "features_store_sdf"
   ]
  },
  {
   "cell_type": "code",
   "execution_count": 85,
   "id": "11609efb",
   "metadata": {},
   "outputs": [
    {
     "data": {
      "text/plain": [
       "DataFrame[order_id: string, order_status: string, total_qty: bigint, total_price: double, total_weight_g: double, total_density: double, delivery_distance: double, same_city: int, is_weekend: int, avg_rating: double, day_of_week: int, season: string]"
      ]
     },
     "execution_count": 85,
     "metadata": {},
     "output_type": "execute_result"
    }
   ],
   "source": [
    "test = features_store_sdf.dropna()\n",
    "test"
   ]
  },
  {
   "cell_type": "markdown",
   "id": "2cabff32",
   "metadata": {},
   "source": [
    "Processing for modelling"
   ]
  },
  {
   "cell_type": "code",
   "execution_count": 29,
   "id": "88c13a49",
   "metadata": {},
   "outputs": [
    {
     "data": {
      "text/html": [
       "<div>\n",
       "<style scoped>\n",
       "    .dataframe tbody tr th:only-of-type {\n",
       "        vertical-align: middle;\n",
       "    }\n",
       "\n",
       "    .dataframe tbody tr th {\n",
       "        vertical-align: top;\n",
       "    }\n",
       "\n",
       "    .dataframe thead th {\n",
       "        text-align: right;\n",
       "    }\n",
       "</style>\n",
       "<table border=\"1\" class=\"dataframe\">\n",
       "  <thead>\n",
       "    <tr style=\"text-align: right;\">\n",
       "      <th></th>\n",
       "      <th>order_id</th>\n",
       "      <th>order_status</th>\n",
       "      <th>total_qty</th>\n",
       "      <th>total_price</th>\n",
       "      <th>total_weight_g</th>\n",
       "      <th>total_density</th>\n",
       "      <th>delivery_distance</th>\n",
       "      <th>same_city</th>\n",
       "      <th>is_weekend</th>\n",
       "      <th>avg_rating</th>\n",
       "      <th>avg_delay_rate</th>\n",
       "      <th>day_of_week</th>\n",
       "      <th>season_Summer</th>\n",
       "    </tr>\n",
       "  </thead>\n",
       "  <tbody>\n",
       "    <tr>\n",
       "      <th>0</th>\n",
       "      <td>09f58c00f941827ab206de7796785e44</td>\n",
       "      <td>delivered</td>\n",
       "      <td>1</td>\n",
       "      <td>8.90</td>\n",
       "      <td>200.0</td>\n",
       "      <td>0.568182</td>\n",
       "      <td>12.302606</td>\n",
       "      <td>1</td>\n",
       "      <td>0</td>\n",
       "      <td>5.000000</td>\n",
       "      <td>0.000000</td>\n",
       "      <td>5</td>\n",
       "      <td>1.0</td>\n",
       "    </tr>\n",
       "    <tr>\n",
       "      <th>1</th>\n",
       "      <td>0bda8164c1a12b6a388ebec8559ee287</td>\n",
       "      <td>delivered</td>\n",
       "      <td>1</td>\n",
       "      <td>6.90</td>\n",
       "      <td>200.0</td>\n",
       "      <td>0.568182</td>\n",
       "      <td>10.536861</td>\n",
       "      <td>1</td>\n",
       "      <td>0</td>\n",
       "      <td>5.000000</td>\n",
       "      <td>0.000000</td>\n",
       "      <td>5</td>\n",
       "      <td>1.0</td>\n",
       "    </tr>\n",
       "    <tr>\n",
       "      <th>2</th>\n",
       "      <td>17fed53ba6dfef9b594ee2268642e2aa</td>\n",
       "      <td>delivered</td>\n",
       "      <td>1</td>\n",
       "      <td>9.90</td>\n",
       "      <td>200.0</td>\n",
       "      <td>0.568182</td>\n",
       "      <td>12.528518</td>\n",
       "      <td>1</td>\n",
       "      <td>0</td>\n",
       "      <td>5.000000</td>\n",
       "      <td>0.000000</td>\n",
       "      <td>5</td>\n",
       "      <td>1.0</td>\n",
       "    </tr>\n",
       "    <tr>\n",
       "      <th>3</th>\n",
       "      <td>1b694ef5b28d3e949a4f0ffeb2c9fcd6</td>\n",
       "      <td>delivered</td>\n",
       "      <td>1</td>\n",
       "      <td>9.90</td>\n",
       "      <td>200.0</td>\n",
       "      <td>0.568182</td>\n",
       "      <td>10.536861</td>\n",
       "      <td>1</td>\n",
       "      <td>0</td>\n",
       "      <td>5.000000</td>\n",
       "      <td>0.000000</td>\n",
       "      <td>5</td>\n",
       "      <td>1.0</td>\n",
       "    </tr>\n",
       "    <tr>\n",
       "      <th>4</th>\n",
       "      <td>205d7052a6505124d200f6fea6b423bc</td>\n",
       "      <td>delivered</td>\n",
       "      <td>1</td>\n",
       "      <td>9.90</td>\n",
       "      <td>200.0</td>\n",
       "      <td>0.568182</td>\n",
       "      <td>10.536861</td>\n",
       "      <td>1</td>\n",
       "      <td>0</td>\n",
       "      <td>5.000000</td>\n",
       "      <td>0.000000</td>\n",
       "      <td>5</td>\n",
       "      <td>1.0</td>\n",
       "    </tr>\n",
       "    <tr>\n",
       "      <th>5</th>\n",
       "      <td>2f9d791088532b218b41f892cc16073b</td>\n",
       "      <td>delivered</td>\n",
       "      <td>1</td>\n",
       "      <td>9.90</td>\n",
       "      <td>200.0</td>\n",
       "      <td>0.568182</td>\n",
       "      <td>15.043834</td>\n",
       "      <td>1</td>\n",
       "      <td>0</td>\n",
       "      <td>5.000000</td>\n",
       "      <td>0.000000</td>\n",
       "      <td>5</td>\n",
       "      <td>1.0</td>\n",
       "    </tr>\n",
       "    <tr>\n",
       "      <th>6</th>\n",
       "      <td>34bf4feda1e203af64692d97c6950c39</td>\n",
       "      <td>delivered</td>\n",
       "      <td>1</td>\n",
       "      <td>10.90</td>\n",
       "      <td>200.0</td>\n",
       "      <td>0.568182</td>\n",
       "      <td>6.443899</td>\n",
       "      <td>1</td>\n",
       "      <td>0</td>\n",
       "      <td>5.000000</td>\n",
       "      <td>0.000000</td>\n",
       "      <td>5</td>\n",
       "      <td>1.0</td>\n",
       "    </tr>\n",
       "    <tr>\n",
       "      <th>7</th>\n",
       "      <td>38bcb524e1c38c2c1b60600a80fc8999</td>\n",
       "      <td>delivered</td>\n",
       "      <td>1</td>\n",
       "      <td>2.90</td>\n",
       "      <td>200.0</td>\n",
       "      <td>0.568182</td>\n",
       "      <td>11.661939</td>\n",
       "      <td>1</td>\n",
       "      <td>0</td>\n",
       "      <td>5.000000</td>\n",
       "      <td>0.000000</td>\n",
       "      <td>5</td>\n",
       "      <td>1.0</td>\n",
       "    </tr>\n",
       "    <tr>\n",
       "      <th>8</th>\n",
       "      <td>3ce4038922670fead496aeae61a8a393</td>\n",
       "      <td>delivered</td>\n",
       "      <td>1</td>\n",
       "      <td>10.90</td>\n",
       "      <td>100.0</td>\n",
       "      <td>0.284091</td>\n",
       "      <td>10.536861</td>\n",
       "      <td>1</td>\n",
       "      <td>0</td>\n",
       "      <td>5.000000</td>\n",
       "      <td>0.000000</td>\n",
       "      <td>5</td>\n",
       "      <td>1.0</td>\n",
       "    </tr>\n",
       "    <tr>\n",
       "      <th>9</th>\n",
       "      <td>40599d3d28b75746952ded75566637b9</td>\n",
       "      <td>delivered</td>\n",
       "      <td>1</td>\n",
       "      <td>11.90</td>\n",
       "      <td>200.0</td>\n",
       "      <td>0.568182</td>\n",
       "      <td>10.536861</td>\n",
       "      <td>1</td>\n",
       "      <td>0</td>\n",
       "      <td>5.000000</td>\n",
       "      <td>0.000000</td>\n",
       "      <td>5</td>\n",
       "      <td>1.0</td>\n",
       "    </tr>\n",
       "    <tr>\n",
       "      <th>10</th>\n",
       "      <td>43d29c6fc78c31c80080d85e5260a9fb</td>\n",
       "      <td>delivered</td>\n",
       "      <td>1</td>\n",
       "      <td>10.90</td>\n",
       "      <td>200.0</td>\n",
       "      <td>0.568182</td>\n",
       "      <td>7.705215</td>\n",
       "      <td>1</td>\n",
       "      <td>0</td>\n",
       "      <td>5.000000</td>\n",
       "      <td>0.000000</td>\n",
       "      <td>5</td>\n",
       "      <td>1.0</td>\n",
       "    </tr>\n",
       "    <tr>\n",
       "      <th>11</th>\n",
       "      <td>464de32dc84484c1d26df3e8e38e708b</td>\n",
       "      <td>delivered</td>\n",
       "      <td>1</td>\n",
       "      <td>6.90</td>\n",
       "      <td>200.0</td>\n",
       "      <td>0.568182</td>\n",
       "      <td>12.528518</td>\n",
       "      <td>1</td>\n",
       "      <td>0</td>\n",
       "      <td>5.000000</td>\n",
       "      <td>0.000000</td>\n",
       "      <td>5</td>\n",
       "      <td>1.0</td>\n",
       "    </tr>\n",
       "    <tr>\n",
       "      <th>12</th>\n",
       "      <td>5965b589a33443dd1f820eb7df39762a</td>\n",
       "      <td>delivered</td>\n",
       "      <td>1</td>\n",
       "      <td>10.90</td>\n",
       "      <td>200.0</td>\n",
       "      <td>0.568182</td>\n",
       "      <td>10.536861</td>\n",
       "      <td>1</td>\n",
       "      <td>0</td>\n",
       "      <td>5.000000</td>\n",
       "      <td>0.000000</td>\n",
       "      <td>5</td>\n",
       "      <td>1.0</td>\n",
       "    </tr>\n",
       "    <tr>\n",
       "      <th>13</th>\n",
       "      <td>6acecf438369055d9243e121045cca74</td>\n",
       "      <td>delivered</td>\n",
       "      <td>1</td>\n",
       "      <td>9.90</td>\n",
       "      <td>200.0</td>\n",
       "      <td>0.568182</td>\n",
       "      <td>11.661939</td>\n",
       "      <td>1</td>\n",
       "      <td>0</td>\n",
       "      <td>5.000000</td>\n",
       "      <td>0.000000</td>\n",
       "      <td>5</td>\n",
       "      <td>1.0</td>\n",
       "    </tr>\n",
       "    <tr>\n",
       "      <th>14</th>\n",
       "      <td>7004296aa0256632eaddc171edaf727f</td>\n",
       "      <td>delivered</td>\n",
       "      <td>1</td>\n",
       "      <td>10.90</td>\n",
       "      <td>200.0</td>\n",
       "      <td>0.568182</td>\n",
       "      <td>10.536861</td>\n",
       "      <td>1</td>\n",
       "      <td>0</td>\n",
       "      <td>5.000000</td>\n",
       "      <td>0.000000</td>\n",
       "      <td>5</td>\n",
       "      <td>1.0</td>\n",
       "    </tr>\n",
       "    <tr>\n",
       "      <th>15</th>\n",
       "      <td>747996a66f5aa711deb8ae58f5ae46a0</td>\n",
       "      <td>delivered</td>\n",
       "      <td>1</td>\n",
       "      <td>9.90</td>\n",
       "      <td>200.0</td>\n",
       "      <td>0.568182</td>\n",
       "      <td>12.528518</td>\n",
       "      <td>1</td>\n",
       "      <td>0</td>\n",
       "      <td>5.000000</td>\n",
       "      <td>0.000000</td>\n",
       "      <td>5</td>\n",
       "      <td>1.0</td>\n",
       "    </tr>\n",
       "    <tr>\n",
       "      <th>16</th>\n",
       "      <td>7a18a504c1a4b32d883e68de2e1a7db0</td>\n",
       "      <td>delivered</td>\n",
       "      <td>1</td>\n",
       "      <td>7.90</td>\n",
       "      <td>200.0</td>\n",
       "      <td>0.568182</td>\n",
       "      <td>11.661939</td>\n",
       "      <td>1</td>\n",
       "      <td>0</td>\n",
       "      <td>5.000000</td>\n",
       "      <td>0.000000</td>\n",
       "      <td>5</td>\n",
       "      <td>1.0</td>\n",
       "    </tr>\n",
       "    <tr>\n",
       "      <th>17</th>\n",
       "      <td>8a784d47854e4cbc5562362393d504db</td>\n",
       "      <td>delivered</td>\n",
       "      <td>1</td>\n",
       "      <td>9.90</td>\n",
       "      <td>200.0</td>\n",
       "      <td>0.568182</td>\n",
       "      <td>12.528518</td>\n",
       "      <td>1</td>\n",
       "      <td>0</td>\n",
       "      <td>5.000000</td>\n",
       "      <td>0.000000</td>\n",
       "      <td>5</td>\n",
       "      <td>1.0</td>\n",
       "    </tr>\n",
       "    <tr>\n",
       "      <th>18</th>\n",
       "      <td>9b91ddcbd6cbceb83d4fd2462ca1f95e</td>\n",
       "      <td>delivered</td>\n",
       "      <td>1</td>\n",
       "      <td>10.90</td>\n",
       "      <td>200.0</td>\n",
       "      <td>0.568182</td>\n",
       "      <td>12.528518</td>\n",
       "      <td>1</td>\n",
       "      <td>0</td>\n",
       "      <td>5.000000</td>\n",
       "      <td>0.000000</td>\n",
       "      <td>5</td>\n",
       "      <td>1.0</td>\n",
       "    </tr>\n",
       "    <tr>\n",
       "      <th>19</th>\n",
       "      <td>b95a0a8bd30aece4e94e81f0591249d8</td>\n",
       "      <td>delivered</td>\n",
       "      <td>1</td>\n",
       "      <td>10.90</td>\n",
       "      <td>200.0</td>\n",
       "      <td>0.568182</td>\n",
       "      <td>10.536861</td>\n",
       "      <td>1</td>\n",
       "      <td>0</td>\n",
       "      <td>5.000000</td>\n",
       "      <td>0.000000</td>\n",
       "      <td>5</td>\n",
       "      <td>1.0</td>\n",
       "    </tr>\n",
       "    <tr>\n",
       "      <th>20</th>\n",
       "      <td>c96209cd1d43d071d3bdf48d299b7aa5</td>\n",
       "      <td>delivered</td>\n",
       "      <td>1</td>\n",
       "      <td>11.90</td>\n",
       "      <td>200.0</td>\n",
       "      <td>0.568182</td>\n",
       "      <td>10.536861</td>\n",
       "      <td>1</td>\n",
       "      <td>0</td>\n",
       "      <td>5.000000</td>\n",
       "      <td>0.000000</td>\n",
       "      <td>5</td>\n",
       "      <td>1.0</td>\n",
       "    </tr>\n",
       "    <tr>\n",
       "      <th>21</th>\n",
       "      <td>ca5a215980675471f0cf8199c041909a</td>\n",
       "      <td>delivered</td>\n",
       "      <td>1</td>\n",
       "      <td>10.90</td>\n",
       "      <td>200.0</td>\n",
       "      <td>0.568182</td>\n",
       "      <td>12.528518</td>\n",
       "      <td>1</td>\n",
       "      <td>0</td>\n",
       "      <td>5.000000</td>\n",
       "      <td>0.000000</td>\n",
       "      <td>5</td>\n",
       "      <td>1.0</td>\n",
       "    </tr>\n",
       "    <tr>\n",
       "      <th>22</th>\n",
       "      <td>cce1b8a1c5f8b1d224e19628299c8f54</td>\n",
       "      <td>delivered</td>\n",
       "      <td>1</td>\n",
       "      <td>10.90</td>\n",
       "      <td>200.0</td>\n",
       "      <td>0.568182</td>\n",
       "      <td>15.043834</td>\n",
       "      <td>1</td>\n",
       "      <td>0</td>\n",
       "      <td>5.000000</td>\n",
       "      <td>0.000000</td>\n",
       "      <td>5</td>\n",
       "      <td>1.0</td>\n",
       "    </tr>\n",
       "    <tr>\n",
       "      <th>23</th>\n",
       "      <td>ce86fa5a5108884726a2244bcae51ae6</td>\n",
       "      <td>delivered</td>\n",
       "      <td>1</td>\n",
       "      <td>10.90</td>\n",
       "      <td>200.0</td>\n",
       "      <td>0.568182</td>\n",
       "      <td>10.536861</td>\n",
       "      <td>1</td>\n",
       "      <td>0</td>\n",
       "      <td>5.000000</td>\n",
       "      <td>0.000000</td>\n",
       "      <td>5</td>\n",
       "      <td>1.0</td>\n",
       "    </tr>\n",
       "    <tr>\n",
       "      <th>24</th>\n",
       "      <td>d82cef48824870df9946d57e827ed727</td>\n",
       "      <td>delivered</td>\n",
       "      <td>1</td>\n",
       "      <td>10.90</td>\n",
       "      <td>200.0</td>\n",
       "      <td>0.568182</td>\n",
       "      <td>10.536861</td>\n",
       "      <td>1</td>\n",
       "      <td>0</td>\n",
       "      <td>5.000000</td>\n",
       "      <td>0.000000</td>\n",
       "      <td>5</td>\n",
       "      <td>1.0</td>\n",
       "    </tr>\n",
       "    <tr>\n",
       "      <th>25</th>\n",
       "      <td>db7576b1fe440f4c0a808855aacf0948</td>\n",
       "      <td>delivered</td>\n",
       "      <td>1</td>\n",
       "      <td>9.90</td>\n",
       "      <td>200.0</td>\n",
       "      <td>0.568182</td>\n",
       "      <td>15.043834</td>\n",
       "      <td>1</td>\n",
       "      <td>0</td>\n",
       "      <td>5.000000</td>\n",
       "      <td>0.000000</td>\n",
       "      <td>5</td>\n",
       "      <td>1.0</td>\n",
       "    </tr>\n",
       "    <tr>\n",
       "      <th>26</th>\n",
       "      <td>e1fe072ef14b519af1f0a8ed997c1301</td>\n",
       "      <td>delivered</td>\n",
       "      <td>1</td>\n",
       "      <td>9.90</td>\n",
       "      <td>200.0</td>\n",
       "      <td>0.568182</td>\n",
       "      <td>502.769958</td>\n",
       "      <td>0</td>\n",
       "      <td>0</td>\n",
       "      <td>5.000000</td>\n",
       "      <td>0.000000</td>\n",
       "      <td>5</td>\n",
       "      <td>1.0</td>\n",
       "    </tr>\n",
       "    <tr>\n",
       "      <th>27</th>\n",
       "      <td>ec7a019261fce44180373d45b442d78f</td>\n",
       "      <td>delivered</td>\n",
       "      <td>1</td>\n",
       "      <td>10.90</td>\n",
       "      <td>200.0</td>\n",
       "      <td>0.568182</td>\n",
       "      <td>10.536861</td>\n",
       "      <td>1</td>\n",
       "      <td>0</td>\n",
       "      <td>5.000000</td>\n",
       "      <td>0.000000</td>\n",
       "      <td>5</td>\n",
       "      <td>1.0</td>\n",
       "    </tr>\n",
       "    <tr>\n",
       "      <th>28</th>\n",
       "      <td>f175d67589e059cbbda956f10f0702e6</td>\n",
       "      <td>delivered</td>\n",
       "      <td>1</td>\n",
       "      <td>9.90</td>\n",
       "      <td>200.0</td>\n",
       "      <td>0.568182</td>\n",
       "      <td>10.536861</td>\n",
       "      <td>1</td>\n",
       "      <td>0</td>\n",
       "      <td>5.000000</td>\n",
       "      <td>0.000000</td>\n",
       "      <td>5</td>\n",
       "      <td>1.0</td>\n",
       "    </tr>\n",
       "    <tr>\n",
       "      <th>29</th>\n",
       "      <td>f2dd5f15184c73c0d45c02941c7c23d1</td>\n",
       "      <td>delivered</td>\n",
       "      <td>1</td>\n",
       "      <td>65.00</td>\n",
       "      <td>4200.0</td>\n",
       "      <td>0.107143</td>\n",
       "      <td>1484.304495</td>\n",
       "      <td>0</td>\n",
       "      <td>0</td>\n",
       "      <td>2.000000</td>\n",
       "      <td>0.250000</td>\n",
       "      <td>5</td>\n",
       "      <td>1.0</td>\n",
       "    </tr>\n",
       "    <tr>\n",
       "      <th>30</th>\n",
       "      <td>f92641ff0446a0e1c57195ebfe76e16a</td>\n",
       "      <td>delivered</td>\n",
       "      <td>1</td>\n",
       "      <td>9.90</td>\n",
       "      <td>200.0</td>\n",
       "      <td>0.568182</td>\n",
       "      <td>10.536861</td>\n",
       "      <td>1</td>\n",
       "      <td>0</td>\n",
       "      <td>5.000000</td>\n",
       "      <td>0.000000</td>\n",
       "      <td>5</td>\n",
       "      <td>1.0</td>\n",
       "    </tr>\n",
       "    <tr>\n",
       "      <th>31</th>\n",
       "      <td>157ec3dc3f38cdbd2706bd216edfe8fb</td>\n",
       "      <td>delivered</td>\n",
       "      <td>1</td>\n",
       "      <td>159.99</td>\n",
       "      <td>700.0</td>\n",
       "      <td>0.074405</td>\n",
       "      <td>357.099635</td>\n",
       "      <td>0</td>\n",
       "      <td>0</td>\n",
       "      <td>3.111111</td>\n",
       "      <td>0.545455</td>\n",
       "      <td>6</td>\n",
       "      <td>1.0</td>\n",
       "    </tr>\n",
       "    <tr>\n",
       "      <th>32</th>\n",
       "      <td>1b3d11cf9f92c0f7baf627ab059621f8</td>\n",
       "      <td>delivered</td>\n",
       "      <td>1</td>\n",
       "      <td>636.00</td>\n",
       "      <td>638.0</td>\n",
       "      <td>0.085799</td>\n",
       "      <td>2263.747129</td>\n",
       "      <td>0</td>\n",
       "      <td>0</td>\n",
       "      <td>4.000000</td>\n",
       "      <td>1.000000</td>\n",
       "      <td>6</td>\n",
       "      <td>1.0</td>\n",
       "    </tr>\n",
       "    <tr>\n",
       "      <th>33</th>\n",
       "      <td>e6db6e9529fecbe14cd05dd349816656</td>\n",
       "      <td>delivered</td>\n",
       "      <td>1</td>\n",
       "      <td>109.90</td>\n",
       "      <td>467.0</td>\n",
       "      <td>0.102547</td>\n",
       "      <td>514.480452</td>\n",
       "      <td>0</td>\n",
       "      <td>0</td>\n",
       "      <td>1.000000</td>\n",
       "      <td>1.000000</td>\n",
       "      <td>6</td>\n",
       "      <td>1.0</td>\n",
       "    </tr>\n",
       "  </tbody>\n",
       "</table>\n",
       "</div>"
      ],
      "text/plain": [
       "                            order_id order_status  total_qty  total_price  \\\n",
       "0   09f58c00f941827ab206de7796785e44    delivered          1         8.90   \n",
       "1   0bda8164c1a12b6a388ebec8559ee287    delivered          1         6.90   \n",
       "2   17fed53ba6dfef9b594ee2268642e2aa    delivered          1         9.90   \n",
       "3   1b694ef5b28d3e949a4f0ffeb2c9fcd6    delivered          1         9.90   \n",
       "4   205d7052a6505124d200f6fea6b423bc    delivered          1         9.90   \n",
       "5   2f9d791088532b218b41f892cc16073b    delivered          1         9.90   \n",
       "6   34bf4feda1e203af64692d97c6950c39    delivered          1        10.90   \n",
       "7   38bcb524e1c38c2c1b60600a80fc8999    delivered          1         2.90   \n",
       "8   3ce4038922670fead496aeae61a8a393    delivered          1        10.90   \n",
       "9   40599d3d28b75746952ded75566637b9    delivered          1        11.90   \n",
       "10  43d29c6fc78c31c80080d85e5260a9fb    delivered          1        10.90   \n",
       "11  464de32dc84484c1d26df3e8e38e708b    delivered          1         6.90   \n",
       "12  5965b589a33443dd1f820eb7df39762a    delivered          1        10.90   \n",
       "13  6acecf438369055d9243e121045cca74    delivered          1         9.90   \n",
       "14  7004296aa0256632eaddc171edaf727f    delivered          1        10.90   \n",
       "15  747996a66f5aa711deb8ae58f5ae46a0    delivered          1         9.90   \n",
       "16  7a18a504c1a4b32d883e68de2e1a7db0    delivered          1         7.90   \n",
       "17  8a784d47854e4cbc5562362393d504db    delivered          1         9.90   \n",
       "18  9b91ddcbd6cbceb83d4fd2462ca1f95e    delivered          1        10.90   \n",
       "19  b95a0a8bd30aece4e94e81f0591249d8    delivered          1        10.90   \n",
       "20  c96209cd1d43d071d3bdf48d299b7aa5    delivered          1        11.90   \n",
       "21  ca5a215980675471f0cf8199c041909a    delivered          1        10.90   \n",
       "22  cce1b8a1c5f8b1d224e19628299c8f54    delivered          1        10.90   \n",
       "23  ce86fa5a5108884726a2244bcae51ae6    delivered          1        10.90   \n",
       "24  d82cef48824870df9946d57e827ed727    delivered          1        10.90   \n",
       "25  db7576b1fe440f4c0a808855aacf0948    delivered          1         9.90   \n",
       "26  e1fe072ef14b519af1f0a8ed997c1301    delivered          1         9.90   \n",
       "27  ec7a019261fce44180373d45b442d78f    delivered          1        10.90   \n",
       "28  f175d67589e059cbbda956f10f0702e6    delivered          1         9.90   \n",
       "29  f2dd5f15184c73c0d45c02941c7c23d1    delivered          1        65.00   \n",
       "30  f92641ff0446a0e1c57195ebfe76e16a    delivered          1         9.90   \n",
       "31  157ec3dc3f38cdbd2706bd216edfe8fb    delivered          1       159.99   \n",
       "32  1b3d11cf9f92c0f7baf627ab059621f8    delivered          1       636.00   \n",
       "33  e6db6e9529fecbe14cd05dd349816656    delivered          1       109.90   \n",
       "\n",
       "    total_weight_g  total_density  delivery_distance  same_city  is_weekend  \\\n",
       "0            200.0       0.568182          12.302606          1           0   \n",
       "1            200.0       0.568182          10.536861          1           0   \n",
       "2            200.0       0.568182          12.528518          1           0   \n",
       "3            200.0       0.568182          10.536861          1           0   \n",
       "4            200.0       0.568182          10.536861          1           0   \n",
       "5            200.0       0.568182          15.043834          1           0   \n",
       "6            200.0       0.568182           6.443899          1           0   \n",
       "7            200.0       0.568182          11.661939          1           0   \n",
       "8            100.0       0.284091          10.536861          1           0   \n",
       "9            200.0       0.568182          10.536861          1           0   \n",
       "10           200.0       0.568182           7.705215          1           0   \n",
       "11           200.0       0.568182          12.528518          1           0   \n",
       "12           200.0       0.568182          10.536861          1           0   \n",
       "13           200.0       0.568182          11.661939          1           0   \n",
       "14           200.0       0.568182          10.536861          1           0   \n",
       "15           200.0       0.568182          12.528518          1           0   \n",
       "16           200.0       0.568182          11.661939          1           0   \n",
       "17           200.0       0.568182          12.528518          1           0   \n",
       "18           200.0       0.568182          12.528518          1           0   \n",
       "19           200.0       0.568182          10.536861          1           0   \n",
       "20           200.0       0.568182          10.536861          1           0   \n",
       "21           200.0       0.568182          12.528518          1           0   \n",
       "22           200.0       0.568182          15.043834          1           0   \n",
       "23           200.0       0.568182          10.536861          1           0   \n",
       "24           200.0       0.568182          10.536861          1           0   \n",
       "25           200.0       0.568182          15.043834          1           0   \n",
       "26           200.0       0.568182         502.769958          0           0   \n",
       "27           200.0       0.568182          10.536861          1           0   \n",
       "28           200.0       0.568182          10.536861          1           0   \n",
       "29          4200.0       0.107143        1484.304495          0           0   \n",
       "30           200.0       0.568182          10.536861          1           0   \n",
       "31           700.0       0.074405         357.099635          0           0   \n",
       "32           638.0       0.085799        2263.747129          0           0   \n",
       "33           467.0       0.102547         514.480452          0           0   \n",
       "\n",
       "    avg_rating  avg_delay_rate  day_of_week  season_Summer  \n",
       "0     5.000000        0.000000            5            1.0  \n",
       "1     5.000000        0.000000            5            1.0  \n",
       "2     5.000000        0.000000            5            1.0  \n",
       "3     5.000000        0.000000            5            1.0  \n",
       "4     5.000000        0.000000            5            1.0  \n",
       "5     5.000000        0.000000            5            1.0  \n",
       "6     5.000000        0.000000            5            1.0  \n",
       "7     5.000000        0.000000            5            1.0  \n",
       "8     5.000000        0.000000            5            1.0  \n",
       "9     5.000000        0.000000            5            1.0  \n",
       "10    5.000000        0.000000            5            1.0  \n",
       "11    5.000000        0.000000            5            1.0  \n",
       "12    5.000000        0.000000            5            1.0  \n",
       "13    5.000000        0.000000            5            1.0  \n",
       "14    5.000000        0.000000            5            1.0  \n",
       "15    5.000000        0.000000            5            1.0  \n",
       "16    5.000000        0.000000            5            1.0  \n",
       "17    5.000000        0.000000            5            1.0  \n",
       "18    5.000000        0.000000            5            1.0  \n",
       "19    5.000000        0.000000            5            1.0  \n",
       "20    5.000000        0.000000            5            1.0  \n",
       "21    5.000000        0.000000            5            1.0  \n",
       "22    5.000000        0.000000            5            1.0  \n",
       "23    5.000000        0.000000            5            1.0  \n",
       "24    5.000000        0.000000            5            1.0  \n",
       "25    5.000000        0.000000            5            1.0  \n",
       "26    5.000000        0.000000            5            1.0  \n",
       "27    5.000000        0.000000            5            1.0  \n",
       "28    5.000000        0.000000            5            1.0  \n",
       "29    2.000000        0.250000            5            1.0  \n",
       "30    5.000000        0.000000            5            1.0  \n",
       "31    3.111111        0.545455            6            1.0  \n",
       "32    4.000000        1.000000            6            1.0  \n",
       "33    1.000000        1.000000            6            1.0  "
      ]
     },
     "execution_count": 29,
     "metadata": {},
     "output_type": "execute_result"
    }
   ],
   "source": [
    "from sklearn.preprocessing import OneHotEncoder\n",
    "import pandas as pd\n",
    "\n",
    "encoder = OneHotEncoder(sparse_output=False, handle_unknown='ignore')\n",
    "encoder.fit(features_sdf[['season']])  # Only fit on training data\n",
    "encoded_feature = encoder.transform(features_sdf[['season']])\n",
    "encoded_f = pd.DataFrame(encoded_feature, columns=encoder.get_feature_names_out(['season']), index=features_sdf.index)\n",
    "features_sdf = pd.concat([features_sdf.drop(columns=['season']), encoded_f], axis=1)\n",
    "\n",
    "features_sdf"
   ]
  },
  {
   "cell_type": "code",
   "execution_count": 78,
   "id": "b8be2284",
   "metadata": {},
   "outputs": [
    {
     "name": "stdout",
     "output_type": "stream",
     "text": [
      "X_inference 37\n"
     ]
    },
    {
     "name": "stderr",
     "output_type": "stream",
     "text": [
      "/opt/anaconda3/envs/mle_env/lib/python3.10/site-packages/sklearn/utils/validation.py:2732: UserWarning: X has feature names, but StandardScaler was fitted without feature names\n",
      "  warnings.warn(\n"
     ]
    }
   ],
   "source": [
    "from pyspark.sql.types import NumericType\n",
    "if features_sdf.empty == True:\n",
    "    y_inference_pdf = features_sdf[['order_id','order_status']]\n",
    "    y_inference_pdf['model_name'] = ''\n",
    "    y_inference_pdf['model_predictions'] = ''\n",
    "    print('y_inference', y_inference_pdf.shape[0])\n",
    "else: \n",
    "    # prepare X_inference\n",
    "    encoder = OneHotEncoder(sparse_output=False, handle_unknown='ignore')\n",
    "    encoder.fit(features_sdf[['season']])  # Only fit on training data\n",
    "    encoded_feature = encoder.transform(features_sdf[['season']])\n",
    "    encoded_f = pd.DataFrame(encoded_feature, columns=encoder.get_feature_names_out(['season']), index=features_sdf.index)\n",
    "    features_sdf = pd.concat([features_sdf.drop(columns=['season']), encoded_f], axis=1)\n",
    "    expected_columns = ['season_Spring', 'season_Summer', 'season_Winter']\n",
    "    for col in expected_columns:\n",
    "        if col not in features_sdf.columns:\n",
    "            features_sdf[col] = 0\n",
    "    features_pdf = features_sdf.select_dtypes(include='number')\n",
    "    transformer_stdscaler = model_artefact[\"preprocessing_transformers\"][\"stdscaler\"]\n",
    "    X_inference = transformer_stdscaler.transform(features_pdf)\n",
    "    print('X_inference', X_inference.shape[0])"
   ]
  },
  {
   "cell_type": "markdown",
   "id": "c1a4362f-9dee-4838-a030-a74b88884b4f",
   "metadata": {},
   "source": [
    "## model prediction inference"
   ]
  },
  {
   "cell_type": "code",
   "execution_count": 79,
   "id": "973c76b7",
   "metadata": {},
   "outputs": [
    {
     "data": {
      "text/plain": [
       "0.24"
      ]
     },
     "execution_count": 79,
     "metadata": {},
     "output_type": "execute_result"
    }
   ],
   "source": [
    "threshold = model_artefact['threshold']\n",
    "threshold"
   ]
  },
  {
   "cell_type": "code",
   "execution_count": 80,
   "id": "a5e85498-68bb-4083-8035-3247d7e296d4",
   "metadata": {},
   "outputs": [
    {
     "ename": "ValueError",
     "evalue": "Input X contains NaN.\nLogisticRegression does not accept missing values encoded as NaN natively. For supervised learning, you might want to consider sklearn.ensemble.HistGradientBoostingClassifier and Regressor which accept missing values encoded as NaNs natively. Alternatively, it is possible to preprocess the data, for instance by using an imputer transformer in a pipeline or drop samples with missing values. See https://scikit-learn.org/stable/modules/impute.html You can find a list of all estimators that handle NaN values at the following page: https://scikit-learn.org/stable/modules/impute.html#estimators-that-handle-nan-values",
     "output_type": "error",
     "traceback": [
      "\u001b[0;31m---------------------------------------------------------------------------\u001b[0m",
      "\u001b[0;31mValueError\u001b[0m                                Traceback (most recent call last)",
      "Cell \u001b[0;32mIn[80], line 6\u001b[0m\n\u001b[1;32m      3\u001b[0m threshold \u001b[38;5;241m=\u001b[39m model_artefact[\u001b[38;5;124m'\u001b[39m\u001b[38;5;124mthreshold\u001b[39m\u001b[38;5;124m'\u001b[39m]\n\u001b[1;32m      5\u001b[0m \u001b[38;5;66;03m# predict model\u001b[39;00m\n\u001b[0;32m----> 6\u001b[0m y_inference \u001b[38;5;241m=\u001b[39m \u001b[43mmodel\u001b[49m\u001b[38;5;241;43m.\u001b[39;49m\u001b[43mpredict_proba\u001b[49m\u001b[43m(\u001b[49m\u001b[43mX_inference\u001b[49m\u001b[43m)\u001b[49m[:, \u001b[38;5;241m1\u001b[39m]\n\u001b[1;32m      8\u001b[0m \u001b[38;5;66;03m# prepare output\u001b[39;00m\n\u001b[1;32m      9\u001b[0m y_inference_pdf \u001b[38;5;241m=\u001b[39m features_sdf[[\u001b[38;5;124m\"\u001b[39m\u001b[38;5;124morder_id\u001b[39m\u001b[38;5;124m\"\u001b[39m, \u001b[38;5;124m\"\u001b[39m\u001b[38;5;124morder_status\u001b[39m\u001b[38;5;124m\"\u001b[39m]]\u001b[38;5;241m.\u001b[39mcopy()\n",
      "File \u001b[0;32m/opt/anaconda3/envs/mle_env/lib/python3.10/site-packages/sklearn/linear_model/_logistic.py:1428\u001b[0m, in \u001b[0;36mLogisticRegression.predict_proba\u001b[0;34m(self, X)\u001b[0m\n\u001b[1;32m   1423\u001b[0m ovr \u001b[38;5;241m=\u001b[39m \u001b[38;5;28mself\u001b[39m\u001b[38;5;241m.\u001b[39mmulti_class \u001b[38;5;129;01min\u001b[39;00m [\u001b[38;5;124m\"\u001b[39m\u001b[38;5;124movr\u001b[39m\u001b[38;5;124m\"\u001b[39m, \u001b[38;5;124m\"\u001b[39m\u001b[38;5;124mwarn\u001b[39m\u001b[38;5;124m\"\u001b[39m] \u001b[38;5;129;01mor\u001b[39;00m (\n\u001b[1;32m   1424\u001b[0m     \u001b[38;5;28mself\u001b[39m\u001b[38;5;241m.\u001b[39mmulti_class \u001b[38;5;129;01min\u001b[39;00m [\u001b[38;5;124m\"\u001b[39m\u001b[38;5;124mauto\u001b[39m\u001b[38;5;124m\"\u001b[39m, \u001b[38;5;124m\"\u001b[39m\u001b[38;5;124mdeprecated\u001b[39m\u001b[38;5;124m\"\u001b[39m]\n\u001b[1;32m   1425\u001b[0m     \u001b[38;5;129;01mand\u001b[39;00m (\u001b[38;5;28mself\u001b[39m\u001b[38;5;241m.\u001b[39mclasses_\u001b[38;5;241m.\u001b[39msize \u001b[38;5;241m<\u001b[39m\u001b[38;5;241m=\u001b[39m \u001b[38;5;241m2\u001b[39m \u001b[38;5;129;01mor\u001b[39;00m \u001b[38;5;28mself\u001b[39m\u001b[38;5;241m.\u001b[39msolver \u001b[38;5;241m==\u001b[39m \u001b[38;5;124m\"\u001b[39m\u001b[38;5;124mliblinear\u001b[39m\u001b[38;5;124m\"\u001b[39m)\n\u001b[1;32m   1426\u001b[0m )\n\u001b[1;32m   1427\u001b[0m \u001b[38;5;28;01mif\u001b[39;00m ovr:\n\u001b[0;32m-> 1428\u001b[0m     \u001b[38;5;28;01mreturn\u001b[39;00m \u001b[38;5;28;43msuper\u001b[39;49m\u001b[43m(\u001b[49m\u001b[43m)\u001b[49m\u001b[38;5;241;43m.\u001b[39;49m\u001b[43m_predict_proba_lr\u001b[49m\u001b[43m(\u001b[49m\u001b[43mX\u001b[49m\u001b[43m)\u001b[49m\n\u001b[1;32m   1429\u001b[0m \u001b[38;5;28;01melse\u001b[39;00m:\n\u001b[1;32m   1430\u001b[0m     decision \u001b[38;5;241m=\u001b[39m \u001b[38;5;28mself\u001b[39m\u001b[38;5;241m.\u001b[39mdecision_function(X)\n",
      "File \u001b[0;32m/opt/anaconda3/envs/mle_env/lib/python3.10/site-packages/sklearn/linear_model/_base.py:389\u001b[0m, in \u001b[0;36mLinearClassifierMixin._predict_proba_lr\u001b[0;34m(self, X)\u001b[0m\n\u001b[1;32m    382\u001b[0m \u001b[38;5;28;01mdef\u001b[39;00m\u001b[38;5;250m \u001b[39m\u001b[38;5;21m_predict_proba_lr\u001b[39m(\u001b[38;5;28mself\u001b[39m, X):\n\u001b[1;32m    383\u001b[0m \u001b[38;5;250m    \u001b[39m\u001b[38;5;124;03m\"\"\"Probability estimation for OvR logistic regression.\u001b[39;00m\n\u001b[1;32m    384\u001b[0m \n\u001b[1;32m    385\u001b[0m \u001b[38;5;124;03m    Positive class probabilities are computed as\u001b[39;00m\n\u001b[1;32m    386\u001b[0m \u001b[38;5;124;03m    1. / (1. + np.exp(-self.decision_function(X)));\u001b[39;00m\n\u001b[1;32m    387\u001b[0m \u001b[38;5;124;03m    multiclass is handled by normalizing that over all classes.\u001b[39;00m\n\u001b[1;32m    388\u001b[0m \u001b[38;5;124;03m    \"\"\"\u001b[39;00m\n\u001b[0;32m--> 389\u001b[0m     prob \u001b[38;5;241m=\u001b[39m \u001b[38;5;28;43mself\u001b[39;49m\u001b[38;5;241;43m.\u001b[39;49m\u001b[43mdecision_function\u001b[49m\u001b[43m(\u001b[49m\u001b[43mX\u001b[49m\u001b[43m)\u001b[49m\n\u001b[1;32m    390\u001b[0m     expit(prob, out\u001b[38;5;241m=\u001b[39mprob)\n\u001b[1;32m    391\u001b[0m     \u001b[38;5;28;01mif\u001b[39;00m prob\u001b[38;5;241m.\u001b[39mndim \u001b[38;5;241m==\u001b[39m \u001b[38;5;241m1\u001b[39m:\n",
      "File \u001b[0;32m/opt/anaconda3/envs/mle_env/lib/python3.10/site-packages/sklearn/linear_model/_base.py:351\u001b[0m, in \u001b[0;36mLinearClassifierMixin.decision_function\u001b[0;34m(self, X)\u001b[0m\n\u001b[1;32m    348\u001b[0m check_is_fitted(\u001b[38;5;28mself\u001b[39m)\n\u001b[1;32m    349\u001b[0m xp, _ \u001b[38;5;241m=\u001b[39m get_namespace(X)\n\u001b[0;32m--> 351\u001b[0m X \u001b[38;5;241m=\u001b[39m \u001b[43mvalidate_data\u001b[49m\u001b[43m(\u001b[49m\u001b[38;5;28;43mself\u001b[39;49m\u001b[43m,\u001b[49m\u001b[43m \u001b[49m\u001b[43mX\u001b[49m\u001b[43m,\u001b[49m\u001b[43m \u001b[49m\u001b[43maccept_sparse\u001b[49m\u001b[38;5;241;43m=\u001b[39;49m\u001b[38;5;124;43m\"\u001b[39;49m\u001b[38;5;124;43mcsr\u001b[39;49m\u001b[38;5;124;43m\"\u001b[39;49m\u001b[43m,\u001b[49m\u001b[43m \u001b[49m\u001b[43mreset\u001b[49m\u001b[38;5;241;43m=\u001b[39;49m\u001b[38;5;28;43;01mFalse\u001b[39;49;00m\u001b[43m)\u001b[49m\n\u001b[1;32m    352\u001b[0m scores \u001b[38;5;241m=\u001b[39m safe_sparse_dot(X, \u001b[38;5;28mself\u001b[39m\u001b[38;5;241m.\u001b[39mcoef_\u001b[38;5;241m.\u001b[39mT, dense_output\u001b[38;5;241m=\u001b[39m\u001b[38;5;28;01mTrue\u001b[39;00m) \u001b[38;5;241m+\u001b[39m \u001b[38;5;28mself\u001b[39m\u001b[38;5;241m.\u001b[39mintercept_\n\u001b[1;32m    353\u001b[0m \u001b[38;5;28;01mreturn\u001b[39;00m (\n\u001b[1;32m    354\u001b[0m     xp\u001b[38;5;241m.\u001b[39mreshape(scores, (\u001b[38;5;241m-\u001b[39m\u001b[38;5;241m1\u001b[39m,))\n\u001b[1;32m    355\u001b[0m     \u001b[38;5;28;01mif\u001b[39;00m (scores\u001b[38;5;241m.\u001b[39mndim \u001b[38;5;241m>\u001b[39m \u001b[38;5;241m1\u001b[39m \u001b[38;5;129;01mand\u001b[39;00m scores\u001b[38;5;241m.\u001b[39mshape[\u001b[38;5;241m1\u001b[39m] \u001b[38;5;241m==\u001b[39m \u001b[38;5;241m1\u001b[39m)\n\u001b[1;32m    356\u001b[0m     \u001b[38;5;28;01melse\u001b[39;00m scores\n\u001b[1;32m    357\u001b[0m )\n",
      "File \u001b[0;32m/opt/anaconda3/envs/mle_env/lib/python3.10/site-packages/sklearn/utils/validation.py:2944\u001b[0m, in \u001b[0;36mvalidate_data\u001b[0;34m(_estimator, X, y, reset, validate_separately, skip_check_array, **check_params)\u001b[0m\n\u001b[1;32m   2942\u001b[0m         out \u001b[38;5;241m=\u001b[39m X, y\n\u001b[1;32m   2943\u001b[0m \u001b[38;5;28;01melif\u001b[39;00m \u001b[38;5;129;01mnot\u001b[39;00m no_val_X \u001b[38;5;129;01mand\u001b[39;00m no_val_y:\n\u001b[0;32m-> 2944\u001b[0m     out \u001b[38;5;241m=\u001b[39m \u001b[43mcheck_array\u001b[49m\u001b[43m(\u001b[49m\u001b[43mX\u001b[49m\u001b[43m,\u001b[49m\u001b[43m \u001b[49m\u001b[43minput_name\u001b[49m\u001b[38;5;241;43m=\u001b[39;49m\u001b[38;5;124;43m\"\u001b[39;49m\u001b[38;5;124;43mX\u001b[39;49m\u001b[38;5;124;43m\"\u001b[39;49m\u001b[43m,\u001b[49m\u001b[43m \u001b[49m\u001b[38;5;241;43m*\u001b[39;49m\u001b[38;5;241;43m*\u001b[39;49m\u001b[43mcheck_params\u001b[49m\u001b[43m)\u001b[49m\n\u001b[1;32m   2945\u001b[0m \u001b[38;5;28;01melif\u001b[39;00m no_val_X \u001b[38;5;129;01mand\u001b[39;00m \u001b[38;5;129;01mnot\u001b[39;00m no_val_y:\n\u001b[1;32m   2946\u001b[0m     out \u001b[38;5;241m=\u001b[39m _check_y(y, \u001b[38;5;241m*\u001b[39m\u001b[38;5;241m*\u001b[39mcheck_params)\n",
      "File \u001b[0;32m/opt/anaconda3/envs/mle_env/lib/python3.10/site-packages/sklearn/utils/validation.py:1107\u001b[0m, in \u001b[0;36mcheck_array\u001b[0;34m(array, accept_sparse, accept_large_sparse, dtype, order, copy, force_writeable, force_all_finite, ensure_all_finite, ensure_non_negative, ensure_2d, allow_nd, ensure_min_samples, ensure_min_features, estimator, input_name)\u001b[0m\n\u001b[1;32m   1101\u001b[0m     \u001b[38;5;28;01mraise\u001b[39;00m \u001b[38;5;167;01mValueError\u001b[39;00m(\n\u001b[1;32m   1102\u001b[0m         \u001b[38;5;124m\"\u001b[39m\u001b[38;5;124mFound array with dim \u001b[39m\u001b[38;5;132;01m%d\u001b[39;00m\u001b[38;5;124m. \u001b[39m\u001b[38;5;132;01m%s\u001b[39;00m\u001b[38;5;124m expected <= 2.\u001b[39m\u001b[38;5;124m\"\u001b[39m\n\u001b[1;32m   1103\u001b[0m         \u001b[38;5;241m%\u001b[39m (array\u001b[38;5;241m.\u001b[39mndim, estimator_name)\n\u001b[1;32m   1104\u001b[0m     )\n\u001b[1;32m   1106\u001b[0m \u001b[38;5;28;01mif\u001b[39;00m ensure_all_finite:\n\u001b[0;32m-> 1107\u001b[0m     \u001b[43m_assert_all_finite\u001b[49m\u001b[43m(\u001b[49m\n\u001b[1;32m   1108\u001b[0m \u001b[43m        \u001b[49m\u001b[43marray\u001b[49m\u001b[43m,\u001b[49m\n\u001b[1;32m   1109\u001b[0m \u001b[43m        \u001b[49m\u001b[43minput_name\u001b[49m\u001b[38;5;241;43m=\u001b[39;49m\u001b[43minput_name\u001b[49m\u001b[43m,\u001b[49m\n\u001b[1;32m   1110\u001b[0m \u001b[43m        \u001b[49m\u001b[43mestimator_name\u001b[49m\u001b[38;5;241;43m=\u001b[39;49m\u001b[43mestimator_name\u001b[49m\u001b[43m,\u001b[49m\n\u001b[1;32m   1111\u001b[0m \u001b[43m        \u001b[49m\u001b[43mallow_nan\u001b[49m\u001b[38;5;241;43m=\u001b[39;49m\u001b[43mensure_all_finite\u001b[49m\u001b[43m \u001b[49m\u001b[38;5;241;43m==\u001b[39;49m\u001b[43m \u001b[49m\u001b[38;5;124;43m\"\u001b[39;49m\u001b[38;5;124;43mallow-nan\u001b[39;49m\u001b[38;5;124;43m\"\u001b[39;49m\u001b[43m,\u001b[49m\n\u001b[1;32m   1112\u001b[0m \u001b[43m    \u001b[49m\u001b[43m)\u001b[49m\n\u001b[1;32m   1114\u001b[0m \u001b[38;5;28;01mif\u001b[39;00m copy:\n\u001b[1;32m   1115\u001b[0m     \u001b[38;5;28;01mif\u001b[39;00m _is_numpy_namespace(xp):\n\u001b[1;32m   1116\u001b[0m         \u001b[38;5;66;03m# only make a copy if `array` and `array_orig` may share memory`\u001b[39;00m\n",
      "File \u001b[0;32m/opt/anaconda3/envs/mle_env/lib/python3.10/site-packages/sklearn/utils/validation.py:120\u001b[0m, in \u001b[0;36m_assert_all_finite\u001b[0;34m(X, allow_nan, msg_dtype, estimator_name, input_name)\u001b[0m\n\u001b[1;32m    117\u001b[0m \u001b[38;5;28;01mif\u001b[39;00m first_pass_isfinite:\n\u001b[1;32m    118\u001b[0m     \u001b[38;5;28;01mreturn\u001b[39;00m\n\u001b[0;32m--> 120\u001b[0m \u001b[43m_assert_all_finite_element_wise\u001b[49m\u001b[43m(\u001b[49m\n\u001b[1;32m    121\u001b[0m \u001b[43m    \u001b[49m\u001b[43mX\u001b[49m\u001b[43m,\u001b[49m\n\u001b[1;32m    122\u001b[0m \u001b[43m    \u001b[49m\u001b[43mxp\u001b[49m\u001b[38;5;241;43m=\u001b[39;49m\u001b[43mxp\u001b[49m\u001b[43m,\u001b[49m\n\u001b[1;32m    123\u001b[0m \u001b[43m    \u001b[49m\u001b[43mallow_nan\u001b[49m\u001b[38;5;241;43m=\u001b[39;49m\u001b[43mallow_nan\u001b[49m\u001b[43m,\u001b[49m\n\u001b[1;32m    124\u001b[0m \u001b[43m    \u001b[49m\u001b[43mmsg_dtype\u001b[49m\u001b[38;5;241;43m=\u001b[39;49m\u001b[43mmsg_dtype\u001b[49m\u001b[43m,\u001b[49m\n\u001b[1;32m    125\u001b[0m \u001b[43m    \u001b[49m\u001b[43mestimator_name\u001b[49m\u001b[38;5;241;43m=\u001b[39;49m\u001b[43mestimator_name\u001b[49m\u001b[43m,\u001b[49m\n\u001b[1;32m    126\u001b[0m \u001b[43m    \u001b[49m\u001b[43minput_name\u001b[49m\u001b[38;5;241;43m=\u001b[39;49m\u001b[43minput_name\u001b[49m\u001b[43m,\u001b[49m\n\u001b[1;32m    127\u001b[0m \u001b[43m\u001b[49m\u001b[43m)\u001b[49m\n",
      "File \u001b[0;32m/opt/anaconda3/envs/mle_env/lib/python3.10/site-packages/sklearn/utils/validation.py:169\u001b[0m, in \u001b[0;36m_assert_all_finite_element_wise\u001b[0;34m(X, xp, allow_nan, msg_dtype, estimator_name, input_name)\u001b[0m\n\u001b[1;32m    152\u001b[0m \u001b[38;5;28;01mif\u001b[39;00m estimator_name \u001b[38;5;129;01mand\u001b[39;00m input_name \u001b[38;5;241m==\u001b[39m \u001b[38;5;124m\"\u001b[39m\u001b[38;5;124mX\u001b[39m\u001b[38;5;124m\"\u001b[39m \u001b[38;5;129;01mand\u001b[39;00m has_nan_error:\n\u001b[1;32m    153\u001b[0m     \u001b[38;5;66;03m# Improve the error message on how to handle missing values in\u001b[39;00m\n\u001b[1;32m    154\u001b[0m     \u001b[38;5;66;03m# scikit-learn.\u001b[39;00m\n\u001b[1;32m    155\u001b[0m     msg_err \u001b[38;5;241m+\u001b[39m\u001b[38;5;241m=\u001b[39m (\n\u001b[1;32m    156\u001b[0m         \u001b[38;5;124mf\u001b[39m\u001b[38;5;124m\"\u001b[39m\u001b[38;5;130;01m\\n\u001b[39;00m\u001b[38;5;132;01m{\u001b[39;00mestimator_name\u001b[38;5;132;01m}\u001b[39;00m\u001b[38;5;124m does not accept missing values\u001b[39m\u001b[38;5;124m\"\u001b[39m\n\u001b[1;32m    157\u001b[0m         \u001b[38;5;124m\"\u001b[39m\u001b[38;5;124m encoded as NaN natively. For supervised learning, you might want\u001b[39m\u001b[38;5;124m\"\u001b[39m\n\u001b[0;32m   (...)\u001b[0m\n\u001b[1;32m    167\u001b[0m         \u001b[38;5;124m\"\u001b[39m\u001b[38;5;124m#estimators-that-handle-nan-values\u001b[39m\u001b[38;5;124m\"\u001b[39m\n\u001b[1;32m    168\u001b[0m     )\n\u001b[0;32m--> 169\u001b[0m \u001b[38;5;28;01mraise\u001b[39;00m \u001b[38;5;167;01mValueError\u001b[39;00m(msg_err)\n",
      "\u001b[0;31mValueError\u001b[0m: Input X contains NaN.\nLogisticRegression does not accept missing values encoded as NaN natively. For supervised learning, you might want to consider sklearn.ensemble.HistGradientBoostingClassifier and Regressor which accept missing values encoded as NaNs natively. Alternatively, it is possible to preprocess the data, for instance by using an imputer transformer in a pipeline or drop samples with missing values. See https://scikit-learn.org/stable/modules/impute.html You can find a list of all estimators that handle NaN values at the following page: https://scikit-learn.org/stable/modules/impute.html#estimators-that-handle-nan-values"
     ]
    }
   ],
   "source": [
    "# load model\n",
    "model = model_artefact[\"model\"]\n",
    "threshold = model_artefact['threshold']\n",
    "\n",
    "# predict model\n",
    "y_inference = model.predict_proba(X_inference)[:, 1]\n",
    "\n",
    "# prepare output\n",
    "y_inference_pdf = features_sdf[[\"order_id\", \"order_status\"]].copy()\n",
    "y_inference_pdf[\"model_name\"] = config[\"model_name\"]\n",
    "y_inference_pdf[\"model_predictions\"] = y_inference.round(4)\n",
    "y_inference_pdf[\"model_predictions\"] = (y_inference_pdf[\"model_predictions\"] > threshold).astype(int)\n",
    "\n",
    "y_inference_pdf"
   ]
  },
  {
   "cell_type": "markdown",
   "id": "cf3fe2b8-4642-486d-aa3b-2d7703ad3d15",
   "metadata": {},
   "source": [
    "## save model inference to datamart gold table"
   ]
  },
  {
   "cell_type": "code",
   "execution_count": 22,
   "id": "3c28e3e5-81ca-4685-a1f1-f1df12908a72",
   "metadata": {},
   "outputs": [
    {
     "name": "stdout",
     "output_type": "stream",
     "text": [
      "datamart/gold/model_predictions/reg_2017_12_04/\n"
     ]
    },
    {
     "name": "stderr",
     "output_type": "stream",
     "text": [
      "[Stage 12:>                                                         (0 + 8) / 8]\r"
     ]
    },
    {
     "name": "stdout",
     "output_type": "stream",
     "text": [
      "saved to: datamart/gold/model_predictions/reg_2017_12_04/reg_2017_12_04_predictions_2016_10_10.parquet\n"
     ]
    },
    {
     "name": "stderr",
     "output_type": "stream",
     "text": [
      "                                                                                \r"
     ]
    }
   ],
   "source": [
    "# create bronze datalake\n",
    "gold_directory = f\"datamart/gold/model_predictions/{config['model_name'][:-4]}/\"\n",
    "print(gold_directory)\n",
    "\n",
    "if not os.path.exists(gold_directory):\n",
    "    os.makedirs(gold_directory)\n",
    "\n",
    "# save gold table - IRL connect to database to write\n",
    "partition_name = config[\"model_name\"][:-4] + \"_predictions_\" + snapshot_date_str.replace('-','_') + '.parquet'\n",
    "filepath = gold_directory + partition_name\n",
    "spark.createDataFrame(y_inference_pdf).write.mode(\"overwrite\").parquet(filepath)\n",
    "# df.toPandas().to_parquet(filepath,\n",
    "#           compression='gzip')\n",
    "print('saved to:', filepath)"
   ]
  },
  {
   "cell_type": "markdown",
   "id": "77a0dfb6-dc32-4a70-9118-9d924213fb2c",
   "metadata": {},
   "source": [
    "## backfill"
   ]
  },
  {
   "cell_type": "markdown",
   "id": "7cc06866",
   "metadata": {},
   "source": [
    "## Run predictions for XGB and REG "
   ]
  },
  {
   "cell_type": "markdown",
   "id": "5867fe20",
   "metadata": {},
   "source": [
    "#### Model Monitoring"
   ]
  },
  {
   "cell_type": "code",
   "execution_count": null,
   "id": "b9b02e05",
   "metadata": {},
   "outputs": [
    {
     "name": "stderr",
     "output_type": "stream",
     "text": [
      "Saving labels: 100%|██████████| 1/1 [00:00<00:00, 1149.44it/s]\n"
     ]
    },
    {
     "name": "stdout",
     "output_type": "stream",
     "text": [
      "No data to write. Skipping write step.\n",
      "saved to: datamart/gold/model_monitoring/reg/2017_01_01.parquet\n",
      "rows added: 0\n"
     ]
    },
    {
     "data": {
      "text/plain": [
       "0"
      ]
     },
     "execution_count": 17,
     "metadata": {},
     "output_type": "execute_result"
    }
   ],
   "source": [
    "from tqdm import tqdm\n",
    "from sklearn.metrics import fbeta_score\n",
    "\n",
    "def monitoring(snapshotdate, model):\n",
    "    snapshotdate_str = snapshotdate.replace('-', '_')\n",
    "    if model == 'reg':\n",
    "        model_pred_loc = \"datamart/gold/model_predictions/reg_2018_04_01/\" #update\n",
    "        file_name = 'reg_2018_04_01_predictions_' + snapshotdate_str + '.parquet' #update\n",
    "    else:\n",
    "        model_pred_loc = \"datamart/gold/model_predictions/xgb_2018_04_01/\" #update\n",
    "        file_name = 'xgb_2018_04_01_predictions_' + snapshotdate_str + '.parquet' #update\n",
    "    \n",
    "    date_lst = [snapshotdate]\n",
    "    for date_str in tqdm(date_lst, total=len(date_lst), desc=\"Saving labels\"):\n",
    "        files_list = os.path.join(model_pred_loc, file_name)\n",
    "        if os.path.exists(files_list):\n",
    "            model_pred_list = spark.read.parquet(files_list)\n",
    "            print(\"row_count for predictions:\",model_pred_list.count(),\"\\n\")\n",
    "            #Import the ground truths\n",
    "            ground_truth_loc =  \"datamart/gold/label_store\"\n",
    "            files_list = glob.glob(os.path.join(ground_truth_loc, snapshotdate_str+'*.parquet'))\n",
    "            ground_truth_list = spark.read.option(\"header\", \"true\").parquet(*files_list)\n",
    "            print(\"row_count for ground Truths:\",ground_truth_list.count(),\"\\n\")\n",
    "\n",
    "            ground_truth = ground_truth_list.toPandas()\n",
    "            model_pred = model_pred_list.toPandas()\n",
    "            f1_5_score = 0\n",
    "            if ground_truth_list.count() == 0:\n",
    "                df_results = pd.DataFrame([[snapshotdate, f1_5_score]], columns=['snapshot_date', 'f1_5_score'])\n",
    "            else:\n",
    "                final_df = (\n",
    "                    ground_truth.merge(model_pred, how='left', on='order_id')\n",
    "                    [['order_id','model_predictions','miss_delivery_sla','model_name','snapshot_date_y']]  # select columns\n",
    "                    .rename(columns={'miss_delivery_sla': 'ground_truth'})  # rename\n",
    "                )\n",
    "                # Drop NaNs and ensure integer types\n",
    "                filtered_eval = final_df.dropna(subset=[\"ground_truth\", \"model_predictions\"])\n",
    "                y_true = filtered_eval[\"ground_truth\"].astype(int)\n",
    "                y_pred = filtered_eval[\"model_predictions\"].astype(int)\n",
    "\n",
    "                # Compute F1.5 score\n",
    "                f1_5_score = fbeta_score(y_true, y_pred, beta=1.5)\n",
    "                print(f\"F1.5-score: {f1_5_score:.4f}\")\n",
    "                df_results = pd.DataFrame([[snapshotdate, f1_5_score]], columns=['snapshot_date', 'f1_5_score'])\n",
    "\n",
    "        else:\n",
    "            df_results = pd.DataFrame(columns=['snapshot_date', 'f1_5_score'])\n",
    "\n",
    "    # --- save model inference to datamart gold table ---\n",
    "    if model == 'reg':\n",
    "        gold_directory = f\"datamart/gold/model_monitoring/reg/\"\n",
    "    else:\n",
    "        gold_directory = f\"datamart/gold/model_monitoring/xgb/\"\n",
    "    \n",
    "    if not os.path.exists(gold_directory):\n",
    "        os.makedirs(gold_directory)\n",
    "\n",
    "    # save gold table\n",
    "    partition_name = snapshotdate_str+'.parquet'\n",
    "    filepath = gold_directory + partition_name\n",
    "    if df_results.empty:\n",
    "        print(\"No monitoring data to write. Skipping write step.\")\n",
    "        spark.stop()\n",
    "    else: \n",
    "        spark_df = spark.createDataFrame(df_results)\n",
    "        spark_df = spark_df.withColumn(\"f1_5_score\", col(\"f1_5_score\").cast(\"double\"))\n",
    "        spark_df.write.mode(\"overwrite\").parquet(filepath)\n",
    "    rows = df_results.shape[0]\n",
    "    print('saved to:', filepath)\n",
    "    print(f'rows added: {df_results.shape[0]}')\n",
    "    return rows\n",
    "\n",
    "snapshotdate = '2017-01-01'\n",
    "test = monitoring(snapshotdate, 'reg')\n",
    "test\n"
   ]
  },
  {
   "cell_type": "code",
   "execution_count": 24,
   "id": "640b19f8",
   "metadata": {},
   "outputs": [
    {
     "name": "stdout",
     "output_type": "stream",
     "text": [
      "row_count for Predictions: 32 \n",
      "\n",
      "row_count for ground Truths: 32 \n",
      "\n",
      "F1.5-score: 0.0000\n"
     ]
    },
    {
     "data": {
      "text/html": [
       "<div>\n",
       "<style scoped>\n",
       "    .dataframe tbody tr th:only-of-type {\n",
       "        vertical-align: middle;\n",
       "    }\n",
       "\n",
       "    .dataframe tbody tr th {\n",
       "        vertical-align: top;\n",
       "    }\n",
       "\n",
       "    .dataframe thead th {\n",
       "        text-align: right;\n",
       "    }\n",
       "</style>\n",
       "<table border=\"1\" class=\"dataframe\">\n",
       "  <thead>\n",
       "    <tr style=\"text-align: right;\">\n",
       "      <th></th>\n",
       "      <th>order_id</th>\n",
       "      <th>model_predictions</th>\n",
       "      <th>ground_truth</th>\n",
       "      <th>model_name</th>\n",
       "      <th>snapshot_date_y</th>\n",
       "    </tr>\n",
       "  </thead>\n",
       "  <tbody>\n",
       "    <tr>\n",
       "      <th>0</th>\n",
       "      <td>b95a0a8bd30aece4e94e81f0591249d8</td>\n",
       "      <td>0</td>\n",
       "      <td>0</td>\n",
       "      <td>reg_2018_04_01.pkl</td>\n",
       "      <td>2017-01-05</td>\n",
       "    </tr>\n",
       "    <tr>\n",
       "      <th>1</th>\n",
       "      <td>ca5a215980675471f0cf8199c041909a</td>\n",
       "      <td>0</td>\n",
       "      <td>0</td>\n",
       "      <td>reg_2018_04_01.pkl</td>\n",
       "      <td>2017-01-05</td>\n",
       "    </tr>\n",
       "    <tr>\n",
       "      <th>2</th>\n",
       "      <td>7a18a504c1a4b32d883e68de2e1a7db0</td>\n",
       "      <td>0</td>\n",
       "      <td>0</td>\n",
       "      <td>reg_2018_04_01.pkl</td>\n",
       "      <td>2017-01-05</td>\n",
       "    </tr>\n",
       "    <tr>\n",
       "      <th>3</th>\n",
       "      <td>464de32dc84484c1d26df3e8e38e708b</td>\n",
       "      <td>0</td>\n",
       "      <td>0</td>\n",
       "      <td>reg_2018_04_01.pkl</td>\n",
       "      <td>2017-01-05</td>\n",
       "    </tr>\n",
       "    <tr>\n",
       "      <th>4</th>\n",
       "      <td>34bf4feda1e203af64692d97c6950c39</td>\n",
       "      <td>0</td>\n",
       "      <td>0</td>\n",
       "      <td>reg_2018_04_01.pkl</td>\n",
       "      <td>2017-01-05</td>\n",
       "    </tr>\n",
       "    <tr>\n",
       "      <th>5</th>\n",
       "      <td>2f9d791088532b218b41f892cc16073b</td>\n",
       "      <td>0</td>\n",
       "      <td>0</td>\n",
       "      <td>reg_2018_04_01.pkl</td>\n",
       "      <td>2017-01-05</td>\n",
       "    </tr>\n",
       "    <tr>\n",
       "      <th>6</th>\n",
       "      <td>3ce4038922670fead496aeae61a8a393</td>\n",
       "      <td>0</td>\n",
       "      <td>0</td>\n",
       "      <td>reg_2018_04_01.pkl</td>\n",
       "      <td>2017-01-05</td>\n",
       "    </tr>\n",
       "    <tr>\n",
       "      <th>7</th>\n",
       "      <td>d82cef48824870df9946d57e827ed727</td>\n",
       "      <td>0</td>\n",
       "      <td>0</td>\n",
       "      <td>reg_2018_04_01.pkl</td>\n",
       "      <td>2017-01-05</td>\n",
       "    </tr>\n",
       "    <tr>\n",
       "      <th>8</th>\n",
       "      <td>e1fe072ef14b519af1f0a8ed997c1301</td>\n",
       "      <td>1</td>\n",
       "      <td>0</td>\n",
       "      <td>reg_2018_04_01.pkl</td>\n",
       "      <td>2017-01-05</td>\n",
       "    </tr>\n",
       "    <tr>\n",
       "      <th>9</th>\n",
       "      <td>f2dd5f15184c73c0d45c02941c7c23d1</td>\n",
       "      <td>1</td>\n",
       "      <td>0</td>\n",
       "      <td>reg_2018_04_01.pkl</td>\n",
       "      <td>2017-01-05</td>\n",
       "    </tr>\n",
       "    <tr>\n",
       "      <th>10</th>\n",
       "      <td>8a784d47854e4cbc5562362393d504db</td>\n",
       "      <td>0</td>\n",
       "      <td>0</td>\n",
       "      <td>reg_2018_04_01.pkl</td>\n",
       "      <td>2017-01-05</td>\n",
       "    </tr>\n",
       "    <tr>\n",
       "      <th>11</th>\n",
       "      <td>747996a66f5aa711deb8ae58f5ae46a0</td>\n",
       "      <td>0</td>\n",
       "      <td>0</td>\n",
       "      <td>reg_2018_04_01.pkl</td>\n",
       "      <td>2017-01-05</td>\n",
       "    </tr>\n",
       "    <tr>\n",
       "      <th>12</th>\n",
       "      <td>1b694ef5b28d3e949a4f0ffeb2c9fcd6</td>\n",
       "      <td>0</td>\n",
       "      <td>0</td>\n",
       "      <td>reg_2018_04_01.pkl</td>\n",
       "      <td>2017-01-05</td>\n",
       "    </tr>\n",
       "    <tr>\n",
       "      <th>13</th>\n",
       "      <td>40599d3d28b75746952ded75566637b9</td>\n",
       "      <td>0</td>\n",
       "      <td>0</td>\n",
       "      <td>reg_2018_04_01.pkl</td>\n",
       "      <td>2017-01-05</td>\n",
       "    </tr>\n",
       "    <tr>\n",
       "      <th>14</th>\n",
       "      <td>43d29c6fc78c31c80080d85e5260a9fb</td>\n",
       "      <td>0</td>\n",
       "      <td>0</td>\n",
       "      <td>reg_2018_04_01.pkl</td>\n",
       "      <td>2017-01-05</td>\n",
       "    </tr>\n",
       "    <tr>\n",
       "      <th>15</th>\n",
       "      <td>205d7052a6505124d200f6fea6b423bc</td>\n",
       "      <td>0</td>\n",
       "      <td>0</td>\n",
       "      <td>reg_2018_04_01.pkl</td>\n",
       "      <td>2017-01-05</td>\n",
       "    </tr>\n",
       "    <tr>\n",
       "      <th>16</th>\n",
       "      <td>17fed53ba6dfef9b594ee2268642e2aa</td>\n",
       "      <td>0</td>\n",
       "      <td>0</td>\n",
       "      <td>reg_2018_04_01.pkl</td>\n",
       "      <td>2017-01-05</td>\n",
       "    </tr>\n",
       "    <tr>\n",
       "      <th>17</th>\n",
       "      <td>db7576b1fe440f4c0a808855aacf0948</td>\n",
       "      <td>0</td>\n",
       "      <td>0</td>\n",
       "      <td>reg_2018_04_01.pkl</td>\n",
       "      <td>2017-01-05</td>\n",
       "    </tr>\n",
       "    <tr>\n",
       "      <th>18</th>\n",
       "      <td>9021fdebb45ac827a6033d6969d5c2e3</td>\n",
       "      <td>1</td>\n",
       "      <td>0</td>\n",
       "      <td>reg_2018_04_01.pkl</td>\n",
       "      <td>2017-01-05</td>\n",
       "    </tr>\n",
       "    <tr>\n",
       "      <th>19</th>\n",
       "      <td>cce1b8a1c5f8b1d224e19628299c8f54</td>\n",
       "      <td>0</td>\n",
       "      <td>0</td>\n",
       "      <td>reg_2018_04_01.pkl</td>\n",
       "      <td>2017-01-05</td>\n",
       "    </tr>\n",
       "    <tr>\n",
       "      <th>20</th>\n",
       "      <td>ce86fa5a5108884726a2244bcae51ae6</td>\n",
       "      <td>0</td>\n",
       "      <td>0</td>\n",
       "      <td>reg_2018_04_01.pkl</td>\n",
       "      <td>2017-01-05</td>\n",
       "    </tr>\n",
       "    <tr>\n",
       "      <th>21</th>\n",
       "      <td>9b91ddcbd6cbceb83d4fd2462ca1f95e</td>\n",
       "      <td>0</td>\n",
       "      <td>0</td>\n",
       "      <td>reg_2018_04_01.pkl</td>\n",
       "      <td>2017-01-05</td>\n",
       "    </tr>\n",
       "    <tr>\n",
       "      <th>22</th>\n",
       "      <td>c96209cd1d43d071d3bdf48d299b7aa5</td>\n",
       "      <td>0</td>\n",
       "      <td>0</td>\n",
       "      <td>reg_2018_04_01.pkl</td>\n",
       "      <td>2017-01-05</td>\n",
       "    </tr>\n",
       "    <tr>\n",
       "      <th>23</th>\n",
       "      <td>5965b589a33443dd1f820eb7df39762a</td>\n",
       "      <td>0</td>\n",
       "      <td>0</td>\n",
       "      <td>reg_2018_04_01.pkl</td>\n",
       "      <td>2017-01-05</td>\n",
       "    </tr>\n",
       "    <tr>\n",
       "      <th>24</th>\n",
       "      <td>7004296aa0256632eaddc171edaf727f</td>\n",
       "      <td>0</td>\n",
       "      <td>0</td>\n",
       "      <td>reg_2018_04_01.pkl</td>\n",
       "      <td>2017-01-05</td>\n",
       "    </tr>\n",
       "    <tr>\n",
       "      <th>25</th>\n",
       "      <td>6acecf438369055d9243e121045cca74</td>\n",
       "      <td>0</td>\n",
       "      <td>0</td>\n",
       "      <td>reg_2018_04_01.pkl</td>\n",
       "      <td>2017-01-05</td>\n",
       "    </tr>\n",
       "    <tr>\n",
       "      <th>26</th>\n",
       "      <td>38bcb524e1c38c2c1b60600a80fc8999</td>\n",
       "      <td>0</td>\n",
       "      <td>0</td>\n",
       "      <td>reg_2018_04_01.pkl</td>\n",
       "      <td>2017-01-05</td>\n",
       "    </tr>\n",
       "    <tr>\n",
       "      <th>27</th>\n",
       "      <td>0bda8164c1a12b6a388ebec8559ee287</td>\n",
       "      <td>0</td>\n",
       "      <td>0</td>\n",
       "      <td>reg_2018_04_01.pkl</td>\n",
       "      <td>2017-01-05</td>\n",
       "    </tr>\n",
       "    <tr>\n",
       "      <th>28</th>\n",
       "      <td>09f58c00f941827ab206de7796785e44</td>\n",
       "      <td>0</td>\n",
       "      <td>0</td>\n",
       "      <td>reg_2018_04_01.pkl</td>\n",
       "      <td>2017-01-05</td>\n",
       "    </tr>\n",
       "    <tr>\n",
       "      <th>29</th>\n",
       "      <td>f175d67589e059cbbda956f10f0702e6</td>\n",
       "      <td>0</td>\n",
       "      <td>0</td>\n",
       "      <td>reg_2018_04_01.pkl</td>\n",
       "      <td>2017-01-05</td>\n",
       "    </tr>\n",
       "    <tr>\n",
       "      <th>30</th>\n",
       "      <td>f92641ff0446a0e1c57195ebfe76e16a</td>\n",
       "      <td>0</td>\n",
       "      <td>0</td>\n",
       "      <td>reg_2018_04_01.pkl</td>\n",
       "      <td>2017-01-05</td>\n",
       "    </tr>\n",
       "    <tr>\n",
       "      <th>31</th>\n",
       "      <td>ec7a019261fce44180373d45b442d78f</td>\n",
       "      <td>0</td>\n",
       "      <td>0</td>\n",
       "      <td>reg_2018_04_01.pkl</td>\n",
       "      <td>2017-01-05</td>\n",
       "    </tr>\n",
       "  </tbody>\n",
       "</table>\n",
       "</div>"
      ],
      "text/plain": [
       "                            order_id  model_predictions  ground_truth  \\\n",
       "0   b95a0a8bd30aece4e94e81f0591249d8                  0             0   \n",
       "1   ca5a215980675471f0cf8199c041909a                  0             0   \n",
       "2   7a18a504c1a4b32d883e68de2e1a7db0                  0             0   \n",
       "3   464de32dc84484c1d26df3e8e38e708b                  0             0   \n",
       "4   34bf4feda1e203af64692d97c6950c39                  0             0   \n",
       "5   2f9d791088532b218b41f892cc16073b                  0             0   \n",
       "6   3ce4038922670fead496aeae61a8a393                  0             0   \n",
       "7   d82cef48824870df9946d57e827ed727                  0             0   \n",
       "8   e1fe072ef14b519af1f0a8ed997c1301                  1             0   \n",
       "9   f2dd5f15184c73c0d45c02941c7c23d1                  1             0   \n",
       "10  8a784d47854e4cbc5562362393d504db                  0             0   \n",
       "11  747996a66f5aa711deb8ae58f5ae46a0                  0             0   \n",
       "12  1b694ef5b28d3e949a4f0ffeb2c9fcd6                  0             0   \n",
       "13  40599d3d28b75746952ded75566637b9                  0             0   \n",
       "14  43d29c6fc78c31c80080d85e5260a9fb                  0             0   \n",
       "15  205d7052a6505124d200f6fea6b423bc                  0             0   \n",
       "16  17fed53ba6dfef9b594ee2268642e2aa                  0             0   \n",
       "17  db7576b1fe440f4c0a808855aacf0948                  0             0   \n",
       "18  9021fdebb45ac827a6033d6969d5c2e3                  1             0   \n",
       "19  cce1b8a1c5f8b1d224e19628299c8f54                  0             0   \n",
       "20  ce86fa5a5108884726a2244bcae51ae6                  0             0   \n",
       "21  9b91ddcbd6cbceb83d4fd2462ca1f95e                  0             0   \n",
       "22  c96209cd1d43d071d3bdf48d299b7aa5                  0             0   \n",
       "23  5965b589a33443dd1f820eb7df39762a                  0             0   \n",
       "24  7004296aa0256632eaddc171edaf727f                  0             0   \n",
       "25  6acecf438369055d9243e121045cca74                  0             0   \n",
       "26  38bcb524e1c38c2c1b60600a80fc8999                  0             0   \n",
       "27  0bda8164c1a12b6a388ebec8559ee287                  0             0   \n",
       "28  09f58c00f941827ab206de7796785e44                  0             0   \n",
       "29  f175d67589e059cbbda956f10f0702e6                  0             0   \n",
       "30  f92641ff0446a0e1c57195ebfe76e16a                  0             0   \n",
       "31  ec7a019261fce44180373d45b442d78f                  0             0   \n",
       "\n",
       "            model_name snapshot_date_y  \n",
       "0   reg_2018_04_01.pkl      2017-01-05  \n",
       "1   reg_2018_04_01.pkl      2017-01-05  \n",
       "2   reg_2018_04_01.pkl      2017-01-05  \n",
       "3   reg_2018_04_01.pkl      2017-01-05  \n",
       "4   reg_2018_04_01.pkl      2017-01-05  \n",
       "5   reg_2018_04_01.pkl      2017-01-05  \n",
       "6   reg_2018_04_01.pkl      2017-01-05  \n",
       "7   reg_2018_04_01.pkl      2017-01-05  \n",
       "8   reg_2018_04_01.pkl      2017-01-05  \n",
       "9   reg_2018_04_01.pkl      2017-01-05  \n",
       "10  reg_2018_04_01.pkl      2017-01-05  \n",
       "11  reg_2018_04_01.pkl      2017-01-05  \n",
       "12  reg_2018_04_01.pkl      2017-01-05  \n",
       "13  reg_2018_04_01.pkl      2017-01-05  \n",
       "14  reg_2018_04_01.pkl      2017-01-05  \n",
       "15  reg_2018_04_01.pkl      2017-01-05  \n",
       "16  reg_2018_04_01.pkl      2017-01-05  \n",
       "17  reg_2018_04_01.pkl      2017-01-05  \n",
       "18  reg_2018_04_01.pkl      2017-01-05  \n",
       "19  reg_2018_04_01.pkl      2017-01-05  \n",
       "20  reg_2018_04_01.pkl      2017-01-05  \n",
       "21  reg_2018_04_01.pkl      2017-01-05  \n",
       "22  reg_2018_04_01.pkl      2017-01-05  \n",
       "23  reg_2018_04_01.pkl      2017-01-05  \n",
       "24  reg_2018_04_01.pkl      2017-01-05  \n",
       "25  reg_2018_04_01.pkl      2017-01-05  \n",
       "26  reg_2018_04_01.pkl      2017-01-05  \n",
       "27  reg_2018_04_01.pkl      2017-01-05  \n",
       "28  reg_2018_04_01.pkl      2017-01-05  \n",
       "29  reg_2018_04_01.pkl      2017-01-05  \n",
       "30  reg_2018_04_01.pkl      2017-01-05  \n",
       "31  reg_2018_04_01.pkl      2017-01-05  "
      ]
     },
     "execution_count": 24,
     "metadata": {},
     "output_type": "execute_result"
    }
   ],
   "source": [
    "from sklearn.metrics import fbeta_score\n",
    "model = 'reg'\n",
    "snapshotdate = '2017-01-05'\n",
    "snapshotdate_str = snapshotdate.replace('-', '_')\n",
    "if model == 'reg':\n",
    "    model_pred_loc = \"datamart/gold/model_predictions/reg_2018_04_01/\" #update\n",
    "    file_name = 'reg_2018_04_01_predictions_' + snapshotdate_str + '.parquet' #update\n",
    "else:\n",
    "    model_pred_loc = \"datamart/gold/model_predictions/xgb_2018_04_01/\" #update\n",
    "    file_name = 'xgb_2018_04_01_predictions_' + snapshotdate_str + '.parquet' #update\n",
    "\n",
    "files_list = os.path.join(model_pred_loc, file_name)\n",
    "if os.path.exists(files_list):\n",
    "    model_pred_list = spark.read.parquet(files_list)\n",
    "    print(\"row_count for Predictions:\",model_pred_list.count(),\"\\n\")\n",
    "    #Import the ground truths\n",
    "    ground_truth_loc =  \"datamart/gold/label_store\"\n",
    "    files_list = glob.glob(os.path.join(ground_truth_loc, snapshotdate_str+'*.parquet'))\n",
    "    ground_truth_list = spark.read.option(\"header\", \"true\").parquet(*files_list)\n",
    "    print(\"row_count for ground Truths:\",ground_truth_list.count(),\"\\n\")\n",
    "\n",
    "rows = model_pred_list.count()\n",
    "ground_truth = ground_truth_list.toPandas()\n",
    "model_pred = model_pred_list.toPandas()\n",
    "\n",
    "final_df = (\n",
    "    ground_truth.merge(model_pred, how='left', on='order_id')\n",
    "    [['order_id','model_predictions','miss_delivery_sla','model_name','snapshot_date_y']]  # select columns\n",
    "    .rename(columns={'miss_delivery_sla': 'ground_truth'})  # rename\n",
    ")\n",
    "\n",
    "\n",
    "# Drop NaNs and ensure integer types\n",
    "filtered_eval = final_df.dropna(subset=[\"ground_truth\", \"model_predictions\"])\n",
    "y_true = filtered_eval[\"ground_truth\"].astype(int)\n",
    "y_pred = filtered_eval[\"model_predictions\"].astype(int)\n",
    "\n",
    "# Compute F1.5 score\n",
    "f1_5_score = fbeta_score(y_true, y_pred, beta=1.5)\n",
    "print(f\"F1.5-score: {f1_5_score:.4f}\")\n",
    "df_results = pd.DataFrame([[snapshotdate, model,rows, f1_5_score]], columns=['snapshot_date', 'model', 'num_of_orders', 'f1_5_score'])\n",
    "    \n",
    "filtered_eval"
   ]
  },
  {
   "cell_type": "markdown",
   "id": "c339e3cb-1826-49a0-ac73-cb381f85b033",
   "metadata": {},
   "source": [
    "## Check datamart"
   ]
  },
  {
   "cell_type": "code",
   "execution_count": 50,
   "id": "418abe90-da75-4c5e-a588-60e00ab3c947",
   "metadata": {},
   "outputs": [
    {
     "name": "stderr",
     "output_type": "stream",
     "text": [
      "                                                                                \r"
     ]
    },
    {
     "data": {
      "text/html": [
       "<div>\n",
       "<style scoped>\n",
       "    .dataframe tbody tr th:only-of-type {\n",
       "        vertical-align: middle;\n",
       "    }\n",
       "\n",
       "    .dataframe tbody tr th {\n",
       "        vertical-align: top;\n",
       "    }\n",
       "\n",
       "    .dataframe thead th {\n",
       "        text-align: right;\n",
       "    }\n",
       "</style>\n",
       "<table border=\"1\" class=\"dataframe\">\n",
       "  <thead>\n",
       "    <tr style=\"text-align: right;\">\n",
       "      <th></th>\n",
       "      <th>snapshot_date</th>\n",
       "      <th>model</th>\n",
       "      <th>num_of_orders</th>\n",
       "      <th>f1_5_score</th>\n",
       "    </tr>\n",
       "  </thead>\n",
       "  <tbody>\n",
       "    <tr>\n",
       "      <th>393</th>\n",
       "      <td>2017-06-01</td>\n",
       "      <td>reg</td>\n",
       "      <td>123</td>\n",
       "      <td>0.502146</td>\n",
       "    </tr>\n",
       "    <tr>\n",
       "      <th>159</th>\n",
       "      <td>2017-06-02</td>\n",
       "      <td>reg</td>\n",
       "      <td>123</td>\n",
       "      <td>0.642504</td>\n",
       "    </tr>\n",
       "    <tr>\n",
       "      <th>126</th>\n",
       "      <td>2017-06-03</td>\n",
       "      <td>reg</td>\n",
       "      <td>88</td>\n",
       "      <td>0.640845</td>\n",
       "    </tr>\n",
       "    <tr>\n",
       "      <th>453</th>\n",
       "      <td>2017-06-04</td>\n",
       "      <td>reg</td>\n",
       "      <td>98</td>\n",
       "      <td>0.432373</td>\n",
       "    </tr>\n",
       "    <tr>\n",
       "      <th>450</th>\n",
       "      <td>2017-06-05</td>\n",
       "      <td>reg</td>\n",
       "      <td>142</td>\n",
       "      <td>0.571631</td>\n",
       "    </tr>\n",
       "    <tr>\n",
       "      <th>...</th>\n",
       "      <td>...</td>\n",
       "      <td>...</td>\n",
       "      <td>...</td>\n",
       "      <td>...</td>\n",
       "    </tr>\n",
       "    <tr>\n",
       "      <th>391</th>\n",
       "      <td>2018-08-13</td>\n",
       "      <td>reg</td>\n",
       "      <td>284</td>\n",
       "      <td>0.403509</td>\n",
       "    </tr>\n",
       "    <tr>\n",
       "      <th>254</th>\n",
       "      <td>2018-08-14</td>\n",
       "      <td>reg</td>\n",
       "      <td>311</td>\n",
       "      <td>0.439189</td>\n",
       "    </tr>\n",
       "    <tr>\n",
       "      <th>237</th>\n",
       "      <td>2018-08-15</td>\n",
       "      <td>reg</td>\n",
       "      <td>282</td>\n",
       "      <td>0.184922</td>\n",
       "    </tr>\n",
       "    <tr>\n",
       "      <th>434</th>\n",
       "      <td>2018-08-16</td>\n",
       "      <td>reg</td>\n",
       "      <td>316</td>\n",
       "      <td>0.194611</td>\n",
       "    </tr>\n",
       "    <tr>\n",
       "      <th>373</th>\n",
       "      <td>2018-08-17</td>\n",
       "      <td>reg</td>\n",
       "      <td>249</td>\n",
       "      <td>0.052632</td>\n",
       "    </tr>\n",
       "  </tbody>\n",
       "</table>\n",
       "<p>443 rows × 4 columns</p>\n",
       "</div>"
      ],
      "text/plain": [
       "    snapshot_date model  num_of_orders  f1_5_score\n",
       "393    2017-06-01   reg            123    0.502146\n",
       "159    2017-06-02   reg            123    0.642504\n",
       "126    2017-06-03   reg             88    0.640845\n",
       "453    2017-06-04   reg             98    0.432373\n",
       "450    2017-06-05   reg            142    0.571631\n",
       "..            ...   ...            ...         ...\n",
       "391    2018-08-13   reg            284    0.403509\n",
       "254    2018-08-14   reg            311    0.439189\n",
       "237    2018-08-15   reg            282    0.184922\n",
       "434    2018-08-16   reg            316    0.194611\n",
       "373    2018-08-17   reg            249    0.052632\n",
       "\n",
       "[443 rows x 4 columns]"
      ]
     },
     "execution_count": 50,
     "metadata": {},
     "output_type": "execute_result"
    }
   ],
   "source": [
    "path = 'datamart/gold/model_monitoring/reg'\n",
    "filepath = glob.glob(os.path.join(path, '*.parquet'))\n",
    "\n",
    "# Unpack the list of files\n",
    "model_monitoring=spark.read.option(\"header\", \"true\").parquet(*filepath)\n",
    "# Convert to Pandas for inspection\n",
    "model_monitoring_test = model_monitoring.toPandas()\n",
    "model_monitoring_test = model_monitoring_test[model_monitoring_test['f1_5_score'] != 0.0]\n",
    "model_monitoring_test.sort_values('snapshot_date')"
   ]
  },
  {
   "cell_type": "code",
   "execution_count": 43,
   "id": "55728897-0715-43a0-904f-5aba101b03aa",
   "metadata": {},
   "outputs": [],
   "source": [
    "# Convert snapshot_date to datetime if not already\n",
    "model_monitoring_test['snapshot_date'] = pd.to_datetime(model_monitoring_test['snapshot_date'])\n",
    "\n",
    "# Group by year and month, then calculate average f1_5_score\n",
    "monthly_avg = model_monitoring_test.groupby(model_monitoring_test['snapshot_date'].dt.to_period('M'))['f1_5_score'].mean().reset_index()\n",
    "\n",
    "# Optional: convert 'snapshot_date' back to string or datetime\n",
    "monthly_avg['snapshot_date'] = monthly_avg['snapshot_date'].dt.to_timestamp()"
   ]
  },
  {
   "cell_type": "code",
   "execution_count": 51,
   "id": "36d64e8e",
   "metadata": {},
   "outputs": [
    {
     "data": {
      "text/html": [
       "<div>\n",
       "<style scoped>\n",
       "    .dataframe tbody tr th:only-of-type {\n",
       "        vertical-align: middle;\n",
       "    }\n",
       "\n",
       "    .dataframe tbody tr th {\n",
       "        vertical-align: top;\n",
       "    }\n",
       "\n",
       "    .dataframe thead th {\n",
       "        text-align: right;\n",
       "    }\n",
       "</style>\n",
       "<table border=\"1\" class=\"dataframe\">\n",
       "  <thead>\n",
       "    <tr style=\"text-align: right;\">\n",
       "      <th></th>\n",
       "      <th>snapshot_date</th>\n",
       "      <th>f1_5_score</th>\n",
       "    </tr>\n",
       "  </thead>\n",
       "  <tbody>\n",
       "    <tr>\n",
       "      <th>0</th>\n",
       "      <td>2017-06-01</td>\n",
       "      <td>0.594991</td>\n",
       "    </tr>\n",
       "    <tr>\n",
       "      <th>1</th>\n",
       "      <td>2017-07-01</td>\n",
       "      <td>0.651238</td>\n",
       "    </tr>\n",
       "    <tr>\n",
       "      <th>2</th>\n",
       "      <td>2017-08-01</td>\n",
       "      <td>0.655408</td>\n",
       "    </tr>\n",
       "    <tr>\n",
       "      <th>3</th>\n",
       "      <td>2017-09-01</td>\n",
       "      <td>0.641031</td>\n",
       "    </tr>\n",
       "    <tr>\n",
       "      <th>4</th>\n",
       "      <td>2017-10-01</td>\n",
       "      <td>0.638244</td>\n",
       "    </tr>\n",
       "    <tr>\n",
       "      <th>5</th>\n",
       "      <td>2017-11-01</td>\n",
       "      <td>0.647729</td>\n",
       "    </tr>\n",
       "    <tr>\n",
       "      <th>6</th>\n",
       "      <td>2017-12-01</td>\n",
       "      <td>0.642155</td>\n",
       "    </tr>\n",
       "    <tr>\n",
       "      <th>7</th>\n",
       "      <td>2018-01-01</td>\n",
       "      <td>0.643985</td>\n",
       "    </tr>\n",
       "    <tr>\n",
       "      <th>8</th>\n",
       "      <td>2018-02-01</td>\n",
       "      <td>0.675554</td>\n",
       "    </tr>\n",
       "    <tr>\n",
       "      <th>9</th>\n",
       "      <td>2018-03-01</td>\n",
       "      <td>0.651711</td>\n",
       "    </tr>\n",
       "    <tr>\n",
       "      <th>10</th>\n",
       "      <td>2018-04-01</td>\n",
       "      <td>0.654248</td>\n",
       "    </tr>\n",
       "    <tr>\n",
       "      <th>11</th>\n",
       "      <td>2018-05-01</td>\n",
       "      <td>0.582770</td>\n",
       "    </tr>\n",
       "    <tr>\n",
       "      <th>12</th>\n",
       "      <td>2018-06-01</td>\n",
       "      <td>0.511716</td>\n",
       "    </tr>\n",
       "    <tr>\n",
       "      <th>13</th>\n",
       "      <td>2018-07-01</td>\n",
       "      <td>0.477204</td>\n",
       "    </tr>\n",
       "    <tr>\n",
       "      <th>14</th>\n",
       "      <td>2018-08-01</td>\n",
       "      <td>0.377932</td>\n",
       "    </tr>\n",
       "  </tbody>\n",
       "</table>\n",
       "</div>"
      ],
      "text/plain": [
       "   snapshot_date  f1_5_score\n",
       "0     2017-06-01    0.594991\n",
       "1     2017-07-01    0.651238\n",
       "2     2017-08-01    0.655408\n",
       "3     2017-09-01    0.641031\n",
       "4     2017-10-01    0.638244\n",
       "5     2017-11-01    0.647729\n",
       "6     2017-12-01    0.642155\n",
       "7     2018-01-01    0.643985\n",
       "8     2018-02-01    0.675554\n",
       "9     2018-03-01    0.651711\n",
       "10    2018-04-01    0.654248\n",
       "11    2018-05-01    0.582770\n",
       "12    2018-06-01    0.511716\n",
       "13    2018-07-01    0.477204\n",
       "14    2018-08-01    0.377932"
      ]
     },
     "execution_count": 51,
     "metadata": {},
     "output_type": "execute_result"
    }
   ],
   "source": [
    "monthly_avg"
   ]
  },
  {
   "cell_type": "code",
   "execution_count": 48,
   "id": "d29fda2c-e869-4ee6-9e98-fc85e69eb136",
   "metadata": {},
   "outputs": [
    {
     "data": {
      "image/png": "[encoded data removed]",
      "text/plain": [
       "<Figure size 1000x500 with 1 Axes>"
      ]
     },
     "metadata": {},
     "output_type": "display_data"
    }
   ],
   "source": [
    "import pandas as pd\n",
    "import matplotlib.pyplot as plt\n",
    "\n",
    "monthly_avg['snapshot_date'] = pd.to_datetime(monthly_avg['snapshot_date'])\n",
    "\n",
    "# Calculate mean and std dev\n",
    "mean_score = monthly_avg['f1_5_score'].mean()\n",
    "std_score = monthly_avg['f1_5_score'].std()\n",
    "\n",
    "# Plot\n",
    "plt.figure(figsize=(10, 5))\n",
    "plt.plot(monthly_avg['snapshot_date'], monthly_avg['f1_5_score'], marker='o', label='Avg F1.5 Score')\n",
    "plt.axhline(mean_score, color='gray', linestyle='-.', label='Mean')\n",
    "plt.axhline(mean_score + std_score, color='green', linestyle='--', label='+1 Std Dev')\n",
    "plt.axhline(mean_score - std_score, color='red', linestyle='--', label='-1 Std Dev')\n",
    "\n",
    "plt.title('Monthly Average F1.5 Score with ±1 Std Dev')\n",
    "plt.xlabel('Month')\n",
    "plt.ylabel('Average F1.5 Score')\n",
    "#plt.grid(True)\n",
    "plt.xticks(rotation=45)\n",
    "plt.legend()\n",
    "plt.tight_layout()\n",
    "plt.show()"
   ]
  },
  {
   "cell_type": "code",
   "execution_count": null,
   "id": "aff19c58-94ad-4abb-984f-b082326c2871",
   "metadata": {},
   "outputs": [],
   "source": [
    "import datetime\n",
    "import os\n",
    "\n",
    "start_date = datetime.date(2017, 1, 1)\n",
    "end_date = datetime.date(2018, 10, 1)\n",
    "\n",
    "model = 'reg'\n",
    "\n",
    "for i in range((end_date - start_date).days + 1):\n",
    "    day = start_date + datetime.timedelta(days=i)\n",
    "    day_str = day.strftime(\"%Y-%m-%d\")\n",
    "    cmd = f'python model_monitoring.py --snapshotdate \"{day_str}\" --model \"{model}\"'\n",
    "    print(f'execute command: {cmd}')\n",
    "    os.system(cmd)"
   ]
  },
  {
   "cell_type": "code",
   "execution_count": null,
   "id": "b6589bea",
   "metadata": {},
   "outputs": [],
   "source": []
  }
 ],
 "metadata": {
  "kernelspec": {
   "display_name": "Python (mle_env)",
   "language": "python",
   "name": "mle_env"
  },
  "language_info": {
   "codemirror_mode": {
    "name": "ipython",
    "version": 3
   },
   "file_extension": ".py",
   "mimetype": "text/x-python",
   "name": "python",
   "nbconvert_exporter": "python",
   "pygments_lexer": "ipython3",
   "version": "3.10.13"
  }
 },
 "nbformat": 4,
 "nbformat_minor": 5
}
