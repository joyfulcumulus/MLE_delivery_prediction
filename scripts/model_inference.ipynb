{
 "cells": [
  {
   "cell_type": "code",
   "execution_count": 1,
   "id": "b50484d2-bfa4-40b6-82cd-e8bf86187cfd",
   "metadata": {},
   "outputs": [],
   "source": [
    "import os\n",
    "import glob\n",
    "import pandas as pd\n",
    "import pickle\n",
    "#import matplotlib.pyplot as plt\n",
    "import numpy as np\n",
    "import random\n",
    "from datetime import datetime, timedelta\n",
    "from dateutil.relativedelta import relativedelta\n",
    "import pprint\n",
    "import pyspark\n",
    "import pyspark.sql.functions as F\n",
    "\n",
    "from pyspark.sql.functions import col\n",
    "from pyspark.sql.types import StringType, IntegerType, FloatType, DateType\n",
    "\n",
    "from sklearn.model_selection import train_test_split\n",
    "from sklearn.preprocessing import StandardScaler\n",
    "\n",
    "import xgboost as xgb\n",
    "from sklearn.model_selection import RandomizedSearchCV\n",
    "from sklearn.metrics import make_scorer, f1_score, roc_auc_score\n",
    "from sklearn.datasets import make_classification\n",
    "from sklearn.model_selection import train_test_split\n",
    "\n",
    "import model_inference\n"
   ]
  },
  {
   "cell_type": "code",
   "execution_count": 2,
   "id": "fcac9436-de95-4ebf-9655-56df8e1eafd7",
   "metadata": {},
   "outputs": [],
   "source": [
    "# Build a .py script that takes a snapshot date, loads a model artefact and make an inference and save to datamart"
   ]
  },
  {
   "cell_type": "markdown",
   "id": "37c91bb1-bcf0-4195-90f3-dc88806ebf8c",
   "metadata": {},
   "source": [
    "## set up pyspark session"
   ]
  },
  {
   "cell_type": "code",
   "execution_count": 2,
   "id": "32fb3bc6-4166-4893-88e1-0d3140df5a92",
   "metadata": {},
   "outputs": [
    {
     "name": "stderr",
     "output_type": "stream",
     "text": [
      "25/06/20 11:26:56 WARN Utils: Your hostname, Baohongs-MacBook-Air.local resolves to a loopback address: 127.0.0.1; using 10.169.0.196 instead (on interface en0)\n",
      "25/06/20 11:26:56 WARN Utils: Set SPARK_LOCAL_IP if you need to bind to another address\n",
      "Setting default log level to \"WARN\".\n",
      "To adjust logging level use sc.setLogLevel(newLevel). For SparkR, use setLogLevel(newLevel).\n",
      "25/06/20 11:26:56 WARN NativeCodeLoader: Unable to load native-hadoop library for your platform... using builtin-java classes where applicable\n",
      "25/06/20 11:26:57 WARN Utils: Service 'SparkUI' could not bind on port 4040. Attempting port 4041.\n"
     ]
    }
   ],
   "source": [
    "# Initialize SparkSession\n",
    "spark = pyspark.sql.SparkSession.builder \\\n",
    "    .appName(\"dev\") \\\n",
    "    .master(\"local[*]\") \\\n",
    "    .getOrCreate()\n",
    "\n",
    "# Set log level to ERROR to hide warnings\n",
    "spark.sparkContext.setLogLevel(\"ERROR\")"
   ]
  },
  {
   "cell_type": "markdown",
   "id": "30206071-5f00-4c3b-be13-55c54db8e336",
   "metadata": {},
   "source": [
    "## set up config"
   ]
  },
  {
   "cell_type": "code",
   "execution_count": 3,
   "id": "5ca7d9f0-cfbc-4098-826c-5537ba56b108",
   "metadata": {},
   "outputs": [],
   "source": [
    "snapshot_date_str = \"2017-01-01\"\n",
    "model_name = \"reg_2017_12_04.pkl\""
   ]
  },
  {
   "cell_type": "code",
   "execution_count": 4,
   "id": "75f0bb22-745b-4342-9779-4425795dc752",
   "metadata": {},
   "outputs": [],
   "source": [
    "config = {}\n",
    "config[\"snapshot_date_str\"] = snapshot_date_str\n",
    "config[\"snapshot_date\"] = datetime.strptime(config[\"snapshot_date_str\"], \"%Y-%m-%d\")\n",
    "config[\"model_name\"] = model_name\n",
    "config[\"model_bank_directory\"] = \"model_bank/\"\n",
    "config[\"model_artefact_filepath\"] = config[\"model_bank_directory\"] + config[\"model_name\"]"
   ]
  },
  {
   "cell_type": "markdown",
   "id": "bea8c974-7a80-44ec-a73f-b72c46b70972",
   "metadata": {},
   "source": [
    "## load model artefact from model bank"
   ]
  },
  {
   "cell_type": "code",
   "execution_count": 5,
   "id": "e4704571-1729-49ef-b2fb-e7346fc37d84",
   "metadata": {},
   "outputs": [
    {
     "name": "stdout",
     "output_type": "stream",
     "text": [
      "Model loaded successfully! model_bank/reg_2017_12_04.pkl\n"
     ]
    }
   ],
   "source": [
    "# Load the model from the pickle file\n",
    "with open(config[\"model_artefact_filepath\"], 'rb') as file:\n",
    "    model_artefact = pickle.load(file)\n",
    "\n",
    "print(\"Model loaded successfully! \" + config[\"model_artefact_filepath\"])"
   ]
  },
  {
   "cell_type": "markdown",
   "id": "441303bb-1736-4589-8537-c914d8d843b1",
   "metadata": {},
   "source": [
    "## load feature store"
   ]
  },
  {
   "cell_type": "code",
   "execution_count": 7,
   "id": "d002feb1-30f5-415a-91ef-b686ee8de99a",
   "metadata": {},
   "outputs": [
    {
     "name": "stderr",
     "output_type": "stream",
     "text": [
      "                                                                                \r"
     ]
    },
    {
     "name": "stdout",
     "output_type": "stream",
     "text": [
      "row_count for features: 39767 \n",
      "\n",
      "extracted features_sdf order_id               38657\n",
      "total_qty              38657\n",
      "total_price            38657\n",
      "total_freight_value    38657\n",
      "total_weight_g         38657\n",
      "total_volume_cm3       38657\n",
      "order_status           38657\n",
      "total_density          38657\n",
      "dtype: int64 2017-01-01 00:00:00\n"
     ]
    }
   ],
   "source": [
    "from functools import reduce\n",
    "feature_location = \"datamart/gold/feature_store/\"\n",
    "# Load CSV into DataFrame - connect to feature store\n",
    "files_list = glob.glob(os.path.join(feature_location, '*.parquet'))\n",
    "features_store_sdf = spark.read.option(\"header\", \"true\").parquet(*files_list)\n",
    "print(\"row_count for features:\",features_store_sdf.count(),\"\\n\")\n",
    "\n",
    "# Filter out NA\n",
    "rows_with_nulls = features_store_sdf.filter(\n",
    "    reduce(lambda a, b: a | b, (col(c).isNull() for c in features_store_sdf.columns))\n",
    ")\n",
    "order_ids_to_drop = [row[\"order_id\"] for row in rows_with_nulls.select(\"order_id\").distinct().collect()]\n",
    "features_store_sdf = features_store_sdf.filter(~col(\"order_id\").isin(order_ids_to_drop))\n",
    "\n",
    "#Extract relevant features\n",
    "features_store_sdf = features_store_sdf.filter(col(\"order_status\") == \"delivered\")\n",
    "features_sdf = features_store_sdf.toPandas()\n",
    "print(\"extracted features_sdf\", features_sdf.count(), config[\"snapshot_date\"])\n"
   ]
  },
  {
   "cell_type": "markdown",
   "id": "6f361665-930e-47ec-b312-679ecd40cb2e",
   "metadata": {},
   "source": [
    "## preprocess data for modeling"
   ]
  },
  {
   "cell_type": "code",
   "execution_count": 10,
   "id": "04410356-646a-41d6-8f1e-8876f0f4f147",
   "metadata": {},
   "outputs": [
    {
     "name": "stdout",
     "output_type": "stream",
     "text": [
      "X_inference 38657\n"
     ]
    },
    {
     "data": {
      "text/plain": [
       "array([[-2.82649479e-01,  1.27916498e+00,  3.45926693e-01,\n",
       "         4.62914007e-03, -4.43825417e-02, -1.03102549e-01],\n",
       "       [-2.82649479e-01, -1.73277184e-01, -4.02506558e-01,\n",
       "        -1.97166152e-01,  3.07890357e-02, -3.20065876e-01],\n",
       "       [-2.82649479e-01,  7.08423448e-01, -4.19609695e-01,\n",
       "        -4.26478984e-01, -4.44242223e-01, -1.59457018e-01],\n",
       "       ...,\n",
       "       [ 1.85660059e+00,  3.23362575e+00,  3.19245800e-01,\n",
       "         7.24854883e-01,  9.32286220e-01, -1.92938411e-01],\n",
       "       [-2.82649479e-01, -6.02673677e-01, -7.43885162e-01,\n",
       "        -4.44824011e-01, -4.95003465e-01,  1.14435169e+00],\n",
       "       [ 3.99585066e+00,  2.03940951e-03, -1.14683506e+00,\n",
       "         6.88367331e-02, -1.90231743e-01,  1.84101433e-01]])"
      ]
     },
     "execution_count": 10,
     "metadata": {},
     "output_type": "execute_result"
    }
   ],
   "source": [
    "# prepare X_inference\n",
    "features_pdf = features_sdf.drop(columns=['order_id', 'order_status']).values\n",
    "\n",
    "# apply transformer - standard scaler\n",
    "transformer_stdscaler = model_artefact[\"preprocessing_transformers\"][\"stdscaler\"]\n",
    "X_inference = transformer_stdscaler.transform(features_pdf)\n",
    "\n",
    "print('X_inference', X_inference.shape[0])\n",
    "X_inference"
   ]
  },
  {
   "cell_type": "markdown",
   "id": "c1a4362f-9dee-4838-a030-a74b88884b4f",
   "metadata": {},
   "source": [
    "## model prediction inference"
   ]
  },
  {
   "cell_type": "code",
   "execution_count": 11,
   "id": "973c76b7",
   "metadata": {},
   "outputs": [
    {
     "data": {
      "text/plain": [
       "0.25"
      ]
     },
     "execution_count": 11,
     "metadata": {},
     "output_type": "execute_result"
    }
   ],
   "source": [
    "threshold = model_artefact['threshold']\n",
    "threshold"
   ]
  },
  {
   "cell_type": "code",
   "execution_count": 14,
   "id": "a5e85498-68bb-4083-8035-3247d7e296d4",
   "metadata": {},
   "outputs": [
    {
     "data": {
      "text/html": [
       "<div>\n",
       "<style scoped>\n",
       "    .dataframe tbody tr th:only-of-type {\n",
       "        vertical-align: middle;\n",
       "    }\n",
       "\n",
       "    .dataframe tbody tr th {\n",
       "        vertical-align: top;\n",
       "    }\n",
       "\n",
       "    .dataframe thead th {\n",
       "        text-align: right;\n",
       "    }\n",
       "</style>\n",
       "<table border=\"1\" class=\"dataframe\">\n",
       "  <thead>\n",
       "    <tr style=\"text-align: right;\">\n",
       "      <th></th>\n",
       "      <th>order_id</th>\n",
       "      <th>order_status</th>\n",
       "      <th>model_name</th>\n",
       "      <th>model_predictions</th>\n",
       "    </tr>\n",
       "  </thead>\n",
       "  <tbody>\n",
       "    <tr>\n",
       "      <th>0</th>\n",
       "      <td>00137e170939bba5a3134e2386413108</td>\n",
       "      <td>delivered</td>\n",
       "      <td>reg_2017_12_04.pkl</td>\n",
       "      <td>1</td>\n",
       "    </tr>\n",
       "    <tr>\n",
       "      <th>1</th>\n",
       "      <td>001c85b5f68d2be0cb0797afc9e8ce9a</td>\n",
       "      <td>delivered</td>\n",
       "      <td>reg_2017_12_04.pkl</td>\n",
       "      <td>0</td>\n",
       "    </tr>\n",
       "    <tr>\n",
       "      <th>2</th>\n",
       "      <td>00275bce676303c3bfd7292aefdfa223</td>\n",
       "      <td>delivered</td>\n",
       "      <td>reg_2017_12_04.pkl</td>\n",
       "      <td>0</td>\n",
       "    </tr>\n",
       "    <tr>\n",
       "      <th>3</th>\n",
       "      <td>0030d783f979fbc5981e75613b057344</td>\n",
       "      <td>delivered</td>\n",
       "      <td>reg_2017_12_04.pkl</td>\n",
       "      <td>1</td>\n",
       "    </tr>\n",
       "    <tr>\n",
       "      <th>4</th>\n",
       "      <td>0068468c453d28c8ef3fd089e50a5847</td>\n",
       "      <td>delivered</td>\n",
       "      <td>reg_2017_12_04.pkl</td>\n",
       "      <td>1</td>\n",
       "    </tr>\n",
       "    <tr>\n",
       "      <th>...</th>\n",
       "      <td>...</td>\n",
       "      <td>...</td>\n",
       "      <td>...</td>\n",
       "      <td>...</td>\n",
       "    </tr>\n",
       "    <tr>\n",
       "      <th>38652</th>\n",
       "      <td>4e36d0170c671378f49f701a810360ae</td>\n",
       "      <td>delivered</td>\n",
       "      <td>reg_2017_12_04.pkl</td>\n",
       "      <td>1</td>\n",
       "    </tr>\n",
       "    <tr>\n",
       "      <th>38653</th>\n",
       "      <td>9a3e437ab219133c20a7033be9087edf</td>\n",
       "      <td>delivered</td>\n",
       "      <td>reg_2017_12_04.pkl</td>\n",
       "      <td>1</td>\n",
       "    </tr>\n",
       "    <tr>\n",
       "      <th>38654</th>\n",
       "      <td>d809ddde66fee6223df16b11231491f9</td>\n",
       "      <td>delivered</td>\n",
       "      <td>reg_2017_12_04.pkl</td>\n",
       "      <td>1</td>\n",
       "    </tr>\n",
       "    <tr>\n",
       "      <th>38655</th>\n",
       "      <td>bd50a7fe9fd97ea4b7663031a319e150</td>\n",
       "      <td>delivered</td>\n",
       "      <td>reg_2017_12_04.pkl</td>\n",
       "      <td>0</td>\n",
       "    </tr>\n",
       "    <tr>\n",
       "      <th>38656</th>\n",
       "      <td>bfbd0f9bdef84302105ad712db648a6c</td>\n",
       "      <td>delivered</td>\n",
       "      <td>reg_2017_12_04.pkl</td>\n",
       "      <td>0</td>\n",
       "    </tr>\n",
       "  </tbody>\n",
       "</table>\n",
       "<p>38657 rows × 4 columns</p>\n",
       "</div>"
      ],
      "text/plain": [
       "                               order_id order_status          model_name  \\\n",
       "0      00137e170939bba5a3134e2386413108    delivered  reg_2017_12_04.pkl   \n",
       "1      001c85b5f68d2be0cb0797afc9e8ce9a    delivered  reg_2017_12_04.pkl   \n",
       "2      00275bce676303c3bfd7292aefdfa223    delivered  reg_2017_12_04.pkl   \n",
       "3      0030d783f979fbc5981e75613b057344    delivered  reg_2017_12_04.pkl   \n",
       "4      0068468c453d28c8ef3fd089e50a5847    delivered  reg_2017_12_04.pkl   \n",
       "...                                 ...          ...                 ...   \n",
       "38652  4e36d0170c671378f49f701a810360ae    delivered  reg_2017_12_04.pkl   \n",
       "38653  9a3e437ab219133c20a7033be9087edf    delivered  reg_2017_12_04.pkl   \n",
       "38654  d809ddde66fee6223df16b11231491f9    delivered  reg_2017_12_04.pkl   \n",
       "38655  bd50a7fe9fd97ea4b7663031a319e150    delivered  reg_2017_12_04.pkl   \n",
       "38656  bfbd0f9bdef84302105ad712db648a6c    delivered  reg_2017_12_04.pkl   \n",
       "\n",
       "       model_predictions  \n",
       "0                      1  \n",
       "1                      0  \n",
       "2                      0  \n",
       "3                      1  \n",
       "4                      1  \n",
       "...                  ...  \n",
       "38652                  1  \n",
       "38653                  1  \n",
       "38654                  1  \n",
       "38655                  0  \n",
       "38656                  0  \n",
       "\n",
       "[38657 rows x 4 columns]"
      ]
     },
     "execution_count": 14,
     "metadata": {},
     "output_type": "execute_result"
    }
   ],
   "source": [
    "# load model\n",
    "model = model_artefact[\"model\"]\n",
    "threshold = model_artefact['threshold']\n",
    "\n",
    "# predict model\n",
    "y_inference = model.predict_proba(X_inference)[:, 1]\n",
    "\n",
    "# prepare output\n",
    "y_inference_pdf = features_sdf[[\"order_id\", \"order_status\"]].copy()\n",
    "y_inference_pdf[\"model_name\"] = config[\"model_name\"]\n",
    "y_inference_pdf[\"model_predictions\"] = y_inference.round(4)\n",
    "y_inference_pdf[\"model_predictions\"] = (y_inference_pdf[\"model_predictions\"] > threshold).astype(int)\n",
    "\n",
    "y_inference_pdf"
   ]
  },
  {
   "cell_type": "markdown",
   "id": "cf3fe2b8-4642-486d-aa3b-2d7703ad3d15",
   "metadata": {},
   "source": [
    "## save model inference to datamart gold table"
   ]
  },
  {
   "cell_type": "code",
   "execution_count": 15,
   "id": "3c28e3e5-81ca-4685-a1f1-f1df12908a72",
   "metadata": {},
   "outputs": [
    {
     "name": "stdout",
     "output_type": "stream",
     "text": [
      "datamart/gold/model_predictions/reg_2017_12_04/\n"
     ]
    },
    {
     "name": "stderr",
     "output_type": "stream",
     "text": [
      "[Stage 15:>                                                         (0 + 8) / 8]\r"
     ]
    },
    {
     "name": "stdout",
     "output_type": "stream",
     "text": [
      "saved to: datamart/gold/model_predictions/reg_2017_12_04/reg_2017_12_04_predictions_2017_01_01.parquet\n"
     ]
    },
    {
     "name": "stderr",
     "output_type": "stream",
     "text": [
      "                                                                                \r"
     ]
    }
   ],
   "source": [
    "# create bronze datalake\n",
    "gold_directory = f\"datamart/gold/model_predictions/{config['model_name'][:-4]}/\"\n",
    "print(gold_directory)\n",
    "\n",
    "if not os.path.exists(gold_directory):\n",
    "    os.makedirs(gold_directory)\n",
    "\n",
    "# save gold table - IRL connect to database to write\n",
    "partition_name = config[\"model_name\"][:-4] + \"_predictions_\" + snapshot_date_str.replace('-','_') + '.parquet'\n",
    "filepath = gold_directory + partition_name\n",
    "spark.createDataFrame(y_inference_pdf).write.mode(\"overwrite\").parquet(filepath)\n",
    "# df.toPandas().to_parquet(filepath,\n",
    "#           compression='gzip')\n",
    "print('saved to:', filepath)"
   ]
  },
  {
   "cell_type": "markdown",
   "id": "77a0dfb6-dc32-4a70-9118-9d924213fb2c",
   "metadata": {},
   "source": [
    "## backfill"
   ]
  },
  {
   "cell_type": "code",
   "execution_count": 10,
   "id": "f4a8f65f-d5d1-45cf-8eaa-bd9c54991a50",
   "metadata": {},
   "outputs": [],
   "source": [
    "# set up config\n",
    "snapshot_date_str = \"2023-01-01\"\n",
    "\n",
    "start_date_str = \"2023-01-01\"\n",
    "end_date_str = \"2024-12-01\""
   ]
  },
  {
   "cell_type": "code",
   "execution_count": 11,
   "id": "849e738c-c717-400f-b72d-ba9951866ec2",
   "metadata": {},
   "outputs": [],
   "source": [
    "# generate list of dates to process\n",
    "def generate_first_of_month_dates(start_date_str, end_date_str):\n",
    "    # Convert the date strings to datetime objects\n",
    "    start_date = datetime.strptime(start_date_str, \"%Y-%m-%d\")\n",
    "    end_date = datetime.strptime(end_date_str, \"%Y-%m-%d\")\n",
    "    \n",
    "    # List to store the first of month dates\n",
    "    first_of_month_dates = []\n",
    "\n",
    "    # Start from the first of the month of the start_date\n",
    "    current_date = datetime(start_date.year, start_date.month, 1)\n",
    "\n",
    "    while current_date <= end_date:\n",
    "        # Append the date in yyyy-mm-dd format\n",
    "        first_of_month_dates.append(current_date.strftime(\"%Y-%m-%d\"))\n",
    "        \n",
    "        # Move to the first of the next month\n",
    "        if current_date.month == 12:\n",
    "            current_date = datetime(current_date.year + 1, 1, 1)\n",
    "        else:\n",
    "            current_date = datetime(current_date.year, current_date.month + 1, 1)\n",
    "\n",
    "    return first_of_month_dates\n",
    "\n",
    "dates_str_lst = generate_first_of_month_dates(start_date_str, end_date_str)\n"
   ]
  },
  {
   "cell_type": "code",
   "execution_count": 12,
   "id": "93576148-36ca-4571-b327-2317f9656cf4",
   "metadata": {
    "scrolled": true
   },
   "outputs": [
    {
     "name": "stdout",
     "output_type": "stream",
     "text": [
      "2023-01-01\n",
      "\n",
      "\n",
      "---starting job---\n",
      "\n",
      "\n",
      "{'model_artefact_filepath': 'model_bank/credit_model_2024_09_01.pkl',\n",
      " 'model_bank_directory': 'model_bank/',\n",
      " 'model_name': 'credit_model_2024_09_01.pkl',\n",
      " 'snapshot_date': datetime.datetime(2023, 1, 1, 0, 0),\n",
      " 'snapshot_date_str': '2023-01-01'}\n",
      "Model loaded successfully! model_bank/credit_model_2024_09_01.pkl\n"
     ]
    },
    {
     "name": "stderr",
     "output_type": "stream",
     "text": [
      "                                                                                \r"
     ]
    },
    {
     "name": "stdout",
     "output_type": "stream",
     "text": [
      "extracted features_sdf 8974 2023-01-01 00:00:00\n",
      "X_inference 8974\n",
      "datamart/gold/model_predictions/credit_model_2024_09_01/\n",
      "saved to: datamart/gold/model_predictions/credit_model_2024_09_01/credit_model_2024_09_01_predictions_2023_01_01.parquet\n",
      "\n",
      "\n",
      "---completed job---\n",
      "\n",
      "\n",
      "2023-02-01\n",
      "\n",
      "\n",
      "---starting job---\n",
      "\n",
      "\n",
      "{'model_artefact_filepath': 'model_bank/credit_model_2024_09_01.pkl',\n",
      " 'model_bank_directory': 'model_bank/',\n",
      " 'model_name': 'credit_model_2024_09_01.pkl',\n",
      " 'snapshot_date': datetime.datetime(2023, 2, 1, 0, 0),\n",
      " 'snapshot_date_str': '2023-02-01'}\n",
      "Model loaded successfully! model_bank/credit_model_2024_09_01.pkl\n",
      "extracted features_sdf 8974 2023-02-01 00:00:00\n",
      "X_inference 8974\n",
      "datamart/gold/model_predictions/credit_model_2024_09_01/\n"
     ]
    },
    {
     "name": "stderr",
     "output_type": "stream",
     "text": [
      "                                                                                \r"
     ]
    },
    {
     "name": "stdout",
     "output_type": "stream",
     "text": [
      "saved to: datamart/gold/model_predictions/credit_model_2024_09_01/credit_model_2024_09_01_predictions_2023_02_01.parquet\n",
      "\n",
      "\n",
      "---completed job---\n",
      "\n",
      "\n",
      "2023-03-01\n",
      "\n",
      "\n",
      "---starting job---\n",
      "\n",
      "\n",
      "{'model_artefact_filepath': 'model_bank/credit_model_2024_09_01.pkl',\n",
      " 'model_bank_directory': 'model_bank/',\n",
      " 'model_name': 'credit_model_2024_09_01.pkl',\n",
      " 'snapshot_date': datetime.datetime(2023, 3, 1, 0, 0),\n",
      " 'snapshot_date_str': '2023-03-01'}\n",
      "Model loaded successfully! model_bank/credit_model_2024_09_01.pkl\n",
      "extracted features_sdf 8974 2023-03-01 00:00:00\n",
      "X_inference 8974\n",
      "datamart/gold/model_predictions/credit_model_2024_09_01/\n"
     ]
    },
    {
     "name": "stderr",
     "output_type": "stream",
     "text": [
      "                                                                                \r"
     ]
    },
    {
     "name": "stdout",
     "output_type": "stream",
     "text": [
      "saved to: datamart/gold/model_predictions/credit_model_2024_09_01/credit_model_2024_09_01_predictions_2023_03_01.parquet\n",
      "\n",
      "\n",
      "---completed job---\n",
      "\n",
      "\n",
      "2023-04-01\n",
      "\n",
      "\n",
      "---starting job---\n",
      "\n",
      "\n",
      "{'model_artefact_filepath': 'model_bank/credit_model_2024_09_01.pkl',\n",
      " 'model_bank_directory': 'model_bank/',\n",
      " 'model_name': 'credit_model_2024_09_01.pkl',\n",
      " 'snapshot_date': datetime.datetime(2023, 4, 1, 0, 0),\n",
      " 'snapshot_date_str': '2023-04-01'}\n",
      "Model loaded successfully! model_bank/credit_model_2024_09_01.pkl\n",
      "extracted features_sdf 8974 2023-04-01 00:00:00\n",
      "X_inference 8974\n",
      "datamart/gold/model_predictions/credit_model_2024_09_01/\n"
     ]
    },
    {
     "name": "stderr",
     "output_type": "stream",
     "text": [
      "                                                                                \r"
     ]
    },
    {
     "name": "stdout",
     "output_type": "stream",
     "text": [
      "saved to: datamart/gold/model_predictions/credit_model_2024_09_01/credit_model_2024_09_01_predictions_2023_04_01.parquet\n",
      "\n",
      "\n",
      "---completed job---\n",
      "\n",
      "\n",
      "2023-05-01\n",
      "\n",
      "\n",
      "---starting job---\n",
      "\n",
      "\n",
      "{'model_artefact_filepath': 'model_bank/credit_model_2024_09_01.pkl',\n",
      " 'model_bank_directory': 'model_bank/',\n",
      " 'model_name': 'credit_model_2024_09_01.pkl',\n",
      " 'snapshot_date': datetime.datetime(2023, 5, 1, 0, 0),\n",
      " 'snapshot_date_str': '2023-05-01'}\n",
      "Model loaded successfully! model_bank/credit_model_2024_09_01.pkl\n",
      "extracted features_sdf 8974 2023-05-01 00:00:00\n",
      "X_inference 8974\n",
      "datamart/gold/model_predictions/credit_model_2024_09_01/\n"
     ]
    },
    {
     "name": "stderr",
     "output_type": "stream",
     "text": [
      "                                                                                \r"
     ]
    },
    {
     "name": "stdout",
     "output_type": "stream",
     "text": [
      "saved to: datamart/gold/model_predictions/credit_model_2024_09_01/credit_model_2024_09_01_predictions_2023_05_01.parquet\n",
      "\n",
      "\n",
      "---completed job---\n",
      "\n",
      "\n",
      "2023-06-01\n",
      "\n",
      "\n",
      "---starting job---\n",
      "\n",
      "\n",
      "{'model_artefact_filepath': 'model_bank/credit_model_2024_09_01.pkl',\n",
      " 'model_bank_directory': 'model_bank/',\n",
      " 'model_name': 'credit_model_2024_09_01.pkl',\n",
      " 'snapshot_date': datetime.datetime(2023, 6, 1, 0, 0),\n",
      " 'snapshot_date_str': '2023-06-01'}\n",
      "Model loaded successfully! model_bank/credit_model_2024_09_01.pkl\n",
      "extracted features_sdf 8974 2023-06-01 00:00:00\n",
      "X_inference 8974\n",
      "datamart/gold/model_predictions/credit_model_2024_09_01/\n"
     ]
    },
    {
     "name": "stderr",
     "output_type": "stream",
     "text": [
      "                                                                                \r"
     ]
    },
    {
     "name": "stdout",
     "output_type": "stream",
     "text": [
      "saved to: datamart/gold/model_predictions/credit_model_2024_09_01/credit_model_2024_09_01_predictions_2023_06_01.parquet\n",
      "\n",
      "\n",
      "---completed job---\n",
      "\n",
      "\n",
      "2023-07-01\n",
      "\n",
      "\n",
      "---starting job---\n",
      "\n",
      "\n",
      "{'model_artefact_filepath': 'model_bank/credit_model_2024_09_01.pkl',\n",
      " 'model_bank_directory': 'model_bank/',\n",
      " 'model_name': 'credit_model_2024_09_01.pkl',\n",
      " 'snapshot_date': datetime.datetime(2023, 7, 1, 0, 0),\n",
      " 'snapshot_date_str': '2023-07-01'}\n",
      "Model loaded successfully! model_bank/credit_model_2024_09_01.pkl\n",
      "extracted features_sdf 8974 2023-07-01 00:00:00\n",
      "X_inference 8974\n",
      "datamart/gold/model_predictions/credit_model_2024_09_01/\n"
     ]
    },
    {
     "name": "stderr",
     "output_type": "stream",
     "text": [
      "                                                                                \r"
     ]
    },
    {
     "name": "stdout",
     "output_type": "stream",
     "text": [
      "saved to: datamart/gold/model_predictions/credit_model_2024_09_01/credit_model_2024_09_01_predictions_2023_07_01.parquet\n",
      "\n",
      "\n",
      "---completed job---\n",
      "\n",
      "\n",
      "2023-08-01\n",
      "\n",
      "\n",
      "---starting job---\n",
      "\n",
      "\n",
      "{'model_artefact_filepath': 'model_bank/credit_model_2024_09_01.pkl',\n",
      " 'model_bank_directory': 'model_bank/',\n",
      " 'model_name': 'credit_model_2024_09_01.pkl',\n",
      " 'snapshot_date': datetime.datetime(2023, 8, 1, 0, 0),\n",
      " 'snapshot_date_str': '2023-08-01'}\n",
      "Model loaded successfully! model_bank/credit_model_2024_09_01.pkl\n",
      "extracted features_sdf 8974 2023-08-01 00:00:00\n",
      "X_inference 8974\n",
      "datamart/gold/model_predictions/credit_model_2024_09_01/\n"
     ]
    },
    {
     "name": "stderr",
     "output_type": "stream",
     "text": [
      "                                                                                \r"
     ]
    },
    {
     "name": "stdout",
     "output_type": "stream",
     "text": [
      "saved to: datamart/gold/model_predictions/credit_model_2024_09_01/credit_model_2024_09_01_predictions_2023_08_01.parquet\n",
      "\n",
      "\n",
      "---completed job---\n",
      "\n",
      "\n",
      "2023-09-01\n",
      "\n",
      "\n",
      "---starting job---\n",
      "\n",
      "\n",
      "{'model_artefact_filepath': 'model_bank/credit_model_2024_09_01.pkl',\n",
      " 'model_bank_directory': 'model_bank/',\n",
      " 'model_name': 'credit_model_2024_09_01.pkl',\n",
      " 'snapshot_date': datetime.datetime(2023, 9, 1, 0, 0),\n",
      " 'snapshot_date_str': '2023-09-01'}\n",
      "Model loaded successfully! model_bank/credit_model_2024_09_01.pkl\n",
      "extracted features_sdf 8974 2023-09-01 00:00:00\n",
      "X_inference 8974\n",
      "datamart/gold/model_predictions/credit_model_2024_09_01/\n"
     ]
    },
    {
     "name": "stderr",
     "output_type": "stream",
     "text": [
      "                                                                                \r"
     ]
    },
    {
     "name": "stdout",
     "output_type": "stream",
     "text": [
      "saved to: datamart/gold/model_predictions/credit_model_2024_09_01/credit_model_2024_09_01_predictions_2023_09_01.parquet\n",
      "\n",
      "\n",
      "---completed job---\n",
      "\n",
      "\n",
      "2023-10-01\n",
      "\n",
      "\n",
      "---starting job---\n",
      "\n",
      "\n",
      "{'model_artefact_filepath': 'model_bank/credit_model_2024_09_01.pkl',\n",
      " 'model_bank_directory': 'model_bank/',\n",
      " 'model_name': 'credit_model_2024_09_01.pkl',\n",
      " 'snapshot_date': datetime.datetime(2023, 10, 1, 0, 0),\n",
      " 'snapshot_date_str': '2023-10-01'}\n",
      "Model loaded successfully! model_bank/credit_model_2024_09_01.pkl\n",
      "extracted features_sdf 8974 2023-10-01 00:00:00\n",
      "X_inference 8974\n",
      "datamart/gold/model_predictions/credit_model_2024_09_01/\n"
     ]
    },
    {
     "name": "stderr",
     "output_type": "stream",
     "text": [
      "                                                                                \r"
     ]
    },
    {
     "name": "stdout",
     "output_type": "stream",
     "text": [
      "saved to: datamart/gold/model_predictions/credit_model_2024_09_01/credit_model_2024_09_01_predictions_2023_10_01.parquet\n",
      "\n",
      "\n",
      "---completed job---\n",
      "\n",
      "\n",
      "2023-11-01\n",
      "\n",
      "\n",
      "---starting job---\n",
      "\n",
      "\n",
      "{'model_artefact_filepath': 'model_bank/credit_model_2024_09_01.pkl',\n",
      " 'model_bank_directory': 'model_bank/',\n",
      " 'model_name': 'credit_model_2024_09_01.pkl',\n",
      " 'snapshot_date': datetime.datetime(2023, 11, 1, 0, 0),\n",
      " 'snapshot_date_str': '2023-11-01'}\n",
      "Model loaded successfully! model_bank/credit_model_2024_09_01.pkl\n",
      "extracted features_sdf 8974 2023-11-01 00:00:00\n",
      "X_inference 8974\n",
      "datamart/gold/model_predictions/credit_model_2024_09_01/\n"
     ]
    },
    {
     "name": "stderr",
     "output_type": "stream",
     "text": [
      "                                                                                \r"
     ]
    },
    {
     "name": "stdout",
     "output_type": "stream",
     "text": [
      "saved to: datamart/gold/model_predictions/credit_model_2024_09_01/credit_model_2024_09_01_predictions_2023_11_01.parquet\n",
      "\n",
      "\n",
      "---completed job---\n",
      "\n",
      "\n",
      "2023-12-01\n",
      "\n",
      "\n",
      "---starting job---\n",
      "\n",
      "\n",
      "{'model_artefact_filepath': 'model_bank/credit_model_2024_09_01.pkl',\n",
      " 'model_bank_directory': 'model_bank/',\n",
      " 'model_name': 'credit_model_2024_09_01.pkl',\n",
      " 'snapshot_date': datetime.datetime(2023, 12, 1, 0, 0),\n",
      " 'snapshot_date_str': '2023-12-01'}\n",
      "Model loaded successfully! model_bank/credit_model_2024_09_01.pkl\n",
      "extracted features_sdf 8974 2023-12-01 00:00:00\n",
      "X_inference 8974\n",
      "datamart/gold/model_predictions/credit_model_2024_09_01/\n"
     ]
    },
    {
     "name": "stderr",
     "output_type": "stream",
     "text": [
      "                                                                                \r"
     ]
    },
    {
     "name": "stdout",
     "output_type": "stream",
     "text": [
      "saved to: datamart/gold/model_predictions/credit_model_2024_09_01/credit_model_2024_09_01_predictions_2023_12_01.parquet\n",
      "\n",
      "\n",
      "---completed job---\n",
      "\n",
      "\n",
      "2024-01-01\n",
      "\n",
      "\n",
      "---starting job---\n",
      "\n",
      "\n",
      "{'model_artefact_filepath': 'model_bank/credit_model_2024_09_01.pkl',\n",
      " 'model_bank_directory': 'model_bank/',\n",
      " 'model_name': 'credit_model_2024_09_01.pkl',\n",
      " 'snapshot_date': datetime.datetime(2024, 1, 1, 0, 0),\n",
      " 'snapshot_date_str': '2024-01-01'}\n",
      "Model loaded successfully! model_bank/credit_model_2024_09_01.pkl\n",
      "extracted features_sdf 8974 2024-01-01 00:00:00\n",
      "X_inference 8974\n",
      "datamart/gold/model_predictions/credit_model_2024_09_01/\n"
     ]
    },
    {
     "name": "stderr",
     "output_type": "stream",
     "text": [
      "                                                                                \r"
     ]
    },
    {
     "name": "stdout",
     "output_type": "stream",
     "text": [
      "saved to: datamart/gold/model_predictions/credit_model_2024_09_01/credit_model_2024_09_01_predictions_2024_01_01.parquet\n",
      "\n",
      "\n",
      "---completed job---\n",
      "\n",
      "\n",
      "2024-02-01\n",
      "\n",
      "\n",
      "---starting job---\n",
      "\n",
      "\n",
      "{'model_artefact_filepath': 'model_bank/credit_model_2024_09_01.pkl',\n",
      " 'model_bank_directory': 'model_bank/',\n",
      " 'model_name': 'credit_model_2024_09_01.pkl',\n",
      " 'snapshot_date': datetime.datetime(2024, 2, 1, 0, 0),\n",
      " 'snapshot_date_str': '2024-02-01'}\n",
      "Model loaded successfully! model_bank/credit_model_2024_09_01.pkl\n",
      "extracted features_sdf 8974 2024-02-01 00:00:00\n",
      "X_inference 8974\n",
      "datamart/gold/model_predictions/credit_model_2024_09_01/\n"
     ]
    },
    {
     "name": "stderr",
     "output_type": "stream",
     "text": [
      "                                                                                \r"
     ]
    },
    {
     "name": "stdout",
     "output_type": "stream",
     "text": [
      "saved to: datamart/gold/model_predictions/credit_model_2024_09_01/credit_model_2024_09_01_predictions_2024_02_01.parquet\n",
      "\n",
      "\n",
      "---completed job---\n",
      "\n",
      "\n",
      "2024-03-01\n",
      "\n",
      "\n",
      "---starting job---\n",
      "\n",
      "\n",
      "{'model_artefact_filepath': 'model_bank/credit_model_2024_09_01.pkl',\n",
      " 'model_bank_directory': 'model_bank/',\n",
      " 'model_name': 'credit_model_2024_09_01.pkl',\n",
      " 'snapshot_date': datetime.datetime(2024, 3, 1, 0, 0),\n",
      " 'snapshot_date_str': '2024-03-01'}\n",
      "Model loaded successfully! model_bank/credit_model_2024_09_01.pkl\n",
      "extracted features_sdf 8974 2024-03-01 00:00:00\n",
      "X_inference 8974\n",
      "datamart/gold/model_predictions/credit_model_2024_09_01/\n"
     ]
    },
    {
     "name": "stderr",
     "output_type": "stream",
     "text": [
      "                                                                                \r"
     ]
    },
    {
     "name": "stdout",
     "output_type": "stream",
     "text": [
      "saved to: datamart/gold/model_predictions/credit_model_2024_09_01/credit_model_2024_09_01_predictions_2024_03_01.parquet\n",
      "\n",
      "\n",
      "---completed job---\n",
      "\n",
      "\n",
      "2024-04-01\n",
      "\n",
      "\n",
      "---starting job---\n",
      "\n",
      "\n",
      "{'model_artefact_filepath': 'model_bank/credit_model_2024_09_01.pkl',\n",
      " 'model_bank_directory': 'model_bank/',\n",
      " 'model_name': 'credit_model_2024_09_01.pkl',\n",
      " 'snapshot_date': datetime.datetime(2024, 4, 1, 0, 0),\n",
      " 'snapshot_date_str': '2024-04-01'}\n",
      "Model loaded successfully! model_bank/credit_model_2024_09_01.pkl\n",
      "extracted features_sdf 8974 2024-04-01 00:00:00\n",
      "X_inference 8974\n",
      "datamart/gold/model_predictions/credit_model_2024_09_01/\n"
     ]
    },
    {
     "name": "stderr",
     "output_type": "stream",
     "text": [
      "                                                                                \r"
     ]
    },
    {
     "name": "stdout",
     "output_type": "stream",
     "text": [
      "saved to: datamart/gold/model_predictions/credit_model_2024_09_01/credit_model_2024_09_01_predictions_2024_04_01.parquet\n",
      "\n",
      "\n",
      "---completed job---\n",
      "\n",
      "\n",
      "2024-05-01\n",
      "\n",
      "\n",
      "---starting job---\n",
      "\n",
      "\n",
      "{'model_artefact_filepath': 'model_bank/credit_model_2024_09_01.pkl',\n",
      " 'model_bank_directory': 'model_bank/',\n",
      " 'model_name': 'credit_model_2024_09_01.pkl',\n",
      " 'snapshot_date': datetime.datetime(2024, 5, 1, 0, 0),\n",
      " 'snapshot_date_str': '2024-05-01'}\n",
      "Model loaded successfully! model_bank/credit_model_2024_09_01.pkl\n",
      "extracted features_sdf 8974 2024-05-01 00:00:00\n",
      "X_inference 8974\n",
      "datamart/gold/model_predictions/credit_model_2024_09_01/\n"
     ]
    },
    {
     "name": "stderr",
     "output_type": "stream",
     "text": [
      "                                                                                \r"
     ]
    },
    {
     "name": "stdout",
     "output_type": "stream",
     "text": [
      "saved to: datamart/gold/model_predictions/credit_model_2024_09_01/credit_model_2024_09_01_predictions_2024_05_01.parquet\n",
      "\n",
      "\n",
      "---completed job---\n",
      "\n",
      "\n",
      "2024-06-01\n",
      "\n",
      "\n",
      "---starting job---\n",
      "\n",
      "\n",
      "{'model_artefact_filepath': 'model_bank/credit_model_2024_09_01.pkl',\n",
      " 'model_bank_directory': 'model_bank/',\n",
      " 'model_name': 'credit_model_2024_09_01.pkl',\n",
      " 'snapshot_date': datetime.datetime(2024, 6, 1, 0, 0),\n",
      " 'snapshot_date_str': '2024-06-01'}\n",
      "Model loaded successfully! model_bank/credit_model_2024_09_01.pkl\n",
      "extracted features_sdf 8974 2024-06-01 00:00:00\n",
      "X_inference 8974\n",
      "datamart/gold/model_predictions/credit_model_2024_09_01/\n"
     ]
    },
    {
     "name": "stderr",
     "output_type": "stream",
     "text": [
      "                                                                                \r"
     ]
    },
    {
     "name": "stdout",
     "output_type": "stream",
     "text": [
      "saved to: datamart/gold/model_predictions/credit_model_2024_09_01/credit_model_2024_09_01_predictions_2024_06_01.parquet\n",
      "\n",
      "\n",
      "---completed job---\n",
      "\n",
      "\n",
      "2024-07-01\n",
      "\n",
      "\n",
      "---starting job---\n",
      "\n",
      "\n",
      "{'model_artefact_filepath': 'model_bank/credit_model_2024_09_01.pkl',\n",
      " 'model_bank_directory': 'model_bank/',\n",
      " 'model_name': 'credit_model_2024_09_01.pkl',\n",
      " 'snapshot_date': datetime.datetime(2024, 7, 1, 0, 0),\n",
      " 'snapshot_date_str': '2024-07-01'}\n",
      "Model loaded successfully! model_bank/credit_model_2024_09_01.pkl\n",
      "extracted features_sdf 8974 2024-07-01 00:00:00\n",
      "X_inference 8974\n",
      "datamart/gold/model_predictions/credit_model_2024_09_01/\n"
     ]
    },
    {
     "name": "stderr",
     "output_type": "stream",
     "text": [
      "                                                                                \r"
     ]
    },
    {
     "name": "stdout",
     "output_type": "stream",
     "text": [
      "saved to: datamart/gold/model_predictions/credit_model_2024_09_01/credit_model_2024_09_01_predictions_2024_07_01.parquet\n",
      "\n",
      "\n",
      "---completed job---\n",
      "\n",
      "\n",
      "2024-08-01\n",
      "\n",
      "\n",
      "---starting job---\n",
      "\n",
      "\n",
      "{'model_artefact_filepath': 'model_bank/credit_model_2024_09_01.pkl',\n",
      " 'model_bank_directory': 'model_bank/',\n",
      " 'model_name': 'credit_model_2024_09_01.pkl',\n",
      " 'snapshot_date': datetime.datetime(2024, 8, 1, 0, 0),\n",
      " 'snapshot_date_str': '2024-08-01'}\n",
      "Model loaded successfully! model_bank/credit_model_2024_09_01.pkl\n",
      "extracted features_sdf 8974 2024-08-01 00:00:00\n",
      "X_inference 8974\n",
      "datamart/gold/model_predictions/credit_model_2024_09_01/\n"
     ]
    },
    {
     "name": "stderr",
     "output_type": "stream",
     "text": [
      "                                                                                \r"
     ]
    },
    {
     "name": "stdout",
     "output_type": "stream",
     "text": [
      "saved to: datamart/gold/model_predictions/credit_model_2024_09_01/credit_model_2024_09_01_predictions_2024_08_01.parquet\n",
      "\n",
      "\n",
      "---completed job---\n",
      "\n",
      "\n",
      "2024-09-01\n",
      "\n",
      "\n",
      "---starting job---\n",
      "\n",
      "\n",
      "{'model_artefact_filepath': 'model_bank/credit_model_2024_09_01.pkl',\n",
      " 'model_bank_directory': 'model_bank/',\n",
      " 'model_name': 'credit_model_2024_09_01.pkl',\n",
      " 'snapshot_date': datetime.datetime(2024, 9, 1, 0, 0),\n",
      " 'snapshot_date_str': '2024-09-01'}\n",
      "Model loaded successfully! model_bank/credit_model_2024_09_01.pkl\n",
      "extracted features_sdf 8974 2024-09-01 00:00:00\n",
      "X_inference 8974\n",
      "datamart/gold/model_predictions/credit_model_2024_09_01/\n"
     ]
    },
    {
     "name": "stderr",
     "output_type": "stream",
     "text": [
      "                                                                                \r"
     ]
    },
    {
     "name": "stdout",
     "output_type": "stream",
     "text": [
      "saved to: datamart/gold/model_predictions/credit_model_2024_09_01/credit_model_2024_09_01_predictions_2024_09_01.parquet\n",
      "\n",
      "\n",
      "---completed job---\n",
      "\n",
      "\n",
      "2024-10-01\n",
      "\n",
      "\n",
      "---starting job---\n",
      "\n",
      "\n",
      "{'model_artefact_filepath': 'model_bank/credit_model_2024_09_01.pkl',\n",
      " 'model_bank_directory': 'model_bank/',\n",
      " 'model_name': 'credit_model_2024_09_01.pkl',\n",
      " 'snapshot_date': datetime.datetime(2024, 10, 1, 0, 0),\n",
      " 'snapshot_date_str': '2024-10-01'}\n",
      "Model loaded successfully! model_bank/credit_model_2024_09_01.pkl\n"
     ]
    },
    {
     "name": "stderr",
     "output_type": "stream",
     "text": [
      "                                                                                \r"
     ]
    },
    {
     "name": "stdout",
     "output_type": "stream",
     "text": [
      "extracted features_sdf 8974 2024-10-01 00:00:00\n",
      "X_inference 8974\n",
      "datamart/gold/model_predictions/credit_model_2024_09_01/\n"
     ]
    },
    {
     "name": "stderr",
     "output_type": "stream",
     "text": [
      "                                                                                \r"
     ]
    },
    {
     "name": "stdout",
     "output_type": "stream",
     "text": [
      "saved to: datamart/gold/model_predictions/credit_model_2024_09_01/credit_model_2024_09_01_predictions_2024_10_01.parquet\n",
      "\n",
      "\n",
      "---completed job---\n",
      "\n",
      "\n",
      "2024-11-01\n",
      "\n",
      "\n",
      "---starting job---\n",
      "\n",
      "\n",
      "{'model_artefact_filepath': 'model_bank/credit_model_2024_09_01.pkl',\n",
      " 'model_bank_directory': 'model_bank/',\n",
      " 'model_name': 'credit_model_2024_09_01.pkl',\n",
      " 'snapshot_date': datetime.datetime(2024, 11, 1, 0, 0),\n",
      " 'snapshot_date_str': '2024-11-01'}\n",
      "Model loaded successfully! model_bank/credit_model_2024_09_01.pkl\n",
      "extracted features_sdf 8974 2024-11-01 00:00:00\n",
      "X_inference 8974\n",
      "datamart/gold/model_predictions/credit_model_2024_09_01/\n"
     ]
    },
    {
     "name": "stderr",
     "output_type": "stream",
     "text": [
      "                                                                                \r"
     ]
    },
    {
     "name": "stdout",
     "output_type": "stream",
     "text": [
      "saved to: datamart/gold/model_predictions/credit_model_2024_09_01/credit_model_2024_09_01_predictions_2024_11_01.parquet\n",
      "\n",
      "\n",
      "---completed job---\n",
      "\n",
      "\n",
      "2024-12-01\n",
      "\n",
      "\n",
      "---starting job---\n",
      "\n",
      "\n",
      "{'model_artefact_filepath': 'model_bank/credit_model_2024_09_01.pkl',\n",
      " 'model_bank_directory': 'model_bank/',\n",
      " 'model_name': 'credit_model_2024_09_01.pkl',\n",
      " 'snapshot_date': datetime.datetime(2024, 12, 1, 0, 0),\n",
      " 'snapshot_date_str': '2024-12-01'}\n",
      "Model loaded successfully! model_bank/credit_model_2024_09_01.pkl\n",
      "extracted features_sdf 8974 2024-12-01 00:00:00\n",
      "X_inference 8974\n",
      "datamart/gold/model_predictions/credit_model_2024_09_01/\n"
     ]
    },
    {
     "name": "stderr",
     "output_type": "stream",
     "text": [
      "                                                                                \r"
     ]
    },
    {
     "name": "stdout",
     "output_type": "stream",
     "text": [
      "saved to: datamart/gold/model_predictions/credit_model_2024_09_01/credit_model_2024_09_01_predictions_2024_12_01.parquet\n",
      "\n",
      "\n",
      "---completed job---\n",
      "\n",
      "\n"
     ]
    }
   ],
   "source": [
    "for snapshot_date in dates_str_lst:\n",
    "    print(snapshot_date)\n",
    "    model_inference.main(snapshot_date, model_name)"
   ]
  },
  {
   "cell_type": "markdown",
   "id": "c339e3cb-1826-49a0-ac73-cb381f85b033",
   "metadata": {},
   "source": [
    "## Check datamart"
   ]
  },
  {
   "cell_type": "code",
   "execution_count": 29,
   "id": "98ef4abd-3e08-4430-9fc5-d9eb2d0bba5e",
   "metadata": {},
   "outputs": [],
   "source": [
    "# Initialize SparkSession\n",
    "spark = pyspark.sql.SparkSession.builder \\\n",
    "    .appName(\"dev\") \\\n",
    "    .master(\"local[*]\") \\\n",
    "    .getOrCreate()\n",
    "\n",
    "# Set log level to ERROR to hide warnings\n",
    "spark.sparkContext.setLogLevel(\"ERROR\")"
   ]
  },
  {
   "cell_type": "code",
   "execution_count": 31,
   "id": "1dff83cf-fcc1-4a4c-919a-c2c4be859f2a",
   "metadata": {},
   "outputs": [
    {
     "name": "stdout",
     "output_type": "stream",
     "text": [
      "row_count: 485\n",
      "+-----------+-------------+--------------------+--------------------+\n",
      "|customer_id|snapshot_date|          model_name|   model_predictions|\n",
      "+-----------+-------------+--------------------+--------------------+\n",
      "|  CUS_0x405|   2024-01-01|credit_model_2024...| 0.15490520000457764|\n",
      "| CUS_0x4655|   2024-01-01|credit_model_2024...| 0.07329188287258148|\n",
      "| CUS_0x4953|   2024-01-01|credit_model_2024...|  0.7080382704734802|\n",
      "| CUS_0x4a0d|   2024-01-01|credit_model_2024...| 0.05151388421654701|\n",
      "|  CUS_0x4d3|   2024-01-01|credit_model_2024...|  0.8074637651443481|\n",
      "| CUS_0x4d40|   2024-01-01|credit_model_2024...|  0.6069353818893433|\n",
      "| CUS_0x50e9|   2024-01-01|credit_model_2024...|  0.2434036284685135|\n",
      "| CUS_0x54d7|   2024-01-01|credit_model_2024...|0.033143628388643265|\n",
      "| CUS_0x57e5|   2024-01-01|credit_model_2024...| 0.21770469844341278|\n",
      "| CUS_0x58cd|   2024-01-01|credit_model_2024...| 0.21139536798000336|\n",
      "| CUS_0x5e61|   2024-01-01|credit_model_2024...|0.048095766454935074|\n",
      "| CUS_0x6087|   2024-01-01|credit_model_2024...|  0.5640120506286621|\n",
      "| CUS_0x60aa|   2024-01-01|credit_model_2024...|  0.4052967429161072|\n",
      "| CUS_0x60ca|   2024-01-01|credit_model_2024...|  0.0533013641834259|\n",
      "| CUS_0x634d|   2024-01-01|credit_model_2024...| 0.06686742603778839|\n",
      "| CUS_0x66a7|   2024-01-01|credit_model_2024...|  0.8393402099609375|\n",
      "| CUS_0x6950|   2024-01-01|credit_model_2024...| 0.04388093575835228|\n",
      "| CUS_0x6b15|   2024-01-01|credit_model_2024...|  0.0716567412018776|\n",
      "| CUS_0x6f64|   2024-01-01|credit_model_2024...|0.060422901064157486|\n",
      "| CUS_0x7015|   2024-01-01|credit_model_2024...|  0.3740858733654022|\n",
      "+-----------+-------------+--------------------+--------------------+\n",
      "only showing top 20 rows\n",
      "\n"
     ]
    }
   ],
   "source": [
    "folder_path = \"scripts/datamart/gold/model_predictions/credit_model_2024_06_01/\"\n",
    "files_list = [folder_path+os.path.basename(f) for f in glob.glob(os.path.join(folder_path, '*'))]\n",
    "df = spark.read.option(\"header\", \"true\").parquet(*files_list)\n",
    "print(\"row_count:\",df.count())\n",
    "\n",
    "df.show()"
   ]
  },
  {
   "cell_type": "code",
   "execution_count": null,
   "id": "418abe90-da75-4c5e-a588-60e00ab3c947",
   "metadata": {},
   "outputs": [],
   "source": []
  },
  {
   "cell_type": "code",
   "execution_count": null,
   "id": "55728897-0715-43a0-904f-5aba101b03aa",
   "metadata": {},
   "outputs": [],
   "source": []
  },
  {
   "cell_type": "code",
   "execution_count": null,
   "id": "d29fda2c-e869-4ee6-9e98-fc85e69eb136",
   "metadata": {},
   "outputs": [],
   "source": []
  },
  {
   "cell_type": "code",
   "execution_count": null,
   "id": "aff19c58-94ad-4abb-984f-b082326c2871",
   "metadata": {},
   "outputs": [],
   "source": []
  }
 ],
 "metadata": {
  "kernelspec": {
   "display_name": "mle_env",
   "language": "python",
   "name": "python3"
  },
  "language_info": {
   "codemirror_mode": {
    "name": "ipython",
    "version": 3
   },
   "file_extension": ".py",
   "mimetype": "text/x-python",
   "name": "python",
   "nbconvert_exporter": "python",
   "pygments_lexer": "ipython3",
   "version": "3.10.13"
  }
 },
 "nbformat": 4,
 "nbformat_minor": 5
}
