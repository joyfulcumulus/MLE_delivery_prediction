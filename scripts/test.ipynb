{
 "cells": [
  {
   "cell_type": "code",
   "execution_count": 5,
   "id": "0040c2eb-88f3-4906-9ddd-339fbffc9de1",
   "metadata": {},
   "outputs": [],
   "source": [
    "# !pip install pyarrow"
   ]
  },
  {
   "cell_type": "code",
   "execution_count": 1,
   "id": "0fed17eb",
   "metadata": {},
   "outputs": [],
   "source": [
    "import pandas as pd"
   ]
  },
  {
   "cell_type": "code",
   "execution_count": 2,
   "id": "8969fb80",
   "metadata": {},
   "outputs": [
    {
     "data": {
      "text/html": [
       "<div>\n",
       "<style scoped>\n",
       "    .dataframe tbody tr th:only-of-type {\n",
       "        vertical-align: middle;\n",
       "    }\n",
       "\n",
       "    .dataframe tbody tr th {\n",
       "        vertical-align: top;\n",
       "    }\n",
       "\n",
       "    .dataframe thead th {\n",
       "        text-align: right;\n",
       "    }\n",
       "</style>\n",
       "<table border=\"1\" class=\"dataframe\">\n",
       "  <thead>\n",
       "    <tr style=\"text-align: right;\">\n",
       "      <th></th>\n",
       "      <th>order_id</th>\n",
       "      <th>customer_id</th>\n",
       "      <th>order_status</th>\n",
       "      <th>product_id</th>\n",
       "      <th>seller_id</th>\n",
       "      <th>total_qty</th>\n",
       "      <th>total_price</th>\n",
       "      <th>total_freight_value</th>\n",
       "      <th>total_weight_g</th>\n",
       "      <th>total_volume_cm3</th>\n",
       "      <th>total_density</th>\n",
       "    </tr>\n",
       "  </thead>\n",
       "  <tbody>\n",
       "    <tr>\n",
       "      <th>0</th>\n",
       "      <td>e5fa5a7210941f7d56d0208e4e071d35</td>\n",
       "      <td>683c54fc24d40ee9f8a6fc179fd9856c</td>\n",
       "      <td>canceled</td>\n",
       "      <td>f3c2d01a84c947b078e32bbef0718962</td>\n",
       "      <td>a425f92c199eb576938df686728acd20</td>\n",
       "      <td>1</td>\n",
       "      <td>59.5</td>\n",
       "      <td>15.56</td>\n",
       "      <td>700.0</td>\n",
       "      <td>1250.0</td>\n",
       "      <td>0.56</td>\n",
       "    </tr>\n",
       "  </tbody>\n",
       "</table>\n",
       "</div>"
      ],
      "text/plain": [
       "                           order_id                       customer_id  \\\n",
       "0  e5fa5a7210941f7d56d0208e4e071d35  683c54fc24d40ee9f8a6fc179fd9856c   \n",
       "\n",
       "  order_status                        product_id  \\\n",
       "0     canceled  f3c2d01a84c947b078e32bbef0718962   \n",
       "\n",
       "                          seller_id  total_qty  total_price  \\\n",
       "0  a425f92c199eb576938df686728acd20          1         59.5   \n",
       "\n",
       "   total_freight_value  total_weight_g  total_volume_cm3  total_density  \n",
       "0                15.56           700.0            1250.0           0.56  "
      ]
     },
     "execution_count": 2,
     "metadata": {},
     "output_type": "execute_result"
    }
   ],
   "source": [
    "df = pd.read_parquet('datamart/gold/feature_store/2016_09_05.parquet/', engine=\"pyarrow\")\n",
    "df.head()"
   ]
  },
  {
   "cell_type": "code",
   "execution_count": 30,
   "id": "955b12d7",
   "metadata": {},
   "outputs": [
    {
     "data": {
      "text/html": [
       "<div>\n",
       "<style scoped>\n",
       "    .dataframe tbody tr th:only-of-type {\n",
       "        vertical-align: middle;\n",
       "    }\n",
       "\n",
       "    .dataframe tbody tr th {\n",
       "        vertical-align: top;\n",
       "    }\n",
       "\n",
       "    .dataframe thead th {\n",
       "        text-align: right;\n",
       "    }\n",
       "</style>\n",
       "<table border=\"1\" class=\"dataframe\">\n",
       "  <thead>\n",
       "    <tr style=\"text-align: right;\">\n",
       "      <th></th>\n",
       "      <th>order_id</th>\n",
       "      <th>order_purchase_timestamp</th>\n",
       "      <th>total_qty</th>\n",
       "      <th>total_price</th>\n",
       "      <th>total_freight_value</th>\n",
       "      <th>total_weight_g</th>\n",
       "      <th>total_volume_cm3</th>\n",
       "      <th>total_density</th>\n",
       "      <th>main_category</th>\n",
       "      <th>sub_category</th>\n",
       "      <th>snapshot_date</th>\n",
       "    </tr>\n",
       "  </thead>\n",
       "  <tbody>\n",
       "    <tr>\n",
       "      <th>0</th>\n",
       "      <td>2e7a8482f6fb09756ca50c10d7bfc047</td>\n",
       "      <td>2016-09-04 21:15:19</td>\n",
       "      <td>2</td>\n",
       "      <td>72.89</td>\n",
       "      <td>63.34</td>\n",
       "      <td>3200.0</td>\n",
       "      <td>10752.0</td>\n",
       "      <td>0.297619</td>\n",
       "      <td>furniture</td>\n",
       "      <td>décor</td>\n",
       "      <td>2016-09-04</td>\n",
       "    </tr>\n",
       "  </tbody>\n",
       "</table>\n",
       "</div>"
      ],
      "text/plain": [
       "                           order_id order_purchase_timestamp  total_qty  \\\n",
       "0  2e7a8482f6fb09756ca50c10d7bfc047      2016-09-04 21:15:19          2   \n",
       "\n",
       "   total_price  total_freight_value  total_weight_g  total_volume_cm3  \\\n",
       "0        72.89                63.34          3200.0           10752.0   \n",
       "\n",
       "   total_density main_category sub_category snapshot_date  \n",
       "0       0.297619     furniture        décor    2016-09-04  "
      ]
     },
     "execution_count": 30,
     "metadata": {},
     "output_type": "execute_result"
    }
   ],
   "source": [
    "# logistics\n",
    "df = pd.read_parquet('datamart/silver/order_logistics/silver_olist_order_logistics_04_09_2016.parquet', engine=\"pyarrow\")\n",
    "df.head()"
   ]
  },
  {
   "cell_type": "code",
   "execution_count": 17,
   "id": "c0a966b1-7591-4a7e-a180-360e00244f88",
   "metadata": {},
   "outputs": [
    {
     "data": {
      "text/plain": [
       "Index(['order_id', 'order_purchase_timestamp', 'total_qty', 'total_price',\n",
       "       'total_freight_value', 'total_weight_g', 'total_volume_cm3',\n",
       "       'total_density', 'main_category', 'sub_category', 'snapshot_date'],\n",
       "      dtype='object')"
      ]
     },
     "execution_count": 17,
     "metadata": {},
     "output_type": "execute_result"
    }
   ],
   "source": [
    "df.columns"
   ]
  },
  {
   "cell_type": "code",
   "execution_count": 31,
   "id": "08a192aa",
   "metadata": {},
   "outputs": [
    {
     "data": {
      "text/html": [
       "<div>\n",
       "<style scoped>\n",
       "    .dataframe tbody tr th:only-of-type {\n",
       "        vertical-align: middle;\n",
       "    }\n",
       "\n",
       "    .dataframe tbody tr th {\n",
       "        vertical-align: top;\n",
       "    }\n",
       "\n",
       "    .dataframe thead th {\n",
       "        text-align: right;\n",
       "    }\n",
       "</style>\n",
       "<table border=\"1\" class=\"dataframe\">\n",
       "  <thead>\n",
       "    <tr style=\"text-align: right;\">\n",
       "      <th></th>\n",
       "      <th>order_id</th>\n",
       "      <th>customer_id</th>\n",
       "      <th>order_status</th>\n",
       "      <th>order_purchase_timestamp</th>\n",
       "      <th>order_approved_at</th>\n",
       "      <th>order_delivered_carrier_date</th>\n",
       "      <th>order_delivered_customer_date</th>\n",
       "      <th>order_estimated_delivery_date</th>\n",
       "      <th>snapshot_date</th>\n",
       "    </tr>\n",
       "  </thead>\n",
       "  <tbody>\n",
       "    <tr>\n",
       "      <th>0</th>\n",
       "      <td>2e7a8482f6fb09756ca50c10d7bfc047</td>\n",
       "      <td>08c5351a6aca1c1589a38f244edeee9d</td>\n",
       "      <td>shipped</td>\n",
       "      <td>2016-09-04 21:15:19</td>\n",
       "      <td>2016-10-07 13:18:03</td>\n",
       "      <td>2016-10-18 13:14:51</td>\n",
       "      <td>NaT</td>\n",
       "      <td>2016-10-20</td>\n",
       "      <td>2016-09-04</td>\n",
       "    </tr>\n",
       "  </tbody>\n",
       "</table>\n",
       "</div>"
      ],
      "text/plain": [
       "                           order_id                       customer_id  \\\n",
       "0  2e7a8482f6fb09756ca50c10d7bfc047  08c5351a6aca1c1589a38f244edeee9d   \n",
       "\n",
       "  order_status order_purchase_timestamp   order_approved_at  \\\n",
       "0      shipped      2016-09-04 21:15:19 2016-10-07 13:18:03   \n",
       "\n",
       "  order_delivered_carrier_date order_delivered_customer_date  \\\n",
       "0          2016-10-18 13:14:51                           NaT   \n",
       "\n",
       "  order_estimated_delivery_date snapshot_date  \n",
       "0                    2016-10-20    2016-09-04  "
      ]
     },
     "execution_count": 31,
     "metadata": {},
     "output_type": "execute_result"
    }
   ],
   "source": [
    "# order\n",
    "df = pd.read_parquet('datamart/silver/orders/silver_olist_orders_04_09_2016.parquet', engine=\"pyarrow\")\n",
    "df.head()"
   ]
  },
  {
   "cell_type": "code",
   "execution_count": 13,
   "id": "d30b2cbe-17bd-4f5f-b511-34a0a6a215a3",
   "metadata": {},
   "outputs": [
    {
     "data": {
      "text/plain": [
       "Index(['order_id', 'customer_id', 'order_status', 'order_purchase_timestamp',\n",
       "       'order_approved_at', 'order_delivered_carrier_date',\n",
       "       'order_delivered_customer_date', 'order_estimated_delivery_date',\n",
       "       'snapshot_date'],\n",
       "      dtype='object')"
      ]
     },
     "execution_count": 13,
     "metadata": {},
     "output_type": "execute_result"
    }
   ],
   "source": [
    "df.columns"
   ]
  },
  {
   "cell_type": "code",
   "execution_count": 34,
   "id": "b32cbc23",
   "metadata": {},
   "outputs": [
    {
     "data": {
      "text/html": [
       "<div>\n",
       "<style scoped>\n",
       "    .dataframe tbody tr th:only-of-type {\n",
       "        vertical-align: middle;\n",
       "    }\n",
       "\n",
       "    .dataframe tbody tr th {\n",
       "        vertical-align: top;\n",
       "    }\n",
       "\n",
       "    .dataframe thead th {\n",
       "        text-align: right;\n",
       "    }\n",
       "</style>\n",
       "<table border=\"1\" class=\"dataframe\">\n",
       "  <thead>\n",
       "    <tr style=\"text-align: right;\">\n",
       "      <th></th>\n",
       "      <th>order_id</th>\n",
       "      <th>order_item_id</th>\n",
       "      <th>product_id</th>\n",
       "      <th>seller_id</th>\n",
       "      <th>shipping_limit_date</th>\n",
       "      <th>price</th>\n",
       "      <th>freight_value</th>\n",
       "    </tr>\n",
       "  </thead>\n",
       "  <tbody>\n",
       "    <tr>\n",
       "      <th>0</th>\n",
       "      <td>89bed55dd88d035e3b1b2489862e53cc</td>\n",
       "      <td>1</td>\n",
       "      <td>ae6b739ab6e9d7991fb2ddd70f9c0b6b</td>\n",
       "      <td>53e4c6e0f4312d4d2107a8c9cddf45cd</td>\n",
       "      <td>2018-01-11 17:12:22</td>\n",
       "      <td>42.00</td>\n",
       "      <td>17.60</td>\n",
       "    </tr>\n",
       "    <tr>\n",
       "      <th>1</th>\n",
       "      <td>89c037e2b749a2ed5e9e1219189e241e</td>\n",
       "      <td>1</td>\n",
       "      <td>e906fa76a27488f805ba8584a4c10cba</td>\n",
       "      <td>1835b56ce799e6a4dc4eddc053f04066</td>\n",
       "      <td>2017-11-30 04:15:33</td>\n",
       "      <td>53.99</td>\n",
       "      <td>12.72</td>\n",
       "    </tr>\n",
       "    <tr>\n",
       "      <th>2</th>\n",
       "      <td>89c037e2b749a2ed5e9e1219189e241e</td>\n",
       "      <td>2</td>\n",
       "      <td>e906fa76a27488f805ba8584a4c10cba</td>\n",
       "      <td>1835b56ce799e6a4dc4eddc053f04066</td>\n",
       "      <td>2017-11-30 04:15:33</td>\n",
       "      <td>53.99</td>\n",
       "      <td>12.72</td>\n",
       "    </tr>\n",
       "    <tr>\n",
       "      <th>3</th>\n",
       "      <td>89c04d2250464948257c7dbd4e41c3cc</td>\n",
       "      <td>1</td>\n",
       "      <td>3d73c88390adac7dd50fffe6c00f1022</td>\n",
       "      <td>c8b0e2b0a7095e5d8219575d5e7e1181</td>\n",
       "      <td>2018-03-14 00:20:26</td>\n",
       "      <td>199.99</td>\n",
       "      <td>25.05</td>\n",
       "    </tr>\n",
       "    <tr>\n",
       "      <th>4</th>\n",
       "      <td>89c0bf5292a493fb2a7aacae2148eeac</td>\n",
       "      <td>1</td>\n",
       "      <td>2d40d83fc97b8d4d468b4ab5a6a0810d</td>\n",
       "      <td>cca3071e3e9bb7d12640c9fbe2301306</td>\n",
       "      <td>2017-08-24 03:26:15</td>\n",
       "      <td>29.90</td>\n",
       "      <td>11.85</td>\n",
       "    </tr>\n",
       "  </tbody>\n",
       "</table>\n",
       "</div>"
      ],
      "text/plain": [
       "                           order_id  order_item_id  \\\n",
       "0  89bed55dd88d035e3b1b2489862e53cc              1   \n",
       "1  89c037e2b749a2ed5e9e1219189e241e              1   \n",
       "2  89c037e2b749a2ed5e9e1219189e241e              2   \n",
       "3  89c04d2250464948257c7dbd4e41c3cc              1   \n",
       "4  89c0bf5292a493fb2a7aacae2148eeac              1   \n",
       "\n",
       "                         product_id                         seller_id  \\\n",
       "0  ae6b739ab6e9d7991fb2ddd70f9c0b6b  53e4c6e0f4312d4d2107a8c9cddf45cd   \n",
       "1  e906fa76a27488f805ba8584a4c10cba  1835b56ce799e6a4dc4eddc053f04066   \n",
       "2  e906fa76a27488f805ba8584a4c10cba  1835b56ce799e6a4dc4eddc053f04066   \n",
       "3  3d73c88390adac7dd50fffe6c00f1022  c8b0e2b0a7095e5d8219575d5e7e1181   \n",
       "4  2d40d83fc97b8d4d468b4ab5a6a0810d  cca3071e3e9bb7d12640c9fbe2301306   \n",
       "\n",
       "  shipping_limit_date   price  freight_value  \n",
       "0 2018-01-11 17:12:22   42.00          17.60  \n",
       "1 2017-11-30 04:15:33   53.99          12.72  \n",
       "2 2017-11-30 04:15:33   53.99          12.72  \n",
       "3 2018-03-14 00:20:26  199.99          25.05  \n",
       "4 2017-08-24 03:26:15   29.90          11.85  "
      ]
     },
     "execution_count": 34,
     "metadata": {},
     "output_type": "execute_result"
    }
   ],
   "source": [
    "# items\n",
    "df = pd.read_parquet('datamart/silver/order_items/silver_olist_order_items.parquet', engine=\"pyarrow\")\n",
    "df.head(5)"
   ]
  },
  {
   "cell_type": "code",
   "execution_count": 15,
   "id": "0995d8e3-8468-4558-90cc-2b7edeaa6334",
   "metadata": {},
   "outputs": [
    {
     "data": {
      "text/plain": [
       "Index(['order_id', 'order_item_id', 'product_id', 'seller_id',\n",
       "       'shipping_limit_date', 'price', 'freight_value'],\n",
       "      dtype='object')"
      ]
     },
     "execution_count": 15,
     "metadata": {},
     "output_type": "execute_result"
    }
   ],
   "source": [
    "df.columns"
   ]
  }
 ],
 "metadata": {
  "kernelspec": {
   "display_name": "Python 3",
   "language": "python",
   "name": "python3"
  },
  "language_info": {
   "codemirror_mode": {
    "name": "ipython",
    "version": 3
   },
   "file_extension": ".py",
   "mimetype": "text/x-python",
   "name": "python",
   "nbconvert_exporter": "python",
   "pygments_lexer": "ipython3",
   "version": "3.12.5"
  }
 },
 "nbformat": 4,
 "nbformat_minor": 5
}
